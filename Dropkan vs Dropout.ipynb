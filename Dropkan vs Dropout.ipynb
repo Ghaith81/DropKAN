{
 "cells": [
  {
   "cell_type": "code",
   "execution_count": 1,
   "id": "92c09135-0218-4313-ba7b-9c3604011563",
   "metadata": {},
   "outputs": [],
   "source": [
    "import sys, os, inspect\n",
    "from sklearn.ensemble import RandomForestClassifier, GradientBoostingClassifier\n",
    "from dataset.Dataset import Dataset\n",
    "from sklearn.metrics import accuracy_score\n",
    "import torch\n",
    "from kan.KAN import KAN\n",
    "from kan.DropKAN import DropKAN\n",
    "from kan.DropKANLayer import DropKANLayer\n",
    "import torch\n",
    "import torch.nn as nn\n",
    "import numpy as np\n",
    "import random\n",
    "import pandas as pd \n",
    "\n",
    "def set_training_mode(module, mode):\n",
    "    \"\"\"Set the training mode for a module and all its sub-modules.\"\"\"\n",
    "    module.training = mode\n",
    "    for submodule in module.children():\n",
    "        set_training_mode(submodule, mode)"
   ]
  },
  {
   "cell_type": "code",
   "execution_count": 2,
   "id": "3df2d060-404f-4d78-abbc-3b99299d0ddd",
   "metadata": {},
   "outputs": [],
   "source": [
    "work_dir = 'uci datasets/Shuffled/'\n",
    "log_folder =  'log\\\\'\n",
    "\n",
    "header=None\n",
    "file_name, sep, label = 'german.data-numeric', ',', -1\n",
    "#file_name, sep, label = 'abalone.data', ',', -1\n",
    "file_name, sep, label = 'dermatology.data', ',', -1\n",
    "#file_name, sep, label = 'car.data', ',', -1\n",
    "#file_name, sep, label = 'adult.data', ',', -1\n",
    "#file_name, sep, label = 'census-income.data', ',', -1\n",
    "file_name, sep, label = 'diabetic_data.csv', ',', -1\n",
    "#file_name, sep, label, header = 'bank-full.csv', ',', -1, 0\n",
    "file_name, sep, label = 'connect-4.data', ',', -1\n",
    "#file_name, sep, label = 'semeion.data', ',', -1\n",
    "\n",
    " \n",
    "\n",
    "\n",
    "\n",
    "\n",
    "data = Dataset(work_dir+file_name, sep, label, divide_dataset=False, header=header)"
   ]
  },
  {
   "cell_type": "code",
   "execution_count": 3,
   "id": "46023306-38e7-4ac4-8539-9f8cb845dcd6",
   "metadata": {},
   "outputs": [],
   "source": [
    "classifier = RandomForestClassifier(n_estimators=111, random_state=0, n_jobs=-1)\n",
    "data.divide_dataset(classifier,\n",
    "                                      normalize=True, \n",
    "                                      shuffle=False, \n",
    "                                      all_features=True, \n",
    "                                      all_instances=True, \n",
    "                                      evaluate=True, \n",
    "                                      partial_sample=False,\n",
    "                                      metric=accuracy_score)"
   ]
  },
  {
   "cell_type": "code",
   "execution_count": 4,
   "id": "a313e615-2bc0-41b0-bc48-217a38c3dfc0",
   "metadata": {},
   "outputs": [
    {
     "data": {
      "text/plain": [
       "0.8060099178447191"
      ]
     },
     "execution_count": 4,
     "metadata": {},
     "output_type": "execute_result"
    }
   ],
   "source": [
    "data.get_validation_accuracy()"
   ]
  },
  {
   "cell_type": "code",
   "execution_count": 5,
   "id": "d68959df-558d-427d-a4ab-204db6f9e60f",
   "metadata": {},
   "outputs": [
    {
     "data": {
      "text/plain": [
       "0.8078744819419775"
      ]
     },
     "execution_count": 5,
     "metadata": {},
     "output_type": "execute_result"
    }
   ],
   "source": [
    "data.get_test_accuracy()"
   ]
  },
  {
   "cell_type": "code",
   "execution_count": null,
   "id": "6a893e50-81f8-4182-abdc-2629e7a1c4c3",
   "metadata": {},
   "outputs": [],
   "source": []
  },
  {
   "cell_type": "code",
   "execution_count": null,
   "id": "2b881330-ef32-4996-b3ce-2ac54e777d8d",
   "metadata": {},
   "outputs": [],
   "source": []
  },
  {
   "cell_type": "code",
   "execution_count": null,
   "id": "244f6e0b-04f2-4563-8c55-a23037971336",
   "metadata": {},
   "outputs": [],
   "source": []
  },
  {
   "cell_type": "code",
   "execution_count": 6,
   "id": "f01d3fcb-174f-48cb-9e9b-ad6a2f7bb60f",
   "metadata": {},
   "outputs": [],
   "source": [
    "dataset = {}\n",
    "dataset['train_input'] = torch.from_numpy(data.X_train).float()\n",
    "dataset['test_input'] = torch.from_numpy(data.X_test).float()\n",
    "dataset['val_input'] = torch.from_numpy(data.X_val).float()\n",
    "dataset['train_label'] = torch.from_numpy(data.y_train[:, None])\n",
    "dataset['test_label'] = torch.from_numpy(data.y_test[:, None])\n",
    "dataset['val_label'] = torch.from_numpy(data.y_val[:, None])"
   ]
  },
  {
   "cell_type": "code",
   "execution_count": 117,
   "id": "18781979-ad74-4172-b83c-0469de8daaa1",
   "metadata": {
    "scrolled": true
   },
   "outputs": [
    {
     "name": "stderr",
     "output_type": "stream",
     "text": [
      "description: 100%|█████████████████████████████████████████████| 2000/2000 [00:19<00:00, 100.62it/s]\n"
     ]
    },
    {
     "name": "stdout",
     "output_type": "stream",
     "text": [
      "0.0 0.0 kan None 0.9513594508171082 0.9510337114334106\n"
     ]
    },
    {
     "name": "stderr",
     "output_type": "stream",
     "text": [
      "description: 100%|█████████████████████████████████████████████| 2000/2000 [00:19<00:00, 101.03it/s]\n"
     ]
    },
    {
     "name": "stdout",
     "output_type": "stream",
     "text": [
      "0.0 0.0 kan None 0.9494799971580505 0.9501315355300903\n"
     ]
    },
    {
     "name": "stderr",
     "output_type": "stream",
     "text": [
      "description: 100%|█████████████████████████████████████████████| 2000/2000 [00:19<00:00, 101.78it/s]\n"
     ]
    },
    {
     "name": "stdout",
     "output_type": "stream",
     "text": [
      "0.0 0.0 kan None 0.9449943900108337 0.9454203844070435\n"
     ]
    },
    {
     "name": "stderr",
     "output_type": "stream",
     "text": [
      "description: 100%|█████████████████████████████████████████████| 2000/2000 [00:19<00:00, 101.88it/s]\n"
     ]
    },
    {
     "name": "stdout",
     "output_type": "stream",
     "text": [
      "0.0 0.0 kan None 0.9498809576034546 0.9486530423164368\n"
     ]
    },
    {
     "name": "stderr",
     "output_type": "stream",
     "text": [
      "description: 100%|█████████████████████████████████████████████| 2000/2000 [00:19<00:00, 101.86it/s]\n"
     ]
    },
    {
     "name": "stdout",
     "output_type": "stream",
     "text": [
      "0.0 0.0 kan None 0.9508332014083862 0.9501816630363464\n",
      "0.00886551399837171 0.3550557320811251 postspline\n"
     ]
    },
    {
     "name": "stderr",
     "output_type": "stream",
     "text": [
      "description: 100%|██████████████████████████████████████████████| 2000/2000 [00:20<00:00, 99.93it/s]\n"
     ]
    },
    {
     "name": "stdout",
     "output_type": "stream",
     "text": [
      "tensor(0.9481) tensor(0.9484)\n",
      "6\n",
      "\n",
      "0.00886551399837171 0.3550557320811251 postspline\n"
     ]
    },
    {
     "name": "stderr",
     "output_type": "stream",
     "text": [
      "description: 100%|█████████████████████████████████████████████| 2000/2000 [00:19<00:00, 100.67it/s]\n"
     ]
    },
    {
     "name": "stdout",
     "output_type": "stream",
     "text": [
      "tensor(0.9440) tensor(0.9439)\n",
      "7\n",
      "\n",
      "0.00886551399837171 0.3550557320811251 postact\n"
     ]
    },
    {
     "name": "stderr",
     "output_type": "stream",
     "text": [
      "description: 100%|█████████████████████████████████████████████| 2000/2000 [00:19<00:00, 102.91it/s]\n"
     ]
    },
    {
     "name": "stdout",
     "output_type": "stream",
     "text": [
      "tensor(0.9396) tensor(0.9397)\n",
      "8\n",
      "\n",
      "0.00886551399837171 0.3550557320811251 postact\n"
     ]
    },
    {
     "name": "stderr",
     "output_type": "stream",
     "text": [
      "description: 100%|█████████████████████████████████████████████| 2000/2000 [00:19<00:00, 103.26it/s]\n"
     ]
    },
    {
     "name": "stdout",
     "output_type": "stream",
     "text": [
      "tensor(0.9429) tensor(0.9439)\n",
      "9\n",
      "\n",
      "0.00886551399837171 0.3550557320811251 dropout\n"
     ]
    },
    {
     "name": "stderr",
     "output_type": "stream",
     "text": [
      "description: 100%|█████████████████████████████████████████████| 2000/2000 [00:19<00:00, 101.40it/s]\n"
     ]
    },
    {
     "name": "stdout",
     "output_type": "stream",
     "text": [
      "tensor(0.9432) tensor(0.9433)\n",
      "10\n",
      "\n",
      "0.00886551399837171 0.3550557320811251 dropout\n"
     ]
    },
    {
     "name": "stderr",
     "output_type": "stream",
     "text": [
      "description: 100%|█████████████████████████████████████████████| 2000/2000 [00:19<00:00, 101.22it/s]\n"
     ]
    },
    {
     "name": "stdout",
     "output_type": "stream",
     "text": [
      "tensor(0.9496) tensor(0.9498)\n",
      "11\n",
      "\n",
      "0.40802774260430363 0.06635912402467409 postspline\n"
     ]
    },
    {
     "name": "stderr",
     "output_type": "stream",
     "text": [
      "description: 100%|██████████████████████████████████████████████| 2000/2000 [00:20<00:00, 99.36it/s]\n"
     ]
    },
    {
     "name": "stdout",
     "output_type": "stream",
     "text": [
      "tensor(0.9463) tensor(0.9466)\n",
      "12\n",
      "\n",
      "0.40802774260430363 0.06635912402467409 postspline\n"
     ]
    },
    {
     "name": "stderr",
     "output_type": "stream",
     "text": [
      "description: 100%|██████████████████████████████████████████████| 2000/2000 [00:20<00:00, 99.87it/s]\n"
     ]
    },
    {
     "name": "stdout",
     "output_type": "stream",
     "text": [
      "tensor(0.9470) tensor(0.9461)\n",
      "13\n",
      "\n",
      "0.40802774260430363 0.06635912402467409 postact\n"
     ]
    },
    {
     "name": "stderr",
     "output_type": "stream",
     "text": [
      "description: 100%|█████████████████████████████████████████████| 2000/2000 [00:19<00:00, 101.96it/s]\n"
     ]
    },
    {
     "name": "stdout",
     "output_type": "stream",
     "text": [
      "tensor(0.9371) tensor(0.9370)\n",
      "14\n",
      "\n",
      "0.40802774260430363 0.06635912402467409 postact\n"
     ]
    },
    {
     "name": "stderr",
     "output_type": "stream",
     "text": [
      "description: 100%|█████████████████████████████████████████████| 2000/2000 [00:19<00:00, 102.46it/s]\n"
     ]
    },
    {
     "name": "stdout",
     "output_type": "stream",
     "text": [
      "tensor(0.9451) tensor(0.9455)\n",
      "15\n",
      "\n",
      "0.40802774260430363 0.06635912402467409 dropout\n"
     ]
    },
    {
     "name": "stderr",
     "output_type": "stream",
     "text": [
      "description: 100%|█████████████████████████████████████████████| 2000/2000 [00:19<00:00, 100.77it/s]\n"
     ]
    },
    {
     "name": "stdout",
     "output_type": "stream",
     "text": [
      "tensor(0.9371) tensor(0.9370)\n",
      "16\n",
      "\n",
      "0.40802774260430363 0.06635912402467409 dropout\n"
     ]
    },
    {
     "name": "stderr",
     "output_type": "stream",
     "text": [
      "description: 100%|█████████████████████████████████████████████| 2000/2000 [00:19<00:00, 101.03it/s]\n"
     ]
    },
    {
     "name": "stdout",
     "output_type": "stream",
     "text": [
      "tensor(0.9483) tensor(0.9477)\n",
      "17\n",
      "\n",
      "0.42924000160795867 0.2676022934170739 postspline\n"
     ]
    },
    {
     "name": "stderr",
     "output_type": "stream",
     "text": [
      "description: 100%|██████████████████████████████████████████████| 2000/2000 [00:20<00:00, 99.17it/s]\n"
     ]
    },
    {
     "name": "stdout",
     "output_type": "stream",
     "text": [
      "tensor(0.9422) tensor(0.9424)\n",
      "18\n",
      "\n",
      "0.42924000160795867 0.2676022934170739 postspline\n"
     ]
    },
    {
     "name": "stderr",
     "output_type": "stream",
     "text": [
      "description: 100%|█████████████████████████████████████████████| 2000/2000 [00:19<00:00, 100.09it/s]\n"
     ]
    },
    {
     "name": "stdout",
     "output_type": "stream",
     "text": [
      "tensor(0.9384) tensor(0.9385)\n",
      "19\n",
      "\n",
      "0.42924000160795867 0.2676022934170739 postact\n"
     ]
    },
    {
     "name": "stderr",
     "output_type": "stream",
     "text": [
      "description: 100%|█████████████████████████████████████████████| 2000/2000 [00:19<00:00, 102.31it/s]\n"
     ]
    },
    {
     "name": "stdout",
     "output_type": "stream",
     "text": [
      "tensor(0.9371) tensor(0.9370)\n",
      "20\n",
      "\n",
      "0.42924000160795867 0.2676022934170739 postact\n"
     ]
    },
    {
     "name": "stderr",
     "output_type": "stream",
     "text": [
      "description: 100%|█████████████████████████████████████████████| 2000/2000 [00:19<00:00, 102.58it/s]\n"
     ]
    },
    {
     "name": "stdout",
     "output_type": "stream",
     "text": [
      "tensor(0.9319) tensor(0.9336)\n",
      "21\n",
      "\n",
      "0.42924000160795867 0.2676022934170739 dropout\n"
     ]
    },
    {
     "name": "stderr",
     "output_type": "stream",
     "text": [
      "description: 100%|█████████████████████████████████████████████| 2000/2000 [00:19<00:00, 100.83it/s]\n"
     ]
    },
    {
     "name": "stdout",
     "output_type": "stream",
     "text": [
      "tensor(0.9387) tensor(0.9389)\n",
      "22\n",
      "\n",
      "0.42924000160795867 0.2676022934170739 dropout\n"
     ]
    },
    {
     "name": "stderr",
     "output_type": "stream",
     "text": [
      "description: 100%|█████████████████████████████████████████████| 2000/2000 [00:19<00:00, 101.09it/s]\n"
     ]
    },
    {
     "name": "stdout",
     "output_type": "stream",
     "text": [
      "tensor(0.9476) tensor(0.9478)\n",
      "23\n",
      "\n",
      "0.156151187335839 0.24468559230252618 postspline\n"
     ]
    },
    {
     "name": "stderr",
     "output_type": "stream",
     "text": [
      "description: 100%|██████████████████████████████████████████████| 2000/2000 [00:20<00:00, 98.97it/s]\n"
     ]
    },
    {
     "name": "stdout",
     "output_type": "stream",
     "text": [
      "tensor(0.9459) tensor(0.9456)\n",
      "24\n",
      "\n",
      "0.156151187335839 0.24468559230252618 postspline\n"
     ]
    },
    {
     "name": "stderr",
     "output_type": "stream",
     "text": [
      "description: 100%|██████████████████████████████████████████████| 2000/2000 [00:20<00:00, 99.35it/s]\n"
     ]
    },
    {
     "name": "stdout",
     "output_type": "stream",
     "text": [
      "tensor(0.9428) tensor(0.9430)\n",
      "25\n",
      "\n",
      "0.156151187335839 0.24468559230252618 postact\n"
     ]
    },
    {
     "name": "stderr",
     "output_type": "stream",
     "text": [
      "description: 100%|█████████████████████████████████████████████| 2000/2000 [00:19<00:00, 102.13it/s]\n"
     ]
    },
    {
     "name": "stdout",
     "output_type": "stream",
     "text": [
      "tensor(0.9372) tensor(0.9370)\n",
      "26\n",
      "\n",
      "0.156151187335839 0.24468559230252618 postact\n"
     ]
    },
    {
     "name": "stderr",
     "output_type": "stream",
     "text": [
      "description: 100%|█████████████████████████████████████████████| 2000/2000 [00:19<00:00, 102.59it/s]\n"
     ]
    },
    {
     "name": "stdout",
     "output_type": "stream",
     "text": [
      "tensor(0.9437) tensor(0.9452)\n",
      "27\n",
      "\n",
      "0.156151187335839 0.24468559230252618 dropout\n"
     ]
    },
    {
     "name": "stderr",
     "output_type": "stream",
     "text": [
      "description: 100%|█████████████████████████████████████████████| 2000/2000 [00:19<00:00, 100.54it/s]\n"
     ]
    },
    {
     "name": "stdout",
     "output_type": "stream",
     "text": [
      "tensor(0.9389) tensor(0.9391)\n",
      "28\n",
      "\n",
      "0.156151187335839 0.24468559230252618 dropout\n"
     ]
    },
    {
     "name": "stderr",
     "output_type": "stream",
     "text": [
      "description: 100%|█████████████████████████████████████████████| 2000/2000 [00:19<00:00, 100.90it/s]\n"
     ]
    },
    {
     "name": "stdout",
     "output_type": "stream",
     "text": [
      "tensor(0.9467) tensor(0.9456)\n",
      "29\n",
      "\n",
      "0.3876691128180296 0.029929521086168198 postspline\n"
     ]
    },
    {
     "name": "stderr",
     "output_type": "stream",
     "text": [
      "description: 100%|██████████████████████████████████████████████| 2000/2000 [00:20<00:00, 98.88it/s]\n"
     ]
    },
    {
     "name": "stdout",
     "output_type": "stream",
     "text": [
      "tensor(0.9468) tensor(0.9458)\n",
      "30\n",
      "\n",
      "0.3876691128180296 0.029929521086168198 postspline\n"
     ]
    },
    {
     "name": "stderr",
     "output_type": "stream",
     "text": [
      "description: 100%|██████████████████████████████████████████████| 2000/2000 [00:20<00:00, 99.69it/s]\n"
     ]
    },
    {
     "name": "stdout",
     "output_type": "stream",
     "text": [
      "tensor(0.9456) tensor(0.9452)\n",
      "31\n",
      "\n",
      "0.3876691128180296 0.029929521086168198 postact\n"
     ]
    },
    {
     "name": "stderr",
     "output_type": "stream",
     "text": [
      "description: 100%|█████████████████████████████████████████████| 2000/2000 [00:19<00:00, 102.05it/s]\n"
     ]
    },
    {
     "name": "stdout",
     "output_type": "stream",
     "text": [
      "tensor(0.9373) tensor(0.9372)\n",
      "32\n",
      "\n",
      "0.3876691128180296 0.029929521086168198 postact\n"
     ]
    },
    {
     "name": "stderr",
     "output_type": "stream",
     "text": [
      "description: 100%|█████████████████████████████████████████████| 2000/2000 [00:19<00:00, 102.51it/s]\n"
     ]
    },
    {
     "name": "stdout",
     "output_type": "stream",
     "text": [
      "tensor(0.9466) tensor(0.9473)\n",
      "33\n",
      "\n",
      "0.3876691128180296 0.029929521086168198 dropout\n"
     ]
    },
    {
     "name": "stderr",
     "output_type": "stream",
     "text": [
      "description: 100%|█████████████████████████████████████████████| 2000/2000 [00:19<00:00, 100.56it/s]\n"
     ]
    },
    {
     "name": "stdout",
     "output_type": "stream",
     "text": [
      "tensor(0.9414) tensor(0.9412)\n",
      "34\n",
      "\n",
      "0.3876691128180296 0.029929521086168198 dropout\n"
     ]
    },
    {
     "name": "stderr",
     "output_type": "stream",
     "text": [
      "description: 100%|█████████████████████████████████████████████| 2000/2000 [00:19<00:00, 101.05it/s]\n"
     ]
    },
    {
     "name": "stdout",
     "output_type": "stream",
     "text": [
      "tensor(0.9487) tensor(0.9483)\n",
      "35\n",
      "\n",
      "0.3905299445407246 0.48576628161481816 postspline\n"
     ]
    },
    {
     "name": "stderr",
     "output_type": "stream",
     "text": [
      "description: 100%|██████████████████████████████████████████████| 2000/2000 [00:20<00:00, 99.11it/s]\n"
     ]
    },
    {
     "name": "stdout",
     "output_type": "stream",
     "text": [
      "tensor(0.9453) tensor(0.9450)\n",
      "36\n",
      "\n",
      "0.3905299445407246 0.48576628161481816 postspline\n"
     ]
    },
    {
     "name": "stderr",
     "output_type": "stream",
     "text": [
      "description: 100%|██████████████████████████████████████████████| 2000/2000 [00:20<00:00, 99.87it/s]\n"
     ]
    },
    {
     "name": "stdout",
     "output_type": "stream",
     "text": [
      "tensor(0.9412) tensor(0.9414)\n",
      "37\n",
      "\n",
      "0.3905299445407246 0.48576628161481816 postact\n"
     ]
    },
    {
     "name": "stderr",
     "output_type": "stream",
     "text": [
      "description: 100%|█████████████████████████████████████████████| 2000/2000 [00:19<00:00, 102.08it/s]\n"
     ]
    },
    {
     "name": "stdout",
     "output_type": "stream",
     "text": [
      "tensor(0.9371) tensor(0.9370)\n",
      "38\n",
      "\n",
      "0.3905299445407246 0.48576628161481816 postact\n"
     ]
    },
    {
     "name": "stderr",
     "output_type": "stream",
     "text": [
      "description: 100%|█████████████████████████████████████████████| 2000/2000 [00:19<00:00, 102.58it/s]\n"
     ]
    },
    {
     "name": "stdout",
     "output_type": "stream",
     "text": [
      "tensor(0.9202) tensor(0.9197)\n",
      "39\n",
      "\n",
      "0.3905299445407246 0.48576628161481816 dropout\n"
     ]
    },
    {
     "name": "stderr",
     "output_type": "stream",
     "text": [
      "description: 100%|██████████████████████████████████████████████| 2000/2000 [00:20<00:00, 99.99it/s]\n"
     ]
    },
    {
     "name": "stdout",
     "output_type": "stream",
     "text": [
      "tensor(0.9371) tensor(0.9370)\n",
      "40\n",
      "\n",
      "0.3905299445407246 0.48576628161481816 dropout\n"
     ]
    },
    {
     "name": "stderr",
     "output_type": "stream",
     "text": [
      "description: 100%|█████████████████████████████████████████████| 2000/2000 [00:19<00:00, 100.87it/s]\n"
     ]
    },
    {
     "name": "stdout",
     "output_type": "stream",
     "text": [
      "tensor(0.9384) tensor(0.9378)\n",
      "41\n",
      "\n",
      "0.15095296903058036 0.3127846580569749 postspline\n"
     ]
    },
    {
     "name": "stderr",
     "output_type": "stream",
     "text": [
      "description: 100%|██████████████████████████████████████████████| 2000/2000 [00:20<00:00, 99.06it/s]\n"
     ]
    },
    {
     "name": "stdout",
     "output_type": "stream",
     "text": [
      "tensor(0.9404) tensor(0.9404)\n",
      "42\n",
      "\n",
      "0.15095296903058036 0.3127846580569749 postspline\n"
     ]
    },
    {
     "name": "stderr",
     "output_type": "stream",
     "text": [
      "description: 100%|██████████████████████████████████████████████| 2000/2000 [00:20<00:00, 99.41it/s]\n"
     ]
    },
    {
     "name": "stdout",
     "output_type": "stream",
     "text": [
      "tensor(0.9438) tensor(0.9444)\n",
      "43\n",
      "\n",
      "0.15095296903058036 0.3127846580569749 postact\n"
     ]
    },
    {
     "name": "stderr",
     "output_type": "stream",
     "text": [
      "description: 100%|█████████████████████████████████████████████| 2000/2000 [00:19<00:00, 102.12it/s]\n"
     ]
    },
    {
     "name": "stdout",
     "output_type": "stream",
     "text": [
      "tensor(0.9371) tensor(0.9370)\n",
      "44\n",
      "\n",
      "0.15095296903058036 0.3127846580569749 postact\n"
     ]
    },
    {
     "name": "stderr",
     "output_type": "stream",
     "text": [
      "description: 100%|█████████████████████████████████████████████| 2000/2000 [00:19<00:00, 102.44it/s]\n"
     ]
    },
    {
     "name": "stdout",
     "output_type": "stream",
     "text": [
      "tensor(0.9417) tensor(0.9422)\n",
      "45\n",
      "\n",
      "0.15095296903058036 0.3127846580569749 dropout\n"
     ]
    },
    {
     "name": "stderr",
     "output_type": "stream",
     "text": [
      "description: 100%|█████████████████████████████████████████████| 2000/2000 [00:19<00:00, 100.50it/s]\n"
     ]
    },
    {
     "name": "stdout",
     "output_type": "stream",
     "text": [
      "tensor(0.9408) tensor(0.9401)\n",
      "46\n",
      "\n",
      "0.15095296903058036 0.3127846580569749 dropout\n"
     ]
    },
    {
     "name": "stderr",
     "output_type": "stream",
     "text": [
      "description: 100%|█████████████████████████████████████████████| 2000/2000 [00:19<00:00, 100.82it/s]\n"
     ]
    },
    {
     "name": "stdout",
     "output_type": "stream",
     "text": [
      "tensor(0.9485) tensor(0.9487)\n",
      "47\n",
      "\n",
      "0.30617046074549614 0.33256560276023217 postspline\n"
     ]
    },
    {
     "name": "stderr",
     "output_type": "stream",
     "text": [
      "description: 100%|██████████████████████████████████████████████| 2000/2000 [00:20<00:00, 99.10it/s]\n"
     ]
    },
    {
     "name": "stdout",
     "output_type": "stream",
     "text": [
      "tensor(0.9436) tensor(0.9434)\n",
      "48\n",
      "\n",
      "0.30617046074549614 0.33256560276023217 postspline\n"
     ]
    },
    {
     "name": "stderr",
     "output_type": "stream",
     "text": [
      "description: 100%|██████████████████████████████████████████████| 2000/2000 [00:20<00:00, 99.91it/s]\n"
     ]
    },
    {
     "name": "stdout",
     "output_type": "stream",
     "text": [
      "tensor(0.9423) tensor(0.9423)\n",
      "49\n",
      "\n",
      "0.30617046074549614 0.33256560276023217 postact\n"
     ]
    },
    {
     "name": "stderr",
     "output_type": "stream",
     "text": [
      "description: 100%|█████████████████████████████████████████████| 2000/2000 [00:19<00:00, 101.92it/s]\n"
     ]
    },
    {
     "name": "stdout",
     "output_type": "stream",
     "text": [
      "tensor(0.9374) tensor(0.9372)\n",
      "50\n",
      "\n",
      "0.30617046074549614 0.33256560276023217 postact\n"
     ]
    },
    {
     "name": "stderr",
     "output_type": "stream",
     "text": [
      "description: 100%|█████████████████████████████████████████████| 2000/2000 [00:19<00:00, 102.48it/s]\n"
     ]
    },
    {
     "name": "stdout",
     "output_type": "stream",
     "text": [
      "tensor(0.9458) tensor(0.9465)\n",
      "51\n",
      "\n",
      "0.30617046074549614 0.33256560276023217 dropout\n"
     ]
    },
    {
     "name": "stderr",
     "output_type": "stream",
     "text": [
      "description: 100%|█████████████████████████████████████████████| 2000/2000 [00:19<00:00, 100.43it/s]\n"
     ]
    },
    {
     "name": "stdout",
     "output_type": "stream",
     "text": [
      "tensor(0.9389) tensor(0.9389)\n",
      "52\n",
      "\n",
      "0.30617046074549614 0.33256560276023217 dropout\n"
     ]
    },
    {
     "name": "stderr",
     "output_type": "stream",
     "text": [
      "description: 100%|█████████████████████████████████████████████| 2000/2000 [00:19<00:00, 100.05it/s]\n"
     ]
    },
    {
     "name": "stdout",
     "output_type": "stream",
     "text": [
      "tensor(0.9445) tensor(0.9456)\n",
      "53\n",
      "\n",
      "0.4016590649567858 0.2617881312951034 postspline\n"
     ]
    },
    {
     "name": "stderr",
     "output_type": "stream",
     "text": [
      "description: 100%|██████████████████████████████████████████████| 2000/2000 [00:20<00:00, 99.05it/s]\n"
     ]
    },
    {
     "name": "stdout",
     "output_type": "stream",
     "text": [
      "tensor(0.9434) tensor(0.9430)\n",
      "54\n",
      "\n",
      "0.4016590649567858 0.2617881312951034 postspline\n"
     ]
    },
    {
     "name": "stderr",
     "output_type": "stream",
     "text": [
      "description: 100%|██████████████████████████████████████████████| 2000/2000 [00:20<00:00, 99.55it/s]\n"
     ]
    },
    {
     "name": "stdout",
     "output_type": "stream",
     "text": [
      "tensor(0.9393) tensor(0.9392)\n",
      "55\n",
      "\n",
      "0.4016590649567858 0.2617881312951034 postact\n"
     ]
    },
    {
     "name": "stderr",
     "output_type": "stream",
     "text": [
      "description: 100%|█████████████████████████████████████████████| 2000/2000 [00:19<00:00, 101.99it/s]\n"
     ]
    },
    {
     "name": "stdout",
     "output_type": "stream",
     "text": [
      "tensor(0.9371) tensor(0.9370)\n",
      "56\n",
      "\n",
      "0.4016590649567858 0.2617881312951034 postact\n"
     ]
    },
    {
     "name": "stderr",
     "output_type": "stream",
     "text": [
      "description: 100%|█████████████████████████████████████████████| 2000/2000 [00:19<00:00, 102.30it/s]\n"
     ]
    },
    {
     "name": "stdout",
     "output_type": "stream",
     "text": [
      "tensor(0.9398) tensor(0.9396)\n",
      "57\n",
      "\n",
      "0.4016590649567858 0.2617881312951034 dropout\n"
     ]
    },
    {
     "name": "stderr",
     "output_type": "stream",
     "text": [
      "description: 100%|█████████████████████████████████████████████| 2000/2000 [00:19<00:00, 100.53it/s]\n"
     ]
    },
    {
     "name": "stdout",
     "output_type": "stream",
     "text": [
      "tensor(0.9371) tensor(0.9370)\n",
      "58\n",
      "\n",
      "0.4016590649567858 0.2617881312951034 dropout\n"
     ]
    },
    {
     "name": "stderr",
     "output_type": "stream",
     "text": [
      "description: 100%|█████████████████████████████████████████████| 2000/2000 [00:19<00:00, 100.73it/s]\n"
     ]
    },
    {
     "name": "stdout",
     "output_type": "stream",
     "text": [
      "tensor(0.9463) tensor(0.9465)\n",
      "59\n",
      "\n",
      "0.4723101167093861 0.1277697006603552 postspline\n"
     ]
    },
    {
     "name": "stderr",
     "output_type": "stream",
     "text": [
      "description: 100%|██████████████████████████████████████████████| 2000/2000 [00:20<00:00, 98.56it/s]\n"
     ]
    },
    {
     "name": "stdout",
     "output_type": "stream",
     "text": [
      "tensor(0.9424) tensor(0.9416)\n",
      "60\n",
      "\n",
      "0.4723101167093861 0.1277697006603552 postspline\n"
     ]
    },
    {
     "name": "stderr",
     "output_type": "stream",
     "text": [
      "description: 100%|██████████████████████████████████████████████| 2000/2000 [00:20<00:00, 99.64it/s]\n"
     ]
    },
    {
     "name": "stdout",
     "output_type": "stream",
     "text": [
      "tensor(0.9452) tensor(0.9450)\n",
      "61\n",
      "\n",
      "0.4723101167093861 0.1277697006603552 postact\n"
     ]
    },
    {
     "name": "stderr",
     "output_type": "stream",
     "text": [
      "description: 100%|█████████████████████████████████████████████| 2000/2000 [00:19<00:00, 102.00it/s]\n"
     ]
    },
    {
     "name": "stdout",
     "output_type": "stream",
     "text": [
      "tensor(0.9371) tensor(0.9371)\n",
      "62\n",
      "\n",
      "0.4723101167093861 0.1277697006603552 postact\n"
     ]
    },
    {
     "name": "stderr",
     "output_type": "stream",
     "text": [
      "description: 100%|█████████████████████████████████████████████| 2000/2000 [00:19<00:00, 102.50it/s]\n"
     ]
    },
    {
     "name": "stdout",
     "output_type": "stream",
     "text": [
      "tensor(0.9379) tensor(0.9396)\n",
      "63\n",
      "\n",
      "0.4723101167093861 0.1277697006603552 dropout\n"
     ]
    },
    {
     "name": "stderr",
     "output_type": "stream",
     "text": [
      "description: 100%|█████████████████████████████████████████████| 2000/2000 [00:19<00:00, 100.41it/s]\n"
     ]
    },
    {
     "name": "stdout",
     "output_type": "stream",
     "text": [
      "tensor(0.9371) tensor(0.9370)\n",
      "64\n",
      "\n",
      "0.4723101167093861 0.1277697006603552 dropout\n"
     ]
    },
    {
     "name": "stderr",
     "output_type": "stream",
     "text": [
      "description: 100%|█████████████████████████████████████████████| 2000/2000 [00:19<00:00, 100.82it/s]\n"
     ]
    },
    {
     "name": "stdout",
     "output_type": "stream",
     "text": [
      "tensor(0.9474) tensor(0.9476)\n",
      "65\n",
      "\n",
      "0.4516821511100863 0.11425323581055502 postspline\n"
     ]
    },
    {
     "name": "stderr",
     "output_type": "stream",
     "text": [
      "description: 100%|██████████████████████████████████████████████| 2000/2000 [00:20<00:00, 98.99it/s]\n"
     ]
    },
    {
     "name": "stdout",
     "output_type": "stream",
     "text": [
      "tensor(0.9446) tensor(0.9445)\n",
      "66\n",
      "\n",
      "0.4516821511100863 0.11425323581055502 postspline\n"
     ]
    },
    {
     "name": "stderr",
     "output_type": "stream",
     "text": [
      "description: 100%|██████████████████████████████████████████████| 2000/2000 [00:20<00:00, 99.42it/s]\n"
     ]
    },
    {
     "name": "stdout",
     "output_type": "stream",
     "text": [
      "tensor(0.9449) tensor(0.9448)\n",
      "67\n",
      "\n",
      "0.4516821511100863 0.11425323581055502 postact\n"
     ]
    },
    {
     "name": "stderr",
     "output_type": "stream",
     "text": [
      "description: 100%|█████████████████████████████████████████████| 2000/2000 [00:19<00:00, 100.76it/s]\n"
     ]
    },
    {
     "name": "stdout",
     "output_type": "stream",
     "text": [
      "tensor(0.9371) tensor(0.9370)\n",
      "68\n",
      "\n",
      "0.4516821511100863 0.11425323581055502 postact\n"
     ]
    },
    {
     "name": "stderr",
     "output_type": "stream",
     "text": [
      "description: 100%|█████████████████████████████████████████████| 2000/2000 [00:19<00:00, 102.33it/s]\n"
     ]
    },
    {
     "name": "stdout",
     "output_type": "stream",
     "text": [
      "tensor(0.9374) tensor(0.9381)\n",
      "69\n",
      "\n",
      "0.4516821511100863 0.11425323581055502 dropout\n"
     ]
    },
    {
     "name": "stderr",
     "output_type": "stream",
     "text": [
      "description: 100%|█████████████████████████████████████████████| 2000/2000 [00:19<00:00, 100.44it/s]\n"
     ]
    },
    {
     "name": "stdout",
     "output_type": "stream",
     "text": [
      "tensor(0.9372) tensor(0.9371)\n",
      "70\n",
      "\n",
      "0.4516821511100863 0.11425323581055502 dropout\n"
     ]
    },
    {
     "name": "stderr",
     "output_type": "stream",
     "text": [
      "description: 100%|█████████████████████████████████████████████| 2000/2000 [00:19<00:00, 100.99it/s]\n"
     ]
    },
    {
     "name": "stdout",
     "output_type": "stream",
     "text": [
      "tensor(0.9464) tensor(0.9464)\n",
      "71\n",
      "\n",
      "0.446089873741152 0.021428532558740165 postspline\n"
     ]
    },
    {
     "name": "stderr",
     "output_type": "stream",
     "text": [
      "description: 100%|██████████████████████████████████████████████| 2000/2000 [00:20<00:00, 98.84it/s]\n"
     ]
    },
    {
     "name": "stdout",
     "output_type": "stream",
     "text": [
      "tensor(0.9466) tensor(0.9464)\n",
      "72\n",
      "\n",
      "0.446089873741152 0.021428532558740165 postspline\n"
     ]
    },
    {
     "name": "stderr",
     "output_type": "stream",
     "text": [
      "description: 100%|██████████████████████████████████████████████| 2000/2000 [00:20<00:00, 99.64it/s]\n"
     ]
    },
    {
     "name": "stdout",
     "output_type": "stream",
     "text": [
      "tensor(0.9452) tensor(0.9448)\n",
      "73\n",
      "\n",
      "0.446089873741152 0.021428532558740165 postact\n"
     ]
    },
    {
     "name": "stderr",
     "output_type": "stream",
     "text": [
      "description: 100%|█████████████████████████████████████████████| 2000/2000 [00:19<00:00, 101.91it/s]\n"
     ]
    },
    {
     "name": "stdout",
     "output_type": "stream",
     "text": [
      "tensor(0.9395) tensor(0.9390)\n",
      "74\n",
      "\n",
      "0.446089873741152 0.021428532558740165 postact\n"
     ]
    },
    {
     "name": "stderr",
     "output_type": "stream",
     "text": [
      "description: 100%|█████████████████████████████████████████████| 2000/2000 [00:19<00:00, 102.34it/s]\n"
     ]
    },
    {
     "name": "stdout",
     "output_type": "stream",
     "text": [
      "tensor(0.9455) tensor(0.9461)\n",
      "75\n",
      "\n",
      "0.446089873741152 0.021428532558740165 dropout\n"
     ]
    },
    {
     "name": "stderr",
     "output_type": "stream",
     "text": [
      "description: 100%|█████████████████████████████████████████████| 2000/2000 [00:19<00:00, 100.44it/s]\n"
     ]
    },
    {
     "name": "stdout",
     "output_type": "stream",
     "text": [
      "tensor(0.9377) tensor(0.9379)\n",
      "76\n",
      "\n",
      "0.446089873741152 0.021428532558740165 dropout\n"
     ]
    },
    {
     "name": "stderr",
     "output_type": "stream",
     "text": [
      "description: 100%|█████████████████████████████████████████████| 2000/2000 [00:19<00:00, 100.98it/s]\n"
     ]
    },
    {
     "name": "stdout",
     "output_type": "stream",
     "text": [
      "tensor(0.9480) tensor(0.9481)\n",
      "77\n",
      "\n",
      "0.11894638548637415 0.08071691671478759 postspline\n"
     ]
    },
    {
     "name": "stderr",
     "output_type": "stream",
     "text": [
      "description: 100%|██████████████████████████████████████████████| 2000/2000 [00:20<00:00, 98.80it/s]\n"
     ]
    },
    {
     "name": "stdout",
     "output_type": "stream",
     "text": [
      "tensor(0.9465) tensor(0.9468)\n",
      "78\n",
      "\n",
      "0.11894638548637415 0.08071691671478759 postspline\n"
     ]
    },
    {
     "name": "stderr",
     "output_type": "stream",
     "text": [
      "description: 100%|██████████████████████████████████████████████| 2000/2000 [00:20<00:00, 99.75it/s]\n"
     ]
    },
    {
     "name": "stdout",
     "output_type": "stream",
     "text": [
      "tensor(0.9463) tensor(0.9456)\n",
      "79\n",
      "\n",
      "0.11894638548637415 0.08071691671478759 postact\n"
     ]
    },
    {
     "name": "stderr",
     "output_type": "stream",
     "text": [
      "description: 100%|█████████████████████████████████████████████| 2000/2000 [00:19<00:00, 101.94it/s]\n"
     ]
    },
    {
     "name": "stdout",
     "output_type": "stream",
     "text": [
      "tensor(0.9382) tensor(0.9380)\n",
      "80\n",
      "\n",
      "0.11894638548637415 0.08071691671478759 postact\n"
     ]
    },
    {
     "name": "stderr",
     "output_type": "stream",
     "text": [
      "description: 100%|█████████████████████████████████████████████| 2000/2000 [00:19<00:00, 102.53it/s]\n"
     ]
    },
    {
     "name": "stdout",
     "output_type": "stream",
     "text": [
      "tensor(0.9429) tensor(0.9435)\n",
      "81\n",
      "\n",
      "0.11894638548637415 0.08071691671478759 dropout\n"
     ]
    },
    {
     "name": "stderr",
     "output_type": "stream",
     "text": [
      "description: 100%|█████████████████████████████████████████████| 2000/2000 [00:19<00:00, 100.31it/s]\n"
     ]
    },
    {
     "name": "stdout",
     "output_type": "stream",
     "text": [
      "tensor(0.9453) tensor(0.9451)\n",
      "82\n",
      "\n",
      "0.11894638548637415 0.08071691671478759 dropout\n"
     ]
    },
    {
     "name": "stderr",
     "output_type": "stream",
     "text": [
      "description: 100%|█████████████████████████████████████████████| 2000/2000 [00:19<00:00, 100.32it/s]\n"
     ]
    },
    {
     "name": "stdout",
     "output_type": "stream",
     "text": [
      "tensor(0.9462) tensor(0.9458)\n",
      "83\n",
      "\n",
      "0.2754529414054559 0.46421011791314465 postspline\n"
     ]
    },
    {
     "name": "stderr",
     "output_type": "stream",
     "text": [
      "description: 100%|██████████████████████████████████████████████| 2000/2000 [00:20<00:00, 99.02it/s]\n"
     ]
    },
    {
     "name": "stdout",
     "output_type": "stream",
     "text": [
      "tensor(0.9402) tensor(0.9406)\n",
      "84\n",
      "\n",
      "0.2754529414054559 0.46421011791314465 postspline\n"
     ]
    },
    {
     "name": "stderr",
     "output_type": "stream",
     "text": [
      "description: 100%|██████████████████████████████████████████████| 2000/2000 [00:20<00:00, 99.74it/s]\n"
     ]
    },
    {
     "name": "stdout",
     "output_type": "stream",
     "text": [
      "tensor(0.9441) tensor(0.9438)\n",
      "85\n",
      "\n",
      "0.2754529414054559 0.46421011791314465 postact\n"
     ]
    },
    {
     "name": "stderr",
     "output_type": "stream",
     "text": [
      "description: 100%|██████████████████████████████████████████████| 2000/2000 [00:20<00:00, 99.67it/s]\n"
     ]
    },
    {
     "name": "stdout",
     "output_type": "stream",
     "text": [
      "tensor(0.9371) tensor(0.9370)\n",
      "86\n",
      "\n",
      "0.2754529414054559 0.46421011791314465 postact\n"
     ]
    },
    {
     "name": "stderr",
     "output_type": "stream",
     "text": [
      "description: 100%|█████████████████████████████████████████████| 2000/2000 [00:19<00:00, 102.33it/s]\n"
     ]
    },
    {
     "name": "stdout",
     "output_type": "stream",
     "text": [
      "tensor(0.9456) tensor(0.9459)\n",
      "87\n",
      "\n",
      "0.2754529414054559 0.46421011791314465 dropout\n"
     ]
    },
    {
     "name": "stderr",
     "output_type": "stream",
     "text": [
      "description: 100%|█████████████████████████████████████████████| 2000/2000 [00:19<00:00, 100.32it/s]\n"
     ]
    },
    {
     "name": "stdout",
     "output_type": "stream",
     "text": [
      "tensor(0.9384) tensor(0.9383)\n",
      "88\n",
      "\n",
      "0.2754529414054559 0.46421011791314465 dropout\n"
     ]
    },
    {
     "name": "stderr",
     "output_type": "stream",
     "text": [
      "description: 100%|█████████████████████████████████████████████| 2000/2000 [00:19<00:00, 100.80it/s]\n"
     ]
    },
    {
     "name": "stdout",
     "output_type": "stream",
     "text": [
      "tensor(0.9449) tensor(0.9458)\n",
      "89\n",
      "\n",
      "0.3561903384845417 0.4952469702433907 postspline\n"
     ]
    },
    {
     "name": "stderr",
     "output_type": "stream",
     "text": [
      "description: 100%|██████████████████████████████████████████████| 2000/2000 [00:20<00:00, 98.95it/s]\n"
     ]
    },
    {
     "name": "stdout",
     "output_type": "stream",
     "text": [
      "tensor(0.9466) tensor(0.9459)\n",
      "90\n",
      "\n",
      "0.3561903384845417 0.4952469702433907 postspline\n"
     ]
    },
    {
     "name": "stderr",
     "output_type": "stream",
     "text": [
      "description: 100%|██████████████████████████████████████████████| 2000/2000 [00:20<00:00, 99.55it/s]\n"
     ]
    },
    {
     "name": "stdout",
     "output_type": "stream",
     "text": [
      "tensor(0.9414) tensor(0.9422)\n",
      "91\n",
      "\n",
      "0.3561903384845417 0.4952469702433907 postact\n"
     ]
    },
    {
     "name": "stderr",
     "output_type": "stream",
     "text": [
      "description: 100%|█████████████████████████████████████████████| 2000/2000 [00:19<00:00, 101.79it/s]\n"
     ]
    },
    {
     "name": "stdout",
     "output_type": "stream",
     "text": [
      "tensor(0.9371) tensor(0.9370)\n",
      "92\n",
      "\n",
      "0.3561903384845417 0.4952469702433907 postact\n"
     ]
    },
    {
     "name": "stderr",
     "output_type": "stream",
     "text": [
      "description: 100%|█████████████████████████████████████████████| 2000/2000 [00:19<00:00, 102.36it/s]\n"
     ]
    },
    {
     "name": "stdout",
     "output_type": "stream",
     "text": [
      "tensor(0.9373) tensor(0.9358)\n",
      "93\n",
      "\n",
      "0.3561903384845417 0.4952469702433907 dropout\n"
     ]
    },
    {
     "name": "stderr",
     "output_type": "stream",
     "text": [
      "description: 100%|█████████████████████████████████████████████| 2000/2000 [00:19<00:00, 100.35it/s]\n"
     ]
    },
    {
     "name": "stdout",
     "output_type": "stream",
     "text": [
      "tensor(0.9371) tensor(0.9370)\n",
      "94\n",
      "\n",
      "0.3561903384845417 0.4952469702433907 dropout\n"
     ]
    },
    {
     "name": "stderr",
     "output_type": "stream",
     "text": [
      "description: 100%|█████████████████████████████████████████████| 2000/2000 [00:19<00:00, 100.76it/s]\n"
     ]
    },
    {
     "name": "stdout",
     "output_type": "stream",
     "text": [
      "tensor(0.9429) tensor(0.9438)\n",
      "95\n",
      "\n",
      "0.31220259157599944 0.28236271244570077 postspline\n"
     ]
    },
    {
     "name": "stderr",
     "output_type": "stream",
     "text": [
      "description: 100%|██████████████████████████████████████████████| 2000/2000 [00:20<00:00, 98.99it/s]\n"
     ]
    },
    {
     "name": "stdout",
     "output_type": "stream",
     "text": [
      "tensor(0.9411) tensor(0.9411)\n",
      "96\n",
      "\n",
      "0.31220259157599944 0.28236271244570077 postspline\n"
     ]
    },
    {
     "name": "stderr",
     "output_type": "stream",
     "text": [
      "description: 100%|██████████████████████████████████████████████| 2000/2000 [00:20<00:00, 99.71it/s]\n"
     ]
    },
    {
     "name": "stdout",
     "output_type": "stream",
     "text": [
      "tensor(0.9406) tensor(0.9403)\n",
      "97\n",
      "\n",
      "0.31220259157599944 0.28236271244570077 postact\n"
     ]
    },
    {
     "name": "stderr",
     "output_type": "stream",
     "text": [
      "description: 100%|██████████████████████████████████████████████| 2000/2000 [00:20<00:00, 99.79it/s]\n"
     ]
    },
    {
     "name": "stdout",
     "output_type": "stream",
     "text": [
      "tensor(0.9371) tensor(0.9370)\n",
      "98\n",
      "\n",
      "0.31220259157599944 0.28236271244570077 postact\n"
     ]
    },
    {
     "name": "stderr",
     "output_type": "stream",
     "text": [
      "description: 100%|█████████████████████████████████████████████| 2000/2000 [00:19<00:00, 102.44it/s]\n"
     ]
    },
    {
     "name": "stdout",
     "output_type": "stream",
     "text": [
      "tensor(0.9461) tensor(0.9466)\n",
      "99\n",
      "\n",
      "0.31220259157599944 0.28236271244570077 dropout\n"
     ]
    },
    {
     "name": "stderr",
     "output_type": "stream",
     "text": [
      "description: 100%|█████████████████████████████████████████████| 2000/2000 [00:19<00:00, 100.28it/s]\n"
     ]
    },
    {
     "name": "stdout",
     "output_type": "stream",
     "text": [
      "tensor(0.9372) tensor(0.9371)\n",
      "100\n",
      "\n",
      "0.31220259157599944 0.28236271244570077 dropout\n"
     ]
    },
    {
     "name": "stderr",
     "output_type": "stream",
     "text": [
      "description: 100%|█████████████████████████████████████████████| 2000/2000 [00:19<00:00, 100.71it/s]\n"
     ]
    },
    {
     "name": "stdout",
     "output_type": "stream",
     "text": [
      "tensor(0.9467) tensor(0.9465)\n",
      "101\n",
      "\n",
      "0.04268201693214796 0.022976237254148546 postspline\n"
     ]
    },
    {
     "name": "stderr",
     "output_type": "stream",
     "text": [
      "description: 100%|██████████████████████████████████████████████| 2000/2000 [00:20<00:00, 98.07it/s]\n"
     ]
    },
    {
     "name": "stdout",
     "output_type": "stream",
     "text": [
      "tensor(0.9488) tensor(0.9481)\n",
      "102\n",
      "\n",
      "0.04268201693214796 0.022976237254148546 postspline\n"
     ]
    },
    {
     "name": "stderr",
     "output_type": "stream",
     "text": [
      "description: 100%|██████████████████████████████████████████████| 2000/2000 [00:20<00:00, 99.50it/s]\n"
     ]
    },
    {
     "name": "stdout",
     "output_type": "stream",
     "text": [
      "tensor(0.9480) tensor(0.9469)\n",
      "103\n",
      "\n",
      "0.04268201693214796 0.022976237254148546 postact\n"
     ]
    },
    {
     "name": "stderr",
     "output_type": "stream",
     "text": [
      "description: 100%|█████████████████████████████████████████████| 2000/2000 [00:19<00:00, 101.74it/s]\n"
     ]
    },
    {
     "name": "stdout",
     "output_type": "stream",
     "text": [
      "tensor(0.9444) tensor(0.9435)\n",
      "104\n",
      "\n",
      "0.04268201693214796 0.022976237254148546 postact\n"
     ]
    },
    {
     "name": "stderr",
     "output_type": "stream",
     "text": [
      "description: 100%|█████████████████████████████████████████████| 2000/2000 [00:19<00:00, 102.43it/s]\n"
     ]
    },
    {
     "name": "stdout",
     "output_type": "stream",
     "text": [
      "tensor(0.9471) tensor(0.9471)\n",
      "105\n",
      "\n",
      "0.04268201693214796 0.022976237254148546 dropout\n"
     ]
    },
    {
     "name": "stderr",
     "output_type": "stream",
     "text": [
      "description: 100%|█████████████████████████████████████████████| 2000/2000 [00:19<00:00, 100.28it/s]\n"
     ]
    },
    {
     "name": "stdout",
     "output_type": "stream",
     "text": [
      "tensor(0.9490) tensor(0.9479)\n",
      "106\n",
      "\n",
      "0.04268201693214796 0.022976237254148546 dropout\n"
     ]
    },
    {
     "name": "stderr",
     "output_type": "stream",
     "text": [
      "description: 100%|█████████████████████████████████████████████| 2000/2000 [00:19<00:00, 100.72it/s]\n"
     ]
    },
    {
     "name": "stdout",
     "output_type": "stream",
     "text": [
      "tensor(0.9495) tensor(0.9489)\n",
      "107\n",
      "\n",
      "0.011588892624381064 0.23739420562878621 postspline\n"
     ]
    },
    {
     "name": "stderr",
     "output_type": "stream",
     "text": [
      "description: 100%|██████████████████████████████████████████████| 2000/2000 [00:20<00:00, 98.93it/s]\n"
     ]
    },
    {
     "name": "stdout",
     "output_type": "stream",
     "text": [
      "tensor(0.9458) tensor(0.9456)\n",
      "108\n",
      "\n",
      "0.011588892624381064 0.23739420562878621 postspline\n"
     ]
    },
    {
     "name": "stderr",
     "output_type": "stream",
     "text": [
      "description: 100%|██████████████████████████████████████████████| 2000/2000 [00:20<00:00, 99.57it/s]\n"
     ]
    },
    {
     "name": "stdout",
     "output_type": "stream",
     "text": [
      "tensor(0.9443) tensor(0.9443)\n",
      "109\n",
      "\n",
      "0.011588892624381064 0.23739420562878621 postact\n"
     ]
    },
    {
     "name": "stderr",
     "output_type": "stream",
     "text": [
      "description: 100%|█████████████████████████████████████████████| 2000/2000 [00:19<00:00, 101.76it/s]\n"
     ]
    },
    {
     "name": "stdout",
     "output_type": "stream",
     "text": [
      "tensor(0.9419) tensor(0.9415)\n",
      "110\n",
      "\n",
      "0.011588892624381064 0.23739420562878621 postact\n"
     ]
    },
    {
     "name": "stderr",
     "output_type": "stream",
     "text": [
      "description: 100%|█████████████████████████████████████████████| 2000/2000 [00:19<00:00, 102.02it/s]\n"
     ]
    },
    {
     "name": "stdout",
     "output_type": "stream",
     "text": [
      "tensor(0.9481) tensor(0.9477)\n",
      "111\n",
      "\n",
      "0.011588892624381064 0.23739420562878621 dropout\n"
     ]
    },
    {
     "name": "stderr",
     "output_type": "stream",
     "text": [
      "description: 100%|██████████████████████████████████████████████| 2000/2000 [00:20<00:00, 99.95it/s]\n"
     ]
    },
    {
     "name": "stdout",
     "output_type": "stream",
     "text": [
      "tensor(0.9379) tensor(0.9375)\n",
      "112\n",
      "\n",
      "0.011588892624381064 0.23739420562878621 dropout\n"
     ]
    },
    {
     "name": "stderr",
     "output_type": "stream",
     "text": [
      "description: 100%|█████████████████████████████████████████████| 2000/2000 [00:19<00:00, 100.71it/s]\n"
     ]
    },
    {
     "name": "stdout",
     "output_type": "stream",
     "text": [
      "tensor(0.9486) tensor(0.9486)\n",
      "113\n",
      "\n",
      "0.15521465282719493 0.12751016613455907 postspline\n"
     ]
    },
    {
     "name": "stderr",
     "output_type": "stream",
     "text": [
      "description: 100%|██████████████████████████████████████████████| 2000/2000 [00:20<00:00, 98.90it/s]\n"
     ]
    },
    {
     "name": "stdout",
     "output_type": "stream",
     "text": [
      "tensor(0.9465) tensor(0.9461)\n",
      "114\n",
      "\n",
      "0.15521465282719493 0.12751016613455907 postspline\n"
     ]
    },
    {
     "name": "stderr",
     "output_type": "stream",
     "text": [
      "description: 100%|██████████████████████████████████████████████| 2000/2000 [00:20<00:00, 99.34it/s]\n"
     ]
    },
    {
     "name": "stdout",
     "output_type": "stream",
     "text": [
      "tensor(0.9436) tensor(0.9429)\n",
      "115\n",
      "\n",
      "0.15521465282719493 0.12751016613455907 postact\n"
     ]
    },
    {
     "name": "stderr",
     "output_type": "stream",
     "text": [
      "description: 100%|█████████████████████████████████████████████| 2000/2000 [00:19<00:00, 101.77it/s]\n"
     ]
    },
    {
     "name": "stdout",
     "output_type": "stream",
     "text": [
      "tensor(0.9404) tensor(0.9406)\n",
      "116\n",
      "\n",
      "0.15521465282719493 0.12751016613455907 postact\n"
     ]
    },
    {
     "name": "stderr",
     "output_type": "stream",
     "text": [
      "description: 100%|█████████████████████████████████████████████| 2000/2000 [00:19<00:00, 102.37it/s]\n"
     ]
    },
    {
     "name": "stdout",
     "output_type": "stream",
     "text": [
      "tensor(0.9463) tensor(0.9463)\n",
      "117\n",
      "\n",
      "0.15521465282719493 0.12751016613455907 dropout\n"
     ]
    },
    {
     "name": "stderr",
     "output_type": "stream",
     "text": [
      "description: 100%|█████████████████████████████████████████████| 2000/2000 [00:19<00:00, 100.31it/s]\n"
     ]
    },
    {
     "name": "stdout",
     "output_type": "stream",
     "text": [
      "tensor(0.9450) tensor(0.9442)\n",
      "118\n",
      "\n",
      "0.15521465282719493 0.12751016613455907 dropout\n"
     ]
    },
    {
     "name": "stderr",
     "output_type": "stream",
     "text": [
      "description: 100%|█████████████████████████████████████████████| 2000/2000 [00:19<00:00, 100.58it/s]\n"
     ]
    },
    {
     "name": "stdout",
     "output_type": "stream",
     "text": [
      "tensor(0.9492) tensor(0.9493)\n",
      "119\n",
      "\n",
      "0.2113938900072082 0.23166095438386758 postspline\n"
     ]
    },
    {
     "name": "stderr",
     "output_type": "stream",
     "text": [
      "description: 100%|██████████████████████████████████████████████| 2000/2000 [00:20<00:00, 96.96it/s]\n"
     ]
    },
    {
     "name": "stdout",
     "output_type": "stream",
     "text": [
      "tensor(0.9417) tensor(0.9414)\n",
      "120\n",
      "\n",
      "0.2113938900072082 0.23166095438386758 postspline\n"
     ]
    },
    {
     "name": "stderr",
     "output_type": "stream",
     "text": [
      "description: 100%|██████████████████████████████████████████████| 2000/2000 [00:21<00:00, 93.02it/s]\n"
     ]
    },
    {
     "name": "stdout",
     "output_type": "stream",
     "text": [
      "tensor(0.9440) tensor(0.9442)\n",
      "121\n",
      "\n",
      "0.2113938900072082 0.23166095438386758 postact\n"
     ]
    },
    {
     "name": "stderr",
     "output_type": "stream",
     "text": [
      "description: 100%|█████████████████████████████████████████████| 2000/2000 [00:19<00:00, 100.16it/s]\n"
     ]
    },
    {
     "name": "stdout",
     "output_type": "stream",
     "text": [
      "tensor(0.9371) tensor(0.9370)\n",
      "122\n",
      "\n",
      "0.2113938900072082 0.23166095438386758 postact\n"
     ]
    },
    {
     "name": "stderr",
     "output_type": "stream",
     "text": [
      "description: 100%|█████████████████████████████████████████████| 2000/2000 [00:19<00:00, 100.69it/s]\n"
     ]
    },
    {
     "name": "stdout",
     "output_type": "stream",
     "text": [
      "tensor(0.9466) tensor(0.9468)\n",
      "123\n",
      "\n",
      "0.2113938900072082 0.23166095438386758 dropout\n"
     ]
    },
    {
     "name": "stderr",
     "output_type": "stream",
     "text": [
      "description: 100%|██████████████████████████████████████████████| 2000/2000 [00:20<00:00, 97.98it/s]\n"
     ]
    },
    {
     "name": "stdout",
     "output_type": "stream",
     "text": [
      "tensor(0.9448) tensor(0.9439)\n",
      "124\n",
      "\n",
      "0.2113938900072082 0.23166095438386758 dropout\n"
     ]
    },
    {
     "name": "stderr",
     "output_type": "stream",
     "text": [
      "description: 100%|██████████████████████████████████████████████| 2000/2000 [00:20<00:00, 98.83it/s]\n"
     ]
    },
    {
     "name": "stdout",
     "output_type": "stream",
     "text": [
      "tensor(0.9484) tensor(0.9484)\n",
      "125\n",
      "\n",
      "0.44730007836030816 0.2605622434945394 postspline\n"
     ]
    },
    {
     "name": "stderr",
     "output_type": "stream",
     "text": [
      "description: 100%|██████████████████████████████████████████████| 2000/2000 [00:20<00:00, 97.85it/s]\n"
     ]
    },
    {
     "name": "stdout",
     "output_type": "stream",
     "text": [
      "tensor(0.9405) tensor(0.9401)\n",
      "126\n",
      "\n",
      "0.44730007836030816 0.2605622434945394 postspline\n"
     ]
    },
    {
     "name": "stderr",
     "output_type": "stream",
     "text": [
      "description: 100%|██████████████████████████████████████████████| 2000/2000 [00:20<00:00, 98.21it/s]\n"
     ]
    },
    {
     "name": "stdout",
     "output_type": "stream",
     "text": [
      "tensor(0.9394) tensor(0.9397)\n",
      "127\n",
      "\n",
      "0.44730007836030816 0.2605622434945394 postact\n"
     ]
    },
    {
     "name": "stderr",
     "output_type": "stream",
     "text": [
      "description: 100%|█████████████████████████████████████████████| 2000/2000 [00:19<00:00, 100.52it/s]\n"
     ]
    },
    {
     "name": "stdout",
     "output_type": "stream",
     "text": [
      "tensor(0.9371) tensor(0.9370)\n",
      "128\n",
      "\n",
      "0.44730007836030816 0.2605622434945394 postact\n"
     ]
    },
    {
     "name": "stderr",
     "output_type": "stream",
     "text": [
      "description: 100%|█████████████████████████████████████████████| 2000/2000 [00:19<00:00, 100.39it/s]\n"
     ]
    },
    {
     "name": "stdout",
     "output_type": "stream",
     "text": [
      "tensor(0.9297) tensor(0.9314)\n",
      "129\n",
      "\n",
      "0.44730007836030816 0.2605622434945394 dropout\n"
     ]
    },
    {
     "name": "stderr",
     "output_type": "stream",
     "text": [
      "description: 100%|██████████████████████████████████████████████| 2000/2000 [00:20<00:00, 96.95it/s]\n"
     ]
    },
    {
     "name": "stdout",
     "output_type": "stream",
     "text": [
      "tensor(0.9367) tensor(0.9365)\n",
      "130\n",
      "\n",
      "0.44730007836030816 0.2605622434945394 dropout\n"
     ]
    },
    {
     "name": "stderr",
     "output_type": "stream",
     "text": [
      "description: 100%|██████████████████████████████████████████████| 2000/2000 [00:20<00:00, 98.57it/s]\n"
     ]
    },
    {
     "name": "stdout",
     "output_type": "stream",
     "text": [
      "tensor(0.9459) tensor(0.9461)\n",
      "131\n",
      "\n",
      "0.29488392890112014 0.16767698174065032 postspline\n"
     ]
    },
    {
     "name": "stderr",
     "output_type": "stream",
     "text": [
      "description: 100%|██████████████████████████████████████████████| 2000/2000 [00:20<00:00, 98.02it/s]\n"
     ]
    },
    {
     "name": "stdout",
     "output_type": "stream",
     "text": [
      "tensor(0.9459) tensor(0.9455)\n",
      "132\n",
      "\n",
      "0.29488392890112014 0.16767698174065032 postspline\n"
     ]
    },
    {
     "name": "stderr",
     "output_type": "stream",
     "text": [
      "description: 100%|██████████████████████████████████████████████| 2000/2000 [00:20<00:00, 97.94it/s]\n"
     ]
    },
    {
     "name": "stdout",
     "output_type": "stream",
     "text": [
      "tensor(0.9458) tensor(0.9455)\n",
      "133\n",
      "\n",
      "0.29488392890112014 0.16767698174065032 postact\n"
     ]
    },
    {
     "name": "stderr",
     "output_type": "stream",
     "text": [
      "description: 100%|██████████████████████████████████████████████| 2000/2000 [00:20<00:00, 96.91it/s]\n"
     ]
    },
    {
     "name": "stdout",
     "output_type": "stream",
     "text": [
      "tensor(0.9391) tensor(0.9390)\n",
      "134\n",
      "\n",
      "0.29488392890112014 0.16767698174065032 postact\n"
     ]
    },
    {
     "name": "stderr",
     "output_type": "stream",
     "text": [
      "description: 100%|██████████████████████████████████████████████| 2000/2000 [00:20<00:00, 98.90it/s]\n"
     ]
    },
    {
     "name": "stdout",
     "output_type": "stream",
     "text": [
      "tensor(0.9458) tensor(0.9460)\n",
      "135\n",
      "\n",
      "0.29488392890112014 0.16767698174065032 dropout\n"
     ]
    },
    {
     "name": "stderr",
     "output_type": "stream",
     "text": [
      "description: 100%|██████████████████████████████████████████████| 2000/2000 [00:20<00:00, 99.32it/s]\n"
     ]
    },
    {
     "name": "stdout",
     "output_type": "stream",
     "text": [
      "tensor(0.9429) tensor(0.9428)\n",
      "136\n",
      "\n",
      "0.29488392890112014 0.16767698174065032 dropout\n"
     ]
    },
    {
     "name": "stderr",
     "output_type": "stream",
     "text": [
      "description: 100%|██████████████████████████████████████████████| 2000/2000 [00:20<00:00, 99.45it/s]\n"
     ]
    },
    {
     "name": "stdout",
     "output_type": "stream",
     "text": [
      "tensor(0.9492) tensor(0.9502)\n",
      "137\n",
      "\n",
      "0.34504872646157464 0.44689186143505183 postspline\n"
     ]
    },
    {
     "name": "stderr",
     "output_type": "stream",
     "text": [
      "description: 100%|██████████████████████████████████████████████| 2000/2000 [00:20<00:00, 96.37it/s]\n"
     ]
    },
    {
     "name": "stdout",
     "output_type": "stream",
     "text": [
      "tensor(0.9422) tensor(0.9420)\n",
      "138\n",
      "\n",
      "0.34504872646157464 0.44689186143505183 postspline\n"
     ]
    },
    {
     "name": "stderr",
     "output_type": "stream",
     "text": [
      "description: 100%|██████████████████████████████████████████████| 2000/2000 [00:20<00:00, 98.26it/s]\n"
     ]
    },
    {
     "name": "stdout",
     "output_type": "stream",
     "text": [
      "tensor(0.9437) tensor(0.9432)\n",
      "139\n",
      "\n",
      "0.34504872646157464 0.44689186143505183 postact\n"
     ]
    },
    {
     "name": "stderr",
     "output_type": "stream",
     "text": [
      "description: 100%|█████████████████████████████████████████████| 2000/2000 [00:19<00:00, 100.48it/s]\n"
     ]
    },
    {
     "name": "stdout",
     "output_type": "stream",
     "text": [
      "tensor(0.9372) tensor(0.9371)\n",
      "140\n",
      "\n",
      "0.34504872646157464 0.44689186143505183 postact\n"
     ]
    },
    {
     "name": "stderr",
     "output_type": "stream",
     "text": [
      "description: 100%|█████████████████████████████████████████████| 2000/2000 [00:19<00:00, 101.50it/s]\n"
     ]
    },
    {
     "name": "stdout",
     "output_type": "stream",
     "text": [
      "tensor(0.9340) tensor(0.9364)\n",
      "141\n",
      "\n",
      "0.34504872646157464 0.44689186143505183 dropout\n"
     ]
    },
    {
     "name": "stderr",
     "output_type": "stream",
     "text": [
      "description: 100%|██████████████████████████████████████████████| 2000/2000 [00:20<00:00, 99.16it/s]\n"
     ]
    },
    {
     "name": "stdout",
     "output_type": "stream",
     "text": [
      "tensor(0.9375) tensor(0.9372)\n",
      "142\n",
      "\n",
      "0.34504872646157464 0.44689186143505183 dropout\n"
     ]
    },
    {
     "name": "stderr",
     "output_type": "stream",
     "text": [
      "description: 100%|██████████████████████████████████████████████| 2000/2000 [00:20<00:00, 99.16it/s]\n"
     ]
    },
    {
     "name": "stdout",
     "output_type": "stream",
     "text": [
      "tensor(0.9424) tensor(0.9440)\n",
      "143\n",
      "\n",
      "0.4898329890687087 0.4832519372774429 postspline\n"
     ]
    },
    {
     "name": "stderr",
     "output_type": "stream",
     "text": [
      "description: 100%|██████████████████████████████████████████████| 2000/2000 [00:20<00:00, 99.64it/s]\n"
     ]
    },
    {
     "name": "stdout",
     "output_type": "stream",
     "text": [
      "tensor(0.9399) tensor(0.9402)\n",
      "144\n",
      "\n",
      "0.4898329890687087 0.4832519372774429 postspline\n"
     ]
    },
    {
     "name": "stderr",
     "output_type": "stream",
     "text": [
      "description: 100%|██████████████████████████████████████████████| 2000/2000 [00:20<00:00, 97.21it/s]\n"
     ]
    },
    {
     "name": "stdout",
     "output_type": "stream",
     "text": [
      "tensor(0.9392) tensor(0.9393)\n",
      "145\n",
      "\n",
      "0.4898329890687087 0.4832519372774429 postact\n"
     ]
    },
    {
     "name": "stderr",
     "output_type": "stream",
     "text": [
      "description: 100%|█████████████████████████████████████████████| 2000/2000 [00:19<00:00, 100.48it/s]\n"
     ]
    },
    {
     "name": "stdout",
     "output_type": "stream",
     "text": [
      "tensor(0.9371) tensor(0.9370)\n",
      "146\n",
      "\n",
      "0.4898329890687087 0.4832519372774429 postact\n"
     ]
    },
    {
     "name": "stderr",
     "output_type": "stream",
     "text": [
      "description: 100%|██████████████████████████████████████████████| 2000/2000 [00:20<00:00, 99.61it/s]\n"
     ]
    },
    {
     "name": "stdout",
     "output_type": "stream",
     "text": [
      "tensor(0.9287) tensor(0.9296)\n",
      "147\n",
      "\n",
      "0.4898329890687087 0.4832519372774429 dropout\n"
     ]
    },
    {
     "name": "stderr",
     "output_type": "stream",
     "text": [
      "description: 100%|██████████████████████████████████████████████| 2000/2000 [00:20<00:00, 99.38it/s]\n"
     ]
    },
    {
     "name": "stdout",
     "output_type": "stream",
     "text": [
      "tensor(0.9371) tensor(0.9370)\n",
      "148\n",
      "\n",
      "0.4898329890687087 0.4832519372774429 dropout\n"
     ]
    },
    {
     "name": "stderr",
     "output_type": "stream",
     "text": [
      "description: 100%|█████████████████████████████████████████████| 2000/2000 [00:19<00:00, 100.16it/s]\n"
     ]
    },
    {
     "name": "stdout",
     "output_type": "stream",
     "text": [
      "tensor(0.9217) tensor(0.9244)\n",
      "149\n",
      "\n",
      "0.31195095235420656 0.44835727332583897 postspline\n"
     ]
    },
    {
     "name": "stderr",
     "output_type": "stream",
     "text": [
      "description: 100%|██████████████████████████████████████████████| 2000/2000 [00:20<00:00, 97.78it/s]\n"
     ]
    },
    {
     "name": "stdout",
     "output_type": "stream",
     "text": [
      "tensor(0.9432) tensor(0.9427)\n",
      "150\n",
      "\n",
      "0.31195095235420656 0.44835727332583897 postspline\n"
     ]
    },
    {
     "name": "stderr",
     "output_type": "stream",
     "text": [
      "description: 100%|█████████████████████████████████████████████| 2000/2000 [00:19<00:00, 100.42it/s]\n"
     ]
    },
    {
     "name": "stdout",
     "output_type": "stream",
     "text": [
      "tensor(0.9411) tensor(0.9417)\n",
      "151\n",
      "\n",
      "0.31195095235420656 0.44835727332583897 postact\n"
     ]
    },
    {
     "name": "stderr",
     "output_type": "stream",
     "text": [
      "description: 100%|█████████████████████████████████████████████| 2000/2000 [00:19<00:00, 101.02it/s]\n"
     ]
    },
    {
     "name": "stdout",
     "output_type": "stream",
     "text": [
      "tensor(0.9373) tensor(0.9371)\n",
      "152\n",
      "\n",
      "0.31195095235420656 0.44835727332583897 postact\n"
     ]
    },
    {
     "name": "stderr",
     "output_type": "stream",
     "text": [
      "description: 100%|█████████████████████████████████████████████| 2000/2000 [00:19<00:00, 101.75it/s]\n"
     ]
    },
    {
     "name": "stdout",
     "output_type": "stream",
     "text": [
      "tensor(0.9302) tensor(0.9329)\n",
      "153\n",
      "\n",
      "0.31195095235420656 0.44835727332583897 dropout\n"
     ]
    },
    {
     "name": "stderr",
     "output_type": "stream",
     "text": [
      "description: 100%|██████████████████████████████████████████████| 2000/2000 [00:20<00:00, 99.73it/s]\n"
     ]
    },
    {
     "name": "stdout",
     "output_type": "stream",
     "text": [
      "tensor(0.9371) tensor(0.9370)\n",
      "154\n",
      "\n",
      "0.31195095235420656 0.44835727332583897 dropout\n"
     ]
    },
    {
     "name": "stderr",
     "output_type": "stream",
     "text": [
      "description: 100%|█████████████████████████████████████████████| 2000/2000 [00:19<00:00, 100.59it/s]\n"
     ]
    },
    {
     "name": "stdout",
     "output_type": "stream",
     "text": [
      "tensor(0.9448) tensor(0.9454)\n",
      "155\n",
      "\n",
      "Log saved to log\\census-income.data_log.xlsx\n"
     ]
    }
   ],
   "source": [
    "\n",
    "# Log file name\n",
    "log_file =  log_folder+file_name+'_log.xlsx'\n",
    "\n",
    "# DataFrame to store logs\n",
    "log_df = pd.DataFrame(columns=['drop_rate1', 'drop_rate2', 'drop_mode', 'scale', 'validation_accuracy', 'test_accuracy'])\n",
    "\n",
    "for j in range(5):\n",
    "    model = DropKAN(seed=j,width=[data.X_train.shape[1], 10,1], grid=3, k=3, bias_trainable=True, sp_trainable=True, sb_trainable=True,\n",
    "                            symbolic_enabled=False, drop_rate=[None, None], drop_mode='kan', drop_scale=None)\n",
    "    results = model.train(dataset, opt=\"Adam\", steps=2000, batch=32, lr=0.01, update_grid=False)\n",
    "    set_training_mode(model, False)\n",
    "    \n",
    "    val_acc = torch.mean((torch.round(model(dataset['val_input'])[:,0]) == dataset['val_label'][:,0]).float()).item()\n",
    "    test_acc = torch.mean((torch.round(model(dataset['test_input'])[:,0]) == dataset['test_label'][:,0]).float()).item()\n",
    "    print(0.0, 0.0, 'kan', None, val_acc, test_acc)\n",
    "    log_df.loc[len(log_df)] = [None, None, 'kan', None, val_acc, test_acc]\n",
    "    log_df.to_excel(log_file, index=False)\n",
    "\n",
    "\n",
    "best = 0\n",
    "for _ in range(10):  # Number of random configurations to test\n",
    "    random.seed()\n",
    "    drop_rate1 = random.uniform(0, .5)\n",
    "    drop_rate2 = random.uniform(0, .5)\n",
    "\n",
    "    for drop_mode in ['postspline', 'postact', 'dropout']:\n",
    "\n",
    "        for scale in  [True, False]:\n",
    "            print(drop_rate1, drop_rate2, drop_mode)\n",
    "            \n",
    "            \n",
    "            \n",
    "            model = DropKAN(width=[data.X_train.shape[1], 10,1], grid=3, k=3, bias_trainable=True, sp_trainable=True, sb_trainable=True,\n",
    "                            symbolic_enabled=False, drop_rate=[drop_rate1, drop_rate2], drop_mode=drop_mode, drop_scale=scale)\n",
    "\n",
    "            results = model.train(dataset, opt=\"Adam\", steps=2000, log=100, batch=32, lr=0.01, update_grid=False)\n",
    "            set_training_mode(model, False)\n",
    "            \n",
    "            val_acc = torch.mean((torch.round(model(dataset['val_input'])[:,0]) == dataset['val_label'][:,0]).float())\n",
    "            test_acc = torch.mean((torch.round(model(dataset['test_input'])[:,0]) == dataset['test_label'][:,0]).float())\n",
    "            \n",
    "            \n",
    "                \n",
    "            new_row = [drop_rate1,drop_rate2,drop_mode,scale,val_acc.item(),test_acc.item()]\n",
    "            \n",
    "            log_df.loc[len(log_df)] = new_row\n",
    "        \n",
    "            # Save the DataFrame to an Excel file\n",
    "            log_df.to_excel(log_file, index=False)\n",
    "            print(val_acc, test_acc)\n",
    "            print(len(log_df))\n",
    "            print()\n",
    "\n",
    "print(f\"Log saved to {log_file}\")"
   ]
  },
  {
   "cell_type": "code",
   "execution_count": null,
   "id": "a1ca7c45-8bef-4808-986d-8db9b10e41d9",
   "metadata": {},
   "outputs": [],
   "source": []
  },
  {
   "cell_type": "code",
   "execution_count": 7,
   "id": "f5c0b65e-ba1c-4cb1-af7f-a0115d898c67",
   "metadata": {},
   "outputs": [],
   "source": [
    "log_df = pd.read_excel(log_folder+file_name+'_log.xlsx')\n"
   ]
  },
  {
   "cell_type": "code",
   "execution_count": 15,
   "id": "829e4b84-b2fd-4663-89cd-ef2c9a42871b",
   "metadata": {},
   "outputs": [
    {
     "name": "stderr",
     "output_type": "stream",
     "text": [
      "description: 100%|███████████████████████████████████████████████| 300/300 [00:02<00:00, 114.56it/s]\n"
     ]
    },
    {
     "name": "stdout",
     "output_type": "stream",
     "text": [
      "dropout 0.0 0.6586484909057617 0.674141526222229\n"
     ]
    },
    {
     "name": "stderr",
     "output_type": "stream",
     "text": [
      "description: 100%|███████████████████████████████████████████████| 300/300 [00:02<00:00, 113.98it/s]\n"
     ]
    },
    {
     "name": "stdout",
     "output_type": "stream",
     "text": [
      "dropout 1.0 0.6732292175292969 0.682652473449707\n"
     ]
    },
    {
     "name": "stderr",
     "output_type": "stream",
     "text": [
      "description: 100%|███████████████████████████████████████████████| 300/300 [00:02<00:00, 113.68it/s]\n"
     ]
    },
    {
     "name": "stdout",
     "output_type": "stream",
     "text": [
      "postact 0.0 0.6698986291885376 0.6843546628952026\n"
     ]
    },
    {
     "name": "stderr",
     "output_type": "stream",
     "text": [
      "description: 100%|███████████████████████████████████████████████| 300/300 [00:02<00:00, 113.42it/s]\n"
     ]
    },
    {
     "name": "stdout",
     "output_type": "stream",
     "text": [
      "postact 1.0 0.6698246002197266 0.675399661064148\n"
     ]
    },
    {
     "name": "stderr",
     "output_type": "stream",
     "text": [
      "description: 100%|███████████████████████████████████████████████| 300/300 [00:02<00:00, 113.76it/s]\n"
     ]
    },
    {
     "name": "stdout",
     "output_type": "stream",
     "text": [
      "postspline 0.0 0.6565760970115662 0.6674067378044128\n"
     ]
    },
    {
     "name": "stderr",
     "output_type": "stream",
     "text": [
      "description: 100%|███████████████████████████████████████████████| 300/300 [00:02<00:00, 112.74it/s]\n"
     ]
    },
    {
     "name": "stdout",
     "output_type": "stream",
     "text": [
      "postspline 1.0 0.6743394136428833 0.683910608291626\n"
     ]
    }
   ],
   "source": [
    "grouped = log_df.groupby(['drop_mode', 'scale'])\n",
    "best_settings = grouped.apply(lambda x: x.loc[x['validation_accuracy'].idxmax()])\n",
    "\n",
    "results_df = pd.DataFrame(columns=['dropmode', 'dropscale', 'validation_accuracy', 'test_accuracy'])\n",
    "\n",
    "for i, (index, setting) in enumerate(best_settings.iterrows()):\n",
    "    for j in range(1):\n",
    "        model = DropKAN(\n",
    "        seed=j,\n",
    "        width=[dataset['train_input'].shape[1], 10, 1],\n",
    "        grid=5,\n",
    "        symbolic_enabled=False,\n",
    "        drop_rate=[setting['drop_rate1'], setting['drop_rate2']],\n",
    "        drop_mode=setting['drop_mode'],\n",
    "        drop_scale=setting['scale'],\n",
    "        neuron_fun=['mean', 'mean']\n",
    "        )\n",
    "        results = model.train(dataset, opt=\"Adam\", steps=300, batch=32, lr=0.01, update_grid=False)\n",
    "        set_training_mode(model, False)\n",
    "        \n",
    "        val_acc = torch.mean((torch.round(model(dataset['val_input'])[:,0]) == dataset['val_label'][:,0]).float()).item()\n",
    "        test_acc = torch.mean((torch.round(model(dataset['test_input'])[:,0]) == dataset['test_label'][:,0]).float()).item()\n",
    "        print(setting['drop_mode'], setting['scale'], val_acc, test_acc)\n",
    "        results_df.loc[len(results_df)] = [setting['drop_mode'], setting['scale'], val_acc, test_acc]\n",
    "    "
   ]
  },
  {
   "cell_type": "code",
   "execution_count": 12,
   "id": "3e22cbde-b46c-4c24-8f5b-da998f98e98b",
   "metadata": {},
   "outputs": [
    {
     "name": "stderr",
     "output_type": "stream",
     "text": [
      "description:   1%|▌                                               | 21/2000 [00:03<05:20,  6.17it/s]\n"
     ]
    },
    {
     "ename": "KeyboardInterrupt",
     "evalue": "",
     "output_type": "error",
     "traceback": [
      "\u001b[1;31m---------------------------------------------------------------------------\u001b[0m",
      "\u001b[1;31mKeyboardInterrupt\u001b[0m                         Traceback (most recent call last)",
      "Cell \u001b[1;32mIn[12], line 9\u001b[0m\n\u001b[0;32m      1\u001b[0m \u001b[38;5;28;01mfor\u001b[39;00m j \u001b[38;5;129;01min\u001b[39;00m \u001b[38;5;28mrange\u001b[39m(\u001b[38;5;241m1\u001b[39m):\n\u001b[0;32m      2\u001b[0m         model \u001b[38;5;241m=\u001b[39m KAN(\n\u001b[0;32m      3\u001b[0m         seed\u001b[38;5;241m=\u001b[39mj,\n\u001b[0;32m      4\u001b[0m         width\u001b[38;5;241m=\u001b[39m[dataset[\u001b[38;5;124m'\u001b[39m\u001b[38;5;124mtrain_input\u001b[39m\u001b[38;5;124m'\u001b[39m]\u001b[38;5;241m.\u001b[39mshape[\u001b[38;5;241m1\u001b[39m], \u001b[38;5;241m10\u001b[39m, \u001b[38;5;241m1\u001b[39m],\n\u001b[1;32m   (...)\u001b[0m\n\u001b[0;32m      7\u001b[0m         symbolic_enabled\u001b[38;5;241m=\u001b[39m\u001b[38;5;28;01mFalse\u001b[39;00m\n\u001b[0;32m      8\u001b[0m         )\n\u001b[1;32m----> 9\u001b[0m         results \u001b[38;5;241m=\u001b[39m \u001b[43mmodel\u001b[49m\u001b[38;5;241;43m.\u001b[39;49m\u001b[43mtrain\u001b[49m\u001b[43m(\u001b[49m\u001b[43mdataset\u001b[49m\u001b[43m,\u001b[49m\u001b[43m \u001b[49m\u001b[43mopt\u001b[49m\u001b[38;5;241;43m=\u001b[39;49m\u001b[38;5;124;43m\"\u001b[39;49m\u001b[38;5;124;43mAdam\u001b[39;49m\u001b[38;5;124;43m\"\u001b[39;49m\u001b[43m,\u001b[49m\u001b[43m \u001b[49m\u001b[43msteps\u001b[49m\u001b[38;5;241;43m=\u001b[39;49m\u001b[38;5;241;43m2000\u001b[39;49m\u001b[43m,\u001b[49m\u001b[43m \u001b[49m\u001b[43mbatch\u001b[49m\u001b[38;5;241;43m=\u001b[39;49m\u001b[38;5;241;43m32\u001b[39;49m\u001b[43m,\u001b[49m\u001b[43m \u001b[49m\u001b[43mlr\u001b[49m\u001b[38;5;241;43m=\u001b[39;49m\u001b[38;5;241;43m0.01\u001b[39;49m\u001b[43m,\u001b[49m\u001b[43m \u001b[49m\u001b[43mupdate_grid\u001b[49m\u001b[38;5;241;43m=\u001b[39;49m\u001b[38;5;28;43;01mFalse\u001b[39;49;00m\u001b[43m)\u001b[49m\n\u001b[0;32m     10\u001b[0m         set_training_mode(model, \u001b[38;5;28;01mFalse\u001b[39;00m)\n\u001b[0;32m     12\u001b[0m         val_acc \u001b[38;5;241m=\u001b[39m torch\u001b[38;5;241m.\u001b[39mmean((torch\u001b[38;5;241m.\u001b[39mround(model(dataset[\u001b[38;5;124m'\u001b[39m\u001b[38;5;124mval_input\u001b[39m\u001b[38;5;124m'\u001b[39m])[:,\u001b[38;5;241m0\u001b[39m]) \u001b[38;5;241m==\u001b[39m dataset[\u001b[38;5;124m'\u001b[39m\u001b[38;5;124mval_label\u001b[39m\u001b[38;5;124m'\u001b[39m][:,\u001b[38;5;241m0\u001b[39m])\u001b[38;5;241m.\u001b[39mfloat())\u001b[38;5;241m.\u001b[39mitem()\n",
      "File \u001b[1;32m~\\PycharmProjects\\dropkan\\kan\\KAN.py:910\u001b[0m, in \u001b[0;36mKAN.train\u001b[1;34m(self, dataset, opt, steps, log, lamb, lamb_l1, lamb_entropy, lamb_coef, lamb_coefdiff, update_grid, grid_update_num, loss_fn, lr, stop_grid_update_step, batch, small_mag_threshold, small_reg_factor, metrics, sglr_avoid, save_fig, in_vars, out_vars, beta, save_fig_freq, img_folder)\u001b[0m\n\u001b[0;32m    907\u001b[0m     loss\u001b[38;5;241m.\u001b[39mbackward()\n\u001b[0;32m    908\u001b[0m     optimizer\u001b[38;5;241m.\u001b[39mstep()\n\u001b[1;32m--> 910\u001b[0m test_loss \u001b[38;5;241m=\u001b[39m loss_fn_eval(\u001b[38;5;28;43mself\u001b[39;49m\u001b[38;5;241;43m.\u001b[39;49m\u001b[43mforward\u001b[49m\u001b[43m(\u001b[49m\u001b[43mdataset\u001b[49m\u001b[43m[\u001b[49m\u001b[38;5;124;43m'\u001b[39;49m\u001b[38;5;124;43mtest_input\u001b[39;49m\u001b[38;5;124;43m'\u001b[39;49m\u001b[43m]\u001b[49m\u001b[38;5;241;43m.\u001b[39;49m\u001b[43mto\u001b[49m\u001b[43m(\u001b[49m\u001b[38;5;28;43mself\u001b[39;49m\u001b[38;5;241;43m.\u001b[39;49m\u001b[43mdevice\u001b[49m\u001b[43m)\u001b[49m\u001b[43m)\u001b[49m, dataset[\u001b[38;5;124m'\u001b[39m\u001b[38;5;124mtest_label\u001b[39m\u001b[38;5;124m'\u001b[39m]\u001b[38;5;241m.\u001b[39mto(\u001b[38;5;28mself\u001b[39m\u001b[38;5;241m.\u001b[39mdevice))\n\u001b[0;32m    912\u001b[0m \u001b[38;5;66;03m#if _ % log == 0:\u001b[39;00m\n\u001b[0;32m    913\u001b[0m \u001b[38;5;66;03m#    pbar.set_description(\"train loss: %.2e | test loss: %.2e | reg: %.2e \" % (torch.sqrt(train_loss).cpu().detach().numpy(), torch.sqrt(test_loss).cpu().detach().numpy(), reg_.cpu().detach().numpy()))\u001b[39;00m\n\u001b[0;32m    915\u001b[0m \u001b[38;5;28;01mif\u001b[39;00m metrics \u001b[38;5;241m!=\u001b[39m \u001b[38;5;28;01mNone\u001b[39;00m:\n",
      "File \u001b[1;32m~\\PycharmProjects\\dropkan\\kan\\KAN.py:325\u001b[0m, in \u001b[0;36mKAN.forward\u001b[1;34m(self, x)\u001b[0m\n\u001b[0;32m    320\u001b[0m postacts \u001b[38;5;241m=\u001b[39m postacts_numerical \u001b[38;5;241m+\u001b[39m postacts_symbolic\n\u001b[0;32m    322\u001b[0m \u001b[38;5;66;03m# self.neurons_scale.append(torch.mean(torch.abs(x), dim=0))\u001b[39;00m\n\u001b[0;32m    323\u001b[0m \u001b[38;5;66;03m#grid_reshape = self.act_fun[l].grid.reshape(self.width[l + 1], self.width[l], -1)\u001b[39;00m\n\u001b[0;32m    324\u001b[0m \u001b[38;5;66;03m#input_range = grid_reshape[:, :, -1] - grid_reshape[:, :, 0] + 1e-4\u001b[39;00m\n\u001b[1;32m--> 325\u001b[0m input_range \u001b[38;5;241m=\u001b[39m \u001b[43mtorch\u001b[49m\u001b[38;5;241;43m.\u001b[39;49m\u001b[43mstd\u001b[49m\u001b[43m(\u001b[49m\u001b[43mpreacts\u001b[49m\u001b[43m,\u001b[49m\u001b[43m \u001b[49m\u001b[43mdim\u001b[49m\u001b[38;5;241;43m=\u001b[39;49m\u001b[38;5;241;43m0\u001b[39;49m\u001b[43m)\u001b[49m \u001b[38;5;241m+\u001b[39m \u001b[38;5;241m0.1\u001b[39m\n\u001b[0;32m    326\u001b[0m output_range \u001b[38;5;241m=\u001b[39m torch\u001b[38;5;241m.\u001b[39mstd(postacts, dim\u001b[38;5;241m=\u001b[39m\u001b[38;5;241m0\u001b[39m)\n\u001b[0;32m    327\u001b[0m \u001b[38;5;28mself\u001b[39m\u001b[38;5;241m.\u001b[39macts_scale\u001b[38;5;241m.\u001b[39mappend(output_range \u001b[38;5;241m/\u001b[39m input_range)\n",
      "\u001b[1;31mKeyboardInterrupt\u001b[0m: "
     ]
    }
   ],
   "source": [
    "for j in range(1):\n",
    "        model = KAN(\n",
    "        seed=j,\n",
    "        width=[dataset['train_input'].shape[1], 10, 1],\n",
    "        grid=3,\n",
    "            k=3,\n",
    "        symbolic_enabled=False\n",
    "        )\n",
    "        results = model.train(dataset, opt=\"Adam\", steps=2000, batch=32, lr=0.01, update_grid=False)\n",
    "        set_training_mode(model, False)\n",
    "        \n",
    "        val_acc = torch.mean((torch.round(model(dataset['val_input'])[:,0]) == dataset['val_label'][:,0]).float()).item()\n",
    "        test_acc = torch.mean((torch.round(model(dataset['test_input'])[:,0]) == dataset['test_label'][:,0]).float()).item()\n",
    "        print('kan', None, val_acc, test_acc)\n",
    "        results_df.loc[len(results_df)] = ['kan', -1, val_acc, test_acc]"
   ]
  },
  {
   "cell_type": "code",
   "execution_count": null,
   "id": "dfc9d1b2-e6c0-46c0-972b-b5ab41c0d7ed",
   "metadata": {},
   "outputs": [],
   "source": [
    "results_df.to_excel(log_folder+file_name+'_results.xlsx', index=False) "
   ]
  },
  {
   "cell_type": "code",
   "execution_count": null,
   "id": "b95a2f13-26af-46fd-b421-ef5b239ebff7",
   "metadata": {},
   "outputs": [],
   "source": []
  },
  {
   "cell_type": "code",
   "execution_count": null,
   "id": "41955128-c165-49ec-bcb4-b7772970e52d",
   "metadata": {},
   "outputs": [],
   "source": []
  },
  {
   "cell_type": "code",
   "execution_count": 68,
   "id": "623c5538-4d19-47f4-bf34-a8f8187d90fc",
   "metadata": {},
   "outputs": [
    {
     "name": "stdout",
     "output_type": "stream",
     "text": [
      "             comb1           comb2   p_value  significant  accuracies1  \\\n",
      "0      dropout_0.0     dropout_1.0  0.028280         True        94.57   \n",
      "1      dropout_0.0     postact_0.0  0.530869        False        94.57   \n",
      "2      dropout_0.0     postact_1.0  0.296270        False        94.57   \n",
      "3      dropout_0.0  postspline_0.0  0.250592        False        94.57   \n",
      "4      dropout_0.0  postspline_1.0  0.530869        False        94.57   \n",
      "5      dropout_1.0     postact_0.0  0.009023         True        94.44   \n",
      "6      dropout_1.0     postact_1.0  0.174525        False        94.44   \n",
      "7      dropout_1.0  postspline_0.0  0.117185        False        94.44   \n",
      "8      dropout_1.0  postspline_1.0  0.117185        False        94.44   \n",
      "9      postact_0.0     postact_1.0  0.028280         True        94.60   \n",
      "10     postact_0.0  postspline_0.0  0.047202         True        94.60   \n",
      "11     postact_0.0  postspline_1.0  0.296270        False        94.60   \n",
      "12     postact_1.0  postspline_0.0  0.916815        False        94.49   \n",
      "13     postact_1.0  postspline_1.0  0.601508        False        94.49   \n",
      "14  postspline_0.0  postspline_1.0  0.530869        False        94.49   \n",
      "\n",
      "    accuracies2  std1  std2  \n",
      "0         94.44  0.05  0.09  \n",
      "1         94.60  0.05  0.04  \n",
      "2         94.49  0.05  0.11  \n",
      "3         94.49  0.05  0.11  \n",
      "4         94.51  0.05  0.14  \n",
      "5         94.60  0.09  0.04  \n",
      "6         94.49  0.09  0.11  \n",
      "7         94.49  0.09  0.11  \n",
      "8         94.51  0.09  0.14  \n",
      "9         94.49  0.04  0.11  \n",
      "10        94.49  0.04  0.11  \n",
      "11        94.51  0.04  0.14  \n",
      "12        94.49  0.11  0.11  \n",
      "13        94.51  0.11  0.14  \n",
      "14        94.51  0.11  0.14  \n"
     ]
    }
   ],
   "source": [
    "from scipy import stats\n",
    "from scipy.stats import ranksums\n",
    "\n",
    "\n",
    "# Create a DataFrame to store significance results\n",
    "unique_combinations = results_df[['dropmode', 'dropscale']].drop_duplicates().values\n",
    "\n",
    "significance_results = pd.DataFrame(columns=['comb1', 'comb2', 'p_value', 'significant', 'accuracies1', 'accuracies2', 'std1', 'std2'])\n",
    "\n",
    "\n",
    "# Compare each pair of combinations\n",
    "for i in range(len(unique_combinations)):\n",
    "    for j in range(i + 1, len(unique_combinations)):\n",
    "        comb1 = unique_combinations[i]\n",
    "        comb2 = unique_combinations[j]\n",
    "\n",
    "\n",
    "        if True:\n",
    "        \n",
    "            # Get the test accuracies for the two combinations\n",
    "            accuracies1 = results_df[(results_df['dropmode'] == comb1[0]) &\n",
    "                                 (results_df['dropscale'] == comb1[1])]['test_accuracy']\n",
    "    \n",
    "            #print(accuracies1)\n",
    "            \n",
    "            accuracies2 = results_df[(results_df['dropmode'] == comb2[0]) &\n",
    "                                 (results_df['dropscale'] == comb2[1])]['test_accuracy']\n",
    "            \n",
    "            # Perform Wilcoxon rank-sum test\n",
    "            stat, p_value = ranksums(accuracies1.values, accuracies2.values)\n",
    "            \n",
    "            # Check if the p-value indicates a significant difference\n",
    "            significant = p_value < 0.05\n",
    "            \n",
    "            # Append the result to the significance_results DataFrame\n",
    "            significance_results.loc[len(significance_results)] = [f\"{comb1[0]}_{comb1[1]}\", f\"{comb2[0]}_{comb2[1]}\",  p_value, significant, \n",
    "                                                                   np.round(100*np.mean(accuracies1), 2), np.round(100*np.mean(accuracies2), 2), \n",
    "                                                                   np.round(100*np.std(accuracies1), 2), np.round(100*np.std(accuracies2), 2)]\n",
    "           \n",
    "\n",
    "# Print the significance results\n",
    "print(significance_results)\n",
    "\n",
    "significance_results.to_excel(log_folder+file_name+'_sig.xlsx', index=False)"
   ]
  },
  {
   "cell_type": "code",
   "execution_count": null,
   "id": "519c2e75-729c-4592-81cc-887d9282b3e3",
   "metadata": {},
   "outputs": [],
   "source": []
  },
  {
   "cell_type": "code",
   "execution_count": 168,
   "id": "f51c2b6e-2e87-4e0f-82e9-acdf98e905e8",
   "metadata": {},
   "outputs": [],
   "source": [
    "from torch.utils.data import DataLoader\n",
    "import torchvision.transforms as transforms\n",
    "import torchvision\n",
    "\n",
    "# Define transformations for the training data and testing data\n",
    "transform = transforms.Compose([\n",
    "    transforms.ToTensor(),\n",
    "    transforms.Normalize((0.5,), (0.5,))  # Normalize to [-1, 1]\n",
    "])\n",
    "\n",
    "# Download and load the training data\n",
    "trainset = torchvision.datasets.MNIST(root='./data', train=True, download=True, transform=transform)\n",
    "\n",
    "# Download and load the testing data\n",
    "testset = torchvision.datasets.MNIST(root='./data', train=False, download=True, transform=transform)\n",
    "\n",
    "# Convert datasets to numpy arrays and flatten\n",
    "train_data = trainset.data.numpy().reshape(-1, 28*28)\n",
    "train_targets = trainset.targets.numpy()\n",
    "test_data = testset.data.numpy().reshape(-1, 28*28)\n",
    "test_targets = testset.targets.numpy()\n",
    "\n",
    "# Normalize the train and test data to [-1, 1]\n",
    "train_data = (train_data / 255.0 - 0.5) / 0.5\n",
    "test_data = (test_data / 255.0 - 0.5) / 0.5"
   ]
  },
  {
   "cell_type": "code",
   "execution_count": 169,
   "id": "4495fd2e-cecf-4a2a-bb35-271d9bf2be7f",
   "metadata": {},
   "outputs": [],
   "source": [
    "dataset = {}\n",
    "dataset['train_input'] = torch.from_numpy(train_data).float()\n",
    "dataset['test_input'] = torch.from_numpy(test_data).float()\n",
    "dataset['train_label'] = torch.from_numpy(train_targets)\n",
    "dataset['test_label'] = torch.from_numpy(test_targets)\n"
   ]
  },
  {
   "cell_type": "code",
   "execution_count": 153,
   "id": "5b6fa957-b78b-488b-8515-7f783677942a",
   "metadata": {},
   "outputs": [
    {
     "name": "stderr",
     "output_type": "stream",
     "text": [
      "description: 100%|██████████████████████████████████████████████| 1000/1000 [01:21<00:00, 12.23it/s]\n"
     ]
    },
    {
     "name": "stdout",
     "output_type": "stream",
     "text": [
      "9.8\n"
     ]
    }
   ],
   "source": [
    "model = DropKAN(\n",
    "        seed=j,\n",
    "        width=[dataset['train_input'].shape[1], 10, 1],\n",
    "        symbolic_enabled=False,\n",
    "        drop_rate=[0., 0.],\n",
    "        drop_mode='postact',\n",
    "        drop_scale=True,\n",
    "        neuron_fun=['sum', 'sum']\n",
    "        )\n",
    "results = model.train(dataset, opt=\"Adam\", steps=1000, batch=256, lr=0.1, update_grid=False)\n",
    "set_training_mode(model, False)\n",
    "\n",
    "#pred = model(dataset['train_input'])\n",
    "#probabilities = torch.softmax(pred, dim=1)\n",
    "#predicted_classes = torch.argmax(probabilities, dim=1)\n",
    "#train_acc = 100*(predicted_classes == dataset['train_label']).sum().item()/dataset['train_label'].size(0)\n",
    "pred = model(dataset['test_input'])\n",
    "probabilities = torch.softmax(pred, dim=1)\n",
    "predicted_classes = torch.argmax(probabilities, dim=1)\n",
    "test_acc = 100*(predicted_classes == dataset['test_label']).sum().item()/dataset['test_label'].size(0)\n",
    "print(test_acc)"
   ]
  },
  {
   "cell_type": "code",
   "execution_count": 160,
   "id": "0f80457c-e4ec-4cee-b2e0-0300f03e5010",
   "metadata": {},
   "outputs": [
    {
     "data": {
      "text/plain": [
       "-0.424212917883804"
      ]
     },
     "execution_count": 160,
     "metadata": {},
     "output_type": "execute_result"
    }
   ],
   "source": [
    "np.min(train_data)"
   ]
  },
  {
   "cell_type": "code",
   "execution_count": 156,
   "id": "51144669-82af-40e1-a048-0b295cb03b73",
   "metadata": {},
   "outputs": [
    {
     "data": {
      "text/plain": [
       "tensor([[4.5938],\n",
       "        [4.5726],\n",
       "        [4.5822],\n",
       "        ...,\n",
       "        [4.5987],\n",
       "        [4.5869],\n",
       "        [4.5724]], grad_fn=<AddBackward0>)"
      ]
     },
     "execution_count": 156,
     "metadata": {},
     "output_type": "execute_result"
    }
   ],
   "source": [
    "pred"
   ]
  },
  {
   "cell_type": "code",
   "execution_count": 111,
   "id": "2705b1fe-5b97-493f-8094-a65fced3168d",
   "metadata": {},
   "outputs": [
    {
     "name": "stderr",
     "output_type": "stream",
     "text": [
      "description: 100%|████████████████████████████████████████████| 10000/10000 [03:56<00:00, 42.28it/s]\n"
     ]
    },
    {
     "name": "stdout",
     "output_type": "stream",
     "text": [
      "best: 94.24\n",
      "\n",
      "0.01 postspline\n"
     ]
    },
    {
     "name": "stderr",
     "output_type": "stream",
     "text": [
      "description: 100%|████████████████████████████████████████████| 10000/10000 [04:05<00:00, 40.81it/s]\n"
     ]
    },
    {
     "name": "stdout",
     "output_type": "stream",
     "text": [
      "93.78\n",
      "2\n",
      "\n",
      "0.01 postspline\n"
     ]
    },
    {
     "name": "stderr",
     "output_type": "stream",
     "text": [
      "description: 100%|████████████████████████████████████████████| 10000/10000 [04:05<00:00, 40.71it/s]\n"
     ]
    },
    {
     "name": "stdout",
     "output_type": "stream",
     "text": [
      "94.19\n",
      "3\n",
      "\n",
      "0.01 postact\n"
     ]
    },
    {
     "name": "stderr",
     "output_type": "stream",
     "text": [
      "description: 100%|████████████████████████████████████████████| 10000/10000 [03:07<00:00, 53.35it/s]\n"
     ]
    },
    {
     "name": "stdout",
     "output_type": "stream",
     "text": [
      "94.34\n",
      "best: 94.34\n",
      "\n",
      "4\n",
      "\n",
      "0.01 postact\n"
     ]
    },
    {
     "name": "stderr",
     "output_type": "stream",
     "text": [
      "description: 100%|████████████████████████████████████████████| 10000/10000 [03:05<00:00, 54.04it/s]\n"
     ]
    },
    {
     "name": "stdout",
     "output_type": "stream",
     "text": [
      "94.3\n",
      "5\n",
      "\n",
      "0.01 dropout\n"
     ]
    },
    {
     "name": "stderr",
     "output_type": "stream",
     "text": [
      "description: 100%|████████████████████████████████████████████| 10000/10000 [03:59<00:00, 41.73it/s]\n"
     ]
    },
    {
     "name": "stdout",
     "output_type": "stream",
     "text": [
      "94.2\n",
      "6\n",
      "\n",
      "0.01 dropout\n"
     ]
    },
    {
     "name": "stderr",
     "output_type": "stream",
     "text": [
      "description: 100%|████████████████████████████████████████████| 10000/10000 [04:00<00:00, 41.63it/s]\n"
     ]
    },
    {
     "name": "stdout",
     "output_type": "stream",
     "text": [
      "94.35\n",
      "best: 94.35\n",
      "\n",
      "7\n",
      "\n",
      "0.03 postspline\n"
     ]
    },
    {
     "name": "stderr",
     "output_type": "stream",
     "text": [
      "description: 100%|████████████████████████████████████████████| 10000/10000 [04:04<00:00, 40.90it/s]\n"
     ]
    },
    {
     "name": "stdout",
     "output_type": "stream",
     "text": [
      "94.12\n",
      "8\n",
      "\n",
      "0.03 postspline\n"
     ]
    },
    {
     "name": "stderr",
     "output_type": "stream",
     "text": [
      "description: 100%|████████████████████████████████████████████| 10000/10000 [04:03<00:00, 41.09it/s]\n"
     ]
    },
    {
     "name": "stdout",
     "output_type": "stream",
     "text": [
      "94.19\n",
      "9\n",
      "\n",
      "0.03 postact\n"
     ]
    },
    {
     "name": "stderr",
     "output_type": "stream",
     "text": [
      "description: 100%|████████████████████████████████████████████| 10000/10000 [03:07<00:00, 53.26it/s]\n"
     ]
    },
    {
     "name": "stdout",
     "output_type": "stream",
     "text": [
      "93.97\n",
      "10\n",
      "\n",
      "0.03 postact\n"
     ]
    },
    {
     "name": "stderr",
     "output_type": "stream",
     "text": [
      "description: 100%|████████████████████████████████████████████| 10000/10000 [03:04<00:00, 54.18it/s]\n"
     ]
    },
    {
     "name": "stdout",
     "output_type": "stream",
     "text": [
      "94.13\n",
      "11\n",
      "\n",
      "0.03 dropout\n"
     ]
    },
    {
     "name": "stderr",
     "output_type": "stream",
     "text": [
      "description: 100%|████████████████████████████████████████████| 10000/10000 [04:02<00:00, 41.30it/s]\n"
     ]
    },
    {
     "name": "stdout",
     "output_type": "stream",
     "text": [
      "93.4\n",
      "12\n",
      "\n",
      "0.03 dropout\n"
     ]
    },
    {
     "name": "stderr",
     "output_type": "stream",
     "text": [
      "description: 100%|████████████████████████████████████████████| 10000/10000 [04:02<00:00, 41.17it/s]\n"
     ]
    },
    {
     "name": "stdout",
     "output_type": "stream",
     "text": [
      "92.97\n",
      "13\n",
      "\n",
      "0.049999999999999996 postspline\n"
     ]
    },
    {
     "name": "stderr",
     "output_type": "stream",
     "text": [
      "description: 100%|████████████████████████████████████████████| 10000/10000 [04:05<00:00, 40.76it/s]\n"
     ]
    },
    {
     "name": "stdout",
     "output_type": "stream",
     "text": [
      "93.91\n",
      "14\n",
      "\n",
      "0.049999999999999996 postspline\n"
     ]
    },
    {
     "name": "stderr",
     "output_type": "stream",
     "text": [
      "description: 100%|████████████████████████████████████████████| 10000/10000 [04:05<00:00, 40.78it/s]\n"
     ]
    },
    {
     "name": "stdout",
     "output_type": "stream",
     "text": [
      "94.24\n",
      "15\n",
      "\n",
      "0.049999999999999996 postact\n"
     ]
    },
    {
     "name": "stderr",
     "output_type": "stream",
     "text": [
      "description: 100%|████████████████████████████████████████████| 10000/10000 [03:08<00:00, 53.09it/s]\n"
     ]
    },
    {
     "name": "stdout",
     "output_type": "stream",
     "text": [
      "94.39\n",
      "best: 94.39\n",
      "\n",
      "16\n",
      "\n",
      "0.049999999999999996 postact\n"
     ]
    },
    {
     "name": "stderr",
     "output_type": "stream",
     "text": [
      "description: 100%|████████████████████████████████████████████| 10000/10000 [03:07<00:00, 53.32it/s]\n"
     ]
    },
    {
     "name": "stdout",
     "output_type": "stream",
     "text": [
      "94.11\n",
      "17\n",
      "\n",
      "0.049999999999999996 dropout\n"
     ]
    },
    {
     "name": "stderr",
     "output_type": "stream",
     "text": [
      "description: 100%|████████████████████████████████████████████| 10000/10000 [04:04<00:00, 40.95it/s]\n"
     ]
    },
    {
     "name": "stdout",
     "output_type": "stream",
     "text": [
      "93.08\n",
      "18\n",
      "\n",
      "0.049999999999999996 dropout\n"
     ]
    },
    {
     "name": "stderr",
     "output_type": "stream",
     "text": [
      "description: 100%|████████████████████████████████████████████| 10000/10000 [04:00<00:00, 41.65it/s]\n"
     ]
    },
    {
     "name": "stdout",
     "output_type": "stream",
     "text": [
      "93.63\n",
      "19\n",
      "\n",
      "0.06999999999999999 postspline\n"
     ]
    },
    {
     "name": "stderr",
     "output_type": "stream",
     "text": [
      "description:  25%|███████████▎                                 | 2508/10000 [00:58<02:55, 42.75it/s]\n"
     ]
    },
    {
     "ename": "KeyboardInterrupt",
     "evalue": "",
     "output_type": "error",
     "traceback": [
      "\u001b[1;31m---------------------------------------------------------------------------\u001b[0m",
      "\u001b[1;31mKeyboardInterrupt\u001b[0m                         Traceback (most recent call last)",
      "Cell \u001b[1;32mIn[111], line 51\u001b[0m\n\u001b[0;32m     37\u001b[0m \u001b[38;5;28mprint\u001b[39m(drop_rate, drop_mode)\n\u001b[0;32m     41\u001b[0m model \u001b[38;5;241m=\u001b[39m DropKAN(\n\u001b[0;32m     42\u001b[0m         seed\u001b[38;5;241m=\u001b[39mj,\n\u001b[0;32m     43\u001b[0m         width\u001b[38;5;241m=\u001b[39m[dataset[\u001b[38;5;124m'\u001b[39m\u001b[38;5;124mtrain_input\u001b[39m\u001b[38;5;124m'\u001b[39m]\u001b[38;5;241m.\u001b[39mshape[\u001b[38;5;241m1\u001b[39m], \u001b[38;5;241m10\u001b[39m, \u001b[38;5;241m10\u001b[39m],\n\u001b[1;32m   (...)\u001b[0m\n\u001b[0;32m     49\u001b[0m         neuron_fun\u001b[38;5;241m=\u001b[39m[\u001b[38;5;124m'\u001b[39m\u001b[38;5;124msum\u001b[39m\u001b[38;5;124m'\u001b[39m, \u001b[38;5;124m'\u001b[39m\u001b[38;5;124msum\u001b[39m\u001b[38;5;124m'\u001b[39m]\n\u001b[0;32m     50\u001b[0m         )\n\u001b[1;32m---> 51\u001b[0m results \u001b[38;5;241m=\u001b[39m \u001b[43mmodel\u001b[49m\u001b[38;5;241;43m.\u001b[39;49m\u001b[43mtrain\u001b[49m\u001b[43m(\u001b[49m\u001b[43mdataset\u001b[49m\u001b[43m,\u001b[49m\u001b[43m \u001b[49m\u001b[43mopt\u001b[49m\u001b[38;5;241;43m=\u001b[39;49m\u001b[38;5;124;43m\"\u001b[39;49m\u001b[38;5;124;43mAdam\u001b[39;49m\u001b[38;5;124;43m\"\u001b[39;49m\u001b[43m,\u001b[49m\u001b[43m \u001b[49m\u001b[43msteps\u001b[49m\u001b[38;5;241;43m=\u001b[39;49m\u001b[38;5;241;43m10000\u001b[39;49m\u001b[43m,\u001b[49m\u001b[43m \u001b[49m\u001b[43mbatch\u001b[49m\u001b[38;5;241;43m=\u001b[39;49m\u001b[38;5;241;43m32\u001b[39;49m\u001b[43m,\u001b[49m\u001b[43m \u001b[49m\u001b[43mlr\u001b[49m\u001b[38;5;241;43m=\u001b[39;49m\u001b[38;5;241;43m0.01\u001b[39;49m\u001b[43m,\u001b[49m\u001b[43m \u001b[49m\u001b[43mupdate_grid\u001b[49m\u001b[38;5;241;43m=\u001b[39;49m\u001b[38;5;28;43;01mFalse\u001b[39;49;00m\u001b[43m,\u001b[49m\u001b[43m \u001b[49m\u001b[43mloss_fn\u001b[49m\u001b[38;5;241;43m=\u001b[39;49m\u001b[43mnn\u001b[49m\u001b[38;5;241;43m.\u001b[39;49m\u001b[43mCrossEntropyLoss\u001b[49m\u001b[43m(\u001b[49m\u001b[43m)\u001b[49m\u001b[43m)\u001b[49m\n\u001b[0;32m     52\u001b[0m set_training_mode(model, \u001b[38;5;28;01mFalse\u001b[39;00m)\n\u001b[0;32m     54\u001b[0m \u001b[38;5;66;03m#pred = model(dataset['train_input'])\u001b[39;00m\n\u001b[0;32m     55\u001b[0m \u001b[38;5;66;03m#probabilities = torch.softmax(pred, dim=1)\u001b[39;00m\n\u001b[0;32m     56\u001b[0m \u001b[38;5;66;03m#predicted_classes = torch.argmax(probabilities, dim=1)\u001b[39;00m\n\u001b[0;32m     57\u001b[0m \u001b[38;5;66;03m#train_acc = 100*(predicted_classes == dataset['train_label']).sum().item()/dataset['train_label'].size(0)\u001b[39;00m\n",
      "File \u001b[1;32m~\\PycharmProjects\\dropkan\\kan\\DropKAN.py:912\u001b[0m, in \u001b[0;36mDropKAN.train\u001b[1;34m(self, dataset, opt, steps, log, lamb, lamb_l1, lamb_entropy, lamb_coef, lamb_coefdiff, update_grid, grid_update_num, loss_fn, lr, stop_grid_update_step, batch, small_mag_threshold, small_reg_factor, metrics, sglr_avoid, save_fig, in_vars, out_vars, beta, save_fig_freq, img_folder)\u001b[0m\n\u001b[0;32m    910\u001b[0m \u001b[38;5;28;01melse\u001b[39;00m:\n\u001b[0;32m    911\u001b[0m     train_loss \u001b[38;5;241m=\u001b[39m loss_fn(pred, dataset[\u001b[38;5;124m'\u001b[39m\u001b[38;5;124mtrain_label\u001b[39m\u001b[38;5;124m'\u001b[39m][train_id]\u001b[38;5;241m.\u001b[39mto(\u001b[38;5;28mself\u001b[39m\u001b[38;5;241m.\u001b[39mdevice))\n\u001b[1;32m--> 912\u001b[0m reg_ \u001b[38;5;241m=\u001b[39m \u001b[43mreg\u001b[49m\u001b[43m(\u001b[49m\u001b[38;5;28;43mself\u001b[39;49m\u001b[38;5;241;43m.\u001b[39;49m\u001b[43macts_scale\u001b[49m\u001b[43m)\u001b[49m\n\u001b[0;32m    913\u001b[0m loss \u001b[38;5;241m=\u001b[39m train_loss \u001b[38;5;241m+\u001b[39m lamb \u001b[38;5;241m*\u001b[39m reg_\n\u001b[0;32m    914\u001b[0m optimizer\u001b[38;5;241m.\u001b[39mzero_grad()\n",
      "File \u001b[1;32m~\\PycharmProjects\\dropkan\\kan\\DropKAN.py:842\u001b[0m, in \u001b[0;36mDropKAN.train.<locals>.reg\u001b[1;34m(acts_scale)\u001b[0m\n\u001b[0;32m    840\u001b[0m \u001b[38;5;28;01mfor\u001b[39;00m i \u001b[38;5;129;01min\u001b[39;00m \u001b[38;5;28mrange\u001b[39m(\u001b[38;5;28mlen\u001b[39m(\u001b[38;5;28mself\u001b[39m\u001b[38;5;241m.\u001b[39mact_fun)):\n\u001b[0;32m    841\u001b[0m     coeff_l1 \u001b[38;5;241m=\u001b[39m torch\u001b[38;5;241m.\u001b[39msum(torch\u001b[38;5;241m.\u001b[39mmean(torch\u001b[38;5;241m.\u001b[39mabs(\u001b[38;5;28mself\u001b[39m\u001b[38;5;241m.\u001b[39mact_fun[i]\u001b[38;5;241m.\u001b[39mcoef), dim\u001b[38;5;241m=\u001b[39m\u001b[38;5;241m1\u001b[39m))\n\u001b[1;32m--> 842\u001b[0m     coeff_diff_l1 \u001b[38;5;241m=\u001b[39m torch\u001b[38;5;241m.\u001b[39msum(torch\u001b[38;5;241m.\u001b[39mmean(torch\u001b[38;5;241m.\u001b[39mabs(\u001b[43mtorch\u001b[49m\u001b[38;5;241;43m.\u001b[39;49m\u001b[43mdiff\u001b[49m\u001b[43m(\u001b[49m\u001b[38;5;28;43mself\u001b[39;49m\u001b[38;5;241;43m.\u001b[39;49m\u001b[43mact_fun\u001b[49m\u001b[43m[\u001b[49m\u001b[43mi\u001b[49m\u001b[43m]\u001b[49m\u001b[38;5;241;43m.\u001b[39;49m\u001b[43mcoef\u001b[49m\u001b[43m)\u001b[49m), dim\u001b[38;5;241m=\u001b[39m\u001b[38;5;241m1\u001b[39m))\n\u001b[0;32m    843\u001b[0m     reg_ \u001b[38;5;241m+\u001b[39m\u001b[38;5;241m=\u001b[39m lamb_coef \u001b[38;5;241m*\u001b[39m coeff_l1 \u001b[38;5;241m+\u001b[39m lamb_coefdiff \u001b[38;5;241m*\u001b[39m coeff_diff_l1\n\u001b[0;32m    845\u001b[0m \u001b[38;5;28;01mreturn\u001b[39;00m reg_\n",
      "\u001b[1;31mKeyboardInterrupt\u001b[0m: "
     ]
    }
   ],
   "source": [
    "log_df = pd.DataFrame(columns=['drop_rate', 'drop_mode', 'scale', 'test_accuracy'])\n",
    "\n",
    "model = DropKAN(\n",
    "        seed=j,\n",
    "        width=[dataset['train_input'].shape[1], 10, 10],\n",
    "        grid=5,\n",
    "        symbolic_enabled=False,\n",
    "        drop_rate=[0.0, 0.0],\n",
    "        drop_mode=None,\n",
    "        drop_scale=None,\n",
    "        neuron_fun=['sum', 'sum']\n",
    "        )\n",
    "results = model.train(dataset, opt=\"Adam\", steps=10000, batch=32, lr=0.01, update_grid=False, loss_fn=nn.CrossEntropyLoss())\n",
    "set_training_mode(model, False)\n",
    "\n",
    "#pred = model(dataset['train_input'])\n",
    "#probabilities = torch.softmax(pred, dim=1)\n",
    "#predicted_classes = torch.argmax(probabilities, dim=1)\n",
    "#train_acc = 100*(predicted_classes == dataset['train_label']).sum().item()/dataset['train_label'].size(0)\n",
    "pred = model(dataset['test_input'])\n",
    "probabilities = torch.softmax(pred, dim=1)\n",
    "predicted_classes = torch.argmax(probabilities, dim=1)\n",
    "test_acc = 100*(predicted_classes == dataset['test_label']).sum().item()/dataset['test_label'].size(0)\n",
    "new_row = [None,'kan',None,test_acc]\n",
    "            \n",
    "log_df.loc[len(log_df)] = new_row\n",
    "\n",
    "best = test_acc\n",
    "print('best:', best)\n",
    "print()\n",
    "\n",
    "for drop_rate in np.arange(0.01, 0.2, 0.02):\n",
    "\n",
    "    for drop_mode in ['postspline', 'postact', 'dropout']:\n",
    "\n",
    "        for scale in  [True, False]:\n",
    "            print(drop_rate, drop_mode)\n",
    "            \n",
    "            \n",
    "            \n",
    "            model = DropKAN(\n",
    "                    seed=j,\n",
    "                    width=[dataset['train_input'].shape[1], 10, 10],\n",
    "                    grid=5,\n",
    "                    symbolic_enabled=False,\n",
    "                    drop_rate=[drop_rate, drop_rate],\n",
    "                    drop_mode=drop_mode,\n",
    "                    drop_scale=scale,\n",
    "                    neuron_fun=['sum', 'sum']\n",
    "                    )\n",
    "            results = model.train(dataset, opt=\"Adam\", steps=10000, batch=32, lr=0.01, update_grid=False, loss_fn=nn.CrossEntropyLoss())\n",
    "            set_training_mode(model, False)\n",
    "            \n",
    "            #pred = model(dataset['train_input'])\n",
    "            #probabilities = torch.softmax(pred, dim=1)\n",
    "            #predicted_classes = torch.argmax(probabilities, dim=1)\n",
    "            #train_acc = 100*(predicted_classes == dataset['train_label']).sum().item()/dataset['train_label'].size(0)\n",
    "            pred = model(dataset['test_input'])\n",
    "            probabilities = torch.softmax(pred, dim=1)\n",
    "            predicted_classes = torch.argmax(probabilities, dim=1)\n",
    "            test_acc = 100*(predicted_classes == dataset['test_label']).sum().item()/dataset['test_label'].size(0)\n",
    "            print(test_acc)\n",
    "\n",
    "            if test_acc > best:\n",
    "                best = test_acc\n",
    "                print('best:', best)\n",
    "                print()\n",
    "\n",
    "            new_row = [drop_rate,drop_mode,scale,test_acc]\n",
    "            \n",
    "            log_df.loc[len(log_df)] = new_row\n",
    "        \n",
    "            # Save the DataFrame to an Excel file\n",
    "            print(len(log_df))\n",
    "            print()"
   ]
  },
  {
   "cell_type": "code",
   "execution_count": 161,
   "id": "6a165a6b-67bd-4e2f-abb0-8dd7fe4e3003",
   "metadata": {},
   "outputs": [
    {
     "data": {
      "text/html": [
       "<div>\n",
       "<style scoped>\n",
       "    .dataframe tbody tr th:only-of-type {\n",
       "        vertical-align: middle;\n",
       "    }\n",
       "\n",
       "    .dataframe tbody tr th {\n",
       "        vertical-align: top;\n",
       "    }\n",
       "\n",
       "    .dataframe thead th {\n",
       "        text-align: right;\n",
       "    }\n",
       "</style>\n",
       "<table border=\"1\" class=\"dataframe\">\n",
       "  <thead>\n",
       "    <tr style=\"text-align: right;\">\n",
       "      <th></th>\n",
       "      <th>drop_rate</th>\n",
       "      <th>drop_mode</th>\n",
       "      <th>scale</th>\n",
       "      <th>test_accuracy</th>\n",
       "    </tr>\n",
       "  </thead>\n",
       "  <tbody>\n",
       "    <tr>\n",
       "      <th>15</th>\n",
       "      <td>0.05</td>\n",
       "      <td>postact</td>\n",
       "      <td>True</td>\n",
       "      <td>94.39</td>\n",
       "    </tr>\n",
       "    <tr>\n",
       "      <th>6</th>\n",
       "      <td>0.01</td>\n",
       "      <td>dropout</td>\n",
       "      <td>False</td>\n",
       "      <td>94.35</td>\n",
       "    </tr>\n",
       "    <tr>\n",
       "      <th>3</th>\n",
       "      <td>0.01</td>\n",
       "      <td>postact</td>\n",
       "      <td>True</td>\n",
       "      <td>94.34</td>\n",
       "    </tr>\n",
       "    <tr>\n",
       "      <th>4</th>\n",
       "      <td>0.01</td>\n",
       "      <td>postact</td>\n",
       "      <td>False</td>\n",
       "      <td>94.30</td>\n",
       "    </tr>\n",
       "    <tr>\n",
       "      <th>0</th>\n",
       "      <td>NaN</td>\n",
       "      <td>kan</td>\n",
       "      <td>None</td>\n",
       "      <td>94.24</td>\n",
       "    </tr>\n",
       "    <tr>\n",
       "      <th>14</th>\n",
       "      <td>0.05</td>\n",
       "      <td>postspline</td>\n",
       "      <td>False</td>\n",
       "      <td>94.24</td>\n",
       "    </tr>\n",
       "    <tr>\n",
       "      <th>5</th>\n",
       "      <td>0.01</td>\n",
       "      <td>dropout</td>\n",
       "      <td>True</td>\n",
       "      <td>94.20</td>\n",
       "    </tr>\n",
       "    <tr>\n",
       "      <th>2</th>\n",
       "      <td>0.01</td>\n",
       "      <td>postspline</td>\n",
       "      <td>False</td>\n",
       "      <td>94.19</td>\n",
       "    </tr>\n",
       "    <tr>\n",
       "      <th>8</th>\n",
       "      <td>0.03</td>\n",
       "      <td>postspline</td>\n",
       "      <td>False</td>\n",
       "      <td>94.19</td>\n",
       "    </tr>\n",
       "    <tr>\n",
       "      <th>10</th>\n",
       "      <td>0.03</td>\n",
       "      <td>postact</td>\n",
       "      <td>False</td>\n",
       "      <td>94.13</td>\n",
       "    </tr>\n",
       "    <tr>\n",
       "      <th>7</th>\n",
       "      <td>0.03</td>\n",
       "      <td>postspline</td>\n",
       "      <td>True</td>\n",
       "      <td>94.12</td>\n",
       "    </tr>\n",
       "    <tr>\n",
       "      <th>16</th>\n",
       "      <td>0.05</td>\n",
       "      <td>postact</td>\n",
       "      <td>False</td>\n",
       "      <td>94.11</td>\n",
       "    </tr>\n",
       "    <tr>\n",
       "      <th>9</th>\n",
       "      <td>0.03</td>\n",
       "      <td>postact</td>\n",
       "      <td>True</td>\n",
       "      <td>93.97</td>\n",
       "    </tr>\n",
       "    <tr>\n",
       "      <th>13</th>\n",
       "      <td>0.05</td>\n",
       "      <td>postspline</td>\n",
       "      <td>True</td>\n",
       "      <td>93.91</td>\n",
       "    </tr>\n",
       "    <tr>\n",
       "      <th>1</th>\n",
       "      <td>0.01</td>\n",
       "      <td>postspline</td>\n",
       "      <td>True</td>\n",
       "      <td>93.78</td>\n",
       "    </tr>\n",
       "    <tr>\n",
       "      <th>18</th>\n",
       "      <td>0.05</td>\n",
       "      <td>dropout</td>\n",
       "      <td>False</td>\n",
       "      <td>93.63</td>\n",
       "    </tr>\n",
       "    <tr>\n",
       "      <th>11</th>\n",
       "      <td>0.03</td>\n",
       "      <td>dropout</td>\n",
       "      <td>True</td>\n",
       "      <td>93.40</td>\n",
       "    </tr>\n",
       "    <tr>\n",
       "      <th>17</th>\n",
       "      <td>0.05</td>\n",
       "      <td>dropout</td>\n",
       "      <td>True</td>\n",
       "      <td>93.08</td>\n",
       "    </tr>\n",
       "    <tr>\n",
       "      <th>12</th>\n",
       "      <td>0.03</td>\n",
       "      <td>dropout</td>\n",
       "      <td>False</td>\n",
       "      <td>92.97</td>\n",
       "    </tr>\n",
       "  </tbody>\n",
       "</table>\n",
       "</div>"
      ],
      "text/plain": [
       "    drop_rate   drop_mode  scale  test_accuracy\n",
       "15       0.05     postact   True          94.39\n",
       "6        0.01     dropout  False          94.35\n",
       "3        0.01     postact   True          94.34\n",
       "4        0.01     postact  False          94.30\n",
       "0         NaN         kan   None          94.24\n",
       "14       0.05  postspline  False          94.24\n",
       "5        0.01     dropout   True          94.20\n",
       "2        0.01  postspline  False          94.19\n",
       "8        0.03  postspline  False          94.19\n",
       "10       0.03     postact  False          94.13\n",
       "7        0.03  postspline   True          94.12\n",
       "16       0.05     postact  False          94.11\n",
       "9        0.03     postact   True          93.97\n",
       "13       0.05  postspline   True          93.91\n",
       "1        0.01  postspline   True          93.78\n",
       "18       0.05     dropout  False          93.63\n",
       "11       0.03     dropout   True          93.40\n",
       "17       0.05     dropout   True          93.08\n",
       "12       0.03     dropout  False          92.97"
      ]
     },
     "execution_count": 161,
     "metadata": {},
     "output_type": "execute_result"
    }
   ],
   "source": [
    "log_df.sort_values(by='test_accuracy', ascending=False)"
   ]
  },
  {
   "cell_type": "code",
   "execution_count": 162,
   "id": "6d24d134-1e17-46c1-ac7c-21c8b5ca404b",
   "metadata": {},
   "outputs": [],
   "source": [
    "grouped = log_df.groupby(['drop_mode'])\n",
    "best_settings = grouped.apply(lambda x: x.loc[x['test_accuracy'].idxmax()])"
   ]
  },
  {
   "cell_type": "code",
   "execution_count": 163,
   "id": "bbd03c91-249f-4c8a-aaac-87dc20e5964a",
   "metadata": {},
   "outputs": [
    {
     "data": {
      "text/html": [
       "<div>\n",
       "<style scoped>\n",
       "    .dataframe tbody tr th:only-of-type {\n",
       "        vertical-align: middle;\n",
       "    }\n",
       "\n",
       "    .dataframe tbody tr th {\n",
       "        vertical-align: top;\n",
       "    }\n",
       "\n",
       "    .dataframe thead th {\n",
       "        text-align: right;\n",
       "    }\n",
       "</style>\n",
       "<table border=\"1\" class=\"dataframe\">\n",
       "  <thead>\n",
       "    <tr style=\"text-align: right;\">\n",
       "      <th></th>\n",
       "      <th>drop_rate</th>\n",
       "      <th>drop_mode</th>\n",
       "      <th>scale</th>\n",
       "      <th>test_accuracy</th>\n",
       "    </tr>\n",
       "    <tr>\n",
       "      <th>drop_mode</th>\n",
       "      <th></th>\n",
       "      <th></th>\n",
       "      <th></th>\n",
       "      <th></th>\n",
       "    </tr>\n",
       "  </thead>\n",
       "  <tbody>\n",
       "    <tr>\n",
       "      <th>dropout</th>\n",
       "      <td>0.01</td>\n",
       "      <td>dropout</td>\n",
       "      <td>False</td>\n",
       "      <td>94.35</td>\n",
       "    </tr>\n",
       "    <tr>\n",
       "      <th>kan</th>\n",
       "      <td>NaN</td>\n",
       "      <td>kan</td>\n",
       "      <td>None</td>\n",
       "      <td>94.24</td>\n",
       "    </tr>\n",
       "    <tr>\n",
       "      <th>postact</th>\n",
       "      <td>0.05</td>\n",
       "      <td>postact</td>\n",
       "      <td>True</td>\n",
       "      <td>94.39</td>\n",
       "    </tr>\n",
       "    <tr>\n",
       "      <th>postspline</th>\n",
       "      <td>0.05</td>\n",
       "      <td>postspline</td>\n",
       "      <td>False</td>\n",
       "      <td>94.24</td>\n",
       "    </tr>\n",
       "  </tbody>\n",
       "</table>\n",
       "</div>"
      ],
      "text/plain": [
       "            drop_rate   drop_mode  scale  test_accuracy\n",
       "drop_mode                                              \n",
       "dropout          0.01     dropout  False          94.35\n",
       "kan               NaN         kan   None          94.24\n",
       "postact          0.05     postact   True          94.39\n",
       "postspline       0.05  postspline  False          94.24"
      ]
     },
     "execution_count": 163,
     "metadata": {},
     "output_type": "execute_result"
    }
   ],
   "source": [
    "best_settings"
   ]
  },
  {
   "cell_type": "code",
   "execution_count": 170,
   "id": "15da3ce7-17cb-497f-9caf-8f4359a6f302",
   "metadata": {},
   "outputs": [
    {
     "name": "stderr",
     "output_type": "stream",
     "text": [
      "description: 100%|████████████████████████████████████████████| 10000/10000 [03:58<00:00, 41.99it/s]\n"
     ]
    },
    {
     "name": "stdout",
     "output_type": "stream",
     "text": [
      "dropout False 94.35\n"
     ]
    },
    {
     "name": "stderr",
     "output_type": "stream",
     "text": [
      "description: 100%|████████████████████████████████████████████| 10000/10000 [04:00<00:00, 41.65it/s]\n"
     ]
    },
    {
     "name": "stdout",
     "output_type": "stream",
     "text": [
      "dropout False 93.38\n"
     ]
    },
    {
     "name": "stderr",
     "output_type": "stream",
     "text": [
      "description: 100%|████████████████████████████████████████████| 10000/10000 [03:58<00:00, 41.91it/s]\n"
     ]
    },
    {
     "name": "stdout",
     "output_type": "stream",
     "text": [
      "dropout False 93.96\n"
     ]
    },
    {
     "name": "stderr",
     "output_type": "stream",
     "text": [
      "description: 100%|████████████████████████████████████████████| 10000/10000 [03:58<00:00, 41.91it/s]\n"
     ]
    },
    {
     "name": "stdout",
     "output_type": "stream",
     "text": [
      "dropout False 93.95\n"
     ]
    },
    {
     "name": "stderr",
     "output_type": "stream",
     "text": [
      "description: 100%|████████████████████████████████████████████| 10000/10000 [03:58<00:00, 41.93it/s]\n"
     ]
    },
    {
     "name": "stdout",
     "output_type": "stream",
     "text": [
      "dropout False 94.05\n"
     ]
    },
    {
     "name": "stderr",
     "output_type": "stream",
     "text": [
      "description: 100%|████████████████████████████████████████████| 10000/10000 [03:57<00:00, 42.13it/s]\n"
     ]
    },
    {
     "name": "stdout",
     "output_type": "stream",
     "text": [
      "kan None 94.24\n"
     ]
    },
    {
     "name": "stderr",
     "output_type": "stream",
     "text": [
      "description: 100%|████████████████████████████████████████████| 10000/10000 [03:59<00:00, 41.71it/s]\n"
     ]
    },
    {
     "name": "stdout",
     "output_type": "stream",
     "text": [
      "kan None 94.07\n"
     ]
    },
    {
     "name": "stderr",
     "output_type": "stream",
     "text": [
      "description: 100%|████████████████████████████████████████████| 10000/10000 [03:58<00:00, 41.90it/s]\n"
     ]
    },
    {
     "name": "stdout",
     "output_type": "stream",
     "text": [
      "kan None 94.01\n"
     ]
    },
    {
     "name": "stderr",
     "output_type": "stream",
     "text": [
      "description: 100%|████████████████████████████████████████████| 10000/10000 [03:58<00:00, 41.85it/s]\n"
     ]
    },
    {
     "name": "stdout",
     "output_type": "stream",
     "text": [
      "kan None 93.53\n"
     ]
    },
    {
     "name": "stderr",
     "output_type": "stream",
     "text": [
      "description: 100%|████████████████████████████████████████████| 10000/10000 [03:58<00:00, 41.88it/s]\n"
     ]
    },
    {
     "name": "stdout",
     "output_type": "stream",
     "text": [
      "kan None 93.95\n"
     ]
    },
    {
     "name": "stderr",
     "output_type": "stream",
     "text": [
      "description: 100%|████████████████████████████████████████████| 10000/10000 [03:07<00:00, 53.34it/s]\n"
     ]
    },
    {
     "name": "stdout",
     "output_type": "stream",
     "text": [
      "postact True 94.39\n"
     ]
    },
    {
     "name": "stderr",
     "output_type": "stream",
     "text": [
      "description: 100%|████████████████████████████████████████████| 10000/10000 [03:07<00:00, 53.33it/s]\n"
     ]
    },
    {
     "name": "stdout",
     "output_type": "stream",
     "text": [
      "postact True 94.08\n"
     ]
    },
    {
     "name": "stderr",
     "output_type": "stream",
     "text": [
      "description: 100%|████████████████████████████████████████████| 10000/10000 [03:07<00:00, 53.46it/s]\n"
     ]
    },
    {
     "name": "stdout",
     "output_type": "stream",
     "text": [
      "postact True 93.89\n"
     ]
    },
    {
     "name": "stderr",
     "output_type": "stream",
     "text": [
      "description: 100%|████████████████████████████████████████████| 10000/10000 [03:07<00:00, 53.35it/s]\n"
     ]
    },
    {
     "name": "stdout",
     "output_type": "stream",
     "text": [
      "postact True 93.84\n"
     ]
    },
    {
     "name": "stderr",
     "output_type": "stream",
     "text": [
      "description: 100%|████████████████████████████████████████████| 10000/10000 [03:05<00:00, 53.78it/s]\n"
     ]
    },
    {
     "name": "stdout",
     "output_type": "stream",
     "text": [
      "postact True 93.78\n"
     ]
    },
    {
     "name": "stderr",
     "output_type": "stream",
     "text": [
      "description: 100%|████████████████████████████████████████████| 10000/10000 [04:01<00:00, 41.38it/s]\n"
     ]
    },
    {
     "name": "stdout",
     "output_type": "stream",
     "text": [
      "postspline False 94.24\n"
     ]
    },
    {
     "name": "stderr",
     "output_type": "stream",
     "text": [
      "description: 100%|████████████████████████████████████████████| 10000/10000 [04:02<00:00, 41.24it/s]\n"
     ]
    },
    {
     "name": "stdout",
     "output_type": "stream",
     "text": [
      "postspline False 93.66\n"
     ]
    },
    {
     "name": "stderr",
     "output_type": "stream",
     "text": [
      "description: 100%|████████████████████████████████████████████| 10000/10000 [04:02<00:00, 41.24it/s]\n"
     ]
    },
    {
     "name": "stdout",
     "output_type": "stream",
     "text": [
      "postspline False 94.01\n"
     ]
    },
    {
     "name": "stderr",
     "output_type": "stream",
     "text": [
      "description: 100%|████████████████████████████████████████████| 10000/10000 [04:02<00:00, 41.29it/s]\n"
     ]
    },
    {
     "name": "stdout",
     "output_type": "stream",
     "text": [
      "postspline False 93.87\n"
     ]
    },
    {
     "name": "stderr",
     "output_type": "stream",
     "text": [
      "description: 100%|████████████████████████████████████████████| 10000/10000 [04:01<00:00, 41.34it/s]\n"
     ]
    },
    {
     "name": "stdout",
     "output_type": "stream",
     "text": [
      "postspline False 93.93\n"
     ]
    }
   ],
   "source": [
    "grouped = log_df.groupby(['drop_mode'])\n",
    "best_settings = grouped.apply(lambda x: x.loc[x['test_accuracy'].idxmax()])\n",
    "results_df = pd.DataFrame(columns=['dropmode', 'dropscale', 'test_accuracy'])\n",
    "\n",
    "for i, (index, setting) in enumerate(best_settings.iterrows()):\n",
    "    for j in range(5):\n",
    "        model = DropKAN(\n",
    "                    seed=j,\n",
    "                    width=[dataset['train_input'].shape[1], 10, 10],\n",
    "                    grid=5,\n",
    "                    symbolic_enabled=False,\n",
    "                    drop_rate=[setting['drop_rate'], setting['drop_rate']],\n",
    "                    drop_mode=setting['drop_mode'],\n",
    "                    drop_scale=setting['scale'],\n",
    "                    neuron_fun=['sum', 'sum']\n",
    "                    )\n",
    "        results = model.train(dataset, opt=\"Adam\", steps=10000, batch=32, lr=0.01, update_grid=False, loss_fn=nn.CrossEntropyLoss())\n",
    "        set_training_mode(model, False)\n",
    "            \n",
    "            #pred = model(dataset['train_input'])\n",
    "            #probabilities = torch.softmax(pred, dim=1)\n",
    "            #predicted_classes = torch.argmax(probabilities, dim=1)\n",
    "            #train_acc = 100*(predicted_classes == dataset['train_label']).sum().item()/dataset['train_label'].size(0)\n",
    "        pred = model(dataset['test_input'])\n",
    "        probabilities = torch.softmax(pred, dim=1)\n",
    "        predicted_classes = torch.argmax(probabilities, dim=1)\n",
    "        test_acc = 100*(predicted_classes == dataset['test_label']).sum().item()/dataset['test_label'].size(0)\n",
    "        print(setting['drop_mode'], setting['scale'], test_acc)\n",
    "        results_df.loc[len(results_df)] = [setting['drop_mode'], setting['scale'], test_acc]"
   ]
  },
  {
   "cell_type": "code",
   "execution_count": 172,
   "id": "4c9f4fcc-d4ed-4eb3-9620-72cc4480f00e",
   "metadata": {},
   "outputs": [
    {
     "data": {
      "text/html": [
       "<div>\n",
       "<style scoped>\n",
       "    .dataframe tbody tr th:only-of-type {\n",
       "        vertical-align: middle;\n",
       "    }\n",
       "\n",
       "    .dataframe tbody tr th {\n",
       "        vertical-align: top;\n",
       "    }\n",
       "\n",
       "    .dataframe thead th {\n",
       "        text-align: right;\n",
       "    }\n",
       "</style>\n",
       "<table border=\"1\" class=\"dataframe\">\n",
       "  <thead>\n",
       "    <tr style=\"text-align: right;\">\n",
       "      <th></th>\n",
       "      <th>dropmode</th>\n",
       "      <th>dropscale</th>\n",
       "      <th>test_accuracy</th>\n",
       "    </tr>\n",
       "  </thead>\n",
       "  <tbody>\n",
       "    <tr>\n",
       "      <th>0</th>\n",
       "      <td>dropout</td>\n",
       "      <td>False</td>\n",
       "      <td>94.35</td>\n",
       "    </tr>\n",
       "    <tr>\n",
       "      <th>1</th>\n",
       "      <td>dropout</td>\n",
       "      <td>False</td>\n",
       "      <td>93.38</td>\n",
       "    </tr>\n",
       "    <tr>\n",
       "      <th>2</th>\n",
       "      <td>dropout</td>\n",
       "      <td>False</td>\n",
       "      <td>93.96</td>\n",
       "    </tr>\n",
       "    <tr>\n",
       "      <th>3</th>\n",
       "      <td>dropout</td>\n",
       "      <td>False</td>\n",
       "      <td>93.95</td>\n",
       "    </tr>\n",
       "    <tr>\n",
       "      <th>4</th>\n",
       "      <td>dropout</td>\n",
       "      <td>False</td>\n",
       "      <td>94.05</td>\n",
       "    </tr>\n",
       "    <tr>\n",
       "      <th>5</th>\n",
       "      <td>kan</td>\n",
       "      <td>None</td>\n",
       "      <td>94.24</td>\n",
       "    </tr>\n",
       "    <tr>\n",
       "      <th>6</th>\n",
       "      <td>kan</td>\n",
       "      <td>None</td>\n",
       "      <td>94.07</td>\n",
       "    </tr>\n",
       "    <tr>\n",
       "      <th>7</th>\n",
       "      <td>kan</td>\n",
       "      <td>None</td>\n",
       "      <td>94.01</td>\n",
       "    </tr>\n",
       "    <tr>\n",
       "      <th>8</th>\n",
       "      <td>kan</td>\n",
       "      <td>None</td>\n",
       "      <td>93.53</td>\n",
       "    </tr>\n",
       "    <tr>\n",
       "      <th>9</th>\n",
       "      <td>kan</td>\n",
       "      <td>None</td>\n",
       "      <td>93.95</td>\n",
       "    </tr>\n",
       "    <tr>\n",
       "      <th>10</th>\n",
       "      <td>postact</td>\n",
       "      <td>True</td>\n",
       "      <td>94.39</td>\n",
       "    </tr>\n",
       "    <tr>\n",
       "      <th>11</th>\n",
       "      <td>postact</td>\n",
       "      <td>True</td>\n",
       "      <td>94.08</td>\n",
       "    </tr>\n",
       "    <tr>\n",
       "      <th>12</th>\n",
       "      <td>postact</td>\n",
       "      <td>True</td>\n",
       "      <td>93.89</td>\n",
       "    </tr>\n",
       "    <tr>\n",
       "      <th>13</th>\n",
       "      <td>postact</td>\n",
       "      <td>True</td>\n",
       "      <td>93.84</td>\n",
       "    </tr>\n",
       "    <tr>\n",
       "      <th>14</th>\n",
       "      <td>postact</td>\n",
       "      <td>True</td>\n",
       "      <td>93.78</td>\n",
       "    </tr>\n",
       "    <tr>\n",
       "      <th>15</th>\n",
       "      <td>postspline</td>\n",
       "      <td>False</td>\n",
       "      <td>94.24</td>\n",
       "    </tr>\n",
       "    <tr>\n",
       "      <th>16</th>\n",
       "      <td>postspline</td>\n",
       "      <td>False</td>\n",
       "      <td>93.66</td>\n",
       "    </tr>\n",
       "    <tr>\n",
       "      <th>17</th>\n",
       "      <td>postspline</td>\n",
       "      <td>False</td>\n",
       "      <td>94.01</td>\n",
       "    </tr>\n",
       "    <tr>\n",
       "      <th>18</th>\n",
       "      <td>postspline</td>\n",
       "      <td>False</td>\n",
       "      <td>93.87</td>\n",
       "    </tr>\n",
       "    <tr>\n",
       "      <th>19</th>\n",
       "      <td>postspline</td>\n",
       "      <td>False</td>\n",
       "      <td>93.93</td>\n",
       "    </tr>\n",
       "  </tbody>\n",
       "</table>\n",
       "</div>"
      ],
      "text/plain": [
       "      dropmode dropscale  test_accuracy\n",
       "0      dropout     False          94.35\n",
       "1      dropout     False          93.38\n",
       "2      dropout     False          93.96\n",
       "3      dropout     False          93.95\n",
       "4      dropout     False          94.05\n",
       "5          kan      None          94.24\n",
       "6          kan      None          94.07\n",
       "7          kan      None          94.01\n",
       "8          kan      None          93.53\n",
       "9          kan      None          93.95\n",
       "10     postact      True          94.39\n",
       "11     postact      True          94.08\n",
       "12     postact      True          93.89\n",
       "13     postact      True          93.84\n",
       "14     postact      True          93.78\n",
       "15  postspline     False          94.24\n",
       "16  postspline     False          93.66\n",
       "17  postspline     False          94.01\n",
       "18  postspline     False          93.87\n",
       "19  postspline     False          93.93"
      ]
     },
     "execution_count": 172,
     "metadata": {},
     "output_type": "execute_result"
    }
   ],
   "source": [
    "results_df"
   ]
  },
  {
   "cell_type": "code",
   "execution_count": null,
   "id": "d8297294-2357-498c-a235-680dd8ff6f84",
   "metadata": {},
   "outputs": [],
   "source": []
  },
  {
   "cell_type": "code",
   "execution_count": null,
   "id": "d9f2957e-9fdb-4186-94ca-58c359d63628",
   "metadata": {},
   "outputs": [],
   "source": []
  },
  {
   "cell_type": "code",
   "execution_count": null,
   "id": "35b593da-836d-4061-8448-0f706bb2b7f3",
   "metadata": {},
   "outputs": [],
   "source": []
  }
 ],
 "metadata": {
  "kernelspec": {
   "display_name": "Python 3 (ipykernel)",
   "language": "python",
   "name": "python3"
  },
  "language_info": {
   "codemirror_mode": {
    "name": "ipython",
    "version": 3
   },
   "file_extension": ".py",
   "mimetype": "text/x-python",
   "name": "python",
   "nbconvert_exporter": "python",
   "pygments_lexer": "ipython3",
   "version": "3.8.19"
  }
 },
 "nbformat": 4,
 "nbformat_minor": 5
}
