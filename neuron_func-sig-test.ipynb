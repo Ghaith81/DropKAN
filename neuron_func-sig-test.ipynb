{
 "cells": [
  {
   "cell_type": "code",
   "execution_count": 1,
   "id": "92c09135-0218-4313-ba7b-9c3604011563",
   "metadata": {},
   "outputs": [],
   "source": [
    "import sys, os, inspect\n",
    "from sklearn.ensemble import RandomForestClassifier, GradientBoostingClassifier\n",
    "from dataset.Dataset import Dataset\n",
    "from sklearn.metrics import accuracy_score\n",
    "import torch\n",
    "from kan.KAN import KAN\n",
    "from kan.DropKAN import DropKAN\n",
    "from kan.DropKANLayer import DropKANLayer\n",
    "import torch\n",
    "import torch.nn as nn\n",
    "import numpy as np\n",
    "import random\n",
    "import pandas as pd \n",
    "\n",
    "def set_training_mode(module, mode):\n",
    "    \"\"\"Set the training mode for a module and all its sub-modules.\"\"\"\n",
    "    module.training = mode\n",
    "    for submodule in module.children():\n",
    "        #print(submodule)\n",
    "        set_training_mode(submodule, mode)"
   ]
  },
  {
   "cell_type": "code",
   "execution_count": 221,
   "id": "3df2d060-404f-4d78-abbc-3b99299d0ddd",
   "metadata": {},
   "outputs": [],
   "source": [
    "work_dir = 'uci datasets/Shuffled/'\n",
    "log_folder =  'log fun sig test\\\\'\n",
    "\n",
    "header=None\n",
    "file_name, sep, label = 'german.data-numeric', ',', -1\n",
    "file_name, sep, label = 'abalone.data', ',', -1\n",
    "#file_name, sep, label = 'dermatology.data', ',', -1\n",
    "#file_name, sep, label = 'car.data', ',', -1\n",
    "file_name, sep, label = 'adult.data', ',', -1\n",
    "file_name, sep, label = 'census-income.data', ',', -1\n",
    "#file_name, sep, label = 'diabetic_data.csv', ',', -1\n",
    "#file_name, sep, label, header = 'bank-full.csv', ',', -1, 0\n",
    "#file_name, sep, label = 'connect-4.data', ',', -1\n",
    "#file_name, sep, label = 'semeion.data', ',', -1\n",
    "\n",
    " \n",
    "\n",
    "\n",
    "\n",
    "\n",
    "data = Dataset(work_dir+file_name, sep, label, divide_dataset=False, header=header)"
   ]
  },
  {
   "cell_type": "code",
   "execution_count": 217,
   "id": "46023306-38e7-4ac4-8539-9f8cb845dcd6",
   "metadata": {},
   "outputs": [],
   "source": [
    "classifier = RandomForestClassifier(n_estimators=111, random_state=0, n_jobs=-1)\n",
    "data.divide_dataset(classifier,\n",
    "                                      normalize=True, \n",
    "                                      shuffle=False, \n",
    "                                      all_features=True, \n",
    "                                      all_instances=True, \n",
    "                                      evaluate=True, \n",
    "                                      partial_sample=False,\n",
    "                                      metric=accuracy_score)"
   ]
  },
  {
   "cell_type": "code",
   "execution_count": 191,
   "id": "a313e615-2bc0-41b0-bc48-217a38c3dfc0",
   "metadata": {},
   "outputs": [
    {
     "data": {
      "text/plain": [
       "0.9863013698630136"
      ]
     },
     "execution_count": 191,
     "metadata": {},
     "output_type": "execute_result"
    }
   ],
   "source": [
    "data.get_validation_accuracy()"
   ]
  },
  {
   "cell_type": "code",
   "execution_count": 192,
   "id": "d68959df-558d-427d-a4ab-204db6f9e60f",
   "metadata": {},
   "outputs": [
    {
     "data": {
      "text/plain": [
       "0.9864864864864865"
      ]
     },
     "execution_count": 192,
     "metadata": {},
     "output_type": "execute_result"
    }
   ],
   "source": [
    "data.get_test_accuracy()"
   ]
  },
  {
   "cell_type": "code",
   "execution_count": null,
   "id": "6a893e50-81f8-4182-abdc-2629e7a1c4c3",
   "metadata": {},
   "outputs": [],
   "source": []
  },
  {
   "cell_type": "code",
   "execution_count": null,
   "id": "2b881330-ef32-4996-b3ce-2ac54e777d8d",
   "metadata": {},
   "outputs": [],
   "source": []
  },
  {
   "cell_type": "code",
   "execution_count": null,
   "id": "244f6e0b-04f2-4563-8c55-a23037971336",
   "metadata": {},
   "outputs": [],
   "source": []
  },
  {
   "cell_type": "code",
   "execution_count": 187,
   "id": "f01d3fcb-174f-48cb-9e9b-ad6a2f7bb60f",
   "metadata": {},
   "outputs": [],
   "source": [
    "dataset = {}\n",
    "dataset['train_input'] = torch.from_numpy(data.X_train).float()\n",
    "dataset['test_input'] = torch.from_numpy(data.X_test).float()\n",
    "dataset['val_input'] = torch.from_numpy(data.X_val).float()\n",
    "dataset['train_label'] = torch.from_numpy(data.y_train[:, None])\n",
    "dataset['test_label'] = torch.from_numpy(data.y_test[:, None])\n",
    "dataset['val_label'] = torch.from_numpy(data.y_val[:, None])"
   ]
  },
  {
   "cell_type": "code",
   "execution_count": null,
   "id": "9f9d8d30-7804-466a-820c-1ef0c115688e",
   "metadata": {},
   "outputs": [],
   "source": []
  },
  {
   "cell_type": "code",
   "execution_count": 188,
   "id": "18781979-ad74-4172-b83c-0469de8daaa1",
   "metadata": {
    "scrolled": true
   },
   "outputs": [
    {
     "name": "stderr",
     "output_type": "stream",
     "text": [
      "description: 100%|█████████████████████████████████████████████| 2000/2000 [00:15<00:00, 126.83it/s]\n"
     ]
    },
    {
     "name": "stdout",
     "output_type": "stream",
     "text": [
      "tensor(0.8630) tensor(0.9054)\n",
      "161\n",
      "\n"
     ]
    },
    {
     "name": "stderr",
     "output_type": "stream",
     "text": [
      "description: 100%|█████████████████████████████████████████████| 2000/2000 [00:15<00:00, 126.66it/s]\n"
     ]
    },
    {
     "name": "stdout",
     "output_type": "stream",
     "text": [
      "tensor(0.9041) tensor(0.8919)\n",
      "162\n",
      "\n"
     ]
    },
    {
     "name": "stderr",
     "output_type": "stream",
     "text": [
      "description: 100%|█████████████████████████████████████████████| 2000/2000 [00:15<00:00, 126.14it/s]\n"
     ]
    },
    {
     "name": "stdout",
     "output_type": "stream",
     "text": [
      "tensor(0.9041) tensor(0.8784)\n",
      "163\n",
      "\n"
     ]
    },
    {
     "name": "stderr",
     "output_type": "stream",
     "text": [
      "description: 100%|█████████████████████████████████████████████| 2000/2000 [00:15<00:00, 127.83it/s]\n"
     ]
    },
    {
     "name": "stdout",
     "output_type": "stream",
     "text": [
      "tensor(0.9315) tensor(0.8784)\n",
      "164\n",
      "\n"
     ]
    },
    {
     "name": "stderr",
     "output_type": "stream",
     "text": [
      "description: 100%|█████████████████████████████████████████████| 2000/2000 [00:15<00:00, 127.70it/s]\n"
     ]
    },
    {
     "name": "stdout",
     "output_type": "stream",
     "text": [
      "tensor(0.8767) tensor(0.9054)\n",
      "165\n",
      "\n"
     ]
    },
    {
     "name": "stderr",
     "output_type": "stream",
     "text": [
      "description: 100%|█████████████████████████████████████████████| 2000/2000 [00:15<00:00, 127.73it/s]\n"
     ]
    },
    {
     "name": "stdout",
     "output_type": "stream",
     "text": [
      "tensor(0.8904) tensor(0.8514)\n",
      "166\n",
      "\n"
     ]
    },
    {
     "name": "stderr",
     "output_type": "stream",
     "text": [
      "description: 100%|█████████████████████████████████████████████| 2000/2000 [00:15<00:00, 125.32it/s]\n"
     ]
    },
    {
     "name": "stdout",
     "output_type": "stream",
     "text": [
      "tensor(0.9589) tensor(0.9054)\n",
      "167\n",
      "\n"
     ]
    },
    {
     "name": "stderr",
     "output_type": "stream",
     "text": [
      "description: 100%|█████████████████████████████████████████████| 2000/2000 [00:15<00:00, 126.64it/s]\n"
     ]
    },
    {
     "name": "stdout",
     "output_type": "stream",
     "text": [
      "tensor(0.8356) tensor(0.9189)\n",
      "168\n",
      "\n"
     ]
    },
    {
     "name": "stderr",
     "output_type": "stream",
     "text": [
      "description: 100%|█████████████████████████████████████████████| 2000/2000 [00:15<00:00, 127.41it/s]\n"
     ]
    },
    {
     "name": "stdout",
     "output_type": "stream",
     "text": [
      "tensor(0.9589) tensor(0.9324)\n",
      "169\n",
      "\n"
     ]
    },
    {
     "name": "stderr",
     "output_type": "stream",
     "text": [
      "description: 100%|█████████████████████████████████████████████| 2000/2000 [00:15<00:00, 127.61it/s]\n"
     ]
    },
    {
     "name": "stdout",
     "output_type": "stream",
     "text": [
      "tensor(0.9041) tensor(0.9324)\n",
      "170\n",
      "\n"
     ]
    },
    {
     "name": "stderr",
     "output_type": "stream",
     "text": [
      "description: 100%|█████████████████████████████████████████████| 2000/2000 [00:15<00:00, 125.51it/s]\n"
     ]
    },
    {
     "name": "stdout",
     "output_type": "stream",
     "text": [
      "tensor(0.8767) tensor(0.8514)\n",
      "171\n",
      "\n"
     ]
    },
    {
     "name": "stderr",
     "output_type": "stream",
     "text": [
      "description: 100%|█████████████████████████████████████████████| 2000/2000 [00:15<00:00, 125.64it/s]\n"
     ]
    },
    {
     "name": "stdout",
     "output_type": "stream",
     "text": [
      "tensor(0.8630) tensor(0.8784)\n",
      "172\n",
      "\n"
     ]
    },
    {
     "name": "stderr",
     "output_type": "stream",
     "text": [
      "description: 100%|█████████████████████████████████████████████| 2000/2000 [00:15<00:00, 125.94it/s]\n"
     ]
    },
    {
     "name": "stdout",
     "output_type": "stream",
     "text": [
      "tensor(0.8493) tensor(0.9459)\n",
      "173\n",
      "\n"
     ]
    },
    {
     "name": "stderr",
     "output_type": "stream",
     "text": [
      "description: 100%|█████████████████████████████████████████████| 2000/2000 [00:15<00:00, 125.97it/s]\n"
     ]
    },
    {
     "name": "stdout",
     "output_type": "stream",
     "text": [
      "tensor(0.9041) tensor(0.9054)\n",
      "174\n",
      "\n"
     ]
    },
    {
     "name": "stderr",
     "output_type": "stream",
     "text": [
      "description: 100%|█████████████████████████████████████████████| 2000/2000 [00:15<00:00, 125.03it/s]\n"
     ]
    },
    {
     "name": "stdout",
     "output_type": "stream",
     "text": [
      "tensor(0.8904) tensor(0.8784)\n",
      "175\n",
      "\n"
     ]
    },
    {
     "name": "stderr",
     "output_type": "stream",
     "text": [
      "description: 100%|█████████████████████████████████████████████| 2000/2000 [00:15<00:00, 125.83it/s]\n"
     ]
    },
    {
     "name": "stdout",
     "output_type": "stream",
     "text": [
      "tensor(0.9041) tensor(0.9324)\n",
      "176\n",
      "\n"
     ]
    },
    {
     "name": "stderr",
     "output_type": "stream",
     "text": [
      "description: 100%|█████████████████████████████████████████████| 2000/2000 [00:15<00:00, 125.41it/s]\n"
     ]
    },
    {
     "name": "stdout",
     "output_type": "stream",
     "text": [
      "tensor(0.9041) tensor(0.8784)\n",
      "177\n",
      "\n"
     ]
    },
    {
     "name": "stderr",
     "output_type": "stream",
     "text": [
      "description: 100%|█████████████████████████████████████████████| 2000/2000 [00:15<00:00, 125.65it/s]\n"
     ]
    },
    {
     "name": "stdout",
     "output_type": "stream",
     "text": [
      "tensor(0.8904) tensor(0.8514)\n",
      "178\n",
      "\n"
     ]
    },
    {
     "name": "stderr",
     "output_type": "stream",
     "text": [
      "description: 100%|█████████████████████████████████████████████| 2000/2000 [00:16<00:00, 124.44it/s]\n"
     ]
    },
    {
     "name": "stdout",
     "output_type": "stream",
     "text": [
      "tensor(0.8904) tensor(0.8919)\n",
      "179\n",
      "\n"
     ]
    },
    {
     "name": "stderr",
     "output_type": "stream",
     "text": [
      "description: 100%|█████████████████████████████████████████████| 2000/2000 [00:15<00:00, 125.23it/s]\n"
     ]
    },
    {
     "name": "stdout",
     "output_type": "stream",
     "text": [
      "tensor(0.8904) tensor(0.8784)\n",
      "180\n",
      "\n"
     ]
    },
    {
     "name": "stderr",
     "output_type": "stream",
     "text": [
      "description: 100%|█████████████████████████████████████████████| 2000/2000 [00:16<00:00, 120.00it/s]\n"
     ]
    },
    {
     "name": "stdout",
     "output_type": "stream",
     "text": [
      "tensor(0.8904) tensor(0.8919)\n",
      "181\n",
      "\n"
     ]
    },
    {
     "name": "stderr",
     "output_type": "stream",
     "text": [
      "description: 100%|█████████████████████████████████████████████| 2000/2000 [00:16<00:00, 121.54it/s]\n"
     ]
    },
    {
     "name": "stdout",
     "output_type": "stream",
     "text": [
      "tensor(0.9041) tensor(0.8784)\n",
      "182\n",
      "\n"
     ]
    },
    {
     "name": "stderr",
     "output_type": "stream",
     "text": [
      "description: 100%|█████████████████████████████████████████████| 2000/2000 [00:16<00:00, 124.51it/s]\n"
     ]
    },
    {
     "name": "stdout",
     "output_type": "stream",
     "text": [
      "tensor(0.9041) tensor(0.8919)\n",
      "183\n",
      "\n"
     ]
    },
    {
     "name": "stderr",
     "output_type": "stream",
     "text": [
      "description: 100%|█████████████████████████████████████████████| 2000/2000 [00:16<00:00, 124.28it/s]\n"
     ]
    },
    {
     "name": "stdout",
     "output_type": "stream",
     "text": [
      "tensor(0.8904) tensor(0.8919)\n",
      "184\n",
      "\n"
     ]
    },
    {
     "name": "stderr",
     "output_type": "stream",
     "text": [
      "description: 100%|█████████████████████████████████████████████| 2000/2000 [00:16<00:00, 124.65it/s]\n"
     ]
    },
    {
     "name": "stdout",
     "output_type": "stream",
     "text": [
      "tensor(0.8630) tensor(0.9189)\n",
      "185\n",
      "\n"
     ]
    },
    {
     "name": "stderr",
     "output_type": "stream",
     "text": [
      "description: 100%|█████████████████████████████████████████████| 2000/2000 [00:16<00:00, 124.76it/s]\n"
     ]
    },
    {
     "name": "stdout",
     "output_type": "stream",
     "text": [
      "tensor(0.8904) tensor(0.8919)\n",
      "186\n",
      "\n"
     ]
    },
    {
     "name": "stderr",
     "output_type": "stream",
     "text": [
      "description: 100%|█████████████████████████████████████████████| 2000/2000 [00:16<00:00, 124.71it/s]\n"
     ]
    },
    {
     "name": "stdout",
     "output_type": "stream",
     "text": [
      "tensor(0.9315) tensor(0.9189)\n",
      "187\n",
      "\n"
     ]
    },
    {
     "name": "stderr",
     "output_type": "stream",
     "text": [
      "description: 100%|█████████████████████████████████████████████| 2000/2000 [00:16<00:00, 124.61it/s]\n"
     ]
    },
    {
     "name": "stdout",
     "output_type": "stream",
     "text": [
      "tensor(0.8904) tensor(0.9054)\n",
      "188\n",
      "\n"
     ]
    },
    {
     "name": "stderr",
     "output_type": "stream",
     "text": [
      "description: 100%|█████████████████████████████████████████████| 2000/2000 [00:16<00:00, 124.70it/s]\n"
     ]
    },
    {
     "name": "stdout",
     "output_type": "stream",
     "text": [
      "tensor(0.8767) tensor(0.8919)\n",
      "189\n",
      "\n"
     ]
    },
    {
     "name": "stderr",
     "output_type": "stream",
     "text": [
      "description: 100%|█████████████████████████████████████████████| 2000/2000 [00:16<00:00, 123.05it/s]\n"
     ]
    },
    {
     "name": "stdout",
     "output_type": "stream",
     "text": [
      "tensor(0.9041) tensor(0.8784)\n",
      "190\n",
      "\n"
     ]
    },
    {
     "name": "stderr",
     "output_type": "stream",
     "text": [
      "description: 100%|█████████████████████████████████████████████| 2000/2000 [00:16<00:00, 124.58it/s]\n"
     ]
    },
    {
     "name": "stdout",
     "output_type": "stream",
     "text": [
      "tensor(0.9178) tensor(0.8919)\n",
      "191\n",
      "\n"
     ]
    },
    {
     "name": "stderr",
     "output_type": "stream",
     "text": [
      "description: 100%|█████████████████████████████████████████████| 2000/2000 [00:16<00:00, 124.68it/s]\n"
     ]
    },
    {
     "name": "stdout",
     "output_type": "stream",
     "text": [
      "tensor(0.8904) tensor(0.9054)\n",
      "192\n",
      "\n"
     ]
    },
    {
     "name": "stderr",
     "output_type": "stream",
     "text": [
      "description: 100%|█████████████████████████████████████████████| 2000/2000 [00:16<00:00, 124.48it/s]\n"
     ]
    },
    {
     "name": "stdout",
     "output_type": "stream",
     "text": [
      "tensor(0.9041) tensor(0.8649)\n",
      "193\n",
      "\n"
     ]
    },
    {
     "name": "stderr",
     "output_type": "stream",
     "text": [
      "description: 100%|█████████████████████████████████████████████| 2000/2000 [00:16<00:00, 124.72it/s]\n"
     ]
    },
    {
     "name": "stdout",
     "output_type": "stream",
     "text": [
      "tensor(0.8904) tensor(0.8919)\n",
      "194\n",
      "\n"
     ]
    },
    {
     "name": "stderr",
     "output_type": "stream",
     "text": [
      "description: 100%|█████████████████████████████████████████████| 2000/2000 [00:16<00:00, 123.97it/s]\n"
     ]
    },
    {
     "name": "stdout",
     "output_type": "stream",
     "text": [
      "tensor(0.9178) tensor(0.9054)\n",
      "195\n",
      "\n"
     ]
    },
    {
     "name": "stderr",
     "output_type": "stream",
     "text": [
      "description: 100%|█████████████████████████████████████████████| 2000/2000 [00:16<00:00, 123.85it/s]\n"
     ]
    },
    {
     "name": "stdout",
     "output_type": "stream",
     "text": [
      "tensor(0.9041) tensor(0.8919)\n",
      "196\n",
      "\n"
     ]
    },
    {
     "name": "stderr",
     "output_type": "stream",
     "text": [
      "description: 100%|█████████████████████████████████████████████| 2000/2000 [00:16<00:00, 122.18it/s]\n"
     ]
    },
    {
     "name": "stdout",
     "output_type": "stream",
     "text": [
      "tensor(0.8767) tensor(0.8649)\n",
      "197\n",
      "\n"
     ]
    },
    {
     "name": "stderr",
     "output_type": "stream",
     "text": [
      "description: 100%|█████████████████████████████████████████████| 2000/2000 [00:16<00:00, 123.76it/s]\n"
     ]
    },
    {
     "name": "stdout",
     "output_type": "stream",
     "text": [
      "tensor(0.8904) tensor(0.8514)\n",
      "198\n",
      "\n"
     ]
    },
    {
     "name": "stderr",
     "output_type": "stream",
     "text": [
      "description: 100%|█████████████████████████████████████████████| 2000/2000 [00:16<00:00, 124.49it/s]\n"
     ]
    },
    {
     "name": "stdout",
     "output_type": "stream",
     "text": [
      "tensor(0.9178) tensor(0.8649)\n",
      "199\n",
      "\n"
     ]
    },
    {
     "name": "stderr",
     "output_type": "stream",
     "text": [
      "description: 100%|█████████████████████████████████████████████| 2000/2000 [00:16<00:00, 124.13it/s]\n"
     ]
    },
    {
     "name": "stdout",
     "output_type": "stream",
     "text": [
      "tensor(0.9041) tensor(0.8784)\n",
      "200\n",
      "\n",
      "Log saved to log fun sig test\\dermatology.data_log.xlsx\n"
     ]
    }
   ],
   "source": [
    "from scipy.stats import ranksums\n",
    "\n",
    "# Log file name\n",
    "log_file =  log_folder+file_name+'_log.xlsx'\n",
    "\n",
    "# DataFrame to store logs\n",
    "#log_df = pd.DataFrame(columns=['neuron_func1', 'neuron_func2', 'drop_rate1', 'drop_rate2', 'drop_mode', 'scale', 'validation_accuracy', 'test_accuracy'])\n",
    "\n",
    "\n",
    "\n",
    "log_df = pd.read_excel(log_file)\n",
    "\n",
    "drop_rate1 = 0\n",
    "drop_rate2 = 0\n",
    "drop_mode = None\n",
    "drop_scale = None\n",
    "\n",
    "best = 0\n",
    "for _ in range(1):  # Number of random configurations to test\n",
    "    random.seed()\n",
    "    for setting in [['sum', 'ln'], ['sum', 'ls']]:\n",
    "    #for setting in [['nt2', 'nt2']]:\n",
    "        for j in range(20):\n",
    "        \n",
    "            \n",
    "            model = DropKAN(seed=j,width=[data.X_train.shape[1], 10,1], grid=3, k=3, bias_trainable=True, sp_trainable=True, sb_trainable=True,\n",
    "                            symbolic_enabled=False, drop_rate=[drop_rate1, drop_rate2], drop_mode=drop_mode, drop_scale=drop_scale, \n",
    "                            neuron_fun=[setting[0],setting[0]], input_preprocessing=setting[1])\n",
    "\n",
    "            results = model.train(dataset, opt=\"Adam\", steps=2000, log=100, batch=32, lr=0.01, update_grid=False)\n",
    "            set_training_mode(model, False)\n",
    "            \n",
    "            val_acc = torch.mean((torch.round(model(dataset['val_input'])[:,0]) == dataset['val_label'][:,0]).float())\n",
    "            test_acc = torch.mean((torch.round(model(dataset['test_input'])[:,0]) == dataset['test_label'][:,0]).float())\n",
    "            \n",
    "            \n",
    "                \n",
    "            new_row = [setting[1]+setting[0], setting[1]+setting[0],drop_rate1,drop_rate2,drop_mode,drop_scale,val_acc.item(),test_acc.item()]\n",
    "            \n",
    "            log_df.loc[len(log_df)] = new_row\n",
    "        \n",
    "            # Save the DataFrame to an Excel file\n",
    "            log_df.to_excel(log_file, index=False)\n",
    "            print(val_acc, test_acc)\n",
    "            print(len(log_df))\n",
    "            print()\n",
    "\n",
    "print(f\"Log saved to {log_file}\")"
   ]
  },
  {
   "cell_type": "code",
   "execution_count": 222,
   "id": "a1ca7c45-8bef-4808-986d-8db9b10e41d9",
   "metadata": {},
   "outputs": [
    {
     "name": "stdout",
     "output_type": "stream",
     "text": [
      "       comb1      comb2   p_value  significant  accuracies1  accuracies2  \\\n",
      "0    sum_sum  mean_mean  0.000338         True        94.79        95.04   \n",
      "1    sum_sum  sumln_sum  0.007407         True        94.79        94.98   \n",
      "2  mean_mean  sumln_sum  0.126431        False        95.04        94.98   \n",
      "\n",
      "   std1  std2  \n",
      "0  0.25  0.12  \n",
      "1  0.25  0.12  \n",
      "2  0.12  0.12  \n"
     ]
    }
   ],
   "source": [
    "from scipy import stats\n",
    "\n",
    "log_df =  pd.read_excel(log_folder+file_name+'_log.xlsx')\n",
    "log_file =  log_folder+file_name+'_log.xlsx'\n",
    "\n",
    "# Create a DataFrame to store significance results\n",
    "unique_combinations = log_df[['neuron_func1', 'neuron_func2']].drop_duplicates().values\n",
    "\n",
    "significance_results = pd.DataFrame(columns=['comb1', 'comb2', 'p_value', 'significant', 'accuracies1', 'accuracies2', 'std1', 'std2'])\n",
    "\n",
    "\n",
    "valid_combinations = [['sumln', 'sum'], ['mean', 'mean'], ['sum', 'sum']]\n",
    "\n",
    "# Compare each pair of combinations\n",
    "for i in range(len(unique_combinations)):\n",
    "    for j in range(i + 1, len(unique_combinations)):\n",
    "        comb1 = unique_combinations[i]\n",
    "        comb2 = unique_combinations[j]\n",
    "\n",
    "\n",
    "        if list(comb1) in valid_combinations and list(comb2) in valid_combinations:\n",
    "        \n",
    "            # Get the test accuracies for the two combinations\n",
    "            accuracies1 = log_df[(log_df['neuron_func1'] == comb1[0]) &\n",
    "                                 (log_df['neuron_func2'] == comb1[1])]['test_accuracy']\n",
    "    \n",
    "            #print(accuracies1)\n",
    "            \n",
    "            accuracies2 = log_df[(log_df['neuron_func1'] == comb2[0]) &\n",
    "                                 (log_df['neuron_func2'] == comb2[1])]['test_accuracy']\n",
    "            \n",
    "            # Perform Wilcoxon rank-sum test\n",
    "            stat, p_value = ranksums(accuracies1.values, accuracies2.values)\n",
    "            \n",
    "            # Check if the p-value indicates a significant difference\n",
    "            significant = p_value < 0.05\n",
    "            \n",
    "            # Append the result to the significance_results DataFrame\n",
    "            significance_results.loc[len(significance_results)] = [f\"{comb1[0]}_{comb1[1]}\", f\"{comb2[0]}_{comb2[1]}\",  p_value, significant, \n",
    "                                                                   np.round(100*np.mean(accuracies1), 2), np.round(100*np.mean(accuracies2), 2), \n",
    "                                                                   np.round(100*np.std(accuracies1), 2), np.round(100*np.std(accuracies2), 2)]\n",
    "           \n",
    "\n",
    "# Print the significance results\n",
    "print(significance_results)\n",
    "\n",
    "significance_results.to_excel(log_file+'_sig.xlsx', index=False)"
   ]
  },
  {
   "cell_type": "code",
   "execution_count": 10,
   "id": "20282423-0b29-4be7-83ba-bc33feecea07",
   "metadata": {},
   "outputs": [
    {
     "name": "stdout",
     "output_type": "stream",
     "text": [
      "Parameter name: biases.0.weight\n",
      "tensor([[-0.1435,  0.1896,  0.2317, -0.3570,  0.3802, -0.1886, -0.2459, -0.0963,\n",
      "          0.2261, -0.2544]])\n",
      "Parameter name: biases.1.weight\n",
      "tensor([[0.2996]])\n",
      "Parameter name: act_fun.0.coef\n",
      "tensor([[[ 1.0094e+00,  7.0103e-01, -1.3695e-01,  6.5846e-01, -1.4535e+00,\n",
      "          -1.7035e+00],\n",
      "         [ 6.0322e-01,  5.9816e-01,  6.4288e-01,  4.5169e-01, -6.8156e-01,\n",
      "          -7.8056e-01],\n",
      "         [ 3.3550e-01,  3.7750e-01,  6.7657e-01,  6.5372e-01, -3.8258e-01,\n",
      "          -4.9898e-01],\n",
      "         ...,\n",
      "         [ 3.4208e-01,  3.9842e-01,  4.2975e-01,  9.5366e-01, -1.2454e+00,\n",
      "          -1.4901e+00],\n",
      "         [ 4.9219e-01,  8.4158e-01,  1.2656e+00, -8.7827e-01, -8.6864e-01,\n",
      "          -7.0175e-01],\n",
      "         [ 2.1992e+00,  1.4292e+00, -1.0995e+00, -1.0741e+00, -1.5813e+00,\n",
      "          -1.6035e+00]],\n",
      "\n",
      "        [[-7.0205e-01,  4.0124e-02,  1.5883e+00, -1.0589e+00, -2.5325e+00,\n",
      "          -6.1919e-01],\n",
      "         [-2.3788e+00, -8.0220e-01,  9.4189e-01, -1.7684e-01,  7.3091e-02,\n",
      "           6.5776e-01],\n",
      "         [-9.8533e-01, -1.1643e+00,  1.6794e-01,  7.1398e-02,  8.7694e-01,\n",
      "           1.2842e+00],\n",
      "         ...,\n",
      "         [-2.9874e+00, -5.1770e-01, -4.0414e-02,  1.1768e-01, -6.2786e-01,\n",
      "           7.8932e-01],\n",
      "         [-1.5919e+00, -5.4880e-01,  9.1728e-01, -2.6527e-01,  3.8612e-01,\n",
      "           3.0826e-01],\n",
      "         [-1.6697e+00, -1.4352e+00, -6.0796e-02, -1.0658e+00,  7.3051e-01,\n",
      "           9.4421e-01]],\n",
      "\n",
      "        [[-3.4844e+00, -1.0378e+00,  7.6319e-01, -8.0712e-01, -9.1753e-01,\n",
      "          -6.0764e-01],\n",
      "         [ 1.3842e+00,  5.4443e-01,  1.4069e-01, -1.9549e-01, -2.1911e-01,\n",
      "          -1.1267e-01],\n",
      "         [ 1.1193e+00,  4.8287e-01,  7.3169e-02, -1.7759e+00,  2.4073e-01,\n",
      "           1.1035e+00],\n",
      "         ...,\n",
      "         [ 2.6573e+00, -9.0134e-01, -1.2869e+00, -1.7760e+00, -3.8595e-01,\n",
      "           1.3784e-01],\n",
      "         [ 1.8508e+00,  7.4811e-02, -4.7492e-01,  1.3917e+00,  4.7880e-01,\n",
      "          -3.3588e-01],\n",
      "         [ 1.8658e+00,  8.2733e-01, -3.0296e-01, -9.0533e-01, -6.2257e-01,\n",
      "          -3.1180e-01]],\n",
      "\n",
      "        ...,\n",
      "\n",
      "        [[-4.6315e-03, -3.1151e-02,  6.8966e-04, -2.3878e-02, -3.0892e-03,\n",
      "           5.3883e-03],\n",
      "         [ 8.7530e-04,  1.7945e-01,  1.8498e-01,  1.6765e-01,  1.6257e-01,\n",
      "          -2.1471e-03],\n",
      "         [-4.3489e-03,  2.2477e-01,  2.5706e-01,  2.5436e-01,  2.2687e-01,\n",
      "          -3.5041e-03],\n",
      "         ...,\n",
      "         [-3.0665e-03, -2.1039e-03,  2.9757e-02, -3.5814e-02,  1.8694e-02,\n",
      "           8.7209e-03],\n",
      "         [ 3.1741e-03,  2.0702e-01,  2.0246e-01,  1.8827e-01,  2.1438e-01,\n",
      "           6.4812e-03],\n",
      "         [ 6.1500e-03, -1.8083e-01, -2.1729e-01, -2.2632e-01, -1.8216e-01,\n",
      "           4.8240e-03]],\n",
      "\n",
      "        [[ 2.6225e-01,  2.7363e-01,  2.2828e-01,  2.8374e-01, -1.3357e+00,\n",
      "          -1.3203e+00],\n",
      "         [-4.9767e-02, -4.0308e-02, -8.4310e-02, -2.1104e-02,  6.5609e-01,\n",
      "           6.7157e-01],\n",
      "         [ 8.9097e-02,  9.9916e-02,  6.2930e-02,  8.4080e-02,  4.5307e-01,\n",
      "           4.5198e-01],\n",
      "         ...,\n",
      "         [ 6.4191e-03,  7.2455e-03, -1.3450e-02, -8.2136e-03, -1.5992e-01,\n",
      "          -1.5909e-01],\n",
      "         [ 3.0679e-01,  3.0055e-01,  3.2373e-01,  3.2666e-01, -2.9936e-01,\n",
      "          -2.8371e-01],\n",
      "         [ 1.8931e-01,  1.8738e-01,  1.8489e-01,  1.6642e-01, -1.2578e+00,\n",
      "          -1.2741e+00]],\n",
      "\n",
      "        [[ 3.5821e-01,  3.7723e-01,  1.3748e-01, -2.6131e-01, -2.8873e-01,\n",
      "          -2.7509e-01],\n",
      "         [ 4.3038e-01,  4.1445e-01,  2.4830e-01, -6.8874e-02, -4.1425e-02,\n",
      "          -5.2784e-02],\n",
      "         [-9.8181e-02, -8.5963e-02,  6.4255e-02,  3.5929e-01,  3.7445e-01,\n",
      "           3.7214e-01],\n",
      "         ...,\n",
      "         [-1.6378e-01, -1.6263e-01, -3.2531e-02,  6.2851e-02,  5.2161e-02,\n",
      "           5.8080e-02],\n",
      "         [ 1.6549e-03,  8.5441e-03,  1.0065e-01,  2.9172e-01,  3.0147e-01,\n",
      "           3.0414e-01],\n",
      "         [ 5.9675e-01,  6.1571e-01,  1.4215e-01, -6.8285e-01, -7.1883e-01,\n",
      "          -7.1691e-01]]])\n",
      "Parameter name: act_fun.0.scale_base\n",
      "tensor([[-2.4966e+00, -5.3960e-01, -7.4214e-01, -1.2706e+00, -1.0762e+00,\n",
      "         -1.3216e+00, -3.4119e+00, -1.5989e+00, -1.6800e+00, -2.0102e+00],\n",
      "        [-1.4828e-01,  1.3647e+00,  1.4602e+00,  5.5957e-01,  6.3955e-01,\n",
      "         -7.1380e-01,  8.8108e-01,  1.3792e+00,  5.6116e-01,  5.3540e-01],\n",
      "        [-6.8721e-01, -6.8762e-01,  8.7032e-01,  4.0809e-01, -8.2863e-01,\n",
      "          2.3535e-01, -1.5121e+00, -6.6564e-01, -4.1225e-01, -5.4432e-01],\n",
      "        [-2.4207e-01,  4.2472e-01,  3.8178e-01,  4.4188e-01,  1.8836e+00,\n",
      "          5.0396e-02, -1.6886e-01,  1.4549e+00,  9.1690e-01,  2.0631e+00],\n",
      "        [-1.8353e+00, -7.9342e-01, -1.5813e+00, -8.5526e-02, -1.4420e-01,\n",
      "         -1.3310e+00, -3.1231e+00, -1.2291e-01, -1.1158e+00,  3.2367e-01],\n",
      "        [-4.8052e-01,  3.8732e-01,  4.5790e-01,  8.1974e-01,  2.7920e-01,\n",
      "         -4.1631e-01, -1.7300e+00, -2.1012e+00, -1.4719e-01, -1.5916e+00],\n",
      "        [-1.4310e+00, -1.4076e+00, -4.2739e-01, -2.4483e+00, -1.5362e+00,\n",
      "         -2.2080e-01, -1.2558e+00, -1.6269e+00, -3.2362e-01, -7.3339e-01],\n",
      "        [-1.1766e+00, -2.0375e-01,  1.0426e-01, -5.4261e-01,  1.3737e+00,\n",
      "         -1.2256e+00, -1.3890e+00, -2.2085e+00, -1.6087e-01, -9.9466e-01],\n",
      "        [ 8.1717e-01,  1.2063e+00, -1.0194e+00, -5.4026e-01,  4.0061e-01,\n",
      "         -5.7205e-01,  1.3815e+00,  9.6334e-01,  3.8925e-01,  1.0167e+00],\n",
      "        [-3.2205e+00, -9.0993e-01, -1.3539e+00, -4.2678e+00,  8.0791e-02,\n",
      "          8.5999e-01, -1.8528e+00, -1.2804e+00,  2.1183e+00, -1.3215e+00],\n",
      "        [-1.7783e+00, -1.3650e+00, -7.0635e-01, -2.1558e+00, -1.2840e+00,\n",
      "         -1.5174e+00,  7.2429e-01, -1.1834e+00, -2.8133e-01, -2.6771e-01],\n",
      "        [ 3.2626e-01, -4.2920e-01,  4.4206e-01, -5.6149e-01,  9.9778e-02,\n",
      "         -2.4384e+00,  2.5383e-01,  2.8958e-01, -8.3268e-02, -6.9747e-01],\n",
      "        [-1.7433e+00,  5.6001e-01, -1.3173e+00, -9.0115e-02, -5.1427e-02,\n",
      "          1.6084e+00,  6.5118e-01, -1.1649e+00,  4.7783e-01, -5.6207e-01],\n",
      "        [ 8.2812e-01, -1.0124e+00, -1.2851e-01, -2.3462e-01,  5.6882e-01,\n",
      "         -1.1441e-01, -3.5282e-01, -9.4105e-01, -9.5406e-01,  2.4690e-01],\n",
      "        [-1.9309e+00, -8.9660e-01,  3.6943e-02, -1.5874e+00, -2.2905e-01,\n",
      "         -9.4532e-02, -1.0079e+00, -7.1693e-01, -2.4150e-02, -1.6888e+00],\n",
      "        [ 3.7130e-01, -5.7923e-01,  1.0898e+00,  9.4438e-01,  3.3261e-01,\n",
      "         -3.1561e-02,  6.5813e-01, -2.4998e+00, -7.0329e-01,  1.3467e-01],\n",
      "        [-4.8309e-01, -9.7889e-01, -5.4513e-01,  3.5882e-01, -1.2951e+00,\n",
      "         -1.5803e+00, -3.1286e+00, -1.2501e+00, -5.1034e-01, -1.7361e+00],\n",
      "        [ 7.8207e-01,  4.1727e-01,  5.6330e-01,  2.0670e+00,  1.6646e+00,\n",
      "         -1.2556e+00,  5.7089e-01, -1.4621e+00,  7.4244e-01,  9.5307e-02],\n",
      "        [-5.0780e-01,  1.7506e-01,  1.9131e-01, -2.1196e+00,  1.0367e+00,\n",
      "          1.2597e+00, -9.1460e-01,  1.5387e+00, -3.4837e-01,  2.9207e-01],\n",
      "        [-9.2022e-02, -4.3622e-01,  6.4882e-01, -9.7999e-01, -6.6376e-01,\n",
      "         -5.7978e-01, -5.3370e-01, -2.3792e+00,  1.6428e-01,  4.2869e-01],\n",
      "        [-2.3634e+00, -2.1703e-01, -4.1162e-01, -1.0944e+00,  1.5940e-01,\n",
      "          2.5251e-01, -6.5405e-01, -6.5853e-01, -1.5697e-01, -2.0963e+00],\n",
      "        [-6.9375e-01, -1.8902e-01, -5.1288e-01,  3.3694e-02, -7.0368e-01,\n",
      "         -1.4412e+00, -3.0621e-01, -9.0846e-01, -2.6587e-01, -5.3559e-02],\n",
      "        [-1.9787e+00,  6.2137e-01,  5.7111e-01,  2.5423e-02, -4.3579e-01,\n",
      "         -2.9164e-01, -6.5565e-01, -5.7634e-01, -1.0473e+00, -1.0209e+00],\n",
      "        [-9.7557e-01,  3.2096e-02, -9.9713e-04, -1.4866e+00, -1.0579e+00,\n",
      "         -6.9136e-01, -2.4272e-02,  2.0428e-01,  6.3389e-01, -1.3282e+00]])\n",
      "Parameter name: act_fun.0.scale_sp\n",
      "tensor([[2.5375, 1.7124, 1.4407, 1.5608, 2.0191, 1.6943, 3.3517, 2.0795, 2.1792,\n",
      "         3.3599],\n",
      "        [3.6217, 2.3361, 2.0786, 3.4856, 2.9512, 1.8084, 3.1429, 2.1515, 1.7470,\n",
      "         2.0646],\n",
      "        [3.2372, 1.2913, 2.3368, 2.3996, 1.8321, 1.7082, 1.8655, 2.9913, 2.2584,\n",
      "         1.6689],\n",
      "        [3.3474, 1.1486, 1.4148, 2.5128, 1.2434, 2.1961, 2.6362, 2.5329, 2.5187,\n",
      "         2.3808],\n",
      "        [1.5761, 0.9956, 1.8347, 2.5707, 1.1738, 2.2848, 2.7879, 1.8840, 1.3987,\n",
      "         1.7891],\n",
      "        [1.3664, 1.4266, 1.7360, 1.8287, 1.1487, 1.9006, 2.5102, 2.5226, 1.1298,\n",
      "         2.9544],\n",
      "        [2.1703, 1.8266, 1.4512, 2.6777, 1.9595, 2.8521, 2.8303, 1.5107, 1.6621,\n",
      "         2.4619],\n",
      "        [2.8823, 1.1260, 1.5655, 3.8921, 1.2629, 2.8062, 1.4474, 1.9393, 1.5889,\n",
      "         1.2794],\n",
      "        [1.3758, 1.1779, 1.3124, 2.7284, 1.6498, 1.7943, 2.2208, 2.0554, 1.1344,\n",
      "         2.4264],\n",
      "        [3.0315, 1.2596, 1.7590, 3.3184, 1.2702, 2.8573, 1.2755, 3.1312, 1.7128,\n",
      "         2.6393],\n",
      "        [2.1668, 1.0578, 0.9445, 2.5607, 2.0563, 2.3188, 1.4158, 1.9039, 0.5642,\n",
      "         1.2279],\n",
      "        [1.2254, 0.9717, 0.7255, 1.4944, 1.2793, 1.3845, 1.3921, 0.9848, 0.7290,\n",
      "         0.8372],\n",
      "        [0.5856, 0.9291, 1.2656, 1.5412, 0.9556, 1.4799, 1.3377, 0.1331, 0.8323,\n",
      "         0.5458],\n",
      "        [1.1601, 0.9770, 1.0210, 1.2464, 1.0625, 1.1562, 0.9793, 1.4350, 1.1513,\n",
      "         0.5709],\n",
      "        [0.0453, 1.0110, 0.9869, 1.0170, 1.1846, 0.8138, 0.9515, 0.2155, 1.0267,\n",
      "         0.2886],\n",
      "        [1.3346, 0.7680, 1.2079, 2.4933, 1.1411, 0.6671, 1.5034, 2.2008, 1.1076,\n",
      "         1.2998],\n",
      "        [0.5559, 1.1589, 1.1457, 1.3510, 1.4668, 0.1680, 0.6007, 0.0106, 1.0840,\n",
      "         0.0617],\n",
      "        [1.0269, 1.7655, 1.6072, 2.1210, 2.1609, 1.0547, 1.1165, 1.0508, 1.7734,\n",
      "         1.1700],\n",
      "        [0.1692, 0.9487, 0.8483, 0.7384, 1.0923, 1.0892, 0.8391, 0.6887, 0.9221,\n",
      "         0.9178],\n",
      "        [0.5005, 0.9441, 0.8862, 0.9263, 1.2891, 0.6249, 1.0433, 1.5828, 1.2593,\n",
      "         1.3057],\n",
      "        [1.8729, 1.0040, 0.9003, 1.0434, 1.2535, 1.3805, 0.9380, 0.2131, 0.8881,\n",
      "         1.9579],\n",
      "        [0.1192, 1.0343, 1.0914, 1.1099, 1.2226, 0.7140, 1.1413, 0.0320, 1.0179,\n",
      "         0.8877],\n",
      "        [1.3814, 0.9893, 0.8675, 1.2078, 1.1004, 0.6237, 1.0443, 0.1392, 1.0911,\n",
      "         1.1797],\n",
      "        [0.7466, 1.0398, 1.0670, 1.5922, 1.6470, 0.8480, 1.1610, 0.3633, 0.9789,\n",
      "         1.3928]])\n",
      "Parameter name: act_fun.0.neuron_train\n",
      "tensor([2.9193])\n",
      "Parameter name: act_fun.1.coef\n",
      "tensor([[[-0.9863,  1.0307,  0.0310,  0.4648, -0.9284,  2.1219]],\n",
      "\n",
      "        [[-0.8270,  1.4479,  0.5109,  0.0851,  0.4305,  0.1549]],\n",
      "\n",
      "        [[ 3.3900,  1.4494,  0.4282,  0.4739, -0.1674,  0.9411]],\n",
      "\n",
      "        [[-1.1533,  1.2511,  0.2986,  0.4323,  0.3884, -1.2679]],\n",
      "\n",
      "        [[-0.0042,  0.2160,  0.4380,  0.2334,  0.1456,  1.1726]],\n",
      "\n",
      "        [[-1.0039,  0.8838,  0.2525, -0.1320, -1.2299, -2.1505]],\n",
      "\n",
      "        [[-1.4965,  0.8058,  0.0809, -0.0317,  1.9205,  1.0115]],\n",
      "\n",
      "        [[-0.8348,  1.2784, -0.4941,  0.7470, -0.3243, -1.1484]],\n",
      "\n",
      "        [[-3.0719, -0.5890,  0.5250,  0.7010, -0.3863,  0.9641]],\n",
      "\n",
      "        [[-1.2214,  1.0294,  0.7720,  0.3184, -0.2159, -0.5516]]])\n",
      "Parameter name: act_fun.1.scale_base\n",
      "tensor([[-2.0401],\n",
      "        [ 0.9187],\n",
      "        [ 0.8829],\n",
      "        [-1.0195],\n",
      "        [ 1.0179],\n",
      "        [-1.0851],\n",
      "        [-0.5833],\n",
      "        [-1.4231],\n",
      "        [ 0.9242],\n",
      "        [-0.3368]])\n",
      "Parameter name: act_fun.1.scale_sp\n",
      "tensor([[2.1772],\n",
      "        [1.3065],\n",
      "        [1.5555],\n",
      "        [2.8314],\n",
      "        [1.6712],\n",
      "        [2.3483],\n",
      "        [2.6728],\n",
      "        [2.4724],\n",
      "        [1.7338],\n",
      "        [2.6168]])\n",
      "Parameter name: act_fun.1.neuron_train\n",
      "tensor([1.7857])\n",
      "Parameter name: symbolic_fun.0.affine\n",
      "tensor([[[0., 0., 0., 0.],\n",
      "         [0., 0., 0., 0.],\n",
      "         [0., 0., 0., 0.],\n",
      "         [0., 0., 0., 0.],\n",
      "         [0., 0., 0., 0.],\n",
      "         [0., 0., 0., 0.],\n",
      "         [0., 0., 0., 0.],\n",
      "         [0., 0., 0., 0.],\n",
      "         [0., 0., 0., 0.],\n",
      "         [0., 0., 0., 0.],\n",
      "         [0., 0., 0., 0.],\n",
      "         [0., 0., 0., 0.],\n",
      "         [0., 0., 0., 0.],\n",
      "         [0., 0., 0., 0.],\n",
      "         [0., 0., 0., 0.],\n",
      "         [0., 0., 0., 0.],\n",
      "         [0., 0., 0., 0.],\n",
      "         [0., 0., 0., 0.],\n",
      "         [0., 0., 0., 0.],\n",
      "         [0., 0., 0., 0.],\n",
      "         [0., 0., 0., 0.],\n",
      "         [0., 0., 0., 0.],\n",
      "         [0., 0., 0., 0.],\n",
      "         [0., 0., 0., 0.]],\n",
      "\n",
      "        [[0., 0., 0., 0.],\n",
      "         [0., 0., 0., 0.],\n",
      "         [0., 0., 0., 0.],\n",
      "         [0., 0., 0., 0.],\n",
      "         [0., 0., 0., 0.],\n",
      "         [0., 0., 0., 0.],\n",
      "         [0., 0., 0., 0.],\n",
      "         [0., 0., 0., 0.],\n",
      "         [0., 0., 0., 0.],\n",
      "         [0., 0., 0., 0.],\n",
      "         [0., 0., 0., 0.],\n",
      "         [0., 0., 0., 0.],\n",
      "         [0., 0., 0., 0.],\n",
      "         [0., 0., 0., 0.],\n",
      "         [0., 0., 0., 0.],\n",
      "         [0., 0., 0., 0.],\n",
      "         [0., 0., 0., 0.],\n",
      "         [0., 0., 0., 0.],\n",
      "         [0., 0., 0., 0.],\n",
      "         [0., 0., 0., 0.],\n",
      "         [0., 0., 0., 0.],\n",
      "         [0., 0., 0., 0.],\n",
      "         [0., 0., 0., 0.],\n",
      "         [0., 0., 0., 0.]],\n",
      "\n",
      "        [[0., 0., 0., 0.],\n",
      "         [0., 0., 0., 0.],\n",
      "         [0., 0., 0., 0.],\n",
      "         [0., 0., 0., 0.],\n",
      "         [0., 0., 0., 0.],\n",
      "         [0., 0., 0., 0.],\n",
      "         [0., 0., 0., 0.],\n",
      "         [0., 0., 0., 0.],\n",
      "         [0., 0., 0., 0.],\n",
      "         [0., 0., 0., 0.],\n",
      "         [0., 0., 0., 0.],\n",
      "         [0., 0., 0., 0.],\n",
      "         [0., 0., 0., 0.],\n",
      "         [0., 0., 0., 0.],\n",
      "         [0., 0., 0., 0.],\n",
      "         [0., 0., 0., 0.],\n",
      "         [0., 0., 0., 0.],\n",
      "         [0., 0., 0., 0.],\n",
      "         [0., 0., 0., 0.],\n",
      "         [0., 0., 0., 0.],\n",
      "         [0., 0., 0., 0.],\n",
      "         [0., 0., 0., 0.],\n",
      "         [0., 0., 0., 0.],\n",
      "         [0., 0., 0., 0.]],\n",
      "\n",
      "        [[0., 0., 0., 0.],\n",
      "         [0., 0., 0., 0.],\n",
      "         [0., 0., 0., 0.],\n",
      "         [0., 0., 0., 0.],\n",
      "         [0., 0., 0., 0.],\n",
      "         [0., 0., 0., 0.],\n",
      "         [0., 0., 0., 0.],\n",
      "         [0., 0., 0., 0.],\n",
      "         [0., 0., 0., 0.],\n",
      "         [0., 0., 0., 0.],\n",
      "         [0., 0., 0., 0.],\n",
      "         [0., 0., 0., 0.],\n",
      "         [0., 0., 0., 0.],\n",
      "         [0., 0., 0., 0.],\n",
      "         [0., 0., 0., 0.],\n",
      "         [0., 0., 0., 0.],\n",
      "         [0., 0., 0., 0.],\n",
      "         [0., 0., 0., 0.],\n",
      "         [0., 0., 0., 0.],\n",
      "         [0., 0., 0., 0.],\n",
      "         [0., 0., 0., 0.],\n",
      "         [0., 0., 0., 0.],\n",
      "         [0., 0., 0., 0.],\n",
      "         [0., 0., 0., 0.]],\n",
      "\n",
      "        [[0., 0., 0., 0.],\n",
      "         [0., 0., 0., 0.],\n",
      "         [0., 0., 0., 0.],\n",
      "         [0., 0., 0., 0.],\n",
      "         [0., 0., 0., 0.],\n",
      "         [0., 0., 0., 0.],\n",
      "         [0., 0., 0., 0.],\n",
      "         [0., 0., 0., 0.],\n",
      "         [0., 0., 0., 0.],\n",
      "         [0., 0., 0., 0.],\n",
      "         [0., 0., 0., 0.],\n",
      "         [0., 0., 0., 0.],\n",
      "         [0., 0., 0., 0.],\n",
      "         [0., 0., 0., 0.],\n",
      "         [0., 0., 0., 0.],\n",
      "         [0., 0., 0., 0.],\n",
      "         [0., 0., 0., 0.],\n",
      "         [0., 0., 0., 0.],\n",
      "         [0., 0., 0., 0.],\n",
      "         [0., 0., 0., 0.],\n",
      "         [0., 0., 0., 0.],\n",
      "         [0., 0., 0., 0.],\n",
      "         [0., 0., 0., 0.],\n",
      "         [0., 0., 0., 0.]],\n",
      "\n",
      "        [[0., 0., 0., 0.],\n",
      "         [0., 0., 0., 0.],\n",
      "         [0., 0., 0., 0.],\n",
      "         [0., 0., 0., 0.],\n",
      "         [0., 0., 0., 0.],\n",
      "         [0., 0., 0., 0.],\n",
      "         [0., 0., 0., 0.],\n",
      "         [0., 0., 0., 0.],\n",
      "         [0., 0., 0., 0.],\n",
      "         [0., 0., 0., 0.],\n",
      "         [0., 0., 0., 0.],\n",
      "         [0., 0., 0., 0.],\n",
      "         [0., 0., 0., 0.],\n",
      "         [0., 0., 0., 0.],\n",
      "         [0., 0., 0., 0.],\n",
      "         [0., 0., 0., 0.],\n",
      "         [0., 0., 0., 0.],\n",
      "         [0., 0., 0., 0.],\n",
      "         [0., 0., 0., 0.],\n",
      "         [0., 0., 0., 0.],\n",
      "         [0., 0., 0., 0.],\n",
      "         [0., 0., 0., 0.],\n",
      "         [0., 0., 0., 0.],\n",
      "         [0., 0., 0., 0.]],\n",
      "\n",
      "        [[0., 0., 0., 0.],\n",
      "         [0., 0., 0., 0.],\n",
      "         [0., 0., 0., 0.],\n",
      "         [0., 0., 0., 0.],\n",
      "         [0., 0., 0., 0.],\n",
      "         [0., 0., 0., 0.],\n",
      "         [0., 0., 0., 0.],\n",
      "         [0., 0., 0., 0.],\n",
      "         [0., 0., 0., 0.],\n",
      "         [0., 0., 0., 0.],\n",
      "         [0., 0., 0., 0.],\n",
      "         [0., 0., 0., 0.],\n",
      "         [0., 0., 0., 0.],\n",
      "         [0., 0., 0., 0.],\n",
      "         [0., 0., 0., 0.],\n",
      "         [0., 0., 0., 0.],\n",
      "         [0., 0., 0., 0.],\n",
      "         [0., 0., 0., 0.],\n",
      "         [0., 0., 0., 0.],\n",
      "         [0., 0., 0., 0.],\n",
      "         [0., 0., 0., 0.],\n",
      "         [0., 0., 0., 0.],\n",
      "         [0., 0., 0., 0.],\n",
      "         [0., 0., 0., 0.]],\n",
      "\n",
      "        [[0., 0., 0., 0.],\n",
      "         [0., 0., 0., 0.],\n",
      "         [0., 0., 0., 0.],\n",
      "         [0., 0., 0., 0.],\n",
      "         [0., 0., 0., 0.],\n",
      "         [0., 0., 0., 0.],\n",
      "         [0., 0., 0., 0.],\n",
      "         [0., 0., 0., 0.],\n",
      "         [0., 0., 0., 0.],\n",
      "         [0., 0., 0., 0.],\n",
      "         [0., 0., 0., 0.],\n",
      "         [0., 0., 0., 0.],\n",
      "         [0., 0., 0., 0.],\n",
      "         [0., 0., 0., 0.],\n",
      "         [0., 0., 0., 0.],\n",
      "         [0., 0., 0., 0.],\n",
      "         [0., 0., 0., 0.],\n",
      "         [0., 0., 0., 0.],\n",
      "         [0., 0., 0., 0.],\n",
      "         [0., 0., 0., 0.],\n",
      "         [0., 0., 0., 0.],\n",
      "         [0., 0., 0., 0.],\n",
      "         [0., 0., 0., 0.],\n",
      "         [0., 0., 0., 0.]],\n",
      "\n",
      "        [[0., 0., 0., 0.],\n",
      "         [0., 0., 0., 0.],\n",
      "         [0., 0., 0., 0.],\n",
      "         [0., 0., 0., 0.],\n",
      "         [0., 0., 0., 0.],\n",
      "         [0., 0., 0., 0.],\n",
      "         [0., 0., 0., 0.],\n",
      "         [0., 0., 0., 0.],\n",
      "         [0., 0., 0., 0.],\n",
      "         [0., 0., 0., 0.],\n",
      "         [0., 0., 0., 0.],\n",
      "         [0., 0., 0., 0.],\n",
      "         [0., 0., 0., 0.],\n",
      "         [0., 0., 0., 0.],\n",
      "         [0., 0., 0., 0.],\n",
      "         [0., 0., 0., 0.],\n",
      "         [0., 0., 0., 0.],\n",
      "         [0., 0., 0., 0.],\n",
      "         [0., 0., 0., 0.],\n",
      "         [0., 0., 0., 0.],\n",
      "         [0., 0., 0., 0.],\n",
      "         [0., 0., 0., 0.],\n",
      "         [0., 0., 0., 0.],\n",
      "         [0., 0., 0., 0.]],\n",
      "\n",
      "        [[0., 0., 0., 0.],\n",
      "         [0., 0., 0., 0.],\n",
      "         [0., 0., 0., 0.],\n",
      "         [0., 0., 0., 0.],\n",
      "         [0., 0., 0., 0.],\n",
      "         [0., 0., 0., 0.],\n",
      "         [0., 0., 0., 0.],\n",
      "         [0., 0., 0., 0.],\n",
      "         [0., 0., 0., 0.],\n",
      "         [0., 0., 0., 0.],\n",
      "         [0., 0., 0., 0.],\n",
      "         [0., 0., 0., 0.],\n",
      "         [0., 0., 0., 0.],\n",
      "         [0., 0., 0., 0.],\n",
      "         [0., 0., 0., 0.],\n",
      "         [0., 0., 0., 0.],\n",
      "         [0., 0., 0., 0.],\n",
      "         [0., 0., 0., 0.],\n",
      "         [0., 0., 0., 0.],\n",
      "         [0., 0., 0., 0.],\n",
      "         [0., 0., 0., 0.],\n",
      "         [0., 0., 0., 0.],\n",
      "         [0., 0., 0., 0.],\n",
      "         [0., 0., 0., 0.]]])\n",
      "Parameter name: symbolic_fun.1.affine\n",
      "tensor([[[0., 0., 0., 0.],\n",
      "         [0., 0., 0., 0.],\n",
      "         [0., 0., 0., 0.],\n",
      "         [0., 0., 0., 0.],\n",
      "         [0., 0., 0., 0.],\n",
      "         [0., 0., 0., 0.],\n",
      "         [0., 0., 0., 0.],\n",
      "         [0., 0., 0., 0.],\n",
      "         [0., 0., 0., 0.],\n",
      "         [0., 0., 0., 0.]]])\n"
     ]
    }
   ],
   "source": [
    "# Print all trainable parameters\n",
    "for name, param in model.named_parameters():\n",
    "    if param.requires_grad:\n",
    "        print(f\"Parameter name: {name}\")\n",
    "        print(param.data)"
   ]
  },
  {
   "cell_type": "code",
   "execution_count": 24,
   "id": "1f4cb0f8-2d38-4eec-9840-12f4e59fb1b9",
   "metadata": {},
   "outputs": [
    {
     "name": "stdout",
     "output_type": "stream",
     "text": [
      "tensor([[ 1.3222,  0.3939, -0.1930, -0.0133],\n",
      "        [ 1.6677, -0.5219,  0.2482, -2.0191],\n",
      "        [-0.5873, -0.0695, -0.4062,  2.4795]])\n",
      "Output (Example 1):\n",
      "tensor([[ 0.5257,  1.2296, -0.2788, -0.0882],\n",
      "        [ 0.8741, -1.2197,  1.3400, -1.1783],\n",
      "        [-1.3998, -0.0098, -1.0612,  1.2665]],\n",
      "       grad_fn=<NativeBatchNormBackward0>)\n"
     ]
    }
   ],
   "source": [
    "import torch\n",
    "import torch.nn as nn\n",
    "\n",
    "# Example 1: Normalizing over the last dimension\n",
    "input_tensor1 = torch.randn(3, 4)  # Shape: (batch_size, num_features)\n",
    "normalized_shape1 = (4,)\n",
    "layer_norm1 = nn.BatchNorm1d(normalized_shape1)\n",
    "print(input_tensor1)\n",
    "\n",
    "output_tensor1 = layer_norm1(input_tensor1)\n",
    "print(\"Output (Example 1):\")\n",
    "print(output_tensor1)\n"
   ]
  },
  {
   "cell_type": "code",
   "execution_count": 27,
   "id": "226ae258-78b4-4358-a1a8-e3f4576ec5f9",
   "metadata": {},
   "outputs": [],
   "source": [
    "m = torch.mean(input_tensor1)"
   ]
  },
  {
   "cell_type": "code",
   "execution_count": 29,
   "id": "1c74f012-c26d-4c35-9563-b155486f1196",
   "metadata": {},
   "outputs": [],
   "source": [
    "s = torch.std(input_tensor1)"
   ]
  },
  {
   "cell_type": "code",
   "execution_count": 30,
   "id": "d95a0e34-890d-4e6f-8433-91e938ce39f5",
   "metadata": {},
   "outputs": [
    {
     "data": {
      "text/plain": [
       "tensor([[ 0.9568,  0.1711, -0.3257, -0.1736],\n",
       "        [ 1.2492, -0.6040,  0.0478, -1.8713],\n",
       "        [-0.6594, -0.2211, -0.5061,  1.9364]])"
      ]
     },
     "execution_count": 30,
     "metadata": {},
     "output_type": "execute_result"
    }
   ],
   "source": [
    "(input_tensor1-m)/s"
   ]
  },
  {
   "cell_type": "code",
   "execution_count": 31,
   "id": "7d339db4-2c10-4b32-847e-9794a568d43c",
   "metadata": {},
   "outputs": [
    {
     "data": {
      "text/plain": [
       "tensor(0.1918)"
      ]
     },
     "execution_count": 31,
     "metadata": {},
     "output_type": "execute_result"
    }
   ],
   "source": [
    "m"
   ]
  },
  {
   "cell_type": "code",
   "execution_count": 59,
   "id": "eeb4e62a-ddff-4030-9f6b-771a48cce775",
   "metadata": {},
   "outputs": [
    {
     "name": "stdout",
     "output_type": "stream",
     "text": [
      "tensor([[-1., -1., -1., -1.],\n",
      "        [ 1.,  1.,  1.,  1.]])\n"
     ]
    }
   ],
   "source": [
    "import torch\n",
    "import torch.nn as nn\n",
    "\n",
    "class NormalizeBetweenMinusNAndN(nn.Module):\n",
    "    def __init__(self, n=1):\n",
    "        super(NormalizeBetweenMinusNAndN, self).__init__()\n",
    "        self.n = n\n",
    "\n",
    "    def forward(self, x):\n",
    "        min_val = x.min(dim=0, keepdim=True)[0]\n",
    "        max_val = x.max(dim=0, keepdim=True)[0]\n",
    "        x = (2 * self.n * (x - min_val) / (max_val - min_val)) - self.n\n",
    "        return x\n",
    "\n",
    "# Example usage\n",
    "x = torch.tensor([[1.0, 2.0, 2.0, 3.0], [2.0, 4.0, 6.0, 8.0]])\n",
    "layer = NormalizeBetweenMinusNAndN(n=1)  # Set the desired range to [-2, 2]\n",
    "normalized_x = layer(x)\n",
    "print(normalized_x)\n"
   ]
  },
  {
   "cell_type": "code",
   "execution_count": null,
   "id": "c8225b27-08ed-4123-ab97-240dc4484a6b",
   "metadata": {},
   "outputs": [],
   "source": []
  },
  {
   "cell_type": "code",
   "execution_count": 25,
   "id": "5fc74fb7-6334-4b22-b9b9-1da9625601a3",
   "metadata": {},
   "outputs": [
    {
     "name": "stdout",
     "output_type": "stream",
     "text": [
      "ModuleList(\n",
      "  (0): Linear(in_features=10, out_features=1, bias=False)\n",
      "  (1): Linear(in_features=1, out_features=1, bias=False)\n",
      ")\n",
      "ModuleList(\n",
      "  (0-1): 2 x DropKANLayer(\n",
      "    (base_fun): SiLU()\n",
      "  )\n",
      ")\n",
      "ModuleList(\n",
      "  (0): BatchNormKAN()\n",
      ")\n",
      "SiLU()\n",
      "ModuleList(\n",
      "  (0-1): 2 x Symbolic_KANLayer()\n",
      ")\n"
     ]
    }
   ],
   "source": [
    "for submodule in model.children():\n",
    "        print(submodule)"
   ]
  },
  {
   "cell_type": "code",
   "execution_count": 12,
   "id": "1788a5dd-0fc8-4c28-842b-03afc9d583bd",
   "metadata": {},
   "outputs": [
    {
     "data": {
      "text/plain": [
       "'sum'"
      ]
     },
     "execution_count": 12,
     "metadata": {},
     "output_type": "execute_result"
    }
   ],
   "source": [
    "model.act_fun[1].neuron_fun"
   ]
  },
  {
   "cell_type": "code",
   "execution_count": 14,
   "id": "182d4ceb-ed63-49c4-a34d-fbfc8fabf04e",
   "metadata": {},
   "outputs": [
    {
     "name": "stdout",
     "output_type": "stream",
     "text": [
      "Number of elements between -1 and 1: 5\n"
     ]
    }
   ],
   "source": [
    "import torch\n",
    "\n",
    "# Example 1D tensor\n",
    "tensor = torch.tensor([0.5, -0.7, 1.2, -1.5, 0.9, -0.2, 2.0, -0.8])\n",
    "\n",
    "# Count the number of elements between -1 and 1 (inclusive)\n",
    "count = ((tensor >= -1) & (tensor <= 1)).sum().item()\n",
    "\n",
    "print(f\"Number of elements between -1 and 1: {count}\")\n"
   ]
  },
  {
   "cell_type": "code",
   "execution_count": 16,
   "id": "5cea2b69-4351-4722-ba40-afd43f62c070",
   "metadata": {},
   "outputs": [
    {
     "data": {
      "text/plain": [
       "8"
      ]
     },
     "execution_count": 16,
     "metadata": {},
     "output_type": "execute_result"
    }
   ],
   "source": [
    "tensor.shape[0]"
   ]
  },
  {
   "cell_type": "code",
   "execution_count": 79,
   "id": "171e736e-0c78-4b1d-a48a-349c367f1a03",
   "metadata": {},
   "outputs": [
    {
     "name": "stderr",
     "output_type": "stream",
     "text": [
      "description: 100%|███████████████████████████████████████████████| 100/100 [00:00<00:00, 145.63it/s]\n"
     ]
    },
    {
     "name": "stdout",
     "output_type": "stream",
     "text": [
      "64.0 2\n",
      "20333\n",
      "\n"
     ]
    },
    {
     "name": "stderr",
     "output_type": "stream",
     "text": [
      "description: 100%|███████████████████████████████████████████████| 100/100 [00:00<00:00, 142.93it/s]\n"
     ]
    },
    {
     "name": "stdout",
     "output_type": "stream",
     "text": [
      "100.0 2\n",
      "32000\n",
      "\n"
     ]
    },
    {
     "name": "stderr",
     "output_type": "stream",
     "text": [
      "description: 100%|███████████████████████████████████████████████| 100/100 [00:00<00:00, 176.84it/s]\n"
     ]
    },
    {
     "name": "stdout",
     "output_type": "stream",
     "text": [
      "100.0 2\n",
      "32000\n",
      "\n"
     ]
    },
    {
     "name": "stderr",
     "output_type": "stream",
     "text": [
      "description: 100%|███████████████████████████████████████████████| 100/100 [00:00<00:00, 176.84it/s]"
     ]
    },
    {
     "name": "stdout",
     "output_type": "stream",
     "text": [
      "30.0 2\n",
      "9705\n",
      "\n",
      "Log saved to log fun sig test\\output_analysis.xlsx\n"
     ]
    },
    {
     "name": "stderr",
     "output_type": "stream",
     "text": [
      "\n"
     ]
    }
   ],
   "source": [
    "from scipy.stats import ranksums\n",
    "\n",
    "# Log file name\n",
    "log_file =  log_folder+'output_analysis.xlsx'\n",
    "\n",
    "# DataFrame to store logs\n",
    "#log_df = pd.DataFrame(columns=['dataset', 'neuron function', 'neuron outputs within range'])\n",
    "\n",
    "\n",
    "\n",
    "\n",
    "drop_rate1 = 0\n",
    "drop_rate2 = 0\n",
    "drop_mode = None\n",
    "drop_scale = None\n",
    "\n",
    "best = 0\n",
    "for _ in range(1):  # Number of random configurations to test\n",
    "    random.seed()\n",
    "    for setting in [['sumln', 'sum'], ['sumlnkan', 'sum'], ['mean', 'sum'], ['sum', 'sum']]:\n",
    "    #for setting in [['nt2', 'nt2']]:\n",
    "        for j in range(1):\n",
    "        \n",
    "            \n",
    "            model = DropKAN(seed=j,width=[data.X_train.shape[1], 10,1], grid=3, k=3, bias_trainable=True, sp_trainable=True, sb_trainable=True,\n",
    "                            symbolic_enabled=False, drop_rate=[drop_rate1, drop_rate2], drop_mode=drop_mode, drop_scale=drop_scale, \n",
    "                            neuron_fun=[setting[0],setting[1]])\n",
    "\n",
    "            results = model.train(dataset, opt=\"Adam\", steps=100, log=100, batch=32, lr=0.01, update_grid=False)\n",
    "            set_training_mode(model, False)\n",
    "            \n",
    "            #val_acc = torch.mean((torch.round(model(dataset['val_input'])[:,0]) == dataset['val_label'][:,0]).float())\n",
    "            #test_acc = torch.mean((torch.round(model(dataset['test_input'])[:,0]) == dataset['test_label'][:,0]).float())\n",
    "            \n",
    "            \n",
    "                \n",
    "            \n",
    "            \n",
    "            print(np.round(100*model.act_fun[0].count/model.act_fun[0].total), 2)\n",
    "            print(model.act_fun[0].count)\n",
    "            print()\n",
    "            new_row = [file_name, setting[0], 100*model.act_fun[0].count/model.act_fun[0].total]\n",
    "            \n",
    "            log_df.loc[len(log_df)] = new_row\n",
    "        \n",
    "            # Save the DataFrame to an Excel file\n",
    "            log_df.to_excel(log_file, index=False)\n",
    "           \n",
    "\n",
    "print(f\"Log saved to {log_file}\")\n"
   ]
  },
  {
   "cell_type": "code",
   "execution_count": 115,
   "id": "cfe72873-ea42-4c94-a1bc-17c272448f33",
   "metadata": {},
   "outputs": [
    {
     "data": {
      "image/png": "[encoded data removed]",
      "text/plain": [
       "<Figure size 1000x600 with 1 Axes>"
      ]
     },
     "metadata": {},
     "output_type": "display_data"
    }
   ],
   "source": [
    "import matplotlib.pyplot as plt\n",
    "import pandas as pd\n",
    "\n",
    "df = pd.read_excel(log_folder+'output_analysis.xlsx')\n",
    "\n",
    "df = pd.DataFrame(df[df['neuron function'] != 'kan+lnkan'])\n",
    "\n",
    "custom_order = ['semeion', 'diabetes', 'connect-4', 'census-income', 'dermatology', 'german', 'bank-full', 'adult', 'abalone', 'car']\n",
    "custom_order = custom_order[::-1]\n",
    "\n",
    "df['dataset'] = pd.Categorical(df['dataset'], categories=custom_order, ordered=True)\n",
    "df = df.sort_values('dataset')\n",
    "\n",
    "# Create a bar chart\n",
    "def plot_bar_chart(df):\n",
    "    datasets = df['dataset'].unique()\n",
    "    neuron_functions = df['neuron function'].unique()\n",
    "    num_functions = len(neuron_functions)\n",
    "\n",
    "    # Set up the figure and axis\n",
    "    fig, ax = plt.subplots(figsize=(10, 6))\n",
    "\n",
    "    # Set bar width and positions\n",
    "    bar_width = 0.8 / num_functions\n",
    "    bar_positions = np.arange(len(datasets))\n",
    "\n",
    "    # Plot each dataset\n",
    "    for i, function in enumerate(['KAN-AVG', 'KAN+LayerNorm', 'KAN']):\n",
    "        subset = df[df['neuron function'] == function]\n",
    "        outputs_within_range = subset['neuron outputs within range'].values\n",
    "        ax.bar(bar_positions + i * bar_width, outputs_within_range, width=bar_width, label=function)\n",
    "\n",
    "    # Set labels and title\n",
    "    ax.set_xlabel('Dataset', fontsize=8)\n",
    "    ax.set_ylabel('Percentage of KAN intermediate layer neurons within the [-1.0, +1.0] range.', fontsize=8)\n",
    "    #ax.set_title('Neuron Outputs Within Range by Neuron Function and Dataset')\n",
    "    ax.set_xticks(bar_positions + bar_width * (num_functions - 1) / 2)\n",
    "    ax.set_xticklabels(datasets, fontsize=8)\n",
    "\n",
    "    # Add legend\n",
    "    ax.legend()\n",
    "    plt.xticks(rotation=35)\n",
    "\n",
    "    # Show the plot\n",
    "    plt.savefig('neuron_analysis.pdf')\n",
    "    plt.show()\n",
    "\n",
    "plot_bar_chart(df)\n"
   ]
  },
  {
   "cell_type": "code",
   "execution_count": 50,
   "id": "90203761-4222-4109-85cb-e6cc42be7a1d",
   "metadata": {},
   "outputs": [
    {
     "name": "stdout",
     "output_type": "stream",
     "text": [
      "tensor([[-1.9377, -0.8305,  0.8305,  1.9377],\n",
      "        [-2.0000, -0.6667,  0.6667,  2.0000]])\n"
     ]
    }
   ],
   "source": [
    "import torch\n",
    "import torch.nn as nn\n",
    "\n",
    "class NormalizeToCustomRange(nn.Module):\n",
    "    def __init__(self, n=1, eps=1e-5):\n",
    "        super(NormalizeToCustomRange, self).__init__()\n",
    "        self.n = n\n",
    "        self.eps = eps\n",
    "\n",
    "    def forward(self, x):\n",
    "        mean = x.mean(dim=-1, keepdim=True)\n",
    "        std = x.std(dim=-1, keepdim=True) + self.eps\n",
    "        normalized_x = (x - mean) / std\n",
    "        scaled_x = normalized_x * (self.n / torch.max(torch.abs(normalized_x)))\n",
    "        return scaled_x\n",
    "\n",
    "# Example usage\n",
    "x = torch.tensor([[3.0, 5.0, 8.0, 10.0], [2.0, 4.0, 6.0, 8.0]], dtype=torch.float32)\n",
    "layer = NormalizeToCustomRange(n=2)  # Set the desired range to [-2, 2]\n",
    "normalized_x = layer(x)\n",
    "print(normalized_x)\n"
   ]
  },
  {
   "cell_type": "code",
   "execution_count": null,
   "id": "ca2470cf-36b0-4852-8ea0-23fb12c3dcef",
   "metadata": {},
   "outputs": [],
   "source": []
  }
 ],
 "metadata": {
  "kernelspec": {
   "display_name": "Python 3 (ipykernel)",
   "language": "python",
   "name": "python3"
  },
  "language_info": {
   "codemirror_mode": {
    "name": "ipython",
    "version": 3
   },
   "file_extension": ".py",
   "mimetype": "text/x-python",
   "name": "python",
   "nbconvert_exporter": "python",
   "pygments_lexer": "ipython3",
   "version": "3.8.19"
  }
 },
 "nbformat": 4,
 "nbformat_minor": 5
}
