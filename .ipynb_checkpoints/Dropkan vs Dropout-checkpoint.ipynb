{
 "cells": [
  {
   "cell_type": "code",
   "execution_count": 1,
   "id": "92c09135-0218-4313-ba7b-9c3604011563",
   "metadata": {},
   "outputs": [],
   "source": [
    "import sys, os, inspect\n",
    "from sklearn.ensemble import RandomForestClassifier, GradientBoostingClassifier\n",
    "from Dataset import Dataset\n",
    "from sklearn.metrics import accuracy_score\n",
    "import torch\n",
    "from kan.KAN import KAN\n",
    "import torch\n",
    "import torch.nn as nn\n",
    "import numpy as np\n",
    "import random\n",
    "import pandas as pd \n",
    "\n",
    "def set_training_mode(module, mode):\n",
    "    \"\"\"Set the training mode for a module and all its sub-modules.\"\"\"\n",
    "    module.training = mode\n",
    "    for submodule in module.children():\n",
    "        set_training_mode(submodule, mode)"
   ]
  },
  {
   "cell_type": "code",
   "execution_count": 69,
   "id": "3df2d060-404f-4d78-abbc-3b99299d0ddd",
   "metadata": {},
   "outputs": [],
   "source": [
    "work_dir = 'UCI Datasets/Shuffled/'\n",
    "folder =  'trainable-scale\\\\'\n",
    "\n",
    "header=None\n",
    "file_name, sep, label = 'german.data-numeric', ',', -1\n",
    "#file_name, sep, label = 'abalone.data', ',', -1\n",
    "#file_name, sep, label = 'dermatology.data', ',', -1\n",
    "file_name, sep, label = 'car.data', ',', -1\n",
    "#file_name, sep, label = 'kddcup.data.gz', ',', -1\n",
    "#file_name, sep, label = 'covtype.data', ',', -1\n",
    "file_name, sep, label = 'adult.data', ',', -1\n",
    "#file_name, sep, label = 'census-income.data', ',', -1\n",
    "#file_name, sep, label = 'dota2Train.csv', ',', 0\n",
    "#file_name, sep, label = 'qsar_oral_toxicity.csv', ',', -1\n",
    "#file_name, sep, label = 'diabetic_data.csv', ',', -1\n",
    "#file_name, sep, label, header = 'bank-full.csv', ',', -1, 0\n",
    "#file_name, sep, label = 'connect-4.data', ',', -1\n",
    "#file_name, sep, label, header = 'Epileptic.csv', ',', -1, 0\n",
    "#file_name, sep, label = 'semeion.data', ',', -1\n",
    "\n",
    " \n",
    "\n",
    "\n",
    "\n",
    "\n",
    "data = Dataset(work_dir+file_name, sep, label, divide_dataset=False, header=header)"
   ]
  },
  {
   "cell_type": "code",
   "execution_count": 70,
   "id": "46023306-38e7-4ac4-8539-9f8cb845dcd6",
   "metadata": {},
   "outputs": [],
   "source": [
    "#classifier = KNeighborsClassifier(n_neighbors=1, n_jobs=-1)\n",
    "#classifier = SVC(gamma='auto')\n",
    "#classifier = GaussianNB()\n",
    "#classifier = DecisionTreeClassifier(random_state=0)\n",
    "#classifier = LogisticRegression(solver='lbfgs', multi_class='auto', max_iter=120000, n_jobs=-1)\n",
    "#classifier = LogisticRegression(solver='lbfgs', multi_class='auto', n_jobs=-1)\n",
    "classifier = RandomForestClassifier(n_estimators=111, random_state=0, n_jobs=-1)\n",
    "#classifier = GradientBoostingClassifier(n_estimators=11, random_state=0)\n",
    "#classifier = MLPClassifier(random_state=0, max_iter=12000)\n",
    "\n",
    "data.divide_dataset(classifier,\n",
    "                                      normalize=True, \n",
    "                                      shuffle=False, \n",
    "                                      all_features=True, \n",
    "                                      all_instances=True, \n",
    "                                      evaluate=True, \n",
    "                                      partial_sample=False,\n",
    "                                      metric=accuracy_score)"
   ]
  },
  {
   "cell_type": "code",
   "execution_count": 71,
   "id": "a313e615-2bc0-41b0-bc48-217a38c3dfc0",
   "metadata": {},
   "outputs": [
    {
     "data": {
      "text/plain": [
       "0.850583538083538"
      ]
     },
     "execution_count": 71,
     "metadata": {},
     "output_type": "execute_result"
    }
   ],
   "source": [
    "data.get_validation_accuracy()"
   ]
  },
  {
   "cell_type": "code",
   "execution_count": 72,
   "id": "d68959df-558d-427d-a4ab-204db6f9e60f",
   "metadata": {},
   "outputs": [
    {
     "data": {
      "text/plain": [
       "0.8527560264087211"
      ]
     },
     "execution_count": 72,
     "metadata": {},
     "output_type": "execute_result"
    }
   ],
   "source": [
    "data.get_test_accuracy()"
   ]
  },
  {
   "cell_type": "code",
   "execution_count": 73,
   "id": "6a893e50-81f8-4182-abdc-2629e7a1c4c3",
   "metadata": {},
   "outputs": [],
   "source": [
    "\n",
    "def modify_label(label):\n",
    "    # Get the unique labels and their corresponding indices\n",
    "    unique_labels, inverse_indices = np.unique(label,  return_inverse=True)\n",
    "    \n",
    "    # Map the original labels to the new set of labels starting from 0\n",
    "    y_test_mapped = inverse_indices\n",
    "    return inverse_indices\n",
    "\n",
    "\n",
    "#data.y_train = modify_label(data.y_train)\n",
    "#data.y_test = modify_label(data.y_test)\n",
    "#data.y_val = modify_label(data.y_val)\n"
   ]
  },
  {
   "cell_type": "code",
   "execution_count": 74,
   "id": "2b881330-ef32-4996-b3ce-2ac54e777d8d",
   "metadata": {},
   "outputs": [
    {
     "data": {
      "text/plain": [
       "(19536, 14)"
      ]
     },
     "execution_count": 74,
     "metadata": {},
     "output_type": "execute_result"
    }
   ],
   "source": [
    "data.X_train.shape"
   ]
  },
  {
   "cell_type": "code",
   "execution_count": 75,
   "id": "244f6e0b-04f2-4563-8c55-a23037971336",
   "metadata": {},
   "outputs": [
    {
     "data": {
      "text/plain": [
       "array([0, 1], dtype=int64)"
      ]
     },
     "execution_count": 75,
     "metadata": {},
     "output_type": "execute_result"
    }
   ],
   "source": [
    "np.unique(data.y_train)"
   ]
  },
  {
   "cell_type": "code",
   "execution_count": 76,
   "id": "f01d3fcb-174f-48cb-9e9b-ad6a2f7bb60f",
   "metadata": {},
   "outputs": [],
   "source": [
    "dataset = {}\n",
    "dataset['train_input'] = torch.from_numpy(data.X_train).float()\n",
    "dataset['test_input'] = torch.from_numpy(data.X_test).float()\n",
    "dataset['val_input'] = torch.from_numpy(data.X_val).float()\n",
    "dataset['train_label'] = torch.from_numpy(data.y_train[:, None])\n",
    "dataset['test_label'] = torch.from_numpy(data.y_test[:, None])\n",
    "dataset['val_label'] = torch.from_numpy(data.y_val[:, None]) "
   ]
  },
  {
   "cell_type": "code",
   "execution_count": null,
   "id": "18781979-ad74-4172-b83c-0469de8daaa1",
   "metadata": {
    "scrolled": true
   },
   "outputs": [
    {
     "name": "stdout",
     "output_type": "stream",
     "text": [
      "0.22951909416325456 0.41038539824021886 2\n"
     ]
    },
    {
     "name": "stderr",
     "output_type": "stream",
     "text": [
      "train loss: 3.08e-01 | test loss: 4.11e-01 | reg: 2.41e+01 :  14%|▏| 284/2000 [00:06<00:30, 56.18it/"
     ]
    }
   ],
   "source": [
    "\n",
    "# Log file name\n",
    "log_file =  folder+file_name+'_log.xlsx'\n",
    "\n",
    "# DataFrame to store logs\n",
    "log_df = pd.DataFrame(columns=['drop_prob1', 'drop_prob2', 'dropmode', 'scale', 'validation_accuracy', 'test_accuracy'])\n",
    "\n",
    "best = 0\n",
    "for _ in range(25):  # Number of random configurations to test\n",
    "    random.seed()\n",
    "    drop_prob1 = random.uniform(0, .5)\n",
    "    drop_prob2 = random.uniform(0, .5)\n",
    "    #scale = True\n",
    "\n",
    "    for dropmode in [2, 4, 5, 0]:\n",
    "\n",
    "        for scale in  [True, False]:\n",
    "            print(drop_prob1, drop_prob2, dropmode)\n",
    "            \n",
    "            \n",
    "            \n",
    "            model = KAN(width=[data.X_train.shape[1], 10,1], grid=3, k=3, symbolic_enabled=False, drop_prob=[drop_prob1, drop_prob2], dropmode=[dropmode, dropmode], dropscale=scale, neuron_func='sum')\n",
    "            #model = KAN(width=[data.X_train.shape[1], 10,1], drop_prob=[drop_prob1, drop_prob2], dropmode=[dropmode, dropmode], dropscale=scale)\n",
    "\n",
    "            results = model.train(dataset, opt=\"Adam\", steps=2000, batch=32, lr=0.01)\n",
    "            set_training_mode(model, False)\n",
    "            \n",
    "            val_acc = torch.mean((torch.round(model(dataset['val_input'])[:,0]) == dataset['val_label'][:,0]).float())\n",
    "            test_acc = torch.mean((torch.round(model(dataset['test_input'])[:,0]) == dataset['test_label'][:,0]).float())\n",
    "            \n",
    "            \n",
    "                \n",
    "            new_row = [drop_prob1,drop_prob2,dropmode,scale,val_acc.item(),test_acc.item()]\n",
    "            \n",
    "            log_df.loc[len(log_df)] = new_row\n",
    "        \n",
    "            # Save the DataFrame to an Excel file\n",
    "            log_df.to_excel(log_file, index=False)\n",
    "            print(val_acc, test_acc)\n",
    "            print(len(log_df))\n",
    "            print()\n",
    "\n",
    "print(f\"Log saved to {log_file}\")"
   ]
  },
  {
   "cell_type": "code",
   "execution_count": 12,
   "id": "a1ca7c45-8bef-4808-986d-8db9b10e41d9",
   "metadata": {},
   "outputs": [],
   "source": [
    "log_file = folder+file_name+'_log.xlsx'\n",
    "log_df = pd.read_excel(log_file)\n"
   ]
  },
  {
   "cell_type": "code",
   "execution_count": null,
   "id": "9e6bf9ff-c3ce-41aa-8e05-474fe37bc12e",
   "metadata": {},
   "outputs": [],
   "source": [
    "drop_prob1 = 0\n",
    "drop_prob2 = 0\n",
    "dropmode = -1\n",
    "scale = False"
   ]
  },
  {
   "cell_type": "code",
   "execution_count": null,
   "id": "2e8e2b80-82f1-4a7a-8b60-481ce295ecdd",
   "metadata": {},
   "outputs": [],
   "source": [
    "model = KAN(width=[data.X_train.shape[1], 10,1], grid=3, k=3, bias_trainable=False, sp_trainable=False, sb_trainable=False, symbolic_enabled=False, drop_prob=[drop_prob1, drop_prob2], dropmode=[dropmode, dropmode], dropscale=scale)\n",
    "results = model.train(dataset, opt=\"Adam\", steps=2000, batch=32, lr=0.01)\n",
    "set_training_mode(model, False)\n",
    "\n",
    "val_acc = torch.mean((torch.round(model(dataset['val_input'])[:,0]) == dataset['val_label'][:,0]).float())\n",
    "test_acc = torch.mean((torch.round(model(dataset['test_input'])[:,0]) == dataset['test_label'][:,0]).float())\n",
    "\n",
    "\n",
    "    \n",
    "new_row = [drop_prob1,drop_prob2,dropmode,scale,val_acc.item(),test_acc.item()]\n",
    "\n",
    "log_df.loc[len(log_df)] = new_row\n",
    "\n"
   ]
  },
  {
   "cell_type": "code",
   "execution_count": null,
   "id": "046f82c0-2508-47eb-839e-51db1be24733",
   "metadata": {},
   "outputs": [],
   "source": [
    "# Save the DataFrame to an Excel file\n",
    "log_df.to_excel(log_file, index=False)\n",
    "print(val_acc, test_acc)\n",
    "print(len(log_df))\n",
    "print()"
   ]
  },
  {
   "cell_type": "code",
   "execution_count": null,
   "id": "1dfd1cbe-a85b-449d-bef7-8b9ae261ffaf",
   "metadata": {},
   "outputs": [],
   "source": [
    "import itertools\n",
    "\n",
    "\n",
    "# Initialize a DataFrame to store the results\n",
    "results = pd.DataFrame(columns=['dropmode', 'dropscale', 'average_val_test_accuracy'])\n",
    "\n",
    "# Iterate through all possible combinations of dropmode and dropscale\n",
    "for dropmode, dropscale in itertools.product(log_df['dropmode'].unique(), log_df['scale'].unique()):\n",
    "    # Filter the log DataFrame for the current combination\n",
    "    filtered_df = log_df[(log_df['dropmode'] == dropmode) & (log_df['scale'] == dropscale)]\n",
    "    \n",
    "    # Calculate the average of the sum of validation and test accuracies\n",
    "    if not filtered_df.empty:\n",
    "        filtered_df['total_accuracy'] = filtered_df['validation_accuracy'] + filtered_df['test_accuracy']\n",
    "        average_val_test_accuracy = filtered_df['total_accuracy'].mean()\n",
    "        \n",
    "        new_row = [dropmode, dropscale, average_val_test_accuracy]\n",
    "\n",
    "        print(new_row)\n",
    "    \n",
    "        results.loc[len(results)] = new_row\n",
    "\n",
    "results.sort_values('average_val_test_accuracy', ascending=False)"
   ]
  },
  {
   "cell_type": "code",
   "execution_count": 44,
   "id": "f5c0b65e-ba1c-4cb1-af7f-a0115d898c67",
   "metadata": {},
   "outputs": [],
   "source": [
    "log_df['total_accuracy'] = (log_df['validation_accuracy'] + log_df['test_accuracy'])/2\n"
   ]
  },
  {
   "cell_type": "code",
   "execution_count": 45,
   "id": "b4626910-876e-4deb-8908-ea84f9271f67",
   "metadata": {},
   "outputs": [
    {
     "data": {
      "text/plain": [
       "60.5743408203125"
      ]
     },
     "execution_count": 45,
     "metadata": {},
     "output_type": "execute_result"
    }
   ],
   "source": [
    "dropmode = 4\n",
    "dropscale = True\n",
    "\n",
    "\n",
    "100*log_df[(log_df['dropmode'] == dropmode) & (log_df['scale'] == dropscale)].sort_values('total_accuracy', ascending=False).iloc[:5]['total_accuracy'].median()"
   ]
  },
  {
   "cell_type": "code",
   "execution_count": 46,
   "id": "252ea89f-8254-4a34-9084-1c5abbc458f7",
   "metadata": {},
   "outputs": [
    {
     "data": {
      "text/plain": [
       "1.9219389762676125"
      ]
     },
     "execution_count": 46,
     "metadata": {},
     "output_type": "execute_result"
    }
   ],
   "source": [
    "100*log_df[(log_df['dropmode'] == dropmode) & (log_df['scale'] == dropscale)].sort_values('total_accuracy', ascending=False).iloc[:5]['total_accuracy'].std()"
   ]
  },
  {
   "cell_type": "code",
   "execution_count": 48,
   "id": "13c77b82-b062-4d0a-95a0-d5ff0cf6fd24",
   "metadata": {},
   "outputs": [],
   "source": [
    "setting = log_df[(log_df['dropmode'] == dropmode) & (log_df['scale'] == dropscale)].sort_values('validation_accuracy', ascending=False).iloc[:1]"
   ]
  },
  {
   "cell_type": "code",
   "execution_count": null,
   "id": "829e4b84-b2fd-4663-89cd-ef2c9a42871b",
   "metadata": {},
   "outputs": [],
   "source": [
    "grouped = log_df.groupby(['dropmode', 'scale'])\n",
    "best_settings = grouped.apply(lambda x: x.loc[x['validation_accuracy'].idxmax()])\n",
    "\n",
    "results_df = pd.DataFrame(columns=['dropmode', 'dropscale', 'validation_accuracy', 'test_accuracy'])\n",
    "\n",
    "for i, (index, setting) in enumerate(best_settings.iterrows()):\n",
    "    for j in range(5):\n",
    "        model = KAN(\n",
    "        seed=j,\n",
    "        width=[dataset['train_input'].shape[1], 10, 1],\n",
    "        grid=3,\n",
    "        k=3,\n",
    "        symbolic_enabled=False,\n",
    "        drop_prob=[setting['drop_prob1'], setting['drop_prob2']],\n",
    "        dropmode=[setting['dropmode'], setting['dropmode']],\n",
    "        dropscale=setting['scale'],\n",
    "        neuron_func='sum'\n",
    "        )\n",
    "        results = model.train(dataset, opt=\"Adam\", steps=2000, batch=32, lr=0.01)\n",
    "        set_training_mode(model, False)\n",
    "        \n",
    "        val_acc = torch.mean((torch.round(model(dataset['val_input'])[:,0]) == dataset['val_label'][:,0]).float()).item()\n",
    "        test_acc = torch.mean((torch.round(model(dataset['test_input'])[:,0]) == dataset['test_label'][:,0]).float()).item()\n",
    "        print(setting['dropmode'], setting['scale'], val_acc, test_acc)\n",
    "        results_df.loc[len(results_df)] = [setting['dropmode'], setting['scale'], val_acc, test_acc]\n",
    "    "
   ]
  },
  {
   "cell_type": "code",
   "execution_count": null,
   "id": "3e22cbde-b46c-4c24-8f5b-da998f98e98b",
   "metadata": {},
   "outputs": [],
   "source": [
    "for j in range(5):\n",
    "        model = KAN(\n",
    "        seed=j,\n",
    "        width=[dataset['train_input'].shape[1], 10, 1],\n",
    "        grid=3,\n",
    "        k=3,\n",
    "        symbolic_enabled=False,\n",
    "        drop_prob=[0.0, 0.0],\n",
    "        dropmode=[-1, -1],\n",
    "        dropscale= -1,\n",
    "        neuron_func='sum'\n",
    "        )\n",
    "        results = model.train(dataset, opt=\"Adam\", steps=2000, batch=32, lr=0.01)\n",
    "        set_training_mode(model, False)\n",
    "        \n",
    "        val_acc = torch.mean((torch.round(model(dataset['val_input'])[:,0]) == dataset['val_label'][:,0]).float()).item()\n",
    "        test_acc = torch.mean((torch.round(model(dataset['test_input'])[:,0]) == dataset['test_label'][:,0]).float()).item()\n",
    "        print(setting['dropmode'], setting['scale'], val_acc, test_acc)\n",
    "        results_df.loc[len(results_df)] = [-1, -1, val_acc, test_acc]"
   ]
  },
  {
   "cell_type": "code",
   "execution_count": null,
   "id": "dfc9d1b2-e6c0-46c0-972b-b5ab41c0d7ed",
   "metadata": {},
   "outputs": [],
   "source": [
    "results_df.to_excel(folder+file_name+'_results.xlsx', index=False) "
   ]
  },
  {
   "cell_type": "code",
   "execution_count": 68,
   "id": "b95a2f13-26af-46fd-b421-ef5b239ebff7",
   "metadata": {},
   "outputs": [
    {
     "data": {
      "text/html": [
       "<div>\n",
       "<style scoped>\n",
       "    .dataframe tbody tr th:only-of-type {\n",
       "        vertical-align: middle;\n",
       "    }\n",
       "\n",
       "    .dataframe tbody tr th {\n",
       "        vertical-align: top;\n",
       "    }\n",
       "\n",
       "    .dataframe thead th {\n",
       "        text-align: right;\n",
       "    }\n",
       "</style>\n",
       "<table border=\"1\" class=\"dataframe\">\n",
       "  <thead>\n",
       "    <tr style=\"text-align: right;\">\n",
       "      <th></th>\n",
       "      <th>dropmode</th>\n",
       "      <th>dropscale</th>\n",
       "      <th>validation_accuracy</th>\n",
       "      <th>test_accuracy</th>\n",
       "    </tr>\n",
       "  </thead>\n",
       "  <tbody>\n",
       "    <tr>\n",
       "      <th>0</th>\n",
       "      <td>0.0</td>\n",
       "      <td>False</td>\n",
       "      <td>0.993711</td>\n",
       "      <td>0.990596</td>\n",
       "    </tr>\n",
       "    <tr>\n",
       "      <th>1</th>\n",
       "      <td>0.0</td>\n",
       "      <td>False</td>\n",
       "      <td>0.993711</td>\n",
       "      <td>0.978056</td>\n",
       "    </tr>\n",
       "    <tr>\n",
       "      <th>2</th>\n",
       "      <td>0.0</td>\n",
       "      <td>False</td>\n",
       "      <td>0.993711</td>\n",
       "      <td>0.987461</td>\n",
       "    </tr>\n",
       "    <tr>\n",
       "      <th>3</th>\n",
       "      <td>0.0</td>\n",
       "      <td>False</td>\n",
       "      <td>0.987421</td>\n",
       "      <td>0.987461</td>\n",
       "    </tr>\n",
       "    <tr>\n",
       "      <th>4</th>\n",
       "      <td>0.0</td>\n",
       "      <td>False</td>\n",
       "      <td>0.984277</td>\n",
       "      <td>0.990596</td>\n",
       "    </tr>\n",
       "    <tr>\n",
       "      <th>5</th>\n",
       "      <td>0.0</td>\n",
       "      <td>True</td>\n",
       "      <td>0.993711</td>\n",
       "      <td>0.984326</td>\n",
       "    </tr>\n",
       "    <tr>\n",
       "      <th>6</th>\n",
       "      <td>0.0</td>\n",
       "      <td>True</td>\n",
       "      <td>0.990566</td>\n",
       "      <td>0.981191</td>\n",
       "    </tr>\n",
       "    <tr>\n",
       "      <th>7</th>\n",
       "      <td>0.0</td>\n",
       "      <td>True</td>\n",
       "      <td>0.987421</td>\n",
       "      <td>0.981191</td>\n",
       "    </tr>\n",
       "    <tr>\n",
       "      <th>8</th>\n",
       "      <td>0.0</td>\n",
       "      <td>True</td>\n",
       "      <td>0.993711</td>\n",
       "      <td>0.987461</td>\n",
       "    </tr>\n",
       "    <tr>\n",
       "      <th>9</th>\n",
       "      <td>0.0</td>\n",
       "      <td>True</td>\n",
       "      <td>0.990566</td>\n",
       "      <td>0.981191</td>\n",
       "    </tr>\n",
       "    <tr>\n",
       "      <th>10</th>\n",
       "      <td>2.0</td>\n",
       "      <td>False</td>\n",
       "      <td>0.993711</td>\n",
       "      <td>0.993730</td>\n",
       "    </tr>\n",
       "    <tr>\n",
       "      <th>11</th>\n",
       "      <td>2.0</td>\n",
       "      <td>False</td>\n",
       "      <td>0.993711</td>\n",
       "      <td>0.993730</td>\n",
       "    </tr>\n",
       "    <tr>\n",
       "      <th>12</th>\n",
       "      <td>2.0</td>\n",
       "      <td>False</td>\n",
       "      <td>0.990566</td>\n",
       "      <td>0.996865</td>\n",
       "    </tr>\n",
       "    <tr>\n",
       "      <th>13</th>\n",
       "      <td>2.0</td>\n",
       "      <td>False</td>\n",
       "      <td>0.993711</td>\n",
       "      <td>1.000000</td>\n",
       "    </tr>\n",
       "    <tr>\n",
       "      <th>14</th>\n",
       "      <td>2.0</td>\n",
       "      <td>False</td>\n",
       "      <td>0.990566</td>\n",
       "      <td>0.993730</td>\n",
       "    </tr>\n",
       "    <tr>\n",
       "      <th>15</th>\n",
       "      <td>2.0</td>\n",
       "      <td>True</td>\n",
       "      <td>0.990566</td>\n",
       "      <td>0.990596</td>\n",
       "    </tr>\n",
       "    <tr>\n",
       "      <th>16</th>\n",
       "      <td>2.0</td>\n",
       "      <td>True</td>\n",
       "      <td>0.993711</td>\n",
       "      <td>0.993730</td>\n",
       "    </tr>\n",
       "    <tr>\n",
       "      <th>17</th>\n",
       "      <td>2.0</td>\n",
       "      <td>True</td>\n",
       "      <td>0.993711</td>\n",
       "      <td>0.993730</td>\n",
       "    </tr>\n",
       "    <tr>\n",
       "      <th>18</th>\n",
       "      <td>2.0</td>\n",
       "      <td>True</td>\n",
       "      <td>0.990566</td>\n",
       "      <td>0.987461</td>\n",
       "    </tr>\n",
       "    <tr>\n",
       "      <th>19</th>\n",
       "      <td>2.0</td>\n",
       "      <td>True</td>\n",
       "      <td>0.990566</td>\n",
       "      <td>0.996865</td>\n",
       "    </tr>\n",
       "    <tr>\n",
       "      <th>20</th>\n",
       "      <td>4.0</td>\n",
       "      <td>False</td>\n",
       "      <td>1.000000</td>\n",
       "      <td>1.000000</td>\n",
       "    </tr>\n",
       "    <tr>\n",
       "      <th>21</th>\n",
       "      <td>4.0</td>\n",
       "      <td>False</td>\n",
       "      <td>0.993711</td>\n",
       "      <td>1.000000</td>\n",
       "    </tr>\n",
       "    <tr>\n",
       "      <th>22</th>\n",
       "      <td>4.0</td>\n",
       "      <td>False</td>\n",
       "      <td>0.993711</td>\n",
       "      <td>1.000000</td>\n",
       "    </tr>\n",
       "    <tr>\n",
       "      <th>23</th>\n",
       "      <td>4.0</td>\n",
       "      <td>False</td>\n",
       "      <td>0.993711</td>\n",
       "      <td>1.000000</td>\n",
       "    </tr>\n",
       "    <tr>\n",
       "      <th>24</th>\n",
       "      <td>4.0</td>\n",
       "      <td>False</td>\n",
       "      <td>0.993711</td>\n",
       "      <td>1.000000</td>\n",
       "    </tr>\n",
       "    <tr>\n",
       "      <th>25</th>\n",
       "      <td>4.0</td>\n",
       "      <td>True</td>\n",
       "      <td>1.000000</td>\n",
       "      <td>1.000000</td>\n",
       "    </tr>\n",
       "    <tr>\n",
       "      <th>26</th>\n",
       "      <td>4.0</td>\n",
       "      <td>True</td>\n",
       "      <td>0.990566</td>\n",
       "      <td>0.996865</td>\n",
       "    </tr>\n",
       "    <tr>\n",
       "      <th>27</th>\n",
       "      <td>4.0</td>\n",
       "      <td>True</td>\n",
       "      <td>0.993711</td>\n",
       "      <td>1.000000</td>\n",
       "    </tr>\n",
       "    <tr>\n",
       "      <th>28</th>\n",
       "      <td>4.0</td>\n",
       "      <td>True</td>\n",
       "      <td>1.000000</td>\n",
       "      <td>1.000000</td>\n",
       "    </tr>\n",
       "    <tr>\n",
       "      <th>29</th>\n",
       "      <td>4.0</td>\n",
       "      <td>True</td>\n",
       "      <td>1.000000</td>\n",
       "      <td>0.996865</td>\n",
       "    </tr>\n",
       "    <tr>\n",
       "      <th>30</th>\n",
       "      <td>5.0</td>\n",
       "      <td>False</td>\n",
       "      <td>1.000000</td>\n",
       "      <td>1.000000</td>\n",
       "    </tr>\n",
       "    <tr>\n",
       "      <th>31</th>\n",
       "      <td>5.0</td>\n",
       "      <td>False</td>\n",
       "      <td>0.996855</td>\n",
       "      <td>0.996865</td>\n",
       "    </tr>\n",
       "    <tr>\n",
       "      <th>32</th>\n",
       "      <td>5.0</td>\n",
       "      <td>False</td>\n",
       "      <td>0.996855</td>\n",
       "      <td>1.000000</td>\n",
       "    </tr>\n",
       "    <tr>\n",
       "      <th>33</th>\n",
       "      <td>5.0</td>\n",
       "      <td>False</td>\n",
       "      <td>0.993711</td>\n",
       "      <td>1.000000</td>\n",
       "    </tr>\n",
       "    <tr>\n",
       "      <th>34</th>\n",
       "      <td>5.0</td>\n",
       "      <td>False</td>\n",
       "      <td>0.993711</td>\n",
       "      <td>0.996865</td>\n",
       "    </tr>\n",
       "    <tr>\n",
       "      <th>35</th>\n",
       "      <td>5.0</td>\n",
       "      <td>True</td>\n",
       "      <td>0.996855</td>\n",
       "      <td>0.996865</td>\n",
       "    </tr>\n",
       "    <tr>\n",
       "      <th>36</th>\n",
       "      <td>5.0</td>\n",
       "      <td>True</td>\n",
       "      <td>0.993711</td>\n",
       "      <td>0.996865</td>\n",
       "    </tr>\n",
       "    <tr>\n",
       "      <th>37</th>\n",
       "      <td>5.0</td>\n",
       "      <td>True</td>\n",
       "      <td>0.993711</td>\n",
       "      <td>1.000000</td>\n",
       "    </tr>\n",
       "    <tr>\n",
       "      <th>38</th>\n",
       "      <td>5.0</td>\n",
       "      <td>True</td>\n",
       "      <td>0.996855</td>\n",
       "      <td>1.000000</td>\n",
       "    </tr>\n",
       "    <tr>\n",
       "      <th>39</th>\n",
       "      <td>5.0</td>\n",
       "      <td>True</td>\n",
       "      <td>0.996855</td>\n",
       "      <td>1.000000</td>\n",
       "    </tr>\n",
       "    <tr>\n",
       "      <th>40</th>\n",
       "      <td>-1.0</td>\n",
       "      <td>-1.0</td>\n",
       "      <td>0.993711</td>\n",
       "      <td>1.000000</td>\n",
       "    </tr>\n",
       "    <tr>\n",
       "      <th>41</th>\n",
       "      <td>-1.0</td>\n",
       "      <td>-1.0</td>\n",
       "      <td>0.993711</td>\n",
       "      <td>0.996865</td>\n",
       "    </tr>\n",
       "    <tr>\n",
       "      <th>42</th>\n",
       "      <td>-1.0</td>\n",
       "      <td>-1.0</td>\n",
       "      <td>0.977987</td>\n",
       "      <td>0.971787</td>\n",
       "    </tr>\n",
       "    <tr>\n",
       "      <th>43</th>\n",
       "      <td>-1.0</td>\n",
       "      <td>-1.0</td>\n",
       "      <td>0.993711</td>\n",
       "      <td>0.996865</td>\n",
       "    </tr>\n",
       "    <tr>\n",
       "      <th>44</th>\n",
       "      <td>-1.0</td>\n",
       "      <td>-1.0</td>\n",
       "      <td>0.993711</td>\n",
       "      <td>0.996865</td>\n",
       "    </tr>\n",
       "  </tbody>\n",
       "</table>\n",
       "</div>"
      ],
      "text/plain": [
       "    dropmode dropscale  validation_accuracy  test_accuracy\n",
       "0        0.0     False             0.993711       0.990596\n",
       "1        0.0     False             0.993711       0.978056\n",
       "2        0.0     False             0.993711       0.987461\n",
       "3        0.0     False             0.987421       0.987461\n",
       "4        0.0     False             0.984277       0.990596\n",
       "5        0.0      True             0.993711       0.984326\n",
       "6        0.0      True             0.990566       0.981191\n",
       "7        0.0      True             0.987421       0.981191\n",
       "8        0.0      True             0.993711       0.987461\n",
       "9        0.0      True             0.990566       0.981191\n",
       "10       2.0     False             0.993711       0.993730\n",
       "11       2.0     False             0.993711       0.993730\n",
       "12       2.0     False             0.990566       0.996865\n",
       "13       2.0     False             0.993711       1.000000\n",
       "14       2.0     False             0.990566       0.993730\n",
       "15       2.0      True             0.990566       0.990596\n",
       "16       2.0      True             0.993711       0.993730\n",
       "17       2.0      True             0.993711       0.993730\n",
       "18       2.0      True             0.990566       0.987461\n",
       "19       2.0      True             0.990566       0.996865\n",
       "20       4.0     False             1.000000       1.000000\n",
       "21       4.0     False             0.993711       1.000000\n",
       "22       4.0     False             0.993711       1.000000\n",
       "23       4.0     False             0.993711       1.000000\n",
       "24       4.0     False             0.993711       1.000000\n",
       "25       4.0      True             1.000000       1.000000\n",
       "26       4.0      True             0.990566       0.996865\n",
       "27       4.0      True             0.993711       1.000000\n",
       "28       4.0      True             1.000000       1.000000\n",
       "29       4.0      True             1.000000       0.996865\n",
       "30       5.0     False             1.000000       1.000000\n",
       "31       5.0     False             0.996855       0.996865\n",
       "32       5.0     False             0.996855       1.000000\n",
       "33       5.0     False             0.993711       1.000000\n",
       "34       5.0     False             0.993711       0.996865\n",
       "35       5.0      True             0.996855       0.996865\n",
       "36       5.0      True             0.993711       0.996865\n",
       "37       5.0      True             0.993711       1.000000\n",
       "38       5.0      True             0.996855       1.000000\n",
       "39       5.0      True             0.996855       1.000000\n",
       "40      -1.0      -1.0             0.993711       1.000000\n",
       "41      -1.0      -1.0             0.993711       0.996865\n",
       "42      -1.0      -1.0             0.977987       0.971787\n",
       "43      -1.0      -1.0             0.993711       0.996865\n",
       "44      -1.0      -1.0             0.993711       0.996865"
      ]
     },
     "execution_count": 68,
     "metadata": {},
     "output_type": "execute_result"
    }
   ],
   "source": [
    "results_df"
   ]
  },
  {
   "cell_type": "code",
   "execution_count": null,
   "id": "41955128-c165-49ec-bcb4-b7772970e52d",
   "metadata": {},
   "outputs": [],
   "source": []
  },
  {
   "cell_type": "code",
   "execution_count": null,
   "id": "623c5538-4d19-47f4-bf34-a8f8187d90fc",
   "metadata": {},
   "outputs": [],
   "source": []
  },
  {
   "cell_type": "code",
   "execution_count": 228,
   "id": "d2a86fa1-5ca9-4f39-b4e2-5830b2b6601b",
   "metadata": {},
   "outputs": [
    {
     "name": "stderr",
     "output_type": "stream",
     "text": [
      "train loss: 3.28e-01 | test loss: 3.20e-01 | reg: 7.65e+01 : 100%|█| 2000/2000 [00:44<00:00, 45.20it\n"
     ]
    }
   ],
   "source": [
    "model = KAN(\n",
    "seed=0,\n",
    "width=[dataset['train_input'].shape[1], 10, 1],\n",
    "grid=3,\n",
    "k=3,\n",
    "bias_trainable=False,\n",
    "sp_trainable=False,\n",
    "sb_trainable=False,\n",
    "symbolic_enabled=False,\n",
    "drop_prob=[0.1, 0.],\n",
    "dropmode=[4, 4],\n",
    "dropscale=True\t\n",
    ")\n",
    "\n",
    "def train_acc():\n",
    "    return torch.mean((torch.round(model(dataset['train_input'][:100])[:,0]) == dataset['train_label'][:100][:,0]).float())\n",
    "\n",
    "def test_acc():\n",
    "    return torch.mean((torch.round(model(dataset['test_input'])[:,0]) == dataset['test_label'][:,0]).float())\n",
    "    \n",
    "results = model.train(dataset, opt=\"Adam\", steps=2000, batch=32, lr=0.1, metrics=(train_acc, test_acc), log=100)\n",
    "set_training_mode(model, False)\n",
    "\n",
    "val_acc = torch.mean((torch.round(model(dataset['val_input'])[:,0]) == dataset['val_label'][:,0]).float()).item()\n",
    "test_acc = torch.mean((torch.round(model(dataset['test_input'])[:,0]) == dataset['test_label'][:,0]).float()).item()\n",
    "#print(setting['dropmode'], setting['scale'], val_acc, test_acc)"
   ]
  },
  {
   "cell_type": "code",
   "execution_count": 229,
   "id": "247324ef-720e-4410-bb5f-037781abde22",
   "metadata": {},
   "outputs": [
    {
     "data": {
      "image/png": "[encoded data removed]",
      "text/plain": [
       "<Figure size 1200x600 with 1 Axes>"
      ]
     },
     "metadata": {},
     "output_type": "display_data"
    }
   ],
   "source": [
    "import matplotlib.pyplot as plt\n",
    "\n",
    "def moving_average(data, n):\n",
    "    \"\"\"Calculate the moving average of the last n points.\"\"\"\n",
    "    return np.convolve(data, np.ones(n)/n, mode='valid')\n",
    "    \n",
    "# Calculate moving average\n",
    "n = 1  # For example, the last 3 points\n",
    "train_acc_ma = moving_average(results['train_acc'], n)\n",
    "test_acc_ma = moving_average(results['test_acc'], n)\n",
    "\n",
    "# Step 5: Plot the results\n",
    "plt.figure(figsize=(12, 6))\n",
    "\n",
    "# Plot training accuracy\n",
    "#plt.plot(results['train_acc'], label='Train Accuracy', marker='o', linestyle='-', alpha=0.3)\n",
    "plt.plot(range(n-1, len(results['train_acc'])), train_acc_ma, label=f'Train Accuracy (MA, n={n})', marker='o', linestyle='-')\n",
    "\n",
    "# Plot test accuracy\n",
    "#plt.plot(results['test_acc'], label='Test Accuracy', marker='o', linestyle='-', alpha=0.3)\n",
    "plt.plot(range(n-1, len(results['test_acc'])), test_acc_ma, label=f'Test Accuracy (MA, n={n})', marker='o', linestyle='-')\n",
    "\n",
    "plt.xlabel('Experiment Index')\n",
    "plt.ylabel('Accuracy')\n",
    "plt.title('Train and Test Accuracy with Moving Averages')\n",
    "plt.legend()\n",
    "plt.grid(True)\n",
    "plt.show()"
   ]
  },
  {
   "cell_type": "code",
   "execution_count": 232,
   "id": "a1409a4c-82b3-4845-ba45-7027b3703494",
   "metadata": {},
   "outputs": [
    {
     "data": {
      "text/plain": [
       "(0.9178082346916199, 0.9189189076423645)"
      ]
     },
     "execution_count": 232,
     "metadata": {},
     "output_type": "execute_result"
    }
   ],
   "source": [
    "val_acc, test_acc"
   ]
  },
  {
   "cell_type": "code",
   "execution_count": 233,
   "id": "95773f7e-16ac-4106-90e4-fe6bab719570",
   "metadata": {},
   "outputs": [
    {
     "data": {
      "text/plain": [
       "0.8918918967247009"
      ]
     },
     "execution_count": 233,
     "metadata": {},
     "output_type": "execute_result"
    }
   ],
   "source": [
    "results['test_acc'][-1]"
   ]
  },
  {
   "cell_type": "code",
   "execution_count": null,
   "id": "cb4c33a3-f1f0-49e2-9221-f901be92df9d",
   "metadata": {},
   "outputs": [],
   "source": []
  },
  {
   "cell_type": "code",
   "execution_count": null,
   "id": "1de4d6c5-37b9-4053-8bd9-557b0ae09fa7",
   "metadata": {},
   "outputs": [],
   "source": []
  },
  {
   "cell_type": "code",
   "execution_count": null,
   "id": "f90196c7-7770-456c-902e-ee6fc37ba463",
   "metadata": {},
   "outputs": [],
   "source": []
  },
  {
   "cell_type": "code",
   "execution_count": null,
   "id": "6e318f17-93d7-4fe0-987a-490b20e107cd",
   "metadata": {},
   "outputs": [],
   "source": []
  },
  {
   "cell_type": "code",
   "execution_count": null,
   "id": "a91ee39a-b2e7-4720-a507-0cbfd121711b",
   "metadata": {},
   "outputs": [],
   "source": []
  },
  {
   "cell_type": "code",
   "execution_count": 219,
   "id": "590eabf4-47fb-4c27-9312-5440591adb39",
   "metadata": {},
   "outputs": [
    {
     "data": {
      "text/plain": [
       "tensor(12.5201, dtype=torch.float32)"
      ]
     },
     "execution_count": 219,
     "metadata": {},
     "output_type": "execute_result"
    }
   ],
   "source": [
    "avg = 0\n",
    "num = 100000\n",
    "for _ in range(num):\n",
    "    random.seed()\n",
    "    x = F.dropout(dataset['train_input'], p=0.99, training=True)\n",
    "    avg+=x.sum()\n",
    "    #print(x.sum())\n",
    "avg/num"
   ]
  },
  {
   "cell_type": "code",
   "execution_count": 44,
   "id": "2dbc3d36-df2e-4698-bf1c-51c676ffdda3",
   "metadata": {},
   "outputs": [],
   "source": [
    "mask = torch.empty(dataset['train_input'].shape, device=dataset['train_input'].device).bernoulli_(1 - 0.2)\n",
    "y = (dataset['train_input'] * mask) / (1 - 0.2)"
   ]
  },
  {
   "cell_type": "code",
   "execution_count": 45,
   "id": "86c1b70e-1de1-4287-bcca-62cdb798f85f",
   "metadata": {},
   "outputs": [
    {
     "data": {
      "text/plain": [
       "tensor([[-0.5859, -0.6023,  1.7567,  ..., -0.1931, -0.6151,  0.9339],\n",
       "        [-1.5931,  0.0000, -0.0000,  ..., -0.1931, -0.6151, -1.6724],\n",
       "        [-0.5859, -1.2166, -0.5778,  ..., -0.1931, -0.6151,  0.9339],\n",
       "        ...,\n",
       "        [-0.0000, -0.9095, -0.0000,  ..., -0.0000,  2.5391, -0.0000],\n",
       "        [-0.5859,  0.0119, -0.5778,  ..., -0.1931,  2.5391, -1.6724],\n",
       "        [-0.5859, -0.2952,  1.7567,  ...,  8.0818, -0.6151, -1.6724]])"
      ]
     },
     "execution_count": 45,
     "metadata": {},
     "output_type": "execute_result"
    }
   ],
   "source": [
    "y"
   ]
  },
  {
   "cell_type": "code",
   "execution_count": 31,
   "id": "fee0e3aa-c46e-4db3-a9da-586b48ab96e0",
   "metadata": {},
   "outputs": [
    {
     "data": {
      "text/plain": [
       "tensor([[-0.0000,  0.3277,  0.4568,  ...,  0.0000, -0.0000, -0.0000],\n",
       "        [ 1.3545,  0.3277, -1.7418,  ..., -0.0000, -0.0000, -0.0000],\n",
       "        [-1.5971, -1.1371, -0.6425,  ...,  0.1312, -0.4936, -1.1219],\n",
       "        ...,\n",
       "        [-1.5971,  0.3277,  0.4568,  ...,  0.1312, -0.4936, -0.2711],\n",
       "        [-0.1213,  0.0000,  0.0000,  ...,  0.1312, -0.4936,  0.7762],\n",
       "        [ 1.3545,  0.3277,  0.4568,  ...,  0.0000, -0.4936, -1.7765]])"
      ]
     },
     "execution_count": 31,
     "metadata": {},
     "output_type": "execute_result"
    }
   ],
   "source": [
    "dataset['train_input'] * mask"
   ]
  },
  {
   "cell_type": "code",
   "execution_count": 29,
   "id": "85ecd5a4-e845-48b7-96ae-a73fb709428d",
   "metadata": {},
   "outputs": [
    {
     "name": "stdout",
     "output_type": "stream",
     "text": [
      "Normalized tensor using nn.BatchNorm1d:\n",
      "tensor([[ 1.5320, -0.6415,  0.9776, -0.4502, -1.0654,  0.1667],\n",
      "        [-0.4933,  1.5390, -0.8117, -1.3769, -1.0654, -1.6273],\n",
      "        [-0.2126, -0.6415,  0.0611,  0.6090,  1.0094,  0.1667],\n",
      "        [-0.4933,  0.3855, -0.8117,  0.6090,  1.0094,  1.1273],\n",
      "        [-0.3329, -0.6415,  0.5848,  0.6090,  0.1119,  0.1667]])\n",
      "Manually normalized tensor:\n",
      "tensor([[ 1.4289, -0.5887,  0.9192, -0.4179, -0.9661,  0.1522],\n",
      "        [-0.4601,  1.4122, -0.7633, -1.2781, -0.9661, -1.4855],\n",
      "        [-0.1983, -0.5887,  0.0575,  0.5653,  0.9154,  0.1522],\n",
      "        [-0.4601,  0.3538, -0.7633,  0.5653,  0.9154,  1.0290],\n",
      "        [-0.3105, -0.5887,  0.5499,  0.5653,  0.1015,  0.1522]])\n",
      "Are both tensors equal?  False\n"
     ]
    }
   ],
   "source": [
    "import torch\n",
    "import torch.nn as nn\n",
    "\n",
    "# Create the tensor with the correct data type\n",
    "x = torch.tensor([[ 0.0019, -0.0097, -0.0001,  0.0029, -0.0136,  0.0022],\n",
    "                  [-0.0082,  0.0041, -0.0083, -0.0020, -0.0136, -0.0105],\n",
    "                  [-0.0068, -0.0097, -0.0043,  0.0085,  0.0042,  0.0022],\n",
    "                  [-0.0082, -0.0032, -0.0083,  0.0085,  0.0042,  0.0090],\n",
    "                  [-0.0074, -0.0097, -0.0019,  0.0085, -0.0035,  0.0022]],\n",
    "                )\n",
    "\n",
    "# Create a batch normalization layer\n",
    "batch_norm = nn.BatchNorm1d(x.size(1), affine=False)\n",
    "\n",
    "# Ensure the batch normalization layer is in training mode\n",
    "batch_norm.train()\n",
    "\n",
    "# Apply batch normalization to the tensor\n",
    "normalized_x = batch_norm(x)\n",
    "\n",
    "print(\"Normalized tensor using nn.BatchNorm1d:\")\n",
    "print(normalized_x)\n",
    "\n",
    "# Manual calculation\n",
    "means = torch.mean(x, dim=0)\n",
    "variances = torch.var(x, dim=0, unbiased=True)  # unbiased variance\n",
    "eps = 1e-5  # small epsilon value for numerical stability\n",
    "std_devs = torch.sqrt(variances + eps)\n",
    "\n",
    "manual_normalized_x = (x - means) / std_devs\n",
    "\n",
    "print(\"Manually normalized tensor:\")\n",
    "print(manual_normalized_x)\n",
    "\n",
    "# Verify that both tensors are equal\n",
    "print(\"Are both tensors equal? \", torch.allclose(normalized_x, manual_normalized_x, atol=1e-6))"
   ]
  },
  {
   "cell_type": "code",
   "execution_count": 10,
   "id": "7ce92f70-2e99-4f9e-930e-c6e58459eff5",
   "metadata": {},
   "outputs": [
    {
     "name": "stderr",
     "output_type": "stream",
     "text": [
      "train loss: 1.49e+00 | test loss: 1.52e+00 | reg: 9.67e+00 : 100%|████| 1/1 [00:00<00:00,  1.87it/s]"
     ]
    },
    {
     "name": "stdout",
     "output_type": "stream",
     "text": [
      "x after act torch.Size([3, 6]) tensor([[ 0.4343, -0.4667, -1.3133, -1.2053, -1.2456, -1.2636],\n",
      "        [-1.3301,  1.3306,  1.3354,  0.0165, -1.2456,  1.2040],\n",
      "        [-0.4479, -0.4667,  0.4525,  1.2383,  1.2265, -1.2636]],\n",
      "       dtype=torch.float32)\n",
      "x after after act tensor([[ 0.4343, -1.3301, -0.4479],\n",
      "        [-0.4667,  1.3306, -0.4667],\n",
      "        [-1.3133,  1.3354,  0.4525],\n",
      "        [-1.2053,  0.0165,  1.2383],\n",
      "        [-1.2456, -1.2456,  1.2265],\n",
      "        [-1.2636,  1.2040, -1.2636],\n",
      "        [ 0.4343, -1.3301, -0.4479],\n",
      "        [-0.4667,  1.3306, -0.4667],\n",
      "        [-1.3133,  1.3354,  0.4525],\n",
      "        [-1.2053,  0.0165,  1.2383],\n",
      "        [-1.2456, -1.2456,  1.2265],\n",
      "        [-1.2636,  1.2040, -1.2636]])\n",
      "y before after act tensor([[-0.0013, -0.0101, -0.0114, -0.0095,  0.0107, -0.0074,  0.0090, -0.0167,\n",
      "          0.0027,  0.0147, -0.0131, -0.0009],\n",
      "        [-0.0054,  0.0066,  0.0046,  0.0032,  0.0107,  0.0136,  0.0032, -0.0079,\n",
      "         -0.0171,  0.0118, -0.0131,  0.0066],\n",
      "        [ 0.0032, -0.0101, -0.0130,  0.0056,  0.0014, -0.0074, -0.0014, -0.0167,\n",
      "          0.0092, -0.0094, -0.0054, -0.0009]], grad_fn=<PermuteBackward0>)\n",
      "tensor([1., 0., 1., 0., 1., 1.])\n",
      "tensor([1., 0., 1., 0., 1., 1., 1., 0., 1., 0., 1., 1.])\n",
      "tensor([[1., 0., 1., 0., 1., 1., 1., 0., 1., 0., 1., 1.],\n",
      "        [1., 0., 1., 0., 1., 1., 1., 0., 1., 0., 1., 1.],\n",
      "        [1., 0., 1., 0., 1., 1., 1., 0., 1., 0., 1., 1.]])\n",
      "y  after act tensor([[-0.0013, -0.0000, -0.0114, -0.0000,  0.0107, -0.0074,  0.0090, -0.0000,\n",
      "          0.0027,  0.0000, -0.0131, -0.0009],\n",
      "        [-0.0054,  0.0000,  0.0046,  0.0000,  0.0107,  0.0136,  0.0032, -0.0000,\n",
      "         -0.0171,  0.0000, -0.0131,  0.0066],\n",
      "        [ 0.0032, -0.0000, -0.0130,  0.0000,  0.0014, -0.0074, -0.0014, -0.0000,\n",
      "          0.0092, -0.0000, -0.0054, -0.0009]], grad_fn=<MulBackward0>)\n",
      "x after act torch.Size([3, 2]) tensor([[-0.0071, -0.2430],\n",
      "        [-0.0157,  0.8146],\n",
      "        [ 0.2800,  0.1952]], grad_fn=<AddBackward0>)\n",
      "x after after act tensor([[-0.0071, -0.0157,  0.2800],\n",
      "        [-0.2430,  0.8146,  0.1952]], grad_fn=<PermuteBackward0>)\n",
      "y before after act tensor([[-0.0109,  0.0118],\n",
      "        [-0.0110,  0.0099],\n",
      "        [-0.0050,  0.0107]], grad_fn=<PermuteBackward0>)\n",
      "tensor([0., 1.])\n",
      "tensor([0., 1.])\n",
      "tensor([[0., 1.],\n",
      "        [0., 1.],\n",
      "        [0., 1.]])\n",
      "y  after act tensor([[-0.0000, 0.0118],\n",
      "        [-0.0000, 0.0099],\n",
      "        [-0.0000, 0.0107]], grad_fn=<MulBackward0>)\n",
      "x after act torch.Size([3, 6]) tensor([[ 0.4343, -0.4667, -1.3133, -1.2053, -1.2456, -1.2636],\n",
      "        [-1.3301,  1.3306,  1.3354,  0.0165, -1.2456,  1.2040],\n",
      "        [-0.4479, -0.4667,  0.4525,  1.2383,  1.2265, -1.2636]],\n",
      "       dtype=torch.float32)\n",
      "x after after act tensor([[ 0.4343, -1.3301, -0.4479],\n",
      "        [-0.4667,  1.3306, -0.4667],\n",
      "        [-1.3133,  1.3354,  0.4525],\n",
      "        [-1.2053,  0.0165,  1.2383],\n",
      "        [-1.2456, -1.2456,  1.2265],\n",
      "        [-1.2636,  1.2040, -1.2636],\n",
      "        [ 0.4343, -1.3301, -0.4479],\n",
      "        [-0.4667,  1.3306, -0.4667],\n",
      "        [-1.3133,  1.3354,  0.4525],\n",
      "        [-1.2053,  0.0165,  1.2383],\n",
      "        [-1.2456, -1.2456,  1.2265],\n",
      "        [-1.2636,  1.2040, -1.2636]])\n",
      "y before after act tensor([[-1.3222e-03, -1.0071e-02, -1.1435e-02, -9.4929e-03,  1.0680e-02,\n",
      "         -7.4476e-03,  9.0299e-03, -1.6678e-02,  2.6729e-03,  1.4736e-02,\n",
      "         -1.3105e-02, -9.2351e-04],\n",
      "        [-5.4443e-03, -5.2890e-09,  4.6458e-03,  3.2164e-03,  1.0680e-02,\n",
      "         -1.5048e-09,  3.2046e-03, -8.7582e-09, -1.7100e-02,  1.1784e-02,\n",
      "         -1.3105e-02, -1.8659e-10],\n",
      "        [ 3.1501e-03, -1.0071e-02, -1.3032e-02,  5.6225e-03,  2.1462e-09,\n",
      "         -7.4476e-03, -1.3564e-03, -1.6678e-02,  9.2021e-03, -9.4149e-03,\n",
      "         -2.6334e-09, -9.2351e-04]], grad_fn=<PermuteBackward0>)\n",
      "tensor([1., 1., 0., 1., 1., 1.])\n",
      "tensor([1., 1., 0., 1., 1., 1., 1., 1., 0., 1., 1., 1.])\n",
      "tensor([[1., 1., 0., 1., 1., 1., 1., 1., 0., 1., 1., 1.],\n",
      "        [1., 1., 0., 1., 1., 1., 1., 1., 0., 1., 1., 1.],\n",
      "        [1., 1., 0., 1., 1., 1., 1., 1., 0., 1., 1., 1.]])\n",
      "y  after act tensor([[-1.3222e-03, -1.0071e-02, -0.0000e+00, -9.4929e-03,  1.0680e-02,\n",
      "         -7.4476e-03,  9.0299e-03, -1.6678e-02,  0.0000e+00,  1.4736e-02,\n",
      "         -1.3105e-02, -9.2351e-04],\n",
      "        [-5.4443e-03, -5.2890e-09,  0.0000e+00,  3.2164e-03,  1.0680e-02,\n",
      "         -1.5048e-09,  3.2046e-03, -8.7582e-09, -0.0000e+00,  1.1784e-02,\n",
      "         -1.3105e-02, -1.8659e-10],\n",
      "        [ 3.1501e-03, -1.0071e-02, -0.0000e+00,  5.6225e-03,  2.1462e-09,\n",
      "         -7.4476e-03, -1.3564e-03, -1.6678e-02,  0.0000e+00, -9.4149e-03,\n",
      "         -2.6334e-09, -9.2351e-04]], grad_fn=<MulBackward0>)\n",
      "x after act torch.Size([3, 2]) tensor([[-0.0152, -0.2476],\n",
      "        [-0.0307,  0.8369],\n",
      "        [ 0.2872,  0.1653]], grad_fn=<AddBackward0>)\n",
      "x after after act tensor([[-0.0152, -0.0307,  0.2872],\n",
      "        [-0.2476,  0.8369,  0.1653]], grad_fn=<PermuteBackward0>)\n",
      "y before after act tensor([[-0.0110,  0.0118],\n",
      "        [-0.0112,  0.0099],\n",
      "        [-0.0048,  0.0109]], grad_fn=<PermuteBackward0>)\n",
      "tensor([1., 0.])\n",
      "tensor([1., 0.])\n",
      "tensor([[1., 0.],\n",
      "        [1., 0.],\n",
      "        [1., 0.]])\n",
      "y  after act tensor([[-0.0110,  0.0000],\n",
      "        [-0.0112,  0.0000],\n",
      "        [-0.0048,  0.0000]], grad_fn=<MulBackward0>)\n",
      "x after act torch.Size([3, 6]) tensor([[ 0.4343, -0.4667, -1.3133, -1.2053, -1.2456, -1.2636],\n",
      "        [-1.3301,  1.3306,  1.3354,  0.0165, -1.2456,  1.2040],\n",
      "        [-0.4479, -0.4667,  0.4525,  1.2383,  1.2265, -1.2636]],\n",
      "       dtype=torch.float32)\n",
      "x after after act tensor([[ 0.4343, -1.3301, -0.4479],\n",
      "        [-0.4667,  1.3306, -0.4667],\n",
      "        [-1.3133,  1.3354,  0.4525],\n",
      "        [-1.2053,  0.0165,  1.2383],\n",
      "        [-1.2456, -1.2456,  1.2265],\n",
      "        [-1.2636,  1.2040, -1.2636],\n",
      "        [ 0.4343, -1.3301, -0.4479],\n",
      "        [-0.4667,  1.3306, -0.4667],\n",
      "        [-1.3133,  1.3354,  0.4525],\n",
      "        [-1.2053,  0.0165,  1.2383],\n",
      "        [-1.2456, -1.2456,  1.2265],\n",
      "        [-1.2636,  1.2040, -1.2636]])\n",
      "y before after act tensor([[-1.3222e-03, -1.0071e-02, -1.1435e-02, -9.4929e-03,  1.0680e-02,\n",
      "         -7.4476e-03,  9.0299e-03, -1.6678e-02,  2.6729e-03,  1.4736e-02,\n",
      "         -1.3105e-02, -9.2351e-04],\n",
      "        [-5.4443e-03, -5.2890e-09,  4.6458e-03,  3.2164e-03,  1.0680e-02,\n",
      "         -1.5048e-09,  3.2046e-03, -8.7582e-09, -1.7100e-02,  1.1784e-02,\n",
      "         -1.3105e-02, -1.8659e-10],\n",
      "        [ 3.1501e-03, -1.0071e-02, -1.3032e-02,  5.6225e-03,  2.1462e-09,\n",
      "         -7.4476e-03, -1.3564e-03, -1.6678e-02,  9.2021e-03, -9.4149e-03,\n",
      "         -2.6334e-09, -9.2351e-04]], grad_fn=<PermuteBackward0>)\n",
      "tensor([1., 1., 0., 1., 0., 0.])\n",
      "tensor([1., 1., 0., 1., 0., 0., 1., 1., 0., 1., 0., 0.])\n",
      "tensor([[1., 1., 0., 1., 0., 0., 1., 1., 0., 1., 0., 0.],\n",
      "        [1., 1., 0., 1., 0., 0., 1., 1., 0., 1., 0., 0.],\n",
      "        [1., 1., 0., 1., 0., 0., 1., 1., 0., 1., 0., 0.]])\n",
      "y  after act tensor([[-1.3222e-03, -1.0071e-02, -0.0000e+00, -9.4929e-03,  0.0000e+00,\n",
      "         -0.0000e+00,  9.0299e-03, -1.6678e-02,  0.0000e+00,  1.4736e-02,\n",
      "         -0.0000e+00, -0.0000e+00],\n",
      "        [-5.4443e-03, -5.2890e-09,  0.0000e+00,  3.2164e-03,  0.0000e+00,\n",
      "         -0.0000e+00,  3.2046e-03, -8.7582e-09, -0.0000e+00,  1.1784e-02,\n",
      "         -0.0000e+00, -0.0000e+00],\n",
      "        [ 3.1501e-03, -1.0071e-02, -0.0000e+00,  5.6225e-03,  0.0000e+00,\n",
      "         -0.0000e+00, -1.3564e-03, -1.6678e-02,  0.0000e+00, -9.4149e-03,\n",
      "         -0.0000e+00, -0.0000e+00]], grad_fn=<MulBackward0>)\n",
      "x after act torch.Size([3, 2]) tensor([[-0.0184, -0.2335],\n",
      "        [-0.0414,  0.8500],\n",
      "        [ 0.2947,  0.1662]], grad_fn=<AddBackward0>)\n",
      "x after after act tensor([[-0.0184, -0.0414,  0.2947],\n",
      "        [-0.2335,  0.8500,  0.1662]], grad_fn=<PermuteBackward0>)\n",
      "y before after act tensor([[-0.0111,  0.0119],\n",
      "        [-0.0111,  0.0099],\n",
      "        [-0.0048,  0.0109]], grad_fn=<PermuteBackward0>)\n",
      "tensor([0., 1.])\n",
      "tensor([0., 1.])\n",
      "tensor([[0., 1.],\n",
      "        [0., 1.],\n",
      "        [0., 1.]])\n",
      "y  after act tensor([[-0.0000, 0.0119],\n",
      "        [-0.0000, 0.0099],\n",
      "        [-0.0000, 0.0109]], grad_fn=<MulBackward0>)\n",
      "x after act torch.Size([3, 6]) tensor([[-0.4479, -1.3653, -1.3133,  0.0165, -1.2456, -0.0298],\n",
      "        [-1.3301,  1.3306, -0.4304,  0.0165, -0.0095,  1.2040],\n",
      "        [-1.3301, -0.4667,  1.3354,  0.0165, -1.2456, -1.2636]],\n",
      "       dtype=torch.float32)\n",
      "x after after act tensor([[-0.4479, -1.3301, -1.3301],\n",
      "        [-1.3653,  1.3306, -0.4667],\n",
      "        [-1.3133, -0.4304,  1.3354],\n",
      "        [ 0.0165,  0.0165,  0.0165],\n",
      "        [-1.2456, -0.0095, -1.2456],\n",
      "        [-0.0298,  1.2040, -1.2636],\n",
      "        [-0.4479, -1.3301, -1.3301],\n",
      "        [-1.3653,  1.3306, -0.4667],\n",
      "        [-1.3133, -0.4304,  1.3354],\n",
      "        [ 0.0165,  0.0165,  0.0165],\n",
      "        [-1.2456, -0.0095, -1.2456],\n",
      "        [-0.0298,  1.2040, -1.2636]])\n",
      "y before after act tensor([[ 1.3150e-02,  3.3129e-03, -1.1435e-02,  1.3216e-02,  1.0680e-02,\n",
      "         -1.4401e-03,  8.6436e-03,  2.0440e-03,  2.6729e-03,  2.1784e-02,\n",
      "         -1.3105e-02, -1.7858e-04],\n",
      "        [ 4.5557e-03,  1.0000e-02, -1.2097e-02,  1.3216e-02,  2.0651e-03,\n",
      "         -1.5048e-09,  1.3205e-02,  1.0000e-02,  8.5737e-03,  2.1784e-02,\n",
      "         -2.5339e-03, -1.8659e-10],\n",
      "        [ 4.5557e-03, -7.1487e-05,  4.6458e-03,  1.3216e-02,  1.0680e-02,\n",
      "         -7.4476e-03,  1.3205e-02, -6.6778e-03, -1.7100e-02,  2.1784e-02,\n",
      "         -1.3105e-02, -9.2351e-04]], grad_fn=<PermuteBackward0>)\n",
      "tensor([0., 0., 0., 0., 0., 0.])\n",
      "tensor([0., 0., 0., 0., 0., 0., 0., 0., 0., 0., 0., 0.])\n",
      "tensor([[0., 0., 0., 0., 0., 0., 0., 0., 0., 0., 0., 0.],\n",
      "        [0., 0., 0., 0., 0., 0., 0., 0., 0., 0., 0., 0.],\n",
      "        [0., 0., 0., 0., 0., 0., 0., 0., 0., 0., 0., 0.]])\n",
      "y  after act tensor([[0., 0., -0., 0., 0., -0., 0., 0., 0., 0., -0., -0.],\n",
      "        [0., 0., -0., 0., 0., -0., 0., 0., 0., 0., -0., -0.],\n",
      "        [0., -0., 0., 0., 0., -0., 0., -0., -0., 0., -0., -0.]],\n",
      "       grad_fn=<MulBackward0>)\n",
      "x after act torch.Size([3, 2]) tensor([[-0.1638, -0.3015],\n",
      "        [ 0.1423,  0.6850],\n",
      "        [-0.3810, -0.1666]], grad_fn=<AddBackward0>)\n",
      "x after after act tensor([[-0.1638,  0.1423, -0.3810],\n",
      "        [-0.3015,  0.6850, -0.1666]], grad_fn=<PermuteBackward0>)\n",
      "y before after act tensor([[-0.0034,  0.0210],\n",
      "        [-0.0038,  0.0196],\n",
      "        [ 0.0000,  0.0224]], grad_fn=<PermuteBackward0>)\n",
      "tensor([0., 0.])\n",
      "tensor([0., 0.])\n",
      "tensor([[0., 0.],\n",
      "        [0., 0.],\n",
      "        [0., 0.]])\n",
      "y  after act tensor([[-0., 0.],\n",
      "        [-0., 0.],\n",
      "        [0., 0.]], grad_fn=<MulBackward0>)\n"
     ]
    },
    {
     "name": "stderr",
     "output_type": "stream",
     "text": [
      "\n"
     ]
    }
   ],
   "source": [
    "model = KAN(width=[data.X_train.shape[1], 2, 1], grid=3, k=3, bias_trainable=False, sp_trainable=False, sb_trainable=False, symbolic_enabled=False, drop_prob=[0.5, 0.5], dropmode=[5, 5], dropscale=False)\n",
    "results = model.train(dataset, opt=\"Adam\", steps=1, batch=3, lr=0.01)\n",
    "       "
   ]
  },
  {
   "cell_type": "code",
   "execution_count": 21,
   "id": "c40b0c38-1aed-4197-b49b-f50b0ab9feb0",
   "metadata": {},
   "outputs": [
    {
     "data": {
      "text/plain": [
       "tensor(0.2832, dtype=torch.float32)"
      ]
     },
     "execution_count": 21,
     "metadata": {},
     "output_type": "execute_result"
    }
   ],
   "source": [
    "set_training_mode(model, True)\n",
    "torch.mean((torch.argmax(model(dataset['val_input']), dim=1) == dataset['val_label']).float())"
   ]
  },
  {
   "cell_type": "code",
   "execution_count": 22,
   "id": "7f4d95bb-41fa-47dc-aff2-74ec9cf56f47",
   "metadata": {},
   "outputs": [],
   "source": [
    "avg = 0\n",
    "num = 100\n",
    "for _ in range(num):\n",
    "    set_training_mode(model, True)\n",
    "    avg+=torch.mean(torch.round(model(dataset['val_input'])))"
   ]
  },
  {
   "cell_type": "code",
   "execution_count": 23,
   "id": "80dd544d-4558-48f9-8cd1-a19497e4fadc",
   "metadata": {},
   "outputs": [
    {
     "data": {
      "text/plain": [
       "tensor(22.9624, grad_fn=<AddBackward0>)"
      ]
     },
     "execution_count": 23,
     "metadata": {},
     "output_type": "execute_result"
    }
   ],
   "source": [
    "avg"
   ]
  },
  {
   "cell_type": "code",
   "execution_count": 24,
   "id": "326b4351-c3ba-4254-8a4f-1a7935031fe4",
   "metadata": {},
   "outputs": [],
   "source": [
    "avg = 0\n",
    "for _ in range(num):\n",
    "    set_training_mode(model, False)\n",
    "    avg+=torch.mean(torch.round(model(dataset['val_input'])))"
   ]
  },
  {
   "cell_type": "code",
   "execution_count": 25,
   "id": "a33a7bca-9af0-4c0c-8106-bccb8e9a7c2f",
   "metadata": {},
   "outputs": [
    {
     "data": {
      "text/plain": [
       "tensor(50., grad_fn=<AddBackward0>)"
      ]
     },
     "execution_count": 25,
     "metadata": {},
     "output_type": "execute_result"
    }
   ],
   "source": [
    "avg"
   ]
  },
  {
   "cell_type": "code",
   "execution_count": 196,
   "id": "2af89b78-c9c1-4a2d-bcee-4e6060afc403",
   "metadata": {},
   "outputs": [
    {
     "data": {
      "image/png": "[encoded data removed]",
      "text/plain": [
       "<Figure size 500x400 with 15 Axes>"
      ]
     },
     "metadata": {},
     "output_type": "display_data"
    }
   ],
   "source": [
    "model.plot()"
   ]
  },
  {
   "cell_type": "code",
   "execution_count": 92,
   "id": "450d83a6-7619-4a5a-b0c6-3019f4b79b46",
   "metadata": {},
   "outputs": [
    {
     "name": "stderr",
     "output_type": "stream",
     "text": [
      "train loss: 1.75e+00 | test loss: 2.59e+00 | reg: 1.94e+01 : 100%|██| 20/20 [00:00<00:00, 60.00it/s]\n",
      "train loss: 1.47e+00 | test loss: 1.59e+00 | reg: 3.06e+01 : 100%|██| 20/20 [00:00<00:00, 61.13it/s]\n",
      "train loss: 1.51e+00 | test loss: 1.23e+00 | reg: 4.16e+01 : 100%|██| 20/20 [00:00<00:00, 60.40it/s]\n",
      "train loss: 9.70e-01 | test loss: 1.17e+00 | reg: 4.02e+01 : 100%|██| 20/20 [00:00<00:00, 61.70it/s]\n",
      "train loss: 9.72e-01 | test loss: 1.25e+00 | reg: 3.28e+01 : 100%|██| 20/20 [00:00<00:00, 60.77it/s]\n",
      "train loss: 1.05e+00 | test loss: 9.36e-01 | reg: 3.82e+01 : 100%|██| 20/20 [00:00<00:00, 61.51it/s]\n",
      "train loss: 9.88e-01 | test loss: 1.05e+00 | reg: 2.39e+01 : 100%|██| 20/20 [00:00<00:00, 59.50it/s]\n",
      "train loss: 1.60e+00 | test loss: 9.74e-01 | reg: 3.22e+01 : 100%|██| 20/20 [00:00<00:00, 62.27it/s]\n",
      "train loss: 3.11e+00 | test loss: 8.65e+00 | reg: 2.92e+01 : 100%|██| 20/20 [00:00<00:00, 59.51it/s]\n",
      "train loss: 7.04e-01 | test loss: 8.90e-01 | reg: 5.01e+01 : 100%|██| 20/20 [00:00<00:00, 62.07it/s]\n",
      "train loss: 5.67e+02 | test loss: 3.02e+02 | reg: 6.45e+01 : 100%|██| 20/20 [00:00<00:00, 57.30it/s]\n",
      "train loss: 1.71e+02 | test loss: 6.78e+02 | reg: 3.47e+01 : 100%|██| 20/20 [00:00<00:00, 61.89it/s]\n",
      "train loss: 4.08e+01 | test loss: 2.69e+01 | reg: 5.56e+01 : 100%|██| 20/20 [00:00<00:00, 62.47it/s]\n",
      "train loss: 9.35e+00 | test loss: 3.85e+01 | reg: 2.74e+01 : 100%|██| 20/20 [00:00<00:00, 61.70it/s]\n",
      "train loss: 7.78e+00 | test loss: 9.61e+00 | reg: 4.43e+01 : 100%|██| 20/20 [00:00<00:00, 62.08it/s]\n",
      "train loss: 8.17e+00 | test loss: 7.64e+00 | reg: 5.12e+01 : 100%|██| 20/20 [00:00<00:00, 57.95it/s]\n",
      "train loss: 6.47e+00 | test loss: 7.17e+00 | reg: 2.82e+01 : 100%|██| 20/20 [00:00<00:00, 62.07it/s]\n",
      "train loss: 5.47e+00 | test loss: 5.67e+00 | reg: 6.10e+01 : 100%|██| 20/20 [00:00<00:00, 60.94it/s]\n",
      "train loss: 6.72e+00 | test loss: 4.53e+00 | reg: 4.41e+01 : 100%|██| 20/20 [00:00<00:00, 61.22it/s]\n",
      "train loss: 2.63e+00 | test loss: 5.81e+00 | reg: 3.25e+01 : 100%|██| 20/20 [00:00<00:00, 61.32it/s]\n",
      "train loss: 5.60e+00 | test loss: 1.77e+00 | reg: 3.86e+01 : 100%|██| 20/20 [00:00<00:00, 57.13it/s]\n",
      "train loss: 1.45e+00 | test loss: 1.33e+00 | reg: 4.64e+01 : 100%|██| 20/20 [00:00<00:00, 61.88it/s]\n",
      "train loss: 1.74e+00 | test loss: 1.20e+00 | reg: 5.59e+01 : 100%|██| 20/20 [00:00<00:00, 60.03it/s]\n",
      "train loss: 1.35e+00 | test loss: 1.26e+00 | reg: 3.70e+01 : 100%|██| 20/20 [00:00<00:00, 61.89it/s]\n",
      "train loss: 8.65e-01 | test loss: 1.32e+00 | reg: 5.78e+01 : 100%|██| 20/20 [00:00<00:00, 61.07it/s]\n",
      "train loss: 9.44e-01 | test loss: 1.31e+00 | reg: 3.12e+01 : 100%|██| 20/20 [00:00<00:00, 58.13it/s]\n",
      "train loss: 1.08e+00 | test loss: 9.70e-01 | reg: 2.79e+01 : 100%|██| 20/20 [00:00<00:00, 58.13it/s]\n",
      "train loss: 9.82e-01 | test loss: 1.72e+00 | reg: 5.16e+01 : 100%|██| 20/20 [00:00<00:00, 58.98it/s]\n",
      "train loss: 1.24e+00 | test loss: 1.33e+00 | reg: 3.68e+01 : 100%|██| 20/20 [00:00<00:00, 61.50it/s]\n",
      "train loss: 1.03e+00 | test loss: 8.29e-01 | reg: 3.66e+01 : 100%|██| 20/20 [00:00<00:00, 61.32it/s]\n",
      "train loss: 7.97e+00 | test loss: 2.87e+00 | reg: 3.89e+01 : 100%|██| 20/20 [00:00<00:00, 56.81it/s]\n",
      "train loss: 1.02e+00 | test loss: 1.32e+00 | reg: 4.28e+01 : 100%|██| 20/20 [00:00<00:00, 60.58it/s]\n",
      "train loss: 1.03e+00 | test loss: 1.01e+00 | reg: 3.85e+01 : 100%|██| 20/20 [00:00<00:00, 59.33it/s]\n",
      "train loss: 1.04e+00 | test loss: 1.36e+00 | reg: 3.56e+01 : 100%|██| 20/20 [00:00<00:00, 60.76it/s]\n",
      "train loss: 1.16e+00 | test loss: 8.17e-01 | reg: 3.89e+01 : 100%|██| 20/20 [00:00<00:00, 59.67it/s]\n",
      "train loss: 1.15e+00 | test loss: 1.14e+00 | reg: 3.85e+01 : 100%|██| 20/20 [00:00<00:00, 57.62it/s]\n",
      "train loss: 9.61e-01 | test loss: 8.17e-01 | reg: 3.34e+01 : 100%|██| 20/20 [00:00<00:00, 60.36it/s]\n",
      "train loss: 8.91e-01 | test loss: 9.92e-01 | reg: 5.18e+01 : 100%|██| 20/20 [00:00<00:00, 60.57it/s]\n",
      "train loss: 1.78e+00 | test loss: 8.98e-01 | reg: 4.18e+01 : 100%|██| 20/20 [00:00<00:00, 62.27it/s]\n",
      "train loss: 1.62e+00 | test loss: 1.23e+00 | reg: 3.54e+01 : 100%|██| 20/20 [00:00<00:00, 61.70it/s]\n",
      "train loss: 2.37e+00 | test loss: 2.93e+00 | reg: 5.26e+01 : 100%|██| 20/20 [00:00<00:00, 57.70it/s]\n",
      "train loss: 1.32e+00 | test loss: 1.75e+00 | reg: 2.44e+01 : 100%|██| 20/20 [00:00<00:00, 61.89it/s]\n",
      "train loss: 1.20e+00 | test loss: 2.15e+00 | reg: 2.88e+01 : 100%|██| 20/20 [00:00<00:00, 61.50it/s]\n",
      "train loss: 1.05e+00 | test loss: 1.13e+00 | reg: 2.60e+01 : 100%|██| 20/20 [00:00<00:00, 62.66it/s]\n",
      "train loss: 1.29e+00 | test loss: 1.88e+00 | reg: 5.62e+01 : 100%|██| 20/20 [00:00<00:00, 60.58it/s]\n",
      "train loss: 1.01e+00 | test loss: 9.79e-01 | reg: 3.29e+01 : 100%|██| 20/20 [00:00<00:00, 60.20it/s]\n",
      "train loss: 8.23e-01 | test loss: 9.79e-01 | reg: 2.43e+01 : 100%|██| 20/20 [00:00<00:00, 60.58it/s]\n",
      "train loss: 1.05e+00 | test loss: 9.94e-01 | reg: 2.65e+01 : 100%|██| 20/20 [00:00<00:00, 62.66it/s]\n",
      "train loss: 1.72e+00 | test loss: 9.08e-01 | reg: 6.30e+01 : 100%|██| 20/20 [00:00<00:00, 61.70it/s]\n",
      "train loss: 8.90e-01 | test loss: 1.01e+00 | reg: 3.79e+01 : 100%|██| 20/20 [00:00<00:00, 60.03it/s]\n"
     ]
    }
   ],
   "source": [
    "datasets = []\n",
    "\n",
    "for j in range(5):\n",
    "\n",
    "    df = pd.DataFrame(columns=['steps', 'drop_output', 'output'])\n",
    "    \n",
    "    drop_prob = [0.5, 0.5, 0.5]\n",
    "    dropmode = [0, 0, 0]\n",
    "    dropscale = True\n",
    "    \n",
    "    \n",
    "    \n",
    "    \n",
    "    model = KAN(seed=j+12, width=[data.X_train.shape[1], 2, 2, 1], grid=3, k=3, bias_trainable=False, sp_trainable=False, sb_trainable=False, symbolic_enabled=False, drop_prob=drop_prob, dropmode=dropmode, dropscale=dropscale)\n",
    "    #results = model.train(dataset, opt=\"Adam\", steps=100, batch=32, lr=0.01)\n",
    "           \n",
    "    for i in range(10):\n",
    "        results = model.train(dataset, opt=\"Adam\", steps=20, batch=32, lr=0.001)\n",
    "    \n",
    "        avg = 0\n",
    "        num = 100\n",
    "        \n",
    "        for _ in range(num):\n",
    "            set_training_mode(model, True)\n",
    "            avg+=torch.mean(torch.round(model(dataset['val_input'][:100])))\n",
    "    \n",
    "        true_avg = 0\n",
    "        for _ in range(num):\n",
    "            set_training_mode(model, False)\n",
    "            true_avg+=torch.mean(torch.round(model(dataset['val_input'][:100])))\n",
    "    \n",
    "        #print([i, avg, true_avg])\n",
    "        #print(log_df)\n",
    "        df.loc[len(df)] = [i*20, avg.item()/num, true_avg.item()/num]\n",
    "\n",
    "    datasets.append(df)\n",
    "\n",
    "    \n"
   ]
  },
  {
   "cell_type": "code",
   "execution_count": 99,
   "id": "c9c23b32-aa2f-4544-a9ca-63a00a434ae5",
   "metadata": {},
   "outputs": [],
   "source": [
    "def feedforward(drop_prob, dropmode, dropscale, rep):\n",
    "\n",
    "    \n",
    "    datasets = []\n",
    "    \n",
    "    for j in range(rep):\n",
    "    \n",
    "        df = pd.DataFrame(columns=['steps', 'drop_output', 'output'])\n",
    "        \n",
    "        \n",
    "        \n",
    "        \n",
    "        \n",
    "        \n",
    "        model = KAN(seed=j, width=[data.X_train.shape[1], 2, 2, 1], grid=3, k=3, bias_trainable=False, sp_trainable=False, sb_trainable=False, symbolic_enabled=False, drop_prob=drop_prob, dropmode=dropmode, dropscale=dropscale)\n",
    "        #results = model.train(dataset, opt=\"Adam\", steps=100, batch=32, lr=0.01)\n",
    "               \n",
    "        for i in range(10):\n",
    "            results = model.train(dataset, opt=\"Adam\", steps=10, batch=32, lr=0.001)\n",
    "        \n",
    "            avg = 0\n",
    "            num = 100\n",
    "            \n",
    "            for _ in range(num):\n",
    "                set_training_mode(model, True)\n",
    "                avg+=torch.mean(torch.round(model(dataset['val_input'][:100])))\n",
    "        \n",
    "            true_avg = 0\n",
    "            for _ in range(num):\n",
    "                set_training_mode(model, False)\n",
    "                true_avg+=torch.mean(torch.round(model(dataset['val_input'][:100])))\n",
    "        \n",
    "            #print([i, avg, true_avg])\n",
    "            #print(log_df)\n",
    "            df.loc[len(df)] = [i*10, avg.item()/num, true_avg.item()/num]\n",
    "    \n",
    "        datasets.append(df)\n",
    "\n",
    "    return datasets\n",
    "\n",
    "    \n"
   ]
  },
  {
   "cell_type": "code",
   "execution_count": 151,
   "id": "fcde2ad5-16a1-448a-974e-24c886805544",
   "metadata": {},
   "outputs": [
    {
     "name": "stderr",
     "output_type": "stream",
     "text": [
      "train loss: 1.51e+00 | test loss: 2.73e+00 | reg: 6.24e+01 : 100%|██| 10/10 [00:00<00:00, 54.05it/s]\n",
      "train loss: 1.32e+00 | test loss: 1.45e+00 | reg: 3.42e+01 : 100%|██| 10/10 [00:00<00:00, 54.49it/s]\n",
      "train loss: 1.46e+00 | test loss: 1.31e+00 | reg: 3.42e+01 : 100%|██| 10/10 [00:00<00:00, 56.02it/s]\n",
      "train loss: 1.32e+00 | test loss: 1.36e+00 | reg: 2.74e+01 : 100%|██| 10/10 [00:00<00:00, 55.09it/s]\n",
      "train loss: 1.15e+00 | test loss: 9.97e-01 | reg: 5.85e+01 : 100%|██| 10/10 [00:00<00:00, 57.96it/s]\n",
      "train loss: 1.21e+00 | test loss: 1.74e+00 | reg: 4.46e+01 : 100%|██| 10/10 [00:00<00:00, 56.97it/s]\n",
      "train loss: 1.10e+00 | test loss: 8.86e-01 | reg: 3.11e+01 : 100%|██| 10/10 [00:00<00:00, 57.62it/s]\n",
      "train loss: 1.15e+00 | test loss: 1.13e+00 | reg: 4.91e+01 : 100%|██| 10/10 [00:00<00:00, 56.02it/s]\n",
      "train loss: 9.18e-01 | test loss: 1.18e+00 | reg: 3.06e+01 : 100%|██| 10/10 [00:00<00:00, 56.65it/s]\n",
      "train loss: 8.64e-01 | test loss: 1.02e+00 | reg: 2.80e+01 : 100%|██| 10/10 [00:00<00:00, 56.33it/s]\n",
      "train loss: 1.81e+00 | test loss: 3.54e+00 | reg: 5.47e+01 : 100%|██| 10/10 [00:00<00:00, 52.22it/s]\n",
      "train loss: 1.40e+00 | test loss: 1.43e+00 | reg: 6.89e+01 : 100%|██| 10/10 [00:00<00:00, 57.96it/s]\n",
      "train loss: 1.85e+00 | test loss: 9.90e-01 | reg: 6.06e+01 : 100%|██| 10/10 [00:00<00:00, 55.40it/s]\n",
      "train loss: 1.20e+00 | test loss: 1.05e+00 | reg: 3.32e+01 : 100%|██| 10/10 [00:00<00:00, 54.79it/s]\n",
      "train loss: 1.33e+00 | test loss: 1.03e+00 | reg: 5.25e+01 : 100%|██| 10/10 [00:00<00:00, 56.97it/s]\n",
      "train loss: 9.28e-01 | test loss: 8.88e-01 | reg: 5.05e+01 : 100%|██| 10/10 [00:00<00:00, 57.30it/s]\n",
      "train loss: 9.97e-01 | test loss: 7.79e-01 | reg: 4.64e+01 : 100%|██| 10/10 [00:00<00:00, 55.70it/s]\n",
      "train loss: 9.95e-01 | test loss: 9.10e-01 | reg: 4.27e+01 : 100%|██| 10/10 [00:00<00:00, 56.33it/s]\n",
      "train loss: 1.16e+00 | test loss: 1.04e+00 | reg: 2.81e+01 : 100%|██| 10/10 [00:00<00:00, 56.32it/s]\n",
      "train loss: 9.18e-01 | test loss: 1.17e+00 | reg: 4.31e+01 : 100%|██| 10/10 [00:00<00:00, 53.32it/s]\n",
      "train loss: 1.57e+00 | test loss: 2.71e+00 | reg: 6.19e+01 : 100%|██| 10/10 [00:00<00:00, 50.64it/s]\n",
      "train loss: 1.57e+00 | test loss: 1.48e+00 | reg: 2.19e+01 : 100%|██| 10/10 [00:00<00:00, 56.02it/s]\n",
      "train loss: 1.28e+00 | test loss: 1.42e+00 | reg: 4.81e+01 : 100%|██| 10/10 [00:00<00:00, 53.91it/s]\n",
      "train loss: 1.17e+00 | test loss: 1.47e+00 | reg: 4.93e+01 : 100%|██| 10/10 [00:00<00:00, 56.33it/s]\n",
      "train loss: 1.28e+00 | test loss: 1.41e+00 | reg: 3.94e+01 : 100%|██| 10/10 [00:00<00:00, 56.97it/s]\n",
      "train loss: 1.40e+00 | test loss: 1.02e+00 | reg: 4.21e+01 : 100%|██| 10/10 [00:00<00:00, 54.79it/s]\n",
      "train loss: 1.02e+00 | test loss: 9.91e-01 | reg: 3.40e+01 : 100%|██| 10/10 [00:00<00:00, 56.33it/s]\n",
      "train loss: 1.08e+00 | test loss: 1.54e+00 | reg: 4.07e+01 : 100%|██| 10/10 [00:00<00:00, 56.02it/s]\n",
      "train loss: 1.61e+00 | test loss: 1.53e+00 | reg: 7.13e+01 : 100%|██| 10/10 [00:00<00:00, 53.91it/s]\n",
      "train loss: 7.67e-01 | test loss: 9.47e-01 | reg: 3.61e+01 : 100%|██| 10/10 [00:00<00:00, 57.96it/s]\n",
      "train loss: 3.38e+02 | test loss: 3.03e+00 | reg: 5.78e+01 : 100%|██| 10/10 [00:00<00:00, 52.50it/s]\n",
      "train loss: 1.56e+00 | test loss: 1.46e+00 | reg: 3.40e+01 : 100%|██| 10/10 [00:00<00:00, 54.93it/s]\n",
      "train loss: 1.26e+00 | test loss: 1.73e+00 | reg: 2.54e+01 : 100%|██| 10/10 [00:00<00:00, 56.33it/s]\n",
      "train loss: 1.48e+00 | test loss: 1.37e+00 | reg: 3.97e+01 : 100%|██| 10/10 [00:00<00:00, 57.30it/s]\n",
      "train loss: 1.14e+00 | test loss: 9.78e-01 | reg: 3.00e+01 : 100%|██| 10/10 [00:00<00:00, 55.70it/s]\n",
      "train loss: 1.58e+00 | test loss: 1.33e+00 | reg: 5.34e+01 : 100%|██| 10/10 [00:00<00:00, 57.62it/s]\n",
      "train loss: 1.02e+00 | test loss: 1.21e+00 | reg: 3.31e+01 : 100%|██| 10/10 [00:00<00:00, 55.70it/s]\n",
      "train loss: 9.92e-01 | test loss: 1.74e+00 | reg: 4.11e+01 : 100%|██| 10/10 [00:00<00:00, 56.97it/s]\n",
      "train loss: 1.10e+00 | test loss: 1.32e+00 | reg: 3.32e+01 : 100%|██| 10/10 [00:00<00:00, 56.33it/s]\n",
      "train loss: 1.21e+00 | test loss: 8.66e-01 | reg: 4.36e+01 : 100%|██| 10/10 [00:00<00:00, 57.62it/s]\n",
      "train loss: 3.41e+00 | test loss: 5.86e+00 | reg: 5.66e+01 : 100%|██| 10/10 [00:00<00:00, 52.22it/s]\n",
      "train loss: 1.69e+00 | test loss: 1.53e+00 | reg: 3.82e+01 : 100%|██| 10/10 [00:00<00:00, 56.97it/s]\n",
      "train loss: 1.45e+00 | test loss: 1.34e+00 | reg: 4.23e+01 : 100%|██| 10/10 [00:00<00:00, 51.95it/s]\n",
      "train loss: 1.53e+00 | test loss: 1.25e+00 | reg: 3.18e+01 : 100%|██| 10/10 [00:00<00:00, 54.79it/s]\n",
      "train loss: 1.30e+00 | test loss: 1.21e+00 | reg: 3.99e+01 : 100%|██| 10/10 [00:00<00:00, 56.97it/s]\n",
      "train loss: 1.32e+00 | test loss: 1.41e+00 | reg: 4.74e+01 : 100%|██| 10/10 [00:00<00:00, 57.30it/s]\n",
      "train loss: 1.19e+00 | test loss: 1.21e+00 | reg: 4.53e+01 : 100%|██| 10/10 [00:00<00:00, 57.30it/s]\n",
      "train loss: 1.33e+00 | test loss: 1.04e+00 | reg: 2.72e+01 : 100%|██| 10/10 [00:00<00:00, 53.33it/s]\n",
      "train loss: 1.06e+00 | test loss: 9.91e-01 | reg: 2.35e+01 : 100%|██| 10/10 [00:00<00:00, 55.70it/s]\n",
      "train loss: 1.15e+00 | test loss: 1.10e+00 | reg: 2.19e+01 : 100%|██| 10/10 [00:00<00:00, 55.40it/s]\n",
      "train loss: 1.55e+00 | test loss: 1.67e+00 | reg: 3.75e+01 : 100%|██| 10/10 [00:00<00:00, 50.24it/s]\n",
      "train loss: 1.16e+00 | test loss: 1.19e+00 | reg: 3.43e+01 : 100%|██| 10/10 [00:00<00:00, 57.96it/s]\n",
      "train loss: 1.34e+00 | test loss: 1.08e+00 | reg: 3.47e+01 : 100%|██| 10/10 [00:00<00:00, 57.30it/s]\n",
      "train loss: 1.14e+00 | test loss: 1.23e+00 | reg: 2.80e+01 : 100%|██| 10/10 [00:00<00:00, 54.79it/s]\n",
      "train loss: 9.95e-01 | test loss: 8.75e-01 | reg: 5.86e+01 : 100%|██| 10/10 [00:00<00:00, 55.39it/s]\n",
      "train loss: 1.11e+00 | test loss: 1.76e+00 | reg: 4.48e+01 : 100%|██| 10/10 [00:00<00:00, 53.34it/s]\n",
      "train loss: 1.02e+00 | test loss: 8.26e-01 | reg: 3.10e+01 : 100%|██| 10/10 [00:00<00:00, 49.88it/s]\n",
      "train loss: 1.12e+00 | test loss: 1.09e+00 | reg: 4.94e+01 : 100%|██| 10/10 [00:00<00:00, 50.64it/s]\n",
      "train loss: 8.76e-01 | test loss: 1.12e+00 | reg: 3.07e+01 : 100%|██| 10/10 [00:00<00:00, 56.97it/s]\n",
      "train loss: 7.92e-01 | test loss: 9.59e-01 | reg: 2.81e+01 : 100%|██| 10/10 [00:00<00:00, 53.05it/s]\n",
      "train loss: 1.71e+00 | test loss: 1.58e+00 | reg: 3.22e+01 : 100%|██| 10/10 [00:00<00:00, 53.05it/s]\n",
      "train loss: 1.84e+00 | test loss: 1.78e+00 | reg: 6.93e+01 : 100%|██| 10/10 [00:00<00:00, 58.98it/s]\n",
      "train loss: 2.19e+03 | test loss: 1.29e+03 | reg: 1.14e+02 : 100%|██| 10/10 [00:00<00:00, 58.98it/s]\n",
      "train loss: 1.27e+00 | test loss: 1.07e+00 | reg: 3.31e+01 : 100%|██| 10/10 [00:00<00:00, 57.30it/s]\n",
      "train loss: 1.23e+00 | test loss: 9.75e-01 | reg: 5.22e+01 : 100%|██| 10/10 [00:00<00:00, 57.30it/s]\n",
      "train loss: 1.04e+00 | test loss: 9.84e-01 | reg: 5.05e+01 : 100%|██| 10/10 [00:00<00:00, 58.98it/s]\n",
      "train loss: 1.10e+00 | test loss: 1.06e+00 | reg: 4.65e+01 : 100%|██| 10/10 [00:00<00:00, 58.64it/s]\n",
      "train loss: 1.00e+00 | test loss: 1.02e+00 | reg: 4.28e+01 : 100%|██| 10/10 [00:00<00:00, 59.68it/s]\n",
      "train loss: 1.25e+00 | test loss: 1.10e+00 | reg: 2.86e+01 : 100%|██| 10/10 [00:00<00:00, 58.64it/s]\n",
      "train loss: 1.98e+00 | test loss: 1.91e+00 | reg: 4.43e+01 : 100%|██| 10/10 [00:00<00:00, 58.29it/s]\n",
      "train loss: 1.59e+00 | test loss: 1.59e+00 | reg: 3.79e+01 : 100%|██| 10/10 [00:00<00:00, 54.49it/s]\n",
      "train loss: 1.80e+00 | test loss: 1.32e+00 | reg: 2.16e+01 : 100%|██| 10/10 [00:00<00:00, 58.98it/s]\n",
      "train loss: 1.23e+00 | test loss: 1.35e+00 | reg: 4.83e+01 : 100%|██| 10/10 [00:00<00:00, 58.29it/s]\n",
      "train loss: 1.11e+00 | test loss: 1.42e+00 | reg: 4.95e+01 : 100%|██| 10/10 [00:00<00:00, 57.96it/s]\n",
      "train loss: 1.23e+00 | test loss: 1.41e+00 | reg: 3.95e+01 : 100%|██| 10/10 [00:00<00:00, 57.30it/s]\n",
      "train loss: 1.44e+00 | test loss: 1.03e+00 | reg: 4.20e+01 : 100%|██| 10/10 [00:00<00:00, 56.97it/s]\n",
      "train loss: 1.04e+00 | test loss: 1.04e+00 | reg: 3.40e+01 : 100%|██| 10/10 [00:00<00:00, 57.30it/s]\n",
      "train loss: 1.09e+00 | test loss: 1.55e+00 | reg: 4.06e+01 : 100%|██| 10/10 [00:00<00:00, 54.49it/s]\n",
      "train loss: 1.63e+00 | test loss: 1.52e+00 | reg: 7.12e+01 : 100%|██| 10/10 [00:00<00:00, 53.91it/s]\n",
      "train loss: 7.89e-01 | test loss: 9.80e-01 | reg: 3.62e+01 : 100%|██| 10/10 [00:00<00:00, 59.33it/s]\n",
      "train loss: 1.72e+00 | test loss: 1.52e+00 | reg: 3.32e+01 : 100%|██| 10/10 [00:00<00:00, 54.20it/s]\n",
      "train loss: 1.51e+00 | test loss: 1.42e+00 | reg: 3.38e+01 : 100%|██| 10/10 [00:00<00:00, 59.33it/s]\n",
      "train loss: 1.45e+00 | test loss: 1.77e+00 | reg: 2.50e+01 : 100%|██| 10/10 [00:00<00:00, 55.70it/s]\n",
      "train loss: 1.66e+00 | test loss: 1.46e+00 | reg: 3.89e+01 : 100%|██| 10/10 [00:00<00:00, 58.30it/s]\n",
      "train loss: 1.32e+00 | test loss: 1.10e+00 | reg: 2.99e+01 : 100%|██| 10/10 [00:00<00:00, 55.09it/s]\n",
      "train loss: 2.10e+00 | test loss: 1.50e+00 | reg: 5.30e+01 : 100%|██| 10/10 [00:00<00:00, 54.79it/s]\n",
      "train loss: 1.16e+00 | test loss: 1.16e+00 | reg: 3.26e+01 : 100%|██| 10/10 [00:00<00:00, 55.40it/s]\n",
      "train loss: 1.18e+00 | test loss: 1.76e+00 | reg: 4.10e+01 : 100%|██| 10/10 [00:00<00:00, 58.29it/s]\n",
      "train loss: 1.10e+00 | test loss: 5.77e+00 | reg: 3.28e+01 : 100%|██| 10/10 [00:00<00:00, 58.98it/s]\n",
      "train loss: 1.34e+00 | test loss: 1.08e+00 | reg: 4.42e+01 : 100%|██| 10/10 [00:00<00:00, 54.49it/s]\n",
      "train loss: 1.33e+00 | test loss: 1.68e+00 | reg: 3.49e+01 : 100%|██| 10/10 [00:00<00:00, 54.20it/s]\n",
      "train loss: 1.64e+00 | test loss: 1.49e+00 | reg: 3.83e+01 : 100%|██| 10/10 [00:00<00:00, 56.01it/s]\n",
      "train loss: 1.40e+00 | test loss: 1.32e+00 | reg: 4.26e+01 : 100%|██| 10/10 [00:00<00:00, 58.29it/s]\n",
      "train loss: 1.54e+00 | test loss: 1.23e+00 | reg: 3.20e+01 : 100%|██| 10/10 [00:00<00:00, 57.62it/s]\n",
      "train loss: 1.22e+00 | test loss: 1.16e+00 | reg: 4.01e+01 : 100%|██| 10/10 [00:00<00:00, 56.01it/s]\n",
      "train loss: 1.28e+00 | test loss: 1.39e+00 | reg: 4.73e+01 : 100%|██| 10/10 [00:00<00:00, 52.19it/s]\n",
      "train loss: 1.18e+00 | test loss: 1.26e+00 | reg: 4.51e+01 : 100%|██| 10/10 [00:00<00:00, 55.40it/s]\n",
      "train loss: 1.28e+00 | test loss: 1.00e+00 | reg: 2.72e+01 : 100%|██| 10/10 [00:00<00:00, 56.33it/s]\n",
      "train loss: 9.96e-01 | test loss: 9.86e-01 | reg: 2.36e+01 : 100%|██| 10/10 [00:00<00:00, 56.97it/s]\n",
      "train loss: 1.11e+00 | test loss: 1.07e+00 | reg: 2.20e+01 : 100%|██| 10/10 [00:00<00:00, 57.96it/s]\n"
     ]
    }
   ],
   "source": [
    "drop_prob = [0.5, 0.5, 0.5]\n",
    "dropmode = [0, 0, 0]\n",
    "dropscale = True\n",
    "\n",
    "datasets_dropkan_scale = feedforward(drop_prob, dropmode, dropscale, 5)\n",
    "\n",
    "dropscale = False\n",
    "\n",
    "datasets_dropkan = feedforward(drop_prob, dropmode, dropscale, 5)"
   ]
  },
  {
   "cell_type": "code",
   "execution_count": 152,
   "id": "8de36e1f-03c0-40db-96e5-45fb0b16fcaa",
   "metadata": {},
   "outputs": [
    {
     "ename": "IndexError",
     "evalue": "list index out of range",
     "output_type": "error",
     "traceback": [
      "\u001b[1;31m---------------------------------------------------------------------------\u001b[0m",
      "\u001b[1;31mIndexError\u001b[0m                                Traceback (most recent call last)",
      "Cell \u001b[1;32mIn[152], line 4\u001b[0m\n\u001b[0;32m      1\u001b[0m indices_to_select \u001b[38;5;241m=\u001b[39m [\u001b[38;5;241m0\u001b[39m, \u001b[38;5;241m2\u001b[39m, \u001b[38;5;241m4\u001b[39m, \u001b[38;5;241m5\u001b[39m, \u001b[38;5;241m8\u001b[39m]\n\u001b[0;32m      3\u001b[0m \u001b[38;5;66;03m# Select elements at indices 1, 3, 5, 7, 9\u001b[39;00m\n\u001b[1;32m----> 4\u001b[0m selected_elements1 \u001b[38;5;241m=\u001b[39m [datasets_dropkan_scale[i] \u001b[38;5;28;01mfor\u001b[39;00m i \u001b[38;5;129;01min\u001b[39;00m indices_to_select]\n\u001b[0;32m      6\u001b[0m \u001b[38;5;66;03m# Select elements at indices 1, 3, 5, 7, 9\u001b[39;00m\n\u001b[0;32m      7\u001b[0m selected_elements2 \u001b[38;5;241m=\u001b[39m [datasets_dropkan[i] \u001b[38;5;28;01mfor\u001b[39;00m i \u001b[38;5;129;01min\u001b[39;00m indices_to_select]\n",
      "Cell \u001b[1;32mIn[152], line 4\u001b[0m, in \u001b[0;36m<listcomp>\u001b[1;34m(.0)\u001b[0m\n\u001b[0;32m      1\u001b[0m indices_to_select \u001b[38;5;241m=\u001b[39m [\u001b[38;5;241m0\u001b[39m, \u001b[38;5;241m2\u001b[39m, \u001b[38;5;241m4\u001b[39m, \u001b[38;5;241m5\u001b[39m, \u001b[38;5;241m8\u001b[39m]\n\u001b[0;32m      3\u001b[0m \u001b[38;5;66;03m# Select elements at indices 1, 3, 5, 7, 9\u001b[39;00m\n\u001b[1;32m----> 4\u001b[0m selected_elements1 \u001b[38;5;241m=\u001b[39m [\u001b[43mdatasets_dropkan_scale\u001b[49m\u001b[43m[\u001b[49m\u001b[43mi\u001b[49m\u001b[43m]\u001b[49m \u001b[38;5;28;01mfor\u001b[39;00m i \u001b[38;5;129;01min\u001b[39;00m indices_to_select]\n\u001b[0;32m      6\u001b[0m \u001b[38;5;66;03m# Select elements at indices 1, 3, 5, 7, 9\u001b[39;00m\n\u001b[0;32m      7\u001b[0m selected_elements2 \u001b[38;5;241m=\u001b[39m [datasets_dropkan[i] \u001b[38;5;28;01mfor\u001b[39;00m i \u001b[38;5;129;01min\u001b[39;00m indices_to_select]\n",
      "\u001b[1;31mIndexError\u001b[0m: list index out of range"
     ]
    }
   ],
   "source": [
    "indices_to_select = [0, 2, 4, 5, 8]\n",
    "\n",
    "# Select elements at indices 1, 3, 5, 7, 9\n",
    "selected_elements1 = [datasets_dropkan_scale[i] for i in indices_to_select]\n",
    "\n",
    "# Select elements at indices 1, 3, 5, 7, 9\n",
    "selected_elements2 = [datasets_dropkan[i] for i in indices_to_select]"
   ]
  },
  {
   "cell_type": "code",
   "execution_count": null,
   "id": "26d2ac4f-4ddf-4231-95d4-fb3988c4f3f0",
   "metadata": {},
   "outputs": [],
   "source": []
  },
  {
   "cell_type": "code",
   "execution_count": 142,
   "id": "e610d23d-c646-4b55-ba81-0fc33d222bee",
   "metadata": {},
   "outputs": [
    {
     "data": {
      "image/png": "[encoded data removed]",
      "text/plain": [
       "<Figure size 1000x600 with 1 Axes>"
      ]
     },
     "metadata": {},
     "output_type": "display_data"
    },
    {
     "data": {
      "image/png": "[encoded data removed]",
      "text/plain": [
       "<Figure size 1000x600 with 1 Axes>"
      ]
     },
     "metadata": {},
     "output_type": "display_data"
    }
   ],
   "source": [
    "import matplotlib.pyplot as plt\n",
    "\n",
    "id = 8\n",
    "\n",
    "df = datasets_dropkan[id]\n",
    "# Plotting\n",
    "plt.figure(figsize=(10, 6))\n",
    "plt.plot(df['steps'], df['drop_output'], label='drop_output', marker='o')\n",
    "plt.plot(df['steps'], df['output'], label='output', marker='x')\n",
    "#plt.plot(df['steps'], df['output']/df['drop_output'], label='output', marker='x')\n",
    "plt.xlabel('Steps')\n",
    "plt.ylabel('Values')\n",
    "plt.title('Trends of output and drop_output with steps')\n",
    "plt.legend()\n",
    "plt.grid(True)\n",
    "plt.show()\n",
    "\n",
    "df = datasets_dropkan_scale[id]\n",
    "# Plotting\n",
    "plt.figure(figsize=(10, 6))\n",
    "plt.plot(df['steps'], df['drop_output'], label='drop_output', marker='o')\n",
    "plt.plot(df['steps'], df['output'], label='output', marker='x')\n",
    "#plt.plot(df['steps'], df['output']/df['drop_output'], label='output', marker='x')\n",
    "plt.xlabel('Steps')\n",
    "plt.ylabel('Values')\n",
    "plt.title('Trends of output and drop_output with steps')\n",
    "plt.legend()\n",
    "plt.grid(True)\n",
    "plt.show()"
   ]
  },
  {
   "cell_type": "code",
   "execution_count": 89,
   "id": "8b838715-9984-400f-9495-9a354bf07e89",
   "metadata": {},
   "outputs": [
    {
     "data": {
      "image/png": "[encoded data removed]",
      "text/plain": [
       "<Figure size 1200x600 with 1 Axes>"
      ]
     },
     "metadata": {},
     "output_type": "display_data"
    }
   ],
   "source": [
    "# Initialize DataFrames to store the combined results\n",
    "combined_df = pd.DataFrame()\n",
    "\n",
    "# Concatenate the dataframes into a single dataframe\n",
    "for i, df in enumerate(datasets_dropkan_scale):\n",
    "    df['dataset'] = i + 1\n",
    "    combined_df = pd.concat([combined_df, df])\n",
    "\n",
    "# Group by steps and calculate mean and std\n",
    "grouped = combined_df.groupby('steps').agg({\n",
    "    'drop_output': ['mean', 'std'],\n",
    "    'output': ['mean', 'std']\n",
    "}).reset_index()\n",
    "\n",
    "# Flatten the multi-index columns\n",
    "grouped.columns = ['steps', 'drop_output_mean', 'drop_output_std', 'output_mean', 'output_std']\n",
    "\n",
    "# Plotting\n",
    "plt.figure(figsize=(12, 6))\n",
    "\n",
    "# Plot for drop_output\n",
    "plt.errorbar(grouped['steps'], grouped['drop_output_mean'], yerr=grouped['drop_output_std'], label='DropKAN w/ scale', fmt='-o', capsize=5)\n",
    "\n",
    "# Plot for output\n",
    "plt.errorbar(grouped['steps'], grouped['output_mean'], yerr=grouped['output_std'], label='DropKAN disabled', fmt='-o', capsize=5)\n",
    "\n",
    "plt.xlabel('Steps')\n",
    "plt.ylabel('Values')\n",
    "plt.title('Average and Standard Deviation of Drop Output and Output over Steps')\n",
    "plt.legend()\n",
    "plt.grid(True)\n",
    "plt.show()"
   ]
  },
  {
   "cell_type": "code",
   "execution_count": 44,
   "id": "8c0df257-e197-4985-bc08-6a6cf2267252",
   "metadata": {},
   "outputs": [
    {
     "data": {
      "image/png": "[encoded data removed]",
      "text/plain": [
       "<Figure size 1200x600 with 1 Axes>"
      ]
     },
     "metadata": {},
     "output_type": "display_data"
    }
   ],
   "source": [
    "# Initialize DataFrames to store the combined results\n",
    "combined_df = pd.DataFrame()\n",
    "\n",
    "# Concatenate the dataframes into a single dataframe\n",
    "for i, df in enumerate(datasets_dropkan_scale):\n",
    "    df['dataset'] = i + 1\n",
    "    combined_df = pd.concat([combined_df, df])\n",
    "\n",
    "# Group by steps and calculate mean and std\n",
    "grouped = combined_df.groupby('steps').agg({\n",
    "    'drop_output': ['mean', 'std'],\n",
    "    'output': ['mean', 'std']\n",
    "}).reset_index()\n",
    "\n",
    "# Flatten the multi-index columns\n",
    "grouped.columns = ['steps', 'drop_output_mean', 'drop_output_std', 'output_mean', 'output_std']\n",
    "\n",
    "# Plotting\n",
    "plt.figure(figsize=(12, 6))\n",
    "\n",
    "# Plot for drop_output\n",
    "plt.errorbar(grouped['steps'], grouped['drop_output_mean'], yerr=grouped['drop_output_std'], label='DropKAN w/ scale', fmt='-o', capsize=5)\n",
    "\n",
    "# Plot for output\n",
    "plt.errorbar(grouped['steps'], grouped['output_mean'], yerr=grouped['output_std'], label='DropKAN disabled', fmt='-o', capsize=5)\n",
    "\n",
    "plt.xlabel('Steps')\n",
    "plt.ylabel('Values')\n",
    "plt.title('Average and Standard Deviation of Drop Output and Output over Steps')\n",
    "plt.legend()\n",
    "plt.grid(True)\n",
    "plt.show()"
   ]
  },
  {
   "cell_type": "code",
   "execution_count": 153,
   "id": "bdb186df-de17-4014-8f80-867e7eca2e39",
   "metadata": {},
   "outputs": [
    {
     "data": {
      "image/png": "[encoded data removed]",
      "text/plain": [
       "<Figure size 1200x600 with 1 Axes>"
      ]
     },
     "metadata": {},
     "output_type": "display_data"
    }
   ],
   "source": [
    "# Initialize DataFrames to store the combined results\n",
    "combined_scale_df = pd.DataFrame()\n",
    "combined_disabled_df = pd.DataFrame()\n",
    "combined_output_df = pd.DataFrame()\n",
    "\n",
    "# Concatenate the dataframes from both lists into separate dataframes\n",
    "for i, df in enumerate(selected_elements1):\n",
    "    df['dataset'] = i + 1\n",
    "    combined_scale_df = pd.concat([combined_scale_df, df])\n",
    "    combined_output_df = pd.concat([combined_output_df, df])\n",
    "\n",
    "for i, df in enumerate(selected_elements2):\n",
    "    df['dataset'] = i + 1 + len(selected_elements1)\n",
    "    combined_disabled_df = pd.concat([combined_disabled_df, df])\n",
    "    combined_output_df = pd.concat([combined_output_df, df])\n",
    "\n",
    "# Group by steps and calculate mean and std for drop_output\n",
    "grouped_scale = combined_scale_df.groupby('steps').agg({\n",
    "    'drop_output': ['mean', 'std']\n",
    "}).reset_index()\n",
    "\n",
    "grouped_disabled = combined_disabled_df.groupby('steps').agg({\n",
    "    'drop_output': ['mean', 'std']\n",
    "}).reset_index()\n",
    "\n",
    "# Group by steps and calculate mean and std for unified output\n",
    "grouped_output = combined_output_df.groupby('steps').agg({\n",
    "    'output': ['mean', 'std']\n",
    "}).reset_index()\n",
    "\n",
    "# Flatten the multi-index columns\n",
    "grouped_scale.columns = ['steps', 'drop_output_mean_scale', 'drop_output_std_scale']\n",
    "grouped_disabled.columns = ['steps', 'drop_output_mean_disabled', 'drop_output_std_disabled']\n",
    "grouped_output.columns = ['steps', 'output_mean', 'output_std']\n",
    "\n",
    "# Plotting\n",
    "plt.figure(figsize=(12, 6))\n",
    "\n",
    "# Plot for drop_output from datasets_dropkan_scale\n",
    "plt.errorbar(grouped_scale['steps'], grouped_scale['drop_output_mean_scale'], yerr=grouped_scale['drop_output_std_scale'], label='Dropout w/ scale', fmt='-o', capsize=5)\n",
    "\n",
    "# Plot for unified output\n",
    "plt.errorbar(grouped_output['steps'], grouped_output['output_mean'], yerr=grouped_output['output_std'], label='No-Drop', fmt='-o', capsize=5)\n",
    "\n",
    "# Plot for drop_output from datasets_dropkan_disabled\n",
    "plt.errorbar(grouped_disabled['steps'], grouped_disabled['drop_output_mean_disabled'], yerr=grouped_disabled['drop_output_std_disabled'], label='Dropout w/o scale', fmt='-o', capsize=5)\n",
    "\n",
    "\n",
    "\n",
    "plt.xlabel('Steps')\n",
    "plt.ylabel('The expected value $\\mathbb{E}(x_{3,1})$' )\n",
    "#plt.title('Average and Standard Deviation of Drop Output and Output over Steps')\n",
    "plt.legend()\n",
    "plt.xticks(fontsize=12)\n",
    "plt.grid(True)\n",
    "plt.savefig('dropout_feedforwad.pdf')\n",
    "plt.show()\n"
   ]
  },
  {
   "cell_type": "code",
   "execution_count": 122,
   "id": "ac8dce20-bbec-4f4e-8a3f-6b5cff0bb78c",
   "metadata": {},
   "outputs": [
    {
     "ename": "TypeError",
     "evalue": "list indices must be integers or slices, not list",
     "output_type": "error",
     "traceback": [
      "\u001b[1;31m---------------------------------------------------------------------------\u001b[0m",
      "\u001b[1;31mTypeError\u001b[0m                                 Traceback (most recent call last)",
      "Cell \u001b[1;32mIn[122], line 1\u001b[0m\n\u001b[1;32m----> 1\u001b[0m \u001b[43mdatasets_dropkan_scale\u001b[49m\u001b[43m[\u001b[49m\u001b[43m[\u001b[49m\u001b[38;5;241;43m0\u001b[39;49m\u001b[43m,\u001b[49m\u001b[38;5;241;43m2\u001b[39;49m\u001b[43m,\u001b[49m\u001b[38;5;241;43m4\u001b[39;49m\u001b[43m,\u001b[49m\u001b[38;5;241;43m5\u001b[39;49m\u001b[43m,\u001b[49m\u001b[38;5;241;43m6\u001b[39;49m\u001b[43m]\u001b[49m\u001b[43m]\u001b[49m\n",
      "\u001b[1;31mTypeError\u001b[0m: list indices must be integers or slices, not list"
     ]
    }
   ],
   "source": [
    "datasets_dropkan_scale[[0,2,4,5,6]]"
   ]
  },
  {
   "cell_type": "code",
   "execution_count": 28,
   "id": "aea09a69-8906-4519-9407-0297bad7a54f",
   "metadata": {},
   "outputs": [
    {
     "data": {
      "text/plain": [
       "(array([0, 1], dtype=int64), array([409, 191], dtype=int64))"
      ]
     },
     "execution_count": 28,
     "metadata": {},
     "output_type": "execute_result"
    }
   ],
   "source": [
    "selected_elements = [datasets_dropkan_scale[i] for i in [0,2,4,5,6]]\n"
   ]
  },
  {
   "cell_type": "code",
   "execution_count": 36,
   "id": "8b5499c9-c21e-4e94-8974-66bc9ec3df1e",
   "metadata": {},
   "outputs": [
    {
     "data": {
      "text/plain": [
       "array([409, 191], dtype=int64)"
      ]
     },
     "execution_count": 36,
     "metadata": {},
     "output_type": "execute_result"
    }
   ],
   "source": [
    "counts"
   ]
  },
  {
   "cell_type": "code",
   "execution_count": 159,
   "id": "91bae8fe-345a-4db2-95d8-3ef8de5dfc51",
   "metadata": {},
   "outputs": [
    {
     "name": "stdout",
     "output_type": "stream",
     "text": [
      "Average Performance Improvement: 2.72%\n"
     ]
    }
   ],
   "source": [
    "# Define the data\n",
    "data = {\n",
    "    \"dermatology\": [74.84, 87.75, 90.47, 84.37, 91.84],\n",
    "    \"german\": [60.25, 74.75, 73.25, 71.75, 76.00],\n",
    "    \"semeion\": [98.27, 97.65, 97.33, 97.96, 98.27],\n",
    "    \"car\": [92.89, 85.83, 64.31, 87.28, 88.15],\n",
    "    \"abalone\": [27.11, 27.29, 27.53, 27.65, 28.07],\n",
    "    \"adult\": [84.07, 83.76, 83.54, 83.98, 84.84],\n",
    "    \"bank-full\": [86.93, 89.18, 87.69, 89.11, 88.79],\n",
    "    \"connect-4\": [64.43, 61.43, 70.71, 70.46, 60.57],\n",
    "    \"diabetic\": [55.47, 55.56, 55.72, 57.19, 54.28],\n",
    "    \"census-income\": [94.19, 94.55, 94.49, 94.67, 94.82]\n",
    "}\n",
    "\n",
    "# Calculate the average performance improvement\n",
    "improvements = []\n",
    "\n",
    "for dataset, values in data.items():\n",
    "    initial_value = values[0]\n",
    "    final_value = values[4]\n",
    "    improvement = final_value - initial_value\n",
    "    improvements.append(improvement)\n",
    "\n",
    "average_improvement = sum(improvements) / len(improvements)\n",
    "\n",
    "print(f\"Average Performance Improvement: {average_improvement:.2f}%\")\n"
   ]
  },
  {
   "cell_type": "code",
   "execution_count": 155,
   "id": "28c6442c-5541-4e86-a4e8-b1c42ec0c0f3",
   "metadata": {},
   "outputs": [
    {
     "data": {
      "text/plain": [
       "[17.0,\n",
       " 15.75,\n",
       " 0.0,\n",
       " -4.739999999999995,\n",
       " 0.9600000000000009,\n",
       " 0.7700000000000102,\n",
       " 1.8599999999999994,\n",
       " -3.8600000000000065,\n",
       " -1.1899999999999977,\n",
       " 0.6299999999999955]"
      ]
     },
     "execution_count": 155,
     "metadata": {},
     "output_type": "execute_result"
    }
   ],
   "source": [
    "improvements"
   ]
  },
  {
   "cell_type": "code",
   "execution_count": 22,
   "id": "570c8915-cda9-4701-b026-01e3194270e6",
   "metadata": {},
   "outputs": [
    {
     "name": "stdout",
     "output_type": "stream",
     "text": [
      "Original 2D tensor:\n",
      "tensor([[ 0,  1,  2,  3],\n",
      "        [ 4,  5,  6,  7],\n",
      "        [ 8,  9, 10, 11],\n",
      "        [12, 13, 14, 15],\n",
      "        [16, 17, 18, 19],\n",
      "        [20, 21, 22, 23],\n",
      "        [24, 25, 26, 27],\n",
      "        [28, 29, 30, 31],\n",
      "        [32, 33, 34, 35],\n",
      "        [36, 37, 38, 39],\n",
      "        [40, 41, 42, 43],\n",
      "        [44, 45, 46, 47],\n",
      "        [48, 49, 50, 51],\n",
      "        [52, 53, 54, 55],\n",
      "        [56, 57, 58, 59]])\n"
     ]
    }
   ],
   "source": [
    "import torch\n",
    "\n",
    "# Step 1: Define the 1D Bernoulli mask and the 2D tensor\n",
    "n = 3  # Size of the Bernoulli mask\n",
    "k = 4  # Number of columns in the 2D tensor\n",
    "m = 5  # Number of sets of rows in the 2D tensor\n",
    "\n",
    "# Example Bernoulli mask\n",
    "bernoulli_mask = torch.tensor([1, 0, 1], dtype=torch.bool)  # True means keep, False means mask\n",
    "\n",
    "# Example 2D tensor (nm by k)\n",
    "tensor_2d = torch.arange(n * m * k).reshape((n * m, k))\n",
    "\n",
    "print(\"Original 2D tensor:\")\n",
    "print(tensor_2d)\n",
    "\n",
    "# Step 2: Apply the mask to the 2D tensor\n",
    "# Create a 2D mask from the 1D Bernoulli mask\n",
    "mask_2d = bernoulli_mask.repeat(m)\n",
    "\n",
    "# Expand the mask to match the shape of the 2D tensor\n",
    "mask_2d = mask_2d.unsqueeze(1).expand(-1, k)\n",
    "\n"
   ]
  },
  {
   "cell_type": "code",
   "execution_count": 23,
   "id": "b0a942d2-b939-4380-9c0f-56f73f3a41d7",
   "metadata": {},
   "outputs": [
    {
     "data": {
      "text/plain": [
       "tensor([[ True,  True,  True,  True],\n",
       "        [False, False, False, False],\n",
       "        [ True,  True,  True,  True],\n",
       "        [ True,  True,  True,  True],\n",
       "        [False, False, False, False],\n",
       "        [ True,  True,  True,  True],\n",
       "        [ True,  True,  True,  True],\n",
       "        [False, False, False, False],\n",
       "        [ True,  True,  True,  True],\n",
       "        [ True,  True,  True,  True],\n",
       "        [False, False, False, False],\n",
       "        [ True,  True,  True,  True],\n",
       "        [ True,  True,  True,  True],\n",
       "        [False, False, False, False],\n",
       "        [ True,  True,  True,  True]])"
      ]
     },
     "execution_count": 23,
     "metadata": {},
     "output_type": "execute_result"
    }
   ],
   "source": [
    "mask_2d"
   ]
  },
  {
   "cell_type": "code",
   "execution_count": 24,
   "id": "2b9560fc-db7f-44ca-b2db-5712a1c643de",
   "metadata": {},
   "outputs": [
    {
     "data": {
      "text/plain": [
       "tensor([ True, False,  True])"
      ]
     },
     "execution_count": 24,
     "metadata": {},
     "output_type": "execute_result"
    }
   ],
   "source": [
    "bernoulli_mask"
   ]
  },
  {
   "cell_type": "code",
   "execution_count": 25,
   "id": "4bc3060b-ca2c-486a-901b-bafc1cd44d6b",
   "metadata": {},
   "outputs": [
    {
     "data": {
      "text/plain": [
       "tensor([[ 0,  1,  2,  3],\n",
       "        [ 0,  0,  0,  0],\n",
       "        [ 8,  9, 10, 11],\n",
       "        [12, 13, 14, 15],\n",
       "        [ 0,  0,  0,  0],\n",
       "        [20, 21, 22, 23],\n",
       "        [24, 25, 26, 27],\n",
       "        [ 0,  0,  0,  0],\n",
       "        [32, 33, 34, 35],\n",
       "        [36, 37, 38, 39],\n",
       "        [ 0,  0,  0,  0],\n",
       "        [44, 45, 46, 47],\n",
       "        [48, 49, 50, 51],\n",
       "        [ 0,  0,  0,  0],\n",
       "        [56, 57, 58, 59]])"
      ]
     },
     "execution_count": 25,
     "metadata": {},
     "output_type": "execute_result"
    }
   ],
   "source": [
    "tensor_2d * mask_2d"
   ]
  },
  {
   "cell_type": "code",
   "execution_count": 15,
   "id": "8fa11658-6921-48f1-b330-5ff24b8611b1",
   "metadata": {},
   "outputs": [],
   "source": [
    "t = torch.tensor([[1., 1., 1.],\n",
    "        [0., 0., 0.],\n",
    "        [1., 1., 1.],\n",
    "        [0., 0., 0.],\n",
    "        [1., 1., 1.],\n",
    "        [1., 1., 1.],\n",
    "        [1., 1., 1.],\n",
    "        [0., 0., 0.],\n",
    "        [1., 1., 1.],\n",
    "        [0., 0., 0.],\n",
    "        [1., 1., 1.],\n",
    "        [1., 1., 1.]])"
   ]
  },
  {
   "cell_type": "code",
   "execution_count": 16,
   "id": "1820245a-5c09-4e04-89f0-d1f9adbe96c5",
   "metadata": {},
   "outputs": [
    {
     "data": {
      "text/plain": [
       "tensor([[1., 0., 1., 0., 1., 1., 1., 0., 1., 0., 1., 1.],\n",
       "        [1., 0., 1., 0., 1., 1., 1., 0., 1., 0., 1., 1.],\n",
       "        [1., 0., 1., 0., 1., 1., 1., 0., 1., 0., 1., 1.]])"
      ]
     },
     "execution_count": 16,
     "metadata": {},
     "output_type": "execute_result"
    }
   ],
   "source": [
    "t.T"
   ]
  },
  {
   "cell_type": "code",
   "execution_count": null,
   "id": "519c2e75-729c-4592-81cc-887d9282b3e3",
   "metadata": {},
   "outputs": [],
   "source": []
  }
 ],
 "metadata": {
  "kernelspec": {
   "display_name": "Python 3 (ipykernel)",
   "language": "python",
   "name": "python3"
  },
  "language_info": {
   "codemirror_mode": {
    "name": "ipython",
    "version": 3
   },
   "file_extension": ".py",
   "mimetype": "text/x-python",
   "name": "python",
   "nbconvert_exporter": "python",
   "pygments_lexer": "ipython3",
   "version": "3.8.19"
  }
 },
 "nbformat": 4,
 "nbformat_minor": 5
}
