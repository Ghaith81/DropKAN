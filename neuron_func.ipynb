{
 "cells": [
  {
   "cell_type": "code",
   "execution_count": 2,
   "id": "92c09135-0218-4313-ba7b-9c3604011563",
   "metadata": {},
   "outputs": [],
   "source": [
    "import sys, os, inspect\n",
    "from sklearn.ensemble import RandomForestClassifier, GradientBoostingClassifier\n",
    "from dataset.Dataset import Dataset\n",
    "from sklearn.metrics import accuracy_score\n",
    "import torch\n",
    "from kan.KAN import KAN\n",
    "from kan.DropKAN import DropKAN\n",
    "from kan.DropKANLayer import DropKANLayer\n",
    "import torch\n",
    "import torch.nn as nn\n",
    "import numpy as np\n",
    "import random\n",
    "import pandas as pd \n",
    "\n",
    "def set_training_mode(module, mode):\n",
    "    \"\"\"Set the training mode for a module and all its sub-modules.\"\"\"\n",
    "    module.training = mode\n",
    "    for submodule in module.children():\n",
    "        set_training_mode(submodule, mode)"
   ]
  },
  {
   "cell_type": "code",
   "execution_count": 3,
   "id": "3df2d060-404f-4d78-abbc-3b99299d0ddd",
   "metadata": {},
   "outputs": [],
   "source": [
    "work_dir = 'uci datasets/Shuffled/'\n",
    "log_folder =  'log neuron fun\\\\'\n",
    "\n",
    "header=None\n",
    "file_name, sep, label = 'german.data-numeric', ',', -1\n",
    "#file_name, sep, label = 'abalone.data', ',', -1\n",
    "#file_name, sep, label = 'dermatology.data', ',', -1\n",
    "#file_name, sep, label = 'car.data', ',', -1\n",
    "file_name, sep, label = 'adult.data', ',', -1\n",
    "#file_name, sep, label = 'census-income.data', ',', -1\n",
    "#file_name, sep, label = 'diabetic_data.csv', ',', -1\n",
    "#file_name, sep, label, header = 'bank-full.csv', ',', -1, 0\n",
    "#file_name, sep, label = 'connect-4.data', ',', -1\n",
    "#file_name, sep, label = 'semeion.data', ',', -1\n",
    "\n",
    " \n",
    "\n",
    "\n",
    "\n",
    "\n",
    "data = Dataset(work_dir+file_name, sep, label, divide_dataset=False, header=header)"
   ]
  },
  {
   "cell_type": "code",
   "execution_count": 151,
   "id": "46023306-38e7-4ac4-8539-9f8cb845dcd6",
   "metadata": {},
   "outputs": [],
   "source": [
    "classifier = RandomForestClassifier(n_estimators=111, random_state=0, n_jobs=-1)\n",
    "data.divide_dataset(classifier,\n",
    "                                      normalize=True, \n",
    "                                      shuffle=False, \n",
    "                                      all_features=True, \n",
    "                                      all_instances=True, \n",
    "                                      evaluate=True, \n",
    "                                      partial_sample=False,\n",
    "                                      metric=accuracy_score)"
   ]
  },
  {
   "cell_type": "code",
   "execution_count": 152,
   "id": "a313e615-2bc0-41b0-bc48-217a38c3dfc0",
   "metadata": {},
   "outputs": [
    {
     "data": {
      "text/plain": [
       "0.850583538083538"
      ]
     },
     "execution_count": 152,
     "metadata": {},
     "output_type": "execute_result"
    }
   ],
   "source": [
    "data.get_validation_accuracy()"
   ]
  },
  {
   "cell_type": "code",
   "execution_count": 153,
   "id": "d68959df-558d-427d-a4ab-204db6f9e60f",
   "metadata": {},
   "outputs": [
    {
     "data": {
      "text/plain": [
       "0.8527560264087211"
      ]
     },
     "execution_count": 153,
     "metadata": {},
     "output_type": "execute_result"
    }
   ],
   "source": [
    "data.get_test_accuracy()"
   ]
  },
  {
   "cell_type": "code",
   "execution_count": null,
   "id": "6a893e50-81f8-4182-abdc-2629e7a1c4c3",
   "metadata": {},
   "outputs": [],
   "source": []
  },
  {
   "cell_type": "code",
   "execution_count": 154,
   "id": "2b881330-ef32-4996-b3ce-2ac54e777d8d",
   "metadata": {},
   "outputs": [
    {
     "data": {
      "text/plain": [
       "tensor([1., 1., 1.,  ..., 0., 1., 1.], grad_fn=<RoundBackward0>)"
      ]
     },
     "execution_count": 154,
     "metadata": {},
     "output_type": "execute_result"
    }
   ],
   "source": [
    "torch.round(torch.sigmoid(model(dataset['val_input'])[:,0]))"
   ]
  },
  {
   "cell_type": "code",
   "execution_count": null,
   "id": "244f6e0b-04f2-4563-8c55-a23037971336",
   "metadata": {},
   "outputs": [],
   "source": []
  },
  {
   "cell_type": "code",
   "execution_count": 155,
   "id": "f01d3fcb-174f-48cb-9e9b-ad6a2f7bb60f",
   "metadata": {},
   "outputs": [],
   "source": [
    "dataset = {}\n",
    "dataset['train_input'] = torch.from_numpy(data.X_train).float()\n",
    "dataset['test_input'] = torch.from_numpy(data.X_test).float()\n",
    "dataset['val_input'] = torch.from_numpy(data.X_val).float()\n",
    "dataset['train_label'] = torch.from_numpy(data.y_train[:, None])\n",
    "dataset['test_label'] = torch.from_numpy(data.y_test[:, None])\n",
    "dataset['val_label'] = torch.from_numpy(data.y_val[:, None])"
   ]
  },
  {
   "cell_type": "code",
   "execution_count": 206,
   "id": "9f9d8d30-7804-466a-820c-1ef0c115688e",
   "metadata": {},
   "outputs": [
    {
     "name": "stderr",
     "output_type": "stream",
     "text": [
      "description: 100%|█████████████████████████████████████████████| 2000/2000 [00:12<00:00, 155.40it/s]\n"
     ]
    },
    {
     "name": "stdout",
     "output_type": "stream",
     "text": [
      "0.0 0.0 kan None tensor(0.8478) tensor(0.8489)\n"
     ]
    }
   ],
   "source": [
    "for j in range(1):\n",
    "    model = DropKAN(seed=j,width=[data.X_train.shape[1], 10, 1],\n",
    "                            symbolic_enabled=False, drop_rate=[.0, .0], drop_mode='postact', drop_scale=True, neuron_fun=['sum', 'sum'])\n",
    "    results = model.train(dataset, opt=\"Adam\", steps=2000, batch=32, lr=0.01, update_grid=False)\n",
    "    set_training_mode(model, False)\n",
    "    \n",
    "    val_acc = torch.mean((torch.round(model(dataset['val_input'])[:,0]) == dataset['val_label'][:,0]).float())\n",
    "    test_acc = torch.mean((torch.round(model(dataset['test_input'])[:,0]) == dataset['test_label'][:,0]).float())\n",
    "    print(0.0, 0.0, 'kan', None, val_acc, test_acc)"
   ]
  },
  {
   "cell_type": "code",
   "execution_count": 65,
   "id": "18781979-ad74-4172-b83c-0469de8daaa1",
   "metadata": {
    "scrolled": true
   },
   "outputs": [
    {
     "name": "stderr",
     "output_type": "stream",
     "text": [
      "description: 100%|██████████████████████████████████████████████| 2000/2000 [00:25<00:00, 78.96it/s]\n"
     ]
    },
    {
     "name": "stdout",
     "output_type": "stream",
     "text": [
      "tensor(0.9937) tensor(0.9843)\n",
      "1\n",
      "\n"
     ]
    },
    {
     "name": "stderr",
     "output_type": "stream",
     "text": [
      "description: 100%|██████████████████████████████████████████████| 2000/2000 [00:26<00:00, 76.87it/s]\n"
     ]
    },
    {
     "name": "stdout",
     "output_type": "stream",
     "text": [
      "tensor(0.9937) tensor(0.9937)\n",
      "2\n",
      "\n"
     ]
    },
    {
     "name": "stderr",
     "output_type": "stream",
     "text": [
      "description: 100%|██████████████████████████████████████████████| 2000/2000 [00:25<00:00, 77.30it/s]\n"
     ]
    },
    {
     "name": "stdout",
     "output_type": "stream",
     "text": [
      "tensor(0.9214) tensor(0.8966)\n",
      "3\n",
      "\n"
     ]
    },
    {
     "name": "stderr",
     "output_type": "stream",
     "text": [
      "description: 100%|██████████████████████████████████████████████| 2000/2000 [00:25<00:00, 78.41it/s]\n"
     ]
    },
    {
     "name": "stdout",
     "output_type": "stream",
     "text": [
      "tensor(0.9214) tensor(0.8966)\n",
      "4\n",
      "\n"
     ]
    },
    {
     "name": "stderr",
     "output_type": "stream",
     "text": [
      "description: 100%|██████████████████████████████████████████████| 2000/2000 [00:24<00:00, 80.24it/s]\n"
     ]
    },
    {
     "name": "stdout",
     "output_type": "stream",
     "text": [
      "tensor(1.) tensor(0.9969)\n",
      "5\n",
      "\n"
     ]
    },
    {
     "name": "stderr",
     "output_type": "stream",
     "text": [
      "description: 100%|██████████████████████████████████████████████| 2000/2000 [00:25<00:00, 79.45it/s]\n"
     ]
    },
    {
     "name": "stdout",
     "output_type": "stream",
     "text": [
      "tensor(0.9874) tensor(0.9718)\n",
      "6\n",
      "\n"
     ]
    },
    {
     "name": "stderr",
     "output_type": "stream",
     "text": [
      "description: 100%|██████████████████████████████████████████████| 2000/2000 [00:25<00:00, 78.53it/s]\n"
     ]
    },
    {
     "name": "stdout",
     "output_type": "stream",
     "text": [
      "tensor(0.9811) tensor(0.9718)\n",
      "7\n",
      "\n"
     ]
    },
    {
     "name": "stderr",
     "output_type": "stream",
     "text": [
      "description: 100%|██████████████████████████████████████████████| 2000/2000 [00:25<00:00, 77.06it/s]\n"
     ]
    },
    {
     "name": "stdout",
     "output_type": "stream",
     "text": [
      "tensor(0.9937) tensor(0.9906)\n",
      "8\n",
      "\n"
     ]
    },
    {
     "name": "stderr",
     "output_type": "stream",
     "text": [
      "description: 100%|██████████████████████████████████████████████| 2000/2000 [00:25<00:00, 78.67it/s]\n"
     ]
    },
    {
     "name": "stdout",
     "output_type": "stream",
     "text": [
      "tensor(0.9937) tensor(0.9969)\n",
      "9\n",
      "\n"
     ]
    },
    {
     "name": "stderr",
     "output_type": "stream",
     "text": [
      "description: 100%|██████████████████████████████████████████████| 2000/2000 [00:22<00:00, 90.01it/s]\n"
     ]
    },
    {
     "name": "stdout",
     "output_type": "stream",
     "text": [
      "tensor(0.9811) tensor(0.9875)\n",
      "10\n",
      "\n"
     ]
    },
    {
     "name": "stderr",
     "output_type": "stream",
     "text": [
      "description: 100%|██████████████████████████████████████████████| 2000/2000 [00:22<00:00, 89.80it/s]\n"
     ]
    },
    {
     "name": "stdout",
     "output_type": "stream",
     "text": [
      "tensor(0.9748) tensor(0.9687)\n",
      "11\n",
      "\n"
     ]
    },
    {
     "name": "stderr",
     "output_type": "stream",
     "text": [
      "description: 100%|██████████████████████████████████████████████| 2000/2000 [00:22<00:00, 90.28it/s]\n"
     ]
    },
    {
     "name": "stdout",
     "output_type": "stream",
     "text": [
      "tensor(0.9214) tensor(0.8966)\n",
      "12\n",
      "\n"
     ]
    },
    {
     "name": "stderr",
     "output_type": "stream",
     "text": [
      "description: 100%|██████████████████████████████████████████████| 2000/2000 [00:22<00:00, 90.49it/s]\n"
     ]
    },
    {
     "name": "stdout",
     "output_type": "stream",
     "text": [
      "tensor(0.9214) tensor(0.8966)\n",
      "13\n",
      "\n"
     ]
    },
    {
     "name": "stderr",
     "output_type": "stream",
     "text": [
      "description: 100%|██████████████████████████████████████████████| 2000/2000 [00:22<00:00, 88.95it/s]\n"
     ]
    },
    {
     "name": "stdout",
     "output_type": "stream",
     "text": [
      "tensor(0.9748) tensor(0.9655)\n",
      "14\n",
      "\n"
     ]
    },
    {
     "name": "stderr",
     "output_type": "stream",
     "text": [
      "description: 100%|██████████████████████████████████████████████| 2000/2000 [00:22<00:00, 88.90it/s]\n"
     ]
    },
    {
     "name": "stdout",
     "output_type": "stream",
     "text": [
      "tensor(0.9434) tensor(0.9373)\n",
      "15\n",
      "\n"
     ]
    },
    {
     "name": "stderr",
     "output_type": "stream",
     "text": [
      "description: 100%|██████████████████████████████████████████████| 2000/2000 [00:22<00:00, 88.76it/s]\n"
     ]
    },
    {
     "name": "stdout",
     "output_type": "stream",
     "text": [
      "tensor(0.9623) tensor(0.9655)\n",
      "16\n",
      "\n"
     ]
    },
    {
     "name": "stderr",
     "output_type": "stream",
     "text": [
      "description: 100%|██████████████████████████████████████████████| 2000/2000 [00:22<00:00, 89.63it/s]\n"
     ]
    },
    {
     "name": "stdout",
     "output_type": "stream",
     "text": [
      "tensor(0.8962) tensor(0.9154)\n",
      "17\n",
      "\n"
     ]
    },
    {
     "name": "stderr",
     "output_type": "stream",
     "text": [
      "description: 100%|██████████████████████████████████████████████| 2000/2000 [00:22<00:00, 89.24it/s]\n"
     ]
    },
    {
     "name": "stdout",
     "output_type": "stream",
     "text": [
      "tensor(0.9654) tensor(0.9655)\n",
      "18\n",
      "\n"
     ]
    },
    {
     "name": "stderr",
     "output_type": "stream",
     "text": [
      "description: 100%|██████████████████████████████████████████████| 2000/2000 [00:22<00:00, 89.48it/s]\n"
     ]
    },
    {
     "name": "stdout",
     "output_type": "stream",
     "text": [
      "tensor(0.9686) tensor(0.9530)\n",
      "19\n",
      "\n"
     ]
    },
    {
     "name": "stderr",
     "output_type": "stream",
     "text": [
      "description: 100%|██████████████████████████████████████████████| 2000/2000 [00:22<00:00, 89.91it/s]\n"
     ]
    },
    {
     "name": "stdout",
     "output_type": "stream",
     "text": [
      "tensor(0.9434) tensor(0.9248)\n",
      "20\n",
      "\n"
     ]
    },
    {
     "name": "stderr",
     "output_type": "stream",
     "text": [
      "description: 100%|██████████████████████████████████████████████| 2000/2000 [00:22<00:00, 90.65it/s]\n"
     ]
    },
    {
     "name": "stdout",
     "output_type": "stream",
     "text": [
      "tensor(0.9214) tensor(0.8966)\n",
      "21\n",
      "\n"
     ]
    },
    {
     "name": "stderr",
     "output_type": "stream",
     "text": [
      "description: 100%|██████████████████████████████████████████████| 2000/2000 [00:22<00:00, 90.52it/s]\n"
     ]
    },
    {
     "name": "stdout",
     "output_type": "stream",
     "text": [
      "tensor(0.9214) tensor(0.8966)\n",
      "22\n",
      "\n"
     ]
    },
    {
     "name": "stderr",
     "output_type": "stream",
     "text": [
      "description: 100%|██████████████████████████████████████████████| 2000/2000 [00:22<00:00, 89.18it/s]\n"
     ]
    },
    {
     "name": "stdout",
     "output_type": "stream",
     "text": [
      "tensor(0.9780) tensor(0.9655)\n",
      "23\n",
      "\n"
     ]
    },
    {
     "name": "stderr",
     "output_type": "stream",
     "text": [
      "description: 100%|██████████████████████████████████████████████| 2000/2000 [00:22<00:00, 88.51it/s]\n"
     ]
    },
    {
     "name": "stdout",
     "output_type": "stream",
     "text": [
      "tensor(0.9560) tensor(0.9279)\n",
      "24\n",
      "\n"
     ]
    },
    {
     "name": "stderr",
     "output_type": "stream",
     "text": [
      "description: 100%|██████████████████████████████████████████████| 2000/2000 [00:22<00:00, 88.21it/s]\n"
     ]
    },
    {
     "name": "stdout",
     "output_type": "stream",
     "text": [
      "tensor(0.9308) tensor(0.9373)\n",
      "25\n",
      "\n"
     ]
    },
    {
     "name": "stderr",
     "output_type": "stream",
     "text": [
      "description: 100%|██████████████████████████████████████████████| 2000/2000 [00:22<00:00, 89.48it/s]\n"
     ]
    },
    {
     "name": "stdout",
     "output_type": "stream",
     "text": [
      "tensor(0.9340) tensor(0.9154)\n",
      "26\n",
      "\n"
     ]
    },
    {
     "name": "stderr",
     "output_type": "stream",
     "text": [
      "description: 100%|██████████████████████████████████████████████| 2000/2000 [00:22<00:00, 89.45it/s]\n"
     ]
    },
    {
     "name": "stdout",
     "output_type": "stream",
     "text": [
      "tensor(0.9277) tensor(0.9248)\n",
      "27\n",
      "\n"
     ]
    },
    {
     "name": "stderr",
     "output_type": "stream",
     "text": [
      "description: 100%|██████████████████████████████████████████████| 2000/2000 [00:22<00:00, 88.05it/s]\n"
     ]
    },
    {
     "name": "stdout",
     "output_type": "stream",
     "text": [
      "tensor(0.9214) tensor(0.8966)\n",
      "28\n",
      "\n"
     ]
    },
    {
     "name": "stderr",
     "output_type": "stream",
     "text": [
      "description: 100%|██████████████████████████████████████████████| 2000/2000 [00:22<00:00, 87.73it/s]\n"
     ]
    },
    {
     "name": "stdout",
     "output_type": "stream",
     "text": [
      "tensor(0.9214) tensor(0.8966)\n",
      "29\n",
      "\n"
     ]
    },
    {
     "name": "stderr",
     "output_type": "stream",
     "text": [
      "description: 100%|██████████████████████████████████████████████| 2000/2000 [00:22<00:00, 87.82it/s]\n"
     ]
    },
    {
     "name": "stdout",
     "output_type": "stream",
     "text": [
      "tensor(0.9214) tensor(0.8966)\n",
      "30\n",
      "\n"
     ]
    },
    {
     "name": "stderr",
     "output_type": "stream",
     "text": [
      "description: 100%|██████████████████████████████████████████████| 2000/2000 [00:22<00:00, 87.90it/s]\n"
     ]
    },
    {
     "name": "stdout",
     "output_type": "stream",
     "text": [
      "tensor(0.9214) tensor(0.8966)\n",
      "31\n",
      "\n"
     ]
    },
    {
     "name": "stderr",
     "output_type": "stream",
     "text": [
      "description: 100%|██████████████████████████████████████████████| 2000/2000 [00:22<00:00, 87.44it/s]\n"
     ]
    },
    {
     "name": "stdout",
     "output_type": "stream",
     "text": [
      "tensor(0.9214) tensor(0.8966)\n",
      "32\n",
      "\n"
     ]
    },
    {
     "name": "stderr",
     "output_type": "stream",
     "text": [
      "description: 100%|██████████████████████████████████████████████| 2000/2000 [00:22<00:00, 87.42it/s]\n"
     ]
    },
    {
     "name": "stdout",
     "output_type": "stream",
     "text": [
      "tensor(0.9214) tensor(0.8966)\n",
      "33\n",
      "\n"
     ]
    },
    {
     "name": "stderr",
     "output_type": "stream",
     "text": [
      "description: 100%|██████████████████████████████████████████████| 2000/2000 [00:22<00:00, 87.67it/s]\n"
     ]
    },
    {
     "name": "stdout",
     "output_type": "stream",
     "text": [
      "tensor(0.9214) tensor(0.8966)\n",
      "34\n",
      "\n"
     ]
    },
    {
     "name": "stderr",
     "output_type": "stream",
     "text": [
      "description: 100%|██████████████████████████████████████████████| 2000/2000 [00:22<00:00, 87.70it/s]\n"
     ]
    },
    {
     "name": "stdout",
     "output_type": "stream",
     "text": [
      "tensor(0.9214) tensor(0.8966)\n",
      "35\n",
      "\n"
     ]
    },
    {
     "name": "stderr",
     "output_type": "stream",
     "text": [
      "description: 100%|██████████████████████████████████████████████| 2000/2000 [00:22<00:00, 87.77it/s]\n"
     ]
    },
    {
     "name": "stdout",
     "output_type": "stream",
     "text": [
      "tensor(0.9214) tensor(0.8966)\n",
      "36\n",
      "\n"
     ]
    },
    {
     "name": "stderr",
     "output_type": "stream",
     "text": [
      "description: 100%|██████████████████████████████████████████████| 2000/2000 [00:21<00:00, 91.44it/s]\n"
     ]
    },
    {
     "name": "stdout",
     "output_type": "stream",
     "text": [
      "tensor(0.9937) tensor(0.9937)\n",
      "37\n",
      "\n"
     ]
    },
    {
     "name": "stderr",
     "output_type": "stream",
     "text": [
      "description: 100%|██████████████████████████████████████████████| 2000/2000 [00:22<00:00, 88.14it/s]\n"
     ]
    },
    {
     "name": "stdout",
     "output_type": "stream",
     "text": [
      "tensor(0.9874) tensor(0.9781)\n",
      "38\n",
      "\n"
     ]
    },
    {
     "name": "stderr",
     "output_type": "stream",
     "text": [
      "description: 100%|██████████████████████████████████████████████| 2000/2000 [00:22<00:00, 87.37it/s]\n"
     ]
    },
    {
     "name": "stdout",
     "output_type": "stream",
     "text": [
      "tensor(0.9874) tensor(0.9781)\n",
      "39\n",
      "\n"
     ]
    },
    {
     "name": "stderr",
     "output_type": "stream",
     "text": [
      "description: 100%|██████████████████████████████████████████████| 2000/2000 [00:22<00:00, 90.28it/s]\n"
     ]
    },
    {
     "name": "stdout",
     "output_type": "stream",
     "text": [
      "tensor(0.9214) tensor(0.8966)\n",
      "40\n",
      "\n"
     ]
    },
    {
     "name": "stderr",
     "output_type": "stream",
     "text": [
      "description: 100%|██████████████████████████████████████████████| 2000/2000 [00:21<00:00, 91.43it/s]\n"
     ]
    },
    {
     "name": "stdout",
     "output_type": "stream",
     "text": [
      "tensor(0.9906) tensor(0.9749)\n",
      "41\n",
      "\n"
     ]
    },
    {
     "name": "stderr",
     "output_type": "stream",
     "text": [
      "description: 100%|██████████████████████████████████████████████| 2000/2000 [00:22<00:00, 90.89it/s]\n"
     ]
    },
    {
     "name": "stdout",
     "output_type": "stream",
     "text": [
      "tensor(0.9906) tensor(0.9781)\n",
      "42\n",
      "\n"
     ]
    },
    {
     "name": "stderr",
     "output_type": "stream",
     "text": [
      "description: 100%|██████████████████████████████████████████████| 2000/2000 [00:22<00:00, 88.74it/s]\n"
     ]
    },
    {
     "name": "stdout",
     "output_type": "stream",
     "text": [
      "tensor(0.9906) tensor(0.9812)\n",
      "43\n",
      "\n"
     ]
    },
    {
     "name": "stderr",
     "output_type": "stream",
     "text": [
      "description: 100%|██████████████████████████████████████████████| 2000/2000 [00:22<00:00, 88.11it/s]\n"
     ]
    },
    {
     "name": "stdout",
     "output_type": "stream",
     "text": [
      "tensor(0.9748) tensor(0.9718)\n",
      "44\n",
      "\n"
     ]
    },
    {
     "name": "stderr",
     "output_type": "stream",
     "text": [
      "description: 100%|██████████████████████████████████████████████| 2000/2000 [00:22<00:00, 90.83it/s]\n"
     ]
    },
    {
     "name": "stdout",
     "output_type": "stream",
     "text": [
      "tensor(0.9843) tensor(0.9812)\n",
      "45\n",
      "\n"
     ]
    },
    {
     "name": "stderr",
     "output_type": "stream",
     "text": [
      "description: 100%|██████████████████████████████████████████████| 2000/2000 [00:22<00:00, 88.40it/s]\n"
     ]
    },
    {
     "name": "stdout",
     "output_type": "stream",
     "text": [
      "tensor(1.) tensor(1.)\n",
      "46\n",
      "\n"
     ]
    },
    {
     "name": "stderr",
     "output_type": "stream",
     "text": [
      "description: 100%|██████████████████████████████████████████████| 2000/2000 [00:23<00:00, 85.57it/s]\n"
     ]
    },
    {
     "name": "stdout",
     "output_type": "stream",
     "text": [
      "tensor(1.) tensor(1.)\n",
      "47\n",
      "\n"
     ]
    },
    {
     "name": "stderr",
     "output_type": "stream",
     "text": [
      "description: 100%|██████████████████████████████████████████████| 2000/2000 [00:23<00:00, 86.76it/s]\n"
     ]
    },
    {
     "name": "stdout",
     "output_type": "stream",
     "text": [
      "tensor(0.9874) tensor(0.9718)\n",
      "48\n",
      "\n"
     ]
    },
    {
     "name": "stderr",
     "output_type": "stream",
     "text": [
      "description: 100%|██████████████████████████████████████████████| 2000/2000 [00:23<00:00, 86.55it/s]\n"
     ]
    },
    {
     "name": "stdout",
     "output_type": "stream",
     "text": [
      "tensor(0.9214) tensor(0.8966)\n",
      "49\n",
      "\n"
     ]
    },
    {
     "name": "stderr",
     "output_type": "stream",
     "text": [
      "description: 100%|██████████████████████████████████████████████| 2000/2000 [00:22<00:00, 88.68it/s]\n"
     ]
    },
    {
     "name": "stdout",
     "output_type": "stream",
     "text": [
      "tensor(1.) tensor(1.)\n",
      "50\n",
      "\n"
     ]
    },
    {
     "name": "stderr",
     "output_type": "stream",
     "text": [
      "description: 100%|██████████████████████████████████████████████| 2000/2000 [00:22<00:00, 88.01it/s]\n"
     ]
    },
    {
     "name": "stdout",
     "output_type": "stream",
     "text": [
      "tensor(1.) tensor(1.)\n",
      "51\n",
      "\n"
     ]
    },
    {
     "name": "stderr",
     "output_type": "stream",
     "text": [
      "description: 100%|██████████████████████████████████████████████| 2000/2000 [00:22<00:00, 88.13it/s]\n"
     ]
    },
    {
     "name": "stdout",
     "output_type": "stream",
     "text": [
      "tensor(1.) tensor(1.)\n",
      "52\n",
      "\n"
     ]
    },
    {
     "name": "stderr",
     "output_type": "stream",
     "text": [
      "description: 100%|██████████████████████████████████████████████| 2000/2000 [00:23<00:00, 85.85it/s]\n"
     ]
    },
    {
     "name": "stdout",
     "output_type": "stream",
     "text": [
      "tensor(0.9780) tensor(0.9937)\n",
      "53\n",
      "\n"
     ]
    },
    {
     "name": "stderr",
     "output_type": "stream",
     "text": [
      "description: 100%|██████████████████████████████████████████████| 2000/2000 [00:22<00:00, 88.07it/s]\n"
     ]
    },
    {
     "name": "stdout",
     "output_type": "stream",
     "text": [
      "tensor(1.) tensor(1.)\n",
      "54\n",
      "\n"
     ]
    },
    {
     "name": "stderr",
     "output_type": "stream",
     "text": [
      "description: 100%|██████████████████████████████████████████████| 2000/2000 [00:22<00:00, 88.91it/s]\n"
     ]
    },
    {
     "name": "stdout",
     "output_type": "stream",
     "text": [
      "tensor(1.) tensor(1.)\n",
      "55\n",
      "\n"
     ]
    },
    {
     "name": "stderr",
     "output_type": "stream",
     "text": [
      "description: 100%|██████████████████████████████████████████████| 2000/2000 [00:23<00:00, 86.35it/s]\n"
     ]
    },
    {
     "name": "stdout",
     "output_type": "stream",
     "text": [
      "tensor(0.9780) tensor(0.9718)\n",
      "56\n",
      "\n"
     ]
    },
    {
     "name": "stderr",
     "output_type": "stream",
     "text": [
      "description: 100%|██████████████████████████████████████████████| 2000/2000 [00:23<00:00, 85.12it/s]\n"
     ]
    },
    {
     "name": "stdout",
     "output_type": "stream",
     "text": [
      "tensor(1.) tensor(1.)\n",
      "57\n",
      "\n"
     ]
    },
    {
     "name": "stderr",
     "output_type": "stream",
     "text": [
      "description: 100%|██████████████████████████████████████████████| 2000/2000 [00:22<00:00, 87.72it/s]\n"
     ]
    },
    {
     "name": "stdout",
     "output_type": "stream",
     "text": [
      "tensor(0.9214) tensor(0.8966)\n",
      "58\n",
      "\n"
     ]
    },
    {
     "name": "stderr",
     "output_type": "stream",
     "text": [
      "description: 100%|██████████████████████████████████████████████| 2000/2000 [00:22<00:00, 88.50it/s]\n"
     ]
    },
    {
     "name": "stdout",
     "output_type": "stream",
     "text": [
      "tensor(0.9969) tensor(1.)\n",
      "59\n",
      "\n"
     ]
    },
    {
     "name": "stderr",
     "output_type": "stream",
     "text": [
      "description: 100%|██████████████████████████████████████████████| 2000/2000 [00:22<00:00, 88.21it/s]\n"
     ]
    },
    {
     "name": "stdout",
     "output_type": "stream",
     "text": [
      "tensor(1.) tensor(1.)\n",
      "60\n",
      "\n"
     ]
    },
    {
     "name": "stderr",
     "output_type": "stream",
     "text": [
      "description: 100%|██████████████████████████████████████████████| 2000/2000 [00:22<00:00, 88.34it/s]\n"
     ]
    },
    {
     "name": "stdout",
     "output_type": "stream",
     "text": [
      "tensor(1.) tensor(1.)\n",
      "61\n",
      "\n"
     ]
    },
    {
     "name": "stderr",
     "output_type": "stream",
     "text": [
      "description: 100%|██████████████████████████████████████████████| 2000/2000 [00:23<00:00, 86.17it/s]\n"
     ]
    },
    {
     "name": "stdout",
     "output_type": "stream",
     "text": [
      "tensor(0.9811) tensor(0.9655)\n",
      "62\n",
      "\n"
     ]
    },
    {
     "name": "stderr",
     "output_type": "stream",
     "text": [
      "description: 100%|██████████████████████████████████████████████| 2000/2000 [00:22<00:00, 88.36it/s]\n"
     ]
    },
    {
     "name": "stdout",
     "output_type": "stream",
     "text": [
      "tensor(1.) tensor(1.)\n",
      "63\n",
      "\n"
     ]
    },
    {
     "name": "stderr",
     "output_type": "stream",
     "text": [
      "description: 100%|██████████████████████████████████████████████| 2000/2000 [00:23<00:00, 85.63it/s]\n"
     ]
    },
    {
     "name": "stdout",
     "output_type": "stream",
     "text": [
      "tensor(0.9528) tensor(0.9561)\n",
      "64\n",
      "\n"
     ]
    },
    {
     "name": "stderr",
     "output_type": "stream",
     "text": [
      "description: 100%|██████████████████████████████████████████████| 2000/2000 [00:23<00:00, 84.74it/s]\n"
     ]
    },
    {
     "name": "stdout",
     "output_type": "stream",
     "text": [
      "tensor(0.9403) tensor(0.9154)\n",
      "65\n",
      "\n"
     ]
    },
    {
     "name": "stderr",
     "output_type": "stream",
     "text": [
      "description: 100%|██████████████████████████████████████████████| 2000/2000 [00:23<00:00, 85.23it/s]\n"
     ]
    },
    {
     "name": "stdout",
     "output_type": "stream",
     "text": [
      "tensor(0.9308) tensor(0.9310)\n",
      "66\n",
      "\n"
     ]
    },
    {
     "name": "stderr",
     "output_type": "stream",
     "text": [
      "description: 100%|██████████████████████████████████████████████| 2000/2000 [00:23<00:00, 86.00it/s]\n"
     ]
    },
    {
     "name": "stdout",
     "output_type": "stream",
     "text": [
      "tensor(0.9214) tensor(0.8966)\n",
      "67\n",
      "\n"
     ]
    },
    {
     "name": "stderr",
     "output_type": "stream",
     "text": [
      "description: 100%|██████████████████████████████████████████████| 2000/2000 [00:23<00:00, 85.36it/s]\n"
     ]
    },
    {
     "name": "stdout",
     "output_type": "stream",
     "text": [
      "tensor(0.9528) tensor(0.9436)\n",
      "68\n",
      "\n"
     ]
    },
    {
     "name": "stderr",
     "output_type": "stream",
     "text": [
      "description: 100%|██████████████████████████████████████████████| 2000/2000 [00:23<00:00, 84.94it/s]\n"
     ]
    },
    {
     "name": "stdout",
     "output_type": "stream",
     "text": [
      "tensor(0.9654) tensor(0.9561)\n",
      "69\n",
      "\n"
     ]
    },
    {
     "name": "stderr",
     "output_type": "stream",
     "text": [
      "description: 100%|██████████████████████████████████████████████| 2000/2000 [00:23<00:00, 84.87it/s]\n"
     ]
    },
    {
     "name": "stdout",
     "output_type": "stream",
     "text": [
      "tensor(0.9623) tensor(0.9561)\n",
      "70\n",
      "\n"
     ]
    },
    {
     "name": "stderr",
     "output_type": "stream",
     "text": [
      "description: 100%|██████████████████████████████████████████████| 2000/2000 [00:23<00:00, 84.53it/s]\n"
     ]
    },
    {
     "name": "stdout",
     "output_type": "stream",
     "text": [
      "tensor(0.9465) tensor(0.9342)\n",
      "71\n",
      "\n"
     ]
    },
    {
     "name": "stderr",
     "output_type": "stream",
     "text": [
      "description: 100%|██████████████████████████████████████████████| 2000/2000 [00:23<00:00, 85.02it/s]\n"
     ]
    },
    {
     "name": "stdout",
     "output_type": "stream",
     "text": [
      "tensor(0.9371) tensor(0.9498)\n",
      "72\n",
      "\n"
     ]
    },
    {
     "name": "stderr",
     "output_type": "stream",
     "text": [
      "description: 100%|██████████████████████████████████████████████| 2000/2000 [00:22<00:00, 89.83it/s]\n"
     ]
    },
    {
     "name": "stdout",
     "output_type": "stream",
     "text": [
      "tensor(1.) tensor(1.)\n",
      "73\n",
      "\n"
     ]
    },
    {
     "name": "stderr",
     "output_type": "stream",
     "text": [
      "description: 100%|██████████████████████████████████████████████| 2000/2000 [00:23<00:00, 86.19it/s]\n"
     ]
    },
    {
     "name": "stdout",
     "output_type": "stream",
     "text": [
      "tensor(1.) tensor(1.)\n",
      "74\n",
      "\n"
     ]
    },
    {
     "name": "stderr",
     "output_type": "stream",
     "text": [
      "description: 100%|██████████████████████████████████████████████| 2000/2000 [00:22<00:00, 88.52it/s]\n"
     ]
    },
    {
     "name": "stdout",
     "output_type": "stream",
     "text": [
      "tensor(0.9969) tensor(1.)\n",
      "75\n",
      "\n"
     ]
    },
    {
     "name": "stderr",
     "output_type": "stream",
     "text": [
      "description: 100%|██████████████████████████████████████████████| 2000/2000 [00:22<00:00, 88.85it/s]\n"
     ]
    },
    {
     "name": "stdout",
     "output_type": "stream",
     "text": [
      "tensor(0.9591) tensor(0.9498)\n",
      "76\n",
      "\n"
     ]
    },
    {
     "name": "stderr",
     "output_type": "stream",
     "text": [
      "description: 100%|██████████████████████████████████████████████| 2000/2000 [00:22<00:00, 89.09it/s]\n"
     ]
    },
    {
     "name": "stdout",
     "output_type": "stream",
     "text": [
      "tensor(1.) tensor(1.)\n",
      "77\n",
      "\n"
     ]
    },
    {
     "name": "stderr",
     "output_type": "stream",
     "text": [
      "description: 100%|██████████████████████████████████████████████| 2000/2000 [00:22<00:00, 89.19it/s]\n"
     ]
    },
    {
     "name": "stdout",
     "output_type": "stream",
     "text": [
      "tensor(1.) tensor(1.)\n",
      "78\n",
      "\n"
     ]
    },
    {
     "name": "stderr",
     "output_type": "stream",
     "text": [
      "description: 100%|██████████████████████████████████████████████| 2000/2000 [00:22<00:00, 89.21it/s]\n"
     ]
    },
    {
     "name": "stdout",
     "output_type": "stream",
     "text": [
      "tensor(1.) tensor(1.)\n",
      "79\n",
      "\n"
     ]
    },
    {
     "name": "stderr",
     "output_type": "stream",
     "text": [
      "description: 100%|██████████████████████████████████████████████| 2000/2000 [00:23<00:00, 86.58it/s]\n"
     ]
    },
    {
     "name": "stdout",
     "output_type": "stream",
     "text": [
      "tensor(1.) tensor(1.)\n",
      "80\n",
      "\n"
     ]
    },
    {
     "name": "stderr",
     "output_type": "stream",
     "text": [
      "description: 100%|██████████████████████████████████████████████| 2000/2000 [00:22<00:00, 89.30it/s]\n"
     ]
    },
    {
     "name": "stdout",
     "output_type": "stream",
     "text": [
      "tensor(1.) tensor(1.)\n",
      "81\n",
      "\n",
      "Log saved to log neuron fun\\semeion.data_log.xlsx\n"
     ]
    }
   ],
   "source": [
    "\n",
    "# Log file name\n",
    "log_file =  log_folder+file_name+'_log.xlsx'\n",
    "\n",
    "# DataFrame to store logs\n",
    "log_df = pd.DataFrame(columns=['neuron_func1', 'neuron_func2', 'drop_rate1', 'drop_rate2', 'drop_mode', 'scale', 'validation_accuracy', 'test_accuracy'])\n",
    "\n",
    "\n",
    "\n",
    "\n",
    "drop_rate1 = 0\n",
    "drop_rate2 = 0\n",
    "drop_mode = None\n",
    "drop_scale = None\n",
    "\n",
    "best = 0\n",
    "for _ in range(1):  # Number of random configurations to test\n",
    "    random.seed()\n",
    "    for neuron_func1 in ['sum', 'min', 'max', 'multiply', 'mean', 'std', 'var', 'median', 'norm']:\n",
    "        for neuron_func2 in ['sum', 'min', 'max', 'multiply', 'mean', 'std', 'var', 'median', 'norm']:\n",
    "            \n",
    "            \n",
    "            model = DropKAN(width=[data.X_train.shape[1], 10,1], grid=3, k=3, bias_trainable=True, sp_trainable=True, sb_trainable=True,\n",
    "                            symbolic_enabled=False, drop_rate=[drop_rate1, drop_rate2], drop_mode=drop_mode, drop_scale=drop_scale, \n",
    "                            neuron_fun=[neuron_func1, neuron_func2])\n",
    "\n",
    "            results = model.train(dataset, opt=\"Adam\", steps=2000, log=100, batch=32, lr=0.01, update_grid=False)\n",
    "            set_training_mode(model, False)\n",
    "            \n",
    "            val_acc = torch.mean((torch.round(model(dataset['val_input'])[:,0]) == dataset['val_label'][:,0]).float())\n",
    "            test_acc = torch.mean((torch.round(model(dataset['test_input'])[:,0]) == dataset['test_label'][:,0]).float())\n",
    "            \n",
    "            \n",
    "                \n",
    "            new_row = [neuron_func1, neuron_func2,drop_rate1,drop_rate2,drop_mode,drop_scale,val_acc.item(),test_acc.item()]\n",
    "            \n",
    "            log_df.loc[len(log_df)] = new_row\n",
    "        \n",
    "            # Save the DataFrame to an Excel file\n",
    "            log_df.to_excel(log_file, index=False)\n",
    "            print(val_acc, test_acc)\n",
    "            print(len(log_df))\n",
    "            print()\n",
    "\n",
    "print(f\"Log saved to {log_file}\")"
   ]
  },
  {
   "cell_type": "code",
   "execution_count": null,
   "id": "a1ca7c45-8bef-4808-986d-8db9b10e41d9",
   "metadata": {},
   "outputs": [],
   "source": []
  },
  {
   "cell_type": "code",
   "execution_count": 50,
   "id": "f5c0b65e-ba1c-4cb1-af7f-a0115d898c67",
   "metadata": {},
   "outputs": [],
   "source": [
    "log_df.to_excel(log_file, index=False)\n"
   ]
  },
  {
   "cell_type": "code",
   "execution_count": 45,
   "id": "b4626910-876e-4deb-8908-ea84f9271f67",
   "metadata": {},
   "outputs": [
    {
     "data": {
      "text/plain": [
       "60.5743408203125"
      ]
     },
     "execution_count": 45,
     "metadata": {},
     "output_type": "execute_result"
    }
   ],
   "source": [
    "dropmode = 4\n",
    "dropscale = True\n",
    "\n",
    "\n",
    "100*log_df[(log_df['dropmode'] == dropmode) & (log_df['scale'] == dropscale)].sort_values('total_accuracy', ascending=False).iloc[:5]['total_accuracy'].median()"
   ]
  },
  {
   "cell_type": "code",
   "execution_count": 46,
   "id": "252ea89f-8254-4a34-9084-1c5abbc458f7",
   "metadata": {},
   "outputs": [
    {
     "data": {
      "text/plain": [
       "1.9219389762676125"
      ]
     },
     "execution_count": 46,
     "metadata": {},
     "output_type": "execute_result"
    }
   ],
   "source": [
    "100*log_df[(log_df['dropmode'] == dropmode) & (log_df['scale'] == dropscale)].sort_values('total_accuracy', ascending=False).iloc[:5]['total_accuracy'].std()"
   ]
  },
  {
   "cell_type": "code",
   "execution_count": 48,
   "id": "13c77b82-b062-4d0a-95a0-d5ff0cf6fd24",
   "metadata": {},
   "outputs": [],
   "source": [
    "setting = log_df[(log_df['dropmode'] == dropmode) & (log_df['scale'] == dropscale)].sort_values('validation_accuracy', ascending=False).iloc[:1]"
   ]
  },
  {
   "cell_type": "code",
   "execution_count": null,
   "id": "829e4b84-b2fd-4663-89cd-ef2c9a42871b",
   "metadata": {},
   "outputs": [],
   "source": [
    "grouped = log_df.groupby(['dropmode', 'scale'])\n",
    "best_settings = grouped.apply(lambda x: x.loc[x['validation_accuracy'].idxmax()])\n",
    "\n",
    "results_df = pd.DataFrame(columns=['dropmode', 'dropscale', 'validation_accuracy', 'test_accuracy'])\n",
    "\n",
    "for i, (index, setting) in enumerate(best_settings.iterrows()):\n",
    "    for j in range(5):\n",
    "        model = KAN(\n",
    "        seed=j,\n",
    "        width=[dataset['train_input'].shape[1], 10, 1],\n",
    "        grid=3,\n",
    "        k=3,\n",
    "        symbolic_enabled=False,\n",
    "        drop_prob=[setting['drop_prob1'], setting['drop_prob2']],\n",
    "        dropmode=[setting['dropmode'], setting['dropmode']],\n",
    "        dropscale=setting['scale'],\n",
    "        neuron_func='sum'\n",
    "        )\n",
    "        results = model.train(dataset, opt=\"Adam\", steps=2000, batch=32, lr=0.01)\n",
    "        set_training_mode(model, False)\n",
    "        \n",
    "        val_acc = torch.mean((torch.round(model(dataset['val_input'])[:,0]) == dataset['val_label'][:,0]).float()).item()\n",
    "        test_acc = torch.mean((torch.round(model(dataset['test_input'])[:,0]) == dataset['test_label'][:,0]).float()).item()\n",
    "        print(setting['dropmode'], setting['scale'], val_acc, test_acc)\n",
    "        results_df.loc[len(results_df)] = [setting['dropmode'], setting['scale'], val_acc, test_acc]\n",
    "    "
   ]
  },
  {
   "cell_type": "code",
   "execution_count": null,
   "id": "3e22cbde-b46c-4c24-8f5b-da998f98e98b",
   "metadata": {},
   "outputs": [],
   "source": [
    "for j in range(5):\n",
    "        model = KAN(\n",
    "        seed=j,\n",
    "        width=[dataset['train_input'].shape[1], 10, 1],\n",
    "        grid=3,\n",
    "        k=3,\n",
    "        symbolic_enabled=False,\n",
    "        drop_prob=[0.0, 0.0],\n",
    "        dropmode=[-1, -1],\n",
    "        dropscale= -1,\n",
    "        )\n",
    "        results = model.train(dataset, opt=\"Adam\", steps=2000, batch=32, lr=0.01)\n",
    "        set_training_mode(model, False)\n",
    "        \n",
    "        val_acc = torch.mean((torch.round(model(dataset['val_input'])[:,0]) == dataset['val_label'][:,0]).float()).item()\n",
    "        test_acc = torch.mean((torch.round(model(dataset['test_input'])[:,0]) == dataset['test_label'][:,0]).float()).item()\n",
    "        print(setting['dropmode'], setting['scale'], val_acc, test_acc)\n",
    "        results_df.loc[len(results_df)] = [-1, -1, val_acc, test_acc]"
   ]
  },
  {
   "cell_type": "code",
   "execution_count": null,
   "id": "dfc9d1b2-e6c0-46c0-972b-b5ab41c0d7ed",
   "metadata": {},
   "outputs": [],
   "source": [
    "results_df.to_excel(folder+file_name+'_results.xlsx', index=False) "
   ]
  },
  {
   "cell_type": "code",
   "execution_count": 68,
   "id": "b95a2f13-26af-46fd-b421-ef5b239ebff7",
   "metadata": {},
   "outputs": [
    {
     "data": {
      "text/html": [
       "<div>\n",
       "<style scoped>\n",
       "    .dataframe tbody tr th:only-of-type {\n",
       "        vertical-align: middle;\n",
       "    }\n",
       "\n",
       "    .dataframe tbody tr th {\n",
       "        vertical-align: top;\n",
       "    }\n",
       "\n",
       "    .dataframe thead th {\n",
       "        text-align: right;\n",
       "    }\n",
       "</style>\n",
       "<table border=\"1\" class=\"dataframe\">\n",
       "  <thead>\n",
       "    <tr style=\"text-align: right;\">\n",
       "      <th></th>\n",
       "      <th>dropmode</th>\n",
       "      <th>dropscale</th>\n",
       "      <th>validation_accuracy</th>\n",
       "      <th>test_accuracy</th>\n",
       "    </tr>\n",
       "  </thead>\n",
       "  <tbody>\n",
       "    <tr>\n",
       "      <th>0</th>\n",
       "      <td>0.0</td>\n",
       "      <td>False</td>\n",
       "      <td>0.993711</td>\n",
       "      <td>0.990596</td>\n",
       "    </tr>\n",
       "    <tr>\n",
       "      <th>1</th>\n",
       "      <td>0.0</td>\n",
       "      <td>False</td>\n",
       "      <td>0.993711</td>\n",
       "      <td>0.978056</td>\n",
       "    </tr>\n",
       "    <tr>\n",
       "      <th>2</th>\n",
       "      <td>0.0</td>\n",
       "      <td>False</td>\n",
       "      <td>0.993711</td>\n",
       "      <td>0.987461</td>\n",
       "    </tr>\n",
       "    <tr>\n",
       "      <th>3</th>\n",
       "      <td>0.0</td>\n",
       "      <td>False</td>\n",
       "      <td>0.987421</td>\n",
       "      <td>0.987461</td>\n",
       "    </tr>\n",
       "    <tr>\n",
       "      <th>4</th>\n",
       "      <td>0.0</td>\n",
       "      <td>False</td>\n",
       "      <td>0.984277</td>\n",
       "      <td>0.990596</td>\n",
       "    </tr>\n",
       "    <tr>\n",
       "      <th>5</th>\n",
       "      <td>0.0</td>\n",
       "      <td>True</td>\n",
       "      <td>0.993711</td>\n",
       "      <td>0.984326</td>\n",
       "    </tr>\n",
       "    <tr>\n",
       "      <th>6</th>\n",
       "      <td>0.0</td>\n",
       "      <td>True</td>\n",
       "      <td>0.990566</td>\n",
       "      <td>0.981191</td>\n",
       "    </tr>\n",
       "    <tr>\n",
       "      <th>7</th>\n",
       "      <td>0.0</td>\n",
       "      <td>True</td>\n",
       "      <td>0.987421</td>\n",
       "      <td>0.981191</td>\n",
       "    </tr>\n",
       "    <tr>\n",
       "      <th>8</th>\n",
       "      <td>0.0</td>\n",
       "      <td>True</td>\n",
       "      <td>0.993711</td>\n",
       "      <td>0.987461</td>\n",
       "    </tr>\n",
       "    <tr>\n",
       "      <th>9</th>\n",
       "      <td>0.0</td>\n",
       "      <td>True</td>\n",
       "      <td>0.990566</td>\n",
       "      <td>0.981191</td>\n",
       "    </tr>\n",
       "    <tr>\n",
       "      <th>10</th>\n",
       "      <td>2.0</td>\n",
       "      <td>False</td>\n",
       "      <td>0.993711</td>\n",
       "      <td>0.993730</td>\n",
       "    </tr>\n",
       "    <tr>\n",
       "      <th>11</th>\n",
       "      <td>2.0</td>\n",
       "      <td>False</td>\n",
       "      <td>0.993711</td>\n",
       "      <td>0.993730</td>\n",
       "    </tr>\n",
       "    <tr>\n",
       "      <th>12</th>\n",
       "      <td>2.0</td>\n",
       "      <td>False</td>\n",
       "      <td>0.990566</td>\n",
       "      <td>0.996865</td>\n",
       "    </tr>\n",
       "    <tr>\n",
       "      <th>13</th>\n",
       "      <td>2.0</td>\n",
       "      <td>False</td>\n",
       "      <td>0.993711</td>\n",
       "      <td>1.000000</td>\n",
       "    </tr>\n",
       "    <tr>\n",
       "      <th>14</th>\n",
       "      <td>2.0</td>\n",
       "      <td>False</td>\n",
       "      <td>0.990566</td>\n",
       "      <td>0.993730</td>\n",
       "    </tr>\n",
       "    <tr>\n",
       "      <th>15</th>\n",
       "      <td>2.0</td>\n",
       "      <td>True</td>\n",
       "      <td>0.990566</td>\n",
       "      <td>0.990596</td>\n",
       "    </tr>\n",
       "    <tr>\n",
       "      <th>16</th>\n",
       "      <td>2.0</td>\n",
       "      <td>True</td>\n",
       "      <td>0.993711</td>\n",
       "      <td>0.993730</td>\n",
       "    </tr>\n",
       "    <tr>\n",
       "      <th>17</th>\n",
       "      <td>2.0</td>\n",
       "      <td>True</td>\n",
       "      <td>0.993711</td>\n",
       "      <td>0.993730</td>\n",
       "    </tr>\n",
       "    <tr>\n",
       "      <th>18</th>\n",
       "      <td>2.0</td>\n",
       "      <td>True</td>\n",
       "      <td>0.990566</td>\n",
       "      <td>0.987461</td>\n",
       "    </tr>\n",
       "    <tr>\n",
       "      <th>19</th>\n",
       "      <td>2.0</td>\n",
       "      <td>True</td>\n",
       "      <td>0.990566</td>\n",
       "      <td>0.996865</td>\n",
       "    </tr>\n",
       "    <tr>\n",
       "      <th>20</th>\n",
       "      <td>4.0</td>\n",
       "      <td>False</td>\n",
       "      <td>1.000000</td>\n",
       "      <td>1.000000</td>\n",
       "    </tr>\n",
       "    <tr>\n",
       "      <th>21</th>\n",
       "      <td>4.0</td>\n",
       "      <td>False</td>\n",
       "      <td>0.993711</td>\n",
       "      <td>1.000000</td>\n",
       "    </tr>\n",
       "    <tr>\n",
       "      <th>22</th>\n",
       "      <td>4.0</td>\n",
       "      <td>False</td>\n",
       "      <td>0.993711</td>\n",
       "      <td>1.000000</td>\n",
       "    </tr>\n",
       "    <tr>\n",
       "      <th>23</th>\n",
       "      <td>4.0</td>\n",
       "      <td>False</td>\n",
       "      <td>0.993711</td>\n",
       "      <td>1.000000</td>\n",
       "    </tr>\n",
       "    <tr>\n",
       "      <th>24</th>\n",
       "      <td>4.0</td>\n",
       "      <td>False</td>\n",
       "      <td>0.993711</td>\n",
       "      <td>1.000000</td>\n",
       "    </tr>\n",
       "    <tr>\n",
       "      <th>25</th>\n",
       "      <td>4.0</td>\n",
       "      <td>True</td>\n",
       "      <td>1.000000</td>\n",
       "      <td>1.000000</td>\n",
       "    </tr>\n",
       "    <tr>\n",
       "      <th>26</th>\n",
       "      <td>4.0</td>\n",
       "      <td>True</td>\n",
       "      <td>0.990566</td>\n",
       "      <td>0.996865</td>\n",
       "    </tr>\n",
       "    <tr>\n",
       "      <th>27</th>\n",
       "      <td>4.0</td>\n",
       "      <td>True</td>\n",
       "      <td>0.993711</td>\n",
       "      <td>1.000000</td>\n",
       "    </tr>\n",
       "    <tr>\n",
       "      <th>28</th>\n",
       "      <td>4.0</td>\n",
       "      <td>True</td>\n",
       "      <td>1.000000</td>\n",
       "      <td>1.000000</td>\n",
       "    </tr>\n",
       "    <tr>\n",
       "      <th>29</th>\n",
       "      <td>4.0</td>\n",
       "      <td>True</td>\n",
       "      <td>1.000000</td>\n",
       "      <td>0.996865</td>\n",
       "    </tr>\n",
       "    <tr>\n",
       "      <th>30</th>\n",
       "      <td>5.0</td>\n",
       "      <td>False</td>\n",
       "      <td>1.000000</td>\n",
       "      <td>1.000000</td>\n",
       "    </tr>\n",
       "    <tr>\n",
       "      <th>31</th>\n",
       "      <td>5.0</td>\n",
       "      <td>False</td>\n",
       "      <td>0.996855</td>\n",
       "      <td>0.996865</td>\n",
       "    </tr>\n",
       "    <tr>\n",
       "      <th>32</th>\n",
       "      <td>5.0</td>\n",
       "      <td>False</td>\n",
       "      <td>0.996855</td>\n",
       "      <td>1.000000</td>\n",
       "    </tr>\n",
       "    <tr>\n",
       "      <th>33</th>\n",
       "      <td>5.0</td>\n",
       "      <td>False</td>\n",
       "      <td>0.993711</td>\n",
       "      <td>1.000000</td>\n",
       "    </tr>\n",
       "    <tr>\n",
       "      <th>34</th>\n",
       "      <td>5.0</td>\n",
       "      <td>False</td>\n",
       "      <td>0.993711</td>\n",
       "      <td>0.996865</td>\n",
       "    </tr>\n",
       "    <tr>\n",
       "      <th>35</th>\n",
       "      <td>5.0</td>\n",
       "      <td>True</td>\n",
       "      <td>0.996855</td>\n",
       "      <td>0.996865</td>\n",
       "    </tr>\n",
       "    <tr>\n",
       "      <th>36</th>\n",
       "      <td>5.0</td>\n",
       "      <td>True</td>\n",
       "      <td>0.993711</td>\n",
       "      <td>0.996865</td>\n",
       "    </tr>\n",
       "    <tr>\n",
       "      <th>37</th>\n",
       "      <td>5.0</td>\n",
       "      <td>True</td>\n",
       "      <td>0.993711</td>\n",
       "      <td>1.000000</td>\n",
       "    </tr>\n",
       "    <tr>\n",
       "      <th>38</th>\n",
       "      <td>5.0</td>\n",
       "      <td>True</td>\n",
       "      <td>0.996855</td>\n",
       "      <td>1.000000</td>\n",
       "    </tr>\n",
       "    <tr>\n",
       "      <th>39</th>\n",
       "      <td>5.0</td>\n",
       "      <td>True</td>\n",
       "      <td>0.996855</td>\n",
       "      <td>1.000000</td>\n",
       "    </tr>\n",
       "    <tr>\n",
       "      <th>40</th>\n",
       "      <td>-1.0</td>\n",
       "      <td>-1.0</td>\n",
       "      <td>0.993711</td>\n",
       "      <td>1.000000</td>\n",
       "    </tr>\n",
       "    <tr>\n",
       "      <th>41</th>\n",
       "      <td>-1.0</td>\n",
       "      <td>-1.0</td>\n",
       "      <td>0.993711</td>\n",
       "      <td>0.996865</td>\n",
       "    </tr>\n",
       "    <tr>\n",
       "      <th>42</th>\n",
       "      <td>-1.0</td>\n",
       "      <td>-1.0</td>\n",
       "      <td>0.977987</td>\n",
       "      <td>0.971787</td>\n",
       "    </tr>\n",
       "    <tr>\n",
       "      <th>43</th>\n",
       "      <td>-1.0</td>\n",
       "      <td>-1.0</td>\n",
       "      <td>0.993711</td>\n",
       "      <td>0.996865</td>\n",
       "    </tr>\n",
       "    <tr>\n",
       "      <th>44</th>\n",
       "      <td>-1.0</td>\n",
       "      <td>-1.0</td>\n",
       "      <td>0.993711</td>\n",
       "      <td>0.996865</td>\n",
       "    </tr>\n",
       "  </tbody>\n",
       "</table>\n",
       "</div>"
      ],
      "text/plain": [
       "    dropmode dropscale  validation_accuracy  test_accuracy\n",
       "0        0.0     False             0.993711       0.990596\n",
       "1        0.0     False             0.993711       0.978056\n",
       "2        0.0     False             0.993711       0.987461\n",
       "3        0.0     False             0.987421       0.987461\n",
       "4        0.0     False             0.984277       0.990596\n",
       "5        0.0      True             0.993711       0.984326\n",
       "6        0.0      True             0.990566       0.981191\n",
       "7        0.0      True             0.987421       0.981191\n",
       "8        0.0      True             0.993711       0.987461\n",
       "9        0.0      True             0.990566       0.981191\n",
       "10       2.0     False             0.993711       0.993730\n",
       "11       2.0     False             0.993711       0.993730\n",
       "12       2.0     False             0.990566       0.996865\n",
       "13       2.0     False             0.993711       1.000000\n",
       "14       2.0     False             0.990566       0.993730\n",
       "15       2.0      True             0.990566       0.990596\n",
       "16       2.0      True             0.993711       0.993730\n",
       "17       2.0      True             0.993711       0.993730\n",
       "18       2.0      True             0.990566       0.987461\n",
       "19       2.0      True             0.990566       0.996865\n",
       "20       4.0     False             1.000000       1.000000\n",
       "21       4.0     False             0.993711       1.000000\n",
       "22       4.0     False             0.993711       1.000000\n",
       "23       4.0     False             0.993711       1.000000\n",
       "24       4.0     False             0.993711       1.000000\n",
       "25       4.0      True             1.000000       1.000000\n",
       "26       4.0      True             0.990566       0.996865\n",
       "27       4.0      True             0.993711       1.000000\n",
       "28       4.0      True             1.000000       1.000000\n",
       "29       4.0      True             1.000000       0.996865\n",
       "30       5.0     False             1.000000       1.000000\n",
       "31       5.0     False             0.996855       0.996865\n",
       "32       5.0     False             0.996855       1.000000\n",
       "33       5.0     False             0.993711       1.000000\n",
       "34       5.0     False             0.993711       0.996865\n",
       "35       5.0      True             0.996855       0.996865\n",
       "36       5.0      True             0.993711       0.996865\n",
       "37       5.0      True             0.993711       1.000000\n",
       "38       5.0      True             0.996855       1.000000\n",
       "39       5.0      True             0.996855       1.000000\n",
       "40      -1.0      -1.0             0.993711       1.000000\n",
       "41      -1.0      -1.0             0.993711       0.996865\n",
       "42      -1.0      -1.0             0.977987       0.971787\n",
       "43      -1.0      -1.0             0.993711       0.996865\n",
       "44      -1.0      -1.0             0.993711       0.996865"
      ]
     },
     "execution_count": 68,
     "metadata": {},
     "output_type": "execute_result"
    }
   ],
   "source": [
    "results_df"
   ]
  },
  {
   "cell_type": "code",
   "execution_count": 21,
   "id": "41955128-c165-49ec-bcb4-b7772970e52d",
   "metadata": {},
   "outputs": [
    {
     "name": "stdout",
     "output_type": "stream",
     "text": [
      "log neuron fun\\abalone.data_log.xlsx\n",
      "   neuron_func1 neuron_func2  val_test_rank\n",
      "70          sum          sum           16.0\n",
      "50         norm         norm           20.0\n",
      "10         mean         mean           31.0\n",
      "60          std          std           52.0\n",
      "80          var          var           57.0\n",
      "20       median       median           61.0\n",
      "40     multiply     multiply           75.0\n",
      "30          min          min           76.0\n",
      "0           max          max           81.0\n",
      "\n",
      "log neuron fun\\adult.data_log.xlsx\n",
      "   neuron_func1 neuron_func2  val_test_rank\n",
      "80          var          var            7.0\n",
      "10         mean         mean           11.0\n",
      "60          std          std           22.0\n",
      "70          sum          sum           28.0\n",
      "50         norm         norm           32.0\n",
      "20       median       median           61.0\n",
      "30          min          min           63.0\n",
      "0           max          max           67.0\n",
      "40     multiply     multiply           73.0\n",
      "\n",
      "log neuron fun\\bank-full.csv_log.xlsx\n",
      "   neuron_func1 neuron_func2  val_test_rank\n",
      "60          std          std            3.0\n",
      "10         mean         mean            5.0\n",
      "70          sum          sum           25.0\n",
      "50         norm         norm           44.0\n",
      "80          var          var           47.0\n",
      "20       median       median           60.0\n",
      "30          min          min           64.0\n",
      "0           max          max           71.0\n",
      "40     multiply     multiply           73.0\n",
      "\n",
      "log neuron fun\\car.data_log.xlsx\n",
      "   neuron_func1 neuron_func2  val_test_rank\n",
      "50         norm         norm            4.0\n",
      "60          std          std            8.0\n",
      "70          sum          sum            9.0\n",
      "10         mean         mean           13.0\n",
      "80          var          var           19.0\n",
      "40     multiply     multiply           61.0\n",
      "20       median       median           74.0\n",
      "30          min          min           75.0\n",
      "0           max          max           80.0\n",
      "\n",
      "log neuron fun\\census-income.data_log.xlsx\n",
      "   neuron_func1 neuron_func2  val_test_rank\n",
      "60          std          std            3.0\n",
      "70          sum          sum            8.0\n",
      "10         mean         mean           12.0\n",
      "80          var          var           16.0\n",
      "50         norm         norm           29.0\n",
      "30          min          min           41.0\n",
      "20       median       median           59.0\n",
      "0           max          max           61.0\n",
      "40     multiply     multiply           63.0\n",
      "\n",
      "log neuron fun\\connect-4.data_log.xlsx\n",
      "   neuron_func1 neuron_func2  val_test_rank\n",
      "70          sum          sum           11.0\n",
      "80          var          var           12.0\n",
      "10         mean         mean           18.0\n",
      "50         norm         norm           20.0\n",
      "40     multiply     multiply           23.0\n",
      "60          std          std           42.0\n",
      "30          min          min           68.0\n",
      "20       median       median           73.0\n",
      "0           max          max           74.0\n",
      "\n",
      "log neuron fun\\dermatology.data_log.xlsx\n",
      "   neuron_func1 neuron_func2  val_test_rank\n",
      "10         mean         mean            3.0\n",
      "80          var          var           19.0\n",
      "50         norm         norm           25.0\n",
      "30          min          min           26.0\n",
      "60          std          std           28.0\n",
      "70          sum          sum           45.0\n",
      "20       median       median           60.0\n",
      "0           max          max           69.0\n",
      "40     multiply     multiply           73.0\n",
      "\n",
      "log neuron fun\\diabetic_data.csv_log.xlsx\n",
      "   neuron_func1 neuron_func2  val_test_rank\n",
      "0           max          max            3.0\n",
      "30          min          min            4.0\n",
      "10         mean         mean           18.0\n",
      "70          sum          sum           22.0\n",
      "60          std          std           24.0\n",
      "50         norm         norm           29.0\n",
      "80          var          var           53.0\n",
      "20       median       median           63.0\n",
      "40     multiply     multiply           65.0\n",
      "\n",
      "log neuron fun\\german.data-numeric_log.xlsx\n",
      "   neuron_func1 neuron_func2  val_test_rank\n",
      "20       median       median            6.0\n",
      "60          std          std           23.0\n",
      "30          min          min           26.0\n",
      "0           max          max           37.0\n",
      "10         mean         mean           49.0\n",
      "80          var          var           54.0\n",
      "50         norm         norm           59.0\n",
      "70          sum          sum           67.0\n",
      "40     multiply     multiply           73.0\n",
      "\n",
      "log neuron fun\\semeion.data_log.xlsx\n",
      "   neuron_func1 neuron_func2  val_test_rank\n",
      "50         norm         norm            1.0\n",
      "60          std          std            1.0\n",
      "80          var          var            1.0\n",
      "70          sum          sum           26.0\n",
      "10         mean         mean           31.0\n",
      "30          min          min           42.0\n",
      "20       median       median           54.0\n",
      "0           max          max           62.0\n",
      "40     multiply     multiply           62.0\n",
      "\n",
      "   neuron_func1 neuron_func2  average_val_test_rank  std_val_test_rank\n",
      "10         mean         mean                   19.1          14.106342\n",
      "60          std          std                   20.6          17.257527\n",
      "70          sum          sum                   25.7          18.257723\n",
      "50         norm         norm                   26.3          17.153231\n",
      "80          var          var                   28.5          21.685889\n",
      "30          min          min                   48.5          24.450631\n",
      "20       median       median                   57.1          18.988008\n",
      "0           max          max                   60.5          23.731133\n",
      "40     multiply     multiply                   64.1          15.423287\n"
     ]
    }
   ],
   "source": [
    "import glob\n",
    "\n",
    "\n",
    "# Step 1: Read all Excel files in the folder\n",
    "all_files = glob.glob(log_folder + \"/*.xlsx\")\n",
    "\n",
    "# Step 2: Initialize an empty DataFrame to store all ranks\n",
    "all_ranks = pd.DataFrame()\n",
    "\n",
    "# Step 3: Process each file\n",
    "for file in all_files:\n",
    "    # Read the Excel file\n",
    "    log_df = pd.read_excel(file)\n",
    "    \n",
    "    # Calculate the sum of validation_accuracy and test_accuracy\n",
    "    log_df['val_test_sum'] = log_df['validation_accuracy'] + log_df['test_accuracy']\n",
    "    \n",
    "    # Rank combinations by the sum of validation_accuracy and test_accuracy within each file\n",
    "    log_df['val_test_rank'] = log_df['val_test_sum'].rank(ascending=False, method='min')\n",
    "    \n",
    "    # Extract only the necessary columns for ranking\n",
    "    ranks_df = log_df[['neuron_func1', 'neuron_func2', 'val_test_rank']]\n",
    "\n",
    "    tmp_df = ranks_df.groupby(['neuron_func1', 'neuron_func2'])['val_test_rank'].median().reset_index()\n",
    "    filtered_df = tmp_df[tmp_df['neuron_func1'] == tmp_df['neuron_func2']]\n",
    "\n",
    "    print(file)\n",
    "\n",
    "    print(filtered_df.sort_values(by='val_test_rank').head(10))\n",
    "\n",
    "    print()\n",
    "    \n",
    "    # Append the ranking results to all_ranks DataFrame\n",
    "    all_ranks = pd.concat([all_ranks, ranks_df], ignore_index=True)\n",
    "\n",
    "# Step 4: Calculate the average rank and standard deviation for each combination\n",
    "average_ranks = all_ranks.groupby(['neuron_func1', 'neuron_func2'])['val_test_rank'].agg(['mean', 'std']).reset_index()\n",
    "\n",
    "# Rename the columns to reflect that they are the average and standard deviation ranks\n",
    "average_ranks.rename(columns={'mean': 'average_val_test_rank', 'std': 'std_val_test_rank'}, inplace=True)\n",
    "\n",
    "\n",
    "# Print the resulting DataFrame\n",
    "#print(average_ranks)\n",
    "\n",
    "# Save to Excel or CSV if needed\n",
    "average_ranks.to_excel('average_val_test_ranks.xlsx', index=False)\n",
    "# or\n",
    "# average_ranks.to_csv('average_val_test_ranks.csv', index=False)\n",
    "\n",
    "filtered_df = average_ranks[average_ranks['neuron_func1'] == average_ranks['neuron_func2']]\n",
    "\n",
    "# Print the filtered DataFrame\n",
    "print(filtered_df.sort_values(by='average_val_test_rank'))"
   ]
  },
  {
   "cell_type": "code",
   "execution_count": 15,
   "id": "623c5538-4d19-47f4-bf34-a8f8187d90fc",
   "metadata": {},
   "outputs": [
    {
     "name": "stdout",
     "output_type": "stream",
     "text": [
      "   neuron_func1 neuron_func2  average_val_test_rank  std_val_test_rank\n",
      "10         mean         mean                   19.1          14.106342\n",
      "60          std          std                   20.6          17.257527\n",
      "70          sum          sum                   25.7          18.257723\n",
      "50         norm         norm                   26.3          17.153231\n",
      "80          var          var                   28.5          21.685889\n",
      "30          min          min                   48.5          24.450631\n",
      "20       median       median                   57.1          18.988008\n",
      "0           max          max                   60.5          23.731133\n",
      "40     multiply     multiply                   64.1          15.423287\n"
     ]
    }
   ],
   "source": [
    "filtered_df = average_ranks[average_ranks['neuron_func1'] == average_ranks['neuron_func2']]\n",
    "\n",
    "# Print the filtered DataFrame\n",
    "print(filtered_df.sort_values(by='average_val_test_rank'))"
   ]
  },
  {
   "cell_type": "code",
   "execution_count": 13,
   "id": "519c2e75-729c-4592-81cc-887d9282b3e3",
   "metadata": {},
   "outputs": [
    {
     "name": "stdout",
     "output_type": "stream",
     "text": [
      "   neuron_func1 neuron_func2  average_val_test_rank  std_val_test_rank\n",
      "17         mean          var                   14.9          15.595227\n",
      "14         mean         norm                   15.1          12.350888\n",
      "61          std          sum                   15.3          16.606893\n",
      "16         mean          sum                   17.2          16.212478\n",
      "15         mean          std                   17.6          14.245467\n",
      "62          std          var                   18.3          11.633763\n",
      "10         mean         mean                   19.1          14.106342\n",
      "55          std         mean                   19.4          17.263964\n",
      "60          std          std                   20.6          17.257527\n",
      "59          std         norm                   20.6          12.920268\n"
     ]
    }
   ],
   "source": [
    "print(average_ranks.sort_values(by='average_val_test_rank').head(10))"
   ]
  },
  {
   "cell_type": "code",
   "execution_count": 29,
   "id": "9bd128fe-126d-4be4-835c-31ad9fb1d59d",
   "metadata": {},
   "outputs": [
    {
     "data": {
      "text/plain": [
       "23.731132856791028"
      ]
     },
     "execution_count": 29,
     "metadata": {},
     "output_type": "execute_result"
    }
   ],
   "source": [
    "all_ranks[(all_ranks['neuron_func1'] == 'max') & (all_ranks['neuron_func2'] == 'max')]['val_test_rank'].std()"
   ]
  },
  {
   "cell_type": "code",
   "execution_count": 40,
   "id": "b40f701c-33e0-4986-9cfd-adf41ee9f4e0",
   "metadata": {},
   "outputs": [
    {
     "name": "stdout",
     "output_type": "stream",
     "text": [
      "Average ranks for combinations where both functions are 'sum':\n",
      "    neuron_func1 neuron_func2  val_test_rank\n",
      "0            sum          sum           16.0\n",
      "81           sum          sum           28.0\n",
      "162          sum          sum           25.0\n",
      "243          sum          sum            9.0\n",
      "324          sum          sum            8.0\n",
      "405          sum          sum           11.0\n",
      "486          sum          sum           45.0\n",
      "567          sum          sum           22.0\n",
      "648          sum          sum           67.0\n",
      "729          sum          sum           26.0\n",
      "Comparison results:\n",
      "   neuron_func1 neuron_func2  average_val_test_rank   p_value  significant\n",
      "0           max          max                   60.5  0.007285         True\n",
      "1           max         mean                   40.7  0.041250         True\n",
      "2           max       median                   49.5  0.053903         True\n",
      "3           max          min                   59.6  0.001706         True\n",
      "4           max     multiply                   53.1  0.017257         True\n",
      "..          ...          ...                    ...       ...          ...\n",
      "75          var     multiply                   44.9  0.198765        False\n",
      "76          var         norm                   25.6  0.939743        False\n",
      "77          var          std                   22.6  0.733730        False\n",
      "78          var          sum                   24.7  0.762369        False\n",
      "79          var          var                   28.5  0.969850        False\n",
      "\n",
      "[80 rows x 5 columns]\n"
     ]
    }
   ],
   "source": [
    "import glob\n",
    "import pandas as pd\n",
    "from scipy.stats import ranksums\n",
    "\n",
    "\n",
    "# Step 1: Read all Excel files in the folder\n",
    "all_files = glob.glob(log_folder + \"/*.xlsx\")\n",
    "\n",
    "# Step 2: Initialize an empty DataFrame to store all ranks\n",
    "all_ranks = pd.DataFrame()\n",
    "\n",
    "# Step 3: Process each file\n",
    "for file in all_files:\n",
    "    # Read the Excel file\n",
    "    log_df = pd.read_excel(file)\n",
    "    \n",
    "    # Calculate the sum of validation_accuracy and test_accuracy\n",
    "    log_df['val_test_sum'] = log_df['validation_accuracy'] + log_df['test_accuracy']\n",
    "    \n",
    "    # Rank combinations by the sum of validation_accuracy and test_accuracy within each file\n",
    "    log_df['val_test_rank'] = log_df['val_test_sum'].rank(ascending=False, method='min')\n",
    "    \n",
    "    # Extract only the necessary columns for ranking\n",
    "    ranks_df = log_df[['neuron_func1', 'neuron_func2', 'val_test_rank']]\n",
    "    \n",
    "    # Append the ranking results to all_ranks DataFrame\n",
    "    all_ranks = pd.concat([all_ranks, ranks_df], ignore_index=True)\n",
    "\n",
    "# Step 4: Calculate the average rank for each combination\n",
    "average_ranks = all_ranks.groupby(['neuron_func1', 'neuron_func2'])['val_test_rank'].mean().reset_index()\n",
    "\n",
    "# Rename the column to reflect that it is the average rank\n",
    "average_ranks.rename(columns={'val_test_rank': 'average_val_test_rank'}, inplace=True)\n",
    "\n",
    "# Filter the DataFrame for combinations where both neuron_func1 and neuron_func2 are 'sum'\n",
    "sum_sum_ranks = all_ranks[(all_ranks['neuron_func1'] == 'sum') & (all_ranks['neuron_func2'] == 'sum')]\n",
    "\n",
    "# Print the filtered DataFrame\n",
    "print(\"Average ranks for combinations where both functions are 'sum':\")\n",
    "print(sum_sum_ranks)\n",
    "\n",
    "# Step 5: Compare ranks and perform statistical test\n",
    "comparison_results = []\n",
    "\n",
    "# Perform comparison with all other combinations\n",
    "for index, row in average_ranks.iterrows():\n",
    "    if not (row['neuron_func1'] == 'sum' and row['neuron_func2'] == 'sum'):\n",
    "        other_func_ranks = all_ranks[(all_ranks['neuron_func1'] == row['neuron_func1']) & \n",
    "                                     (all_ranks['neuron_func2'] == row['neuron_func2'])]['val_test_rank']\n",
    "        \n",
    "        # Perform Wilcoxon rank-sum test\n",
    "        stat, p_value = ranksums(sum_sum_ranks['val_test_rank'], other_func_ranks)\n",
    "        \n",
    "        # Check if the p-value indicates a significant difference\n",
    "        if p_value < 0.1:\n",
    "            comparison_results.append({\n",
    "                'neuron_func1': row['neuron_func1'],\n",
    "                'neuron_func2': row['neuron_func2'],\n",
    "                'average_val_test_rank': row['average_val_test_rank'],\n",
    "                'p_value': p_value,\n",
    "                'significant': True\n",
    "            })\n",
    "        else:\n",
    "            comparison_results.append({\n",
    "                'neuron_func1': row['neuron_func1'],\n",
    "                'neuron_func2': row['neuron_func2'],\n",
    "                'average_val_test_rank': row['average_val_test_rank'],\n",
    "                'p_value': p_value,\n",
    "                'significant': False\n",
    "            })\n",
    "\n",
    "# Convert the results to a DataFrame\n",
    "comparison_df = pd.DataFrame(comparison_results)\n",
    "\n",
    "# Print the comparison results\n",
    "print(\"Comparison results:\")\n",
    "print(comparison_df)\n",
    "\n",
    "# Save the comparison results to an Excel file if needed\n",
    "comparison_df.to_excel('comparison_results.xlsx', index=False)\n"
   ]
  },
  {
   "cell_type": "code",
   "execution_count": 42,
   "id": "758734a1-1d6f-4558-8c74-e8c7fee26a4f",
   "metadata": {},
   "outputs": [
    {
     "data": {
      "text/html": [
       "<div>\n",
       "<style scoped>\n",
       "    .dataframe tbody tr th:only-of-type {\n",
       "        vertical-align: middle;\n",
       "    }\n",
       "\n",
       "    .dataframe tbody tr th {\n",
       "        vertical-align: top;\n",
       "    }\n",
       "\n",
       "    .dataframe thead th {\n",
       "        text-align: right;\n",
       "    }\n",
       "</style>\n",
       "<table border=\"1\" class=\"dataframe\">\n",
       "  <thead>\n",
       "    <tr style=\"text-align: right;\">\n",
       "      <th></th>\n",
       "      <th>neuron_func1</th>\n",
       "      <th>neuron_func2</th>\n",
       "      <th>average_val_test_rank</th>\n",
       "      <th>p_value</th>\n",
       "      <th>significant</th>\n",
       "    </tr>\n",
       "  </thead>\n",
       "  <tbody>\n",
       "    <tr>\n",
       "      <th>17</th>\n",
       "      <td>mean</td>\n",
       "      <td>var</td>\n",
       "      <td>14.9</td>\n",
       "      <td>0.088973</td>\n",
       "      <td>True</td>\n",
       "    </tr>\n",
       "    <tr>\n",
       "      <th>70</th>\n",
       "      <td>sum</td>\n",
       "      <td>var</td>\n",
       "      <td>37.8</td>\n",
       "      <td>0.058782</td>\n",
       "      <td>True</td>\n",
       "    </tr>\n",
       "    <tr>\n",
       "      <th>5</th>\n",
       "      <td>max</td>\n",
       "      <td>norm</td>\n",
       "      <td>40.4</td>\n",
       "      <td>0.075662</td>\n",
       "      <td>True</td>\n",
       "    </tr>\n",
       "    <tr>\n",
       "      <th>1</th>\n",
       "      <td>max</td>\n",
       "      <td>mean</td>\n",
       "      <td>40.7</td>\n",
       "      <td>0.041250</td>\n",
       "      <td>True</td>\n",
       "    </tr>\n",
       "    <tr>\n",
       "      <th>74</th>\n",
       "      <td>var</td>\n",
       "      <td>min</td>\n",
       "      <td>41.5</td>\n",
       "      <td>0.034294</td>\n",
       "      <td>True</td>\n",
       "    </tr>\n",
       "    <tr>\n",
       "      <th>35</th>\n",
       "      <td>min</td>\n",
       "      <td>var</td>\n",
       "      <td>43.1</td>\n",
       "      <td>0.034294</td>\n",
       "      <td>True</td>\n",
       "    </tr>\n",
       "    <tr>\n",
       "      <th>34</th>\n",
       "      <td>min</td>\n",
       "      <td>sum</td>\n",
       "      <td>43.5</td>\n",
       "      <td>0.012611</td>\n",
       "      <td>True</td>\n",
       "    </tr>\n",
       "    <tr>\n",
       "      <th>32</th>\n",
       "      <td>min</td>\n",
       "      <td>norm</td>\n",
       "      <td>44.8</td>\n",
       "      <td>0.041250</td>\n",
       "      <td>True</td>\n",
       "    </tr>\n",
       "    <tr>\n",
       "      <th>30</th>\n",
       "      <td>min</td>\n",
       "      <td>min</td>\n",
       "      <td>48.5</td>\n",
       "      <td>0.041250</td>\n",
       "      <td>True</td>\n",
       "    </tr>\n",
       "    <tr>\n",
       "      <th>6</th>\n",
       "      <td>max</td>\n",
       "      <td>std</td>\n",
       "      <td>48.7</td>\n",
       "      <td>0.008151</td>\n",
       "      <td>True</td>\n",
       "    </tr>\n",
       "    <tr>\n",
       "      <th>19</th>\n",
       "      <td>median</td>\n",
       "      <td>mean</td>\n",
       "      <td>49.3</td>\n",
       "      <td>0.017257</td>\n",
       "      <td>True</td>\n",
       "    </tr>\n",
       "    <tr>\n",
       "      <th>2</th>\n",
       "      <td>max</td>\n",
       "      <td>median</td>\n",
       "      <td>49.5</td>\n",
       "      <td>0.053903</td>\n",
       "      <td>True</td>\n",
       "    </tr>\n",
       "    <tr>\n",
       "      <th>13</th>\n",
       "      <td>mean</td>\n",
       "      <td>multiply</td>\n",
       "      <td>49.6</td>\n",
       "      <td>0.082099</td>\n",
       "      <td>True</td>\n",
       "    </tr>\n",
       "    <tr>\n",
       "      <th>33</th>\n",
       "      <td>min</td>\n",
       "      <td>std</td>\n",
       "      <td>50.8</td>\n",
       "      <td>0.010165</td>\n",
       "      <td>True</td>\n",
       "    </tr>\n",
       "    <tr>\n",
       "      <th>25</th>\n",
       "      <td>median</td>\n",
       "      <td>sum</td>\n",
       "      <td>51.6</td>\n",
       "      <td>0.002497</td>\n",
       "      <td>True</td>\n",
       "    </tr>\n",
       "    <tr>\n",
       "      <th>23</th>\n",
       "      <td>median</td>\n",
       "      <td>norm</td>\n",
       "      <td>51.7</td>\n",
       "      <td>0.004072</td>\n",
       "      <td>True</td>\n",
       "    </tr>\n",
       "    <tr>\n",
       "      <th>4</th>\n",
       "      <td>max</td>\n",
       "      <td>multiply</td>\n",
       "      <td>53.1</td>\n",
       "      <td>0.017257</td>\n",
       "      <td>True</td>\n",
       "    </tr>\n",
       "    <tr>\n",
       "      <th>49</th>\n",
       "      <td>norm</td>\n",
       "      <td>multiply</td>\n",
       "      <td>53.6</td>\n",
       "      <td>0.004586</td>\n",
       "      <td>True</td>\n",
       "    </tr>\n",
       "    <tr>\n",
       "      <th>29</th>\n",
       "      <td>min</td>\n",
       "      <td>median</td>\n",
       "      <td>54.1</td>\n",
       "      <td>0.041250</td>\n",
       "      <td>True</td>\n",
       "    </tr>\n",
       "    <tr>\n",
       "      <th>26</th>\n",
       "      <td>median</td>\n",
       "      <td>var</td>\n",
       "      <td>54.4</td>\n",
       "      <td>0.006502</td>\n",
       "      <td>True</td>\n",
       "    </tr>\n",
       "    <tr>\n",
       "      <th>8</th>\n",
       "      <td>max</td>\n",
       "      <td>var</td>\n",
       "      <td>54.5</td>\n",
       "      <td>0.001940</td>\n",
       "      <td>True</td>\n",
       "    </tr>\n",
       "    <tr>\n",
       "      <th>31</th>\n",
       "      <td>min</td>\n",
       "      <td>multiply</td>\n",
       "      <td>54.5</td>\n",
       "      <td>0.008151</td>\n",
       "      <td>True</td>\n",
       "    </tr>\n",
       "    <tr>\n",
       "      <th>41</th>\n",
       "      <td>multiply</td>\n",
       "      <td>norm</td>\n",
       "      <td>56.5</td>\n",
       "      <td>0.010165</td>\n",
       "      <td>True</td>\n",
       "    </tr>\n",
       "    <tr>\n",
       "      <th>24</th>\n",
       "      <td>median</td>\n",
       "      <td>std</td>\n",
       "      <td>56.6</td>\n",
       "      <td>0.002497</td>\n",
       "      <td>True</td>\n",
       "    </tr>\n",
       "    <tr>\n",
       "      <th>20</th>\n",
       "      <td>median</td>\n",
       "      <td>median</td>\n",
       "      <td>57.1</td>\n",
       "      <td>0.012611</td>\n",
       "      <td>True</td>\n",
       "    </tr>\n",
       "    <tr>\n",
       "      <th>22</th>\n",
       "      <td>median</td>\n",
       "      <td>multiply</td>\n",
       "      <td>57.1</td>\n",
       "      <td>0.012611</td>\n",
       "      <td>True</td>\n",
       "    </tr>\n",
       "    <tr>\n",
       "      <th>21</th>\n",
       "      <td>median</td>\n",
       "      <td>min</td>\n",
       "      <td>57.3</td>\n",
       "      <td>0.002497</td>\n",
       "      <td>True</td>\n",
       "    </tr>\n",
       "    <tr>\n",
       "      <th>3</th>\n",
       "      <td>max</td>\n",
       "      <td>min</td>\n",
       "      <td>59.6</td>\n",
       "      <td>0.001706</td>\n",
       "      <td>True</td>\n",
       "    </tr>\n",
       "    <tr>\n",
       "      <th>44</th>\n",
       "      <td>multiply</td>\n",
       "      <td>var</td>\n",
       "      <td>59.8</td>\n",
       "      <td>0.003197</td>\n",
       "      <td>True</td>\n",
       "    </tr>\n",
       "    <tr>\n",
       "      <th>0</th>\n",
       "      <td>max</td>\n",
       "      <td>max</td>\n",
       "      <td>60.5</td>\n",
       "      <td>0.007285</td>\n",
       "      <td>True</td>\n",
       "    </tr>\n",
       "    <tr>\n",
       "      <th>42</th>\n",
       "      <td>multiply</td>\n",
       "      <td>std</td>\n",
       "      <td>61.6</td>\n",
       "      <td>0.003197</td>\n",
       "      <td>True</td>\n",
       "    </tr>\n",
       "    <tr>\n",
       "      <th>18</th>\n",
       "      <td>median</td>\n",
       "      <td>max</td>\n",
       "      <td>61.7</td>\n",
       "      <td>0.004586</td>\n",
       "      <td>True</td>\n",
       "    </tr>\n",
       "    <tr>\n",
       "      <th>38</th>\n",
       "      <td>multiply</td>\n",
       "      <td>median</td>\n",
       "      <td>62.0</td>\n",
       "      <td>0.004586</td>\n",
       "      <td>True</td>\n",
       "    </tr>\n",
       "    <tr>\n",
       "      <th>37</th>\n",
       "      <td>multiply</td>\n",
       "      <td>mean</td>\n",
       "      <td>62.1</td>\n",
       "      <td>0.001499</td>\n",
       "      <td>True</td>\n",
       "    </tr>\n",
       "    <tr>\n",
       "      <th>40</th>\n",
       "      <td>multiply</td>\n",
       "      <td>multiply</td>\n",
       "      <td>64.1</td>\n",
       "      <td>0.001940</td>\n",
       "      <td>True</td>\n",
       "    </tr>\n",
       "    <tr>\n",
       "      <th>36</th>\n",
       "      <td>multiply</td>\n",
       "      <td>max</td>\n",
       "      <td>65.8</td>\n",
       "      <td>0.000769</td>\n",
       "      <td>True</td>\n",
       "    </tr>\n",
       "    <tr>\n",
       "      <th>27</th>\n",
       "      <td>min</td>\n",
       "      <td>max</td>\n",
       "      <td>66.1</td>\n",
       "      <td>0.000769</td>\n",
       "      <td>True</td>\n",
       "    </tr>\n",
       "    <tr>\n",
       "      <th>43</th>\n",
       "      <td>multiply</td>\n",
       "      <td>sum</td>\n",
       "      <td>66.3</td>\n",
       "      <td>0.000670</td>\n",
       "      <td>True</td>\n",
       "    </tr>\n",
       "    <tr>\n",
       "      <th>39</th>\n",
       "      <td>multiply</td>\n",
       "      <td>min</td>\n",
       "      <td>67.6</td>\n",
       "      <td>0.000583</td>\n",
       "      <td>True</td>\n",
       "    </tr>\n",
       "  </tbody>\n",
       "</table>\n",
       "</div>"
      ],
      "text/plain": [
       "   neuron_func1 neuron_func2  average_val_test_rank   p_value  significant\n",
       "17         mean          var                   14.9  0.088973         True\n",
       "70          sum          var                   37.8  0.058782         True\n",
       "5           max         norm                   40.4  0.075662         True\n",
       "1           max         mean                   40.7  0.041250         True\n",
       "74          var          min                   41.5  0.034294         True\n",
       "35          min          var                   43.1  0.034294         True\n",
       "34          min          sum                   43.5  0.012611         True\n",
       "32          min         norm                   44.8  0.041250         True\n",
       "30          min          min                   48.5  0.041250         True\n",
       "6           max          std                   48.7  0.008151         True\n",
       "19       median         mean                   49.3  0.017257         True\n",
       "2           max       median                   49.5  0.053903         True\n",
       "13         mean     multiply                   49.6  0.082099         True\n",
       "33          min          std                   50.8  0.010165         True\n",
       "25       median          sum                   51.6  0.002497         True\n",
       "23       median         norm                   51.7  0.004072         True\n",
       "4           max     multiply                   53.1  0.017257         True\n",
       "49         norm     multiply                   53.6  0.004586         True\n",
       "29          min       median                   54.1  0.041250         True\n",
       "26       median          var                   54.4  0.006502         True\n",
       "8           max          var                   54.5  0.001940         True\n",
       "31          min     multiply                   54.5  0.008151         True\n",
       "41     multiply         norm                   56.5  0.010165         True\n",
       "24       median          std                   56.6  0.002497         True\n",
       "20       median       median                   57.1  0.012611         True\n",
       "22       median     multiply                   57.1  0.012611         True\n",
       "21       median          min                   57.3  0.002497         True\n",
       "3           max          min                   59.6  0.001706         True\n",
       "44     multiply          var                   59.8  0.003197         True\n",
       "0           max          max                   60.5  0.007285         True\n",
       "42     multiply          std                   61.6  0.003197         True\n",
       "18       median          max                   61.7  0.004586         True\n",
       "38     multiply       median                   62.0  0.004586         True\n",
       "37     multiply         mean                   62.1  0.001499         True\n",
       "40     multiply     multiply                   64.1  0.001940         True\n",
       "36     multiply          max                   65.8  0.000769         True\n",
       "27          min          max                   66.1  0.000769         True\n",
       "43     multiply          sum                   66.3  0.000670         True\n",
       "39     multiply          min                   67.6  0.000583         True"
      ]
     },
     "execution_count": 42,
     "metadata": {},
     "output_type": "execute_result"
    }
   ],
   "source": [
    "comparison_df[comparison_df['significant'] == True].sort_values('average_val_test_rank')"
   ]
  },
  {
   "cell_type": "code",
   "execution_count": null,
   "id": "09333559-db36-4c4e-a631-60cbdf60db38",
   "metadata": {},
   "outputs": [],
   "source": []
  },
  {
   "cell_type": "code",
   "execution_count": null,
   "id": "20282423-0b29-4be7-83ba-bc33feecea07",
   "metadata": {},
   "outputs": [],
   "source": []
  },
  {
   "cell_type": "code",
   "execution_count": null,
   "id": "1f4cb0f8-2d38-4eec-9840-12f4e59fb1b9",
   "metadata": {},
   "outputs": [],
   "source": []
  }
 ],
 "metadata": {
  "kernelspec": {
   "display_name": "Python 3 (ipykernel)",
   "language": "python",
   "name": "python3"
  },
  "language_info": {
   "codemirror_mode": {
    "name": "ipython",
    "version": 3
   },
   "file_extension": ".py",
   "mimetype": "text/x-python",
   "name": "python",
   "nbconvert_exporter": "python",
   "pygments_lexer": "ipython3",
   "version": "3.8.19"
  }
 },
 "nbformat": 4,
 "nbformat_minor": 5
}
