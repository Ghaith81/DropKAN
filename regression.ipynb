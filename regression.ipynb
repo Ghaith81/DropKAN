{
 "cells": [
  {
   "cell_type": "code",
   "execution_count": 1,
   "id": "92c09135-0218-4313-ba7b-9c3604011563",
   "metadata": {},
   "outputs": [],
   "source": [
    "import sys, os, inspect\n",
    "from sklearn.ensemble import RandomForestClassifier, GradientBoostingClassifier\n",
    "from dataset.Dataset import Dataset\n",
    "from sklearn.metrics import accuracy_score\n",
    "import torch\n",
    "from kan.KAN import KAN\n",
    "from kan.DropKAN import DropKAN\n",
    "from kan.DropKANLayer import DropKANLayer\n",
    "import torch\n",
    "import torch.nn as nn\n",
    "import numpy as np\n",
    "import random\n",
    "import pandas as pd \n",
    "\n",
    "def set_training_mode(module, mode):\n",
    "    \"\"\"Set the training mode for a module and all its sub-modules.\"\"\"\n",
    "    module.training = mode\n",
    "    for submodule in module.children():\n",
    "        set_training_mode(submodule, mode)"
   ]
  },
  {
   "cell_type": "code",
   "execution_count": 229,
   "id": "3df2d060-404f-4d78-abbc-3b99299d0ddd",
   "metadata": {},
   "outputs": [],
   "source": [
    "from ucimlrepo import fetch_ucirepo \n",
    "from sklearn import preprocessing\n",
    "import torch.nn.functional as F\n",
    "\n",
    "  \n",
    "# fetch dataset \n",
    "forest_fires =  fetch_ucirepo(id=60) \n",
    "\n",
    "\n",
    "  \n",
    "# data (as pandas dataframes) \n",
    "X = forest_fires.data.features \n",
    "y = forest_fires.data.targets \n",
    "  \n",
    "\n",
    "# Encode categorical features\n",
    "le = preprocessing.LabelEncoder()\n",
    "for col in X.columns:\n",
    "    if (X[col].dtypes == 'object'):\n",
    "        list_of_values = list(X[col].unique())\n",
    "        X[col] = X[col].fillna(X[col].mode().iloc[0])\n",
    "        le.fit(list_of_values)\n",
    "        X[col] = le.transform(X[col])"
   ]
  },
  {
   "cell_type": "code",
   "execution_count": 230,
   "id": "46023306-38e7-4ac4-8539-9f8cb845dcd6",
   "metadata": {},
   "outputs": [],
   "source": [
    "from sklearn.model_selection import train_test_split\n",
    "\n",
    "# Step 1: Split the data into 60% train and 40% remaining\n",
    "X_train, X_remaining, y_train, y_remaining = train_test_split(X, y, test_size=0.4, random_state=42)\n",
    "\n",
    "# Step 2: Split the remaining data into 50% validation and 50% test\n",
    "X_val, X_test, y_val, y_test = train_test_split(X_remaining, y_remaining, test_size=0.5, random_state=42)\n"
   ]
  },
  {
   "cell_type": "code",
   "execution_count": 231,
   "id": "c7627c4b-4981-4f99-9e2f-739c21c53ec4",
   "metadata": {},
   "outputs": [
    {
     "data": {
      "text/html": [
       "<div>\n",
       "<style scoped>\n",
       "    .dataframe tbody tr th:only-of-type {\n",
       "        vertical-align: middle;\n",
       "    }\n",
       "\n",
       "    .dataframe tbody tr th {\n",
       "        vertical-align: top;\n",
       "    }\n",
       "\n",
       "    .dataframe thead th {\n",
       "        text-align: right;\n",
       "    }\n",
       "</style>\n",
       "<table border=\"1\" class=\"dataframe\">\n",
       "  <thead>\n",
       "    <tr style=\"text-align: right;\">\n",
       "      <th></th>\n",
       "      <th>drinks</th>\n",
       "    </tr>\n",
       "  </thead>\n",
       "  <tbody>\n",
       "    <tr>\n",
       "      <th>0</th>\n",
       "      <td>0.0</td>\n",
       "    </tr>\n",
       "    <tr>\n",
       "      <th>1</th>\n",
       "      <td>0.0</td>\n",
       "    </tr>\n",
       "    <tr>\n",
       "      <th>2</th>\n",
       "      <td>0.0</td>\n",
       "    </tr>\n",
       "    <tr>\n",
       "      <th>3</th>\n",
       "      <td>0.0</td>\n",
       "    </tr>\n",
       "    <tr>\n",
       "      <th>4</th>\n",
       "      <td>0.0</td>\n",
       "    </tr>\n",
       "    <tr>\n",
       "      <th>...</th>\n",
       "      <td>...</td>\n",
       "    </tr>\n",
       "    <tr>\n",
       "      <th>340</th>\n",
       "      <td>12.0</td>\n",
       "    </tr>\n",
       "    <tr>\n",
       "      <th>341</th>\n",
       "      <td>12.0</td>\n",
       "    </tr>\n",
       "    <tr>\n",
       "      <th>342</th>\n",
       "      <td>15.0</td>\n",
       "    </tr>\n",
       "    <tr>\n",
       "      <th>343</th>\n",
       "      <td>16.0</td>\n",
       "    </tr>\n",
       "    <tr>\n",
       "      <th>344</th>\n",
       "      <td>20.0</td>\n",
       "    </tr>\n",
       "  </tbody>\n",
       "</table>\n",
       "<p>345 rows × 1 columns</p>\n",
       "</div>"
      ],
      "text/plain": [
       "     drinks\n",
       "0       0.0\n",
       "1       0.0\n",
       "2       0.0\n",
       "3       0.0\n",
       "4       0.0\n",
       "..      ...\n",
       "340    12.0\n",
       "341    12.0\n",
       "342    15.0\n",
       "343    16.0\n",
       "344    20.0\n",
       "\n",
       "[345 rows x 1 columns]"
      ]
     },
     "execution_count": 231,
     "metadata": {},
     "output_type": "execute_result"
    }
   ],
   "source": [
    "y"
   ]
  },
  {
   "cell_type": "code",
   "execution_count": 232,
   "id": "a313e615-2bc0-41b0-bc48-217a38c3dfc0",
   "metadata": {},
   "outputs": [],
   "source": [
    "dataset = {}\n",
    "dataset['train_input'] = torch.from_numpy(X_train.values).float()\n",
    "dataset['test_input'] = torch.from_numpy(X_test.values).float()\n",
    "dataset['val_input'] = torch.from_numpy(X_val.values).float()\n",
    "dataset['train_label'] = torch.from_numpy(y_train.values)\n",
    "dataset['test_label'] = torch.from_numpy(y_test.values)\n",
    "dataset['val_label'] = torch.from_numpy(y_val.values)"
   ]
  },
  {
   "cell_type": "code",
   "execution_count": 233,
   "id": "d68959df-558d-427d-a4ab-204db6f9e60f",
   "metadata": {},
   "outputs": [
    {
     "name": "stderr",
     "output_type": "stream",
     "text": [
      "train loss: 4.72e+00 | test loss: 7.27e+00 | reg: 4.15e+01 :  72%|▋| 1433/2000 [00:12<00:04, 115.89i\n"
     ]
    },
    {
     "ename": "KeyboardInterrupt",
     "evalue": "",
     "output_type": "error",
     "traceback": [
      "\u001b[1;31m---------------------------------------------------------------------------\u001b[0m",
      "\u001b[1;31mKeyboardInterrupt\u001b[0m                         Traceback (most recent call last)",
      "Cell \u001b[1;32mIn[233], line 7\u001b[0m\n\u001b[0;32m      4\u001b[0m \u001b[38;5;28;01mfor\u001b[39;00m j \u001b[38;5;129;01min\u001b[39;00m \u001b[38;5;28mrange\u001b[39m(\u001b[38;5;241m10\u001b[39m):\n\u001b[0;32m      5\u001b[0m     model \u001b[38;5;241m=\u001b[39m KAN(seed\u001b[38;5;241m=\u001b[39mj,width\u001b[38;5;241m=\u001b[39m[X_train\u001b[38;5;241m.\u001b[39mshape[\u001b[38;5;241m1\u001b[39m], \u001b[38;5;241m10\u001b[39m,\u001b[38;5;241m1\u001b[39m], grid\u001b[38;5;241m=\u001b[39m\u001b[38;5;241m3\u001b[39m, k\u001b[38;5;241m=\u001b[39m\u001b[38;5;241m3\u001b[39m,\n\u001b[0;32m      6\u001b[0m                             symbolic_enabled\u001b[38;5;241m=\u001b[39m\u001b[38;5;28;01mFalse\u001b[39;00m)\n\u001b[1;32m----> 7\u001b[0m     results \u001b[38;5;241m=\u001b[39m \u001b[43mmodel\u001b[49m\u001b[38;5;241;43m.\u001b[39;49m\u001b[43mtrain\u001b[49m\u001b[43m(\u001b[49m\u001b[43mdataset\u001b[49m\u001b[43m,\u001b[49m\u001b[43m \u001b[49m\u001b[43mopt\u001b[49m\u001b[38;5;241;43m=\u001b[39;49m\u001b[38;5;124;43m\"\u001b[39;49m\u001b[38;5;124;43mAdam\u001b[39;49m\u001b[38;5;124;43m\"\u001b[39;49m\u001b[43m,\u001b[49m\u001b[43m \u001b[49m\u001b[43msteps\u001b[49m\u001b[38;5;241;43m=\u001b[39;49m\u001b[38;5;241;43m2000\u001b[39;49m\u001b[43m,\u001b[49m\u001b[43m \u001b[49m\u001b[43mbatch\u001b[49m\u001b[38;5;241;43m=\u001b[39;49m\u001b[38;5;241;43m32\u001b[39;49m\u001b[43m,\u001b[49m\u001b[43m \u001b[49m\u001b[43mlr\u001b[49m\u001b[38;5;241;43m=\u001b[39;49m\u001b[38;5;241;43m0.01\u001b[39;49m\u001b[43m,\u001b[49m\u001b[43m \u001b[49m\u001b[43mupdate_grid\u001b[49m\u001b[38;5;241;43m=\u001b[39;49m\u001b[38;5;28;43;01mFalse\u001b[39;49;00m\u001b[43m)\u001b[49m\n\u001b[0;32m      8\u001b[0m     set_training_mode(model, \u001b[38;5;28;01mFalse\u001b[39;00m)\n\u001b[0;32m     11\u001b[0m     \u001b[38;5;66;03m# Compute MAE\u001b[39;00m\n",
      "File \u001b[1;32m~\\PycharmProjects\\dropkan\\kan\\KAN.py:910\u001b[0m, in \u001b[0;36mKAN.train\u001b[1;34m(self, dataset, opt, steps, log, lamb, lamb_l1, lamb_entropy, lamb_coef, lamb_coefdiff, update_grid, grid_update_num, loss_fn, lr, stop_grid_update_step, batch, small_mag_threshold, small_reg_factor, metrics, sglr_avoid, save_fig, in_vars, out_vars, beta, save_fig_freq, img_folder)\u001b[0m\n\u001b[0;32m    907\u001b[0m     loss\u001b[38;5;241m.\u001b[39mbackward()\n\u001b[0;32m    908\u001b[0m     optimizer\u001b[38;5;241m.\u001b[39mstep()\n\u001b[1;32m--> 910\u001b[0m test_loss \u001b[38;5;241m=\u001b[39m loss_fn_eval(\u001b[38;5;28;43mself\u001b[39;49m\u001b[38;5;241;43m.\u001b[39;49m\u001b[43mforward\u001b[49m\u001b[43m(\u001b[49m\u001b[43mdataset\u001b[49m\u001b[43m[\u001b[49m\u001b[38;5;124;43m'\u001b[39;49m\u001b[38;5;124;43mtest_input\u001b[39;49m\u001b[38;5;124;43m'\u001b[39;49m\u001b[43m]\u001b[49m\u001b[38;5;241;43m.\u001b[39;49m\u001b[43mto\u001b[49m\u001b[43m(\u001b[49m\u001b[38;5;28;43mself\u001b[39;49m\u001b[38;5;241;43m.\u001b[39;49m\u001b[43mdevice\u001b[49m\u001b[43m)\u001b[49m\u001b[43m)\u001b[49m, dataset[\u001b[38;5;124m'\u001b[39m\u001b[38;5;124mtest_label\u001b[39m\u001b[38;5;124m'\u001b[39m]\u001b[38;5;241m.\u001b[39mto(\u001b[38;5;28mself\u001b[39m\u001b[38;5;241m.\u001b[39mdevice))\n\u001b[0;32m    912\u001b[0m \u001b[38;5;28;01mif\u001b[39;00m _ \u001b[38;5;241m%\u001b[39m log \u001b[38;5;241m==\u001b[39m \u001b[38;5;241m0\u001b[39m:\n\u001b[0;32m    913\u001b[0m     pbar\u001b[38;5;241m.\u001b[39mset_description(\u001b[38;5;124m\"\u001b[39m\u001b[38;5;124mtrain loss: \u001b[39m\u001b[38;5;132;01m%.2e\u001b[39;00m\u001b[38;5;124m | test loss: \u001b[39m\u001b[38;5;132;01m%.2e\u001b[39;00m\u001b[38;5;124m | reg: \u001b[39m\u001b[38;5;132;01m%.2e\u001b[39;00m\u001b[38;5;124m \u001b[39m\u001b[38;5;124m\"\u001b[39m \u001b[38;5;241m%\u001b[39m (torch\u001b[38;5;241m.\u001b[39msqrt(train_loss)\u001b[38;5;241m.\u001b[39mcpu()\u001b[38;5;241m.\u001b[39mdetach()\u001b[38;5;241m.\u001b[39mnumpy(), torch\u001b[38;5;241m.\u001b[39msqrt(test_loss)\u001b[38;5;241m.\u001b[39mcpu()\u001b[38;5;241m.\u001b[39mdetach()\u001b[38;5;241m.\u001b[39mnumpy(), reg_\u001b[38;5;241m.\u001b[39mcpu()\u001b[38;5;241m.\u001b[39mdetach()\u001b[38;5;241m.\u001b[39mnumpy()))\n",
      "File \u001b[1;32m~\\PycharmProjects\\dropkan\\kan\\KAN.py:311\u001b[0m, in \u001b[0;36mKAN.forward\u001b[1;34m(self, x)\u001b[0m\n\u001b[0;32m    307\u001b[0m \u001b[38;5;28mself\u001b[39m\u001b[38;5;241m.\u001b[39macts\u001b[38;5;241m.\u001b[39mappend(x)  \u001b[38;5;66;03m# acts shape: (batch, width[l])\u001b[39;00m\n\u001b[0;32m    309\u001b[0m \u001b[38;5;28;01mfor\u001b[39;00m l \u001b[38;5;129;01min\u001b[39;00m \u001b[38;5;28mrange\u001b[39m(\u001b[38;5;28mself\u001b[39m\u001b[38;5;241m.\u001b[39mdepth):\n\u001b[1;32m--> 311\u001b[0m     x_numerical, preacts, postacts_numerical, postspline \u001b[38;5;241m=\u001b[39m \u001b[38;5;28;43mself\u001b[39;49m\u001b[38;5;241;43m.\u001b[39;49m\u001b[43mact_fun\u001b[49m\u001b[43m[\u001b[49m\u001b[43ml\u001b[49m\u001b[43m]\u001b[49m\u001b[43m(\u001b[49m\u001b[43mx\u001b[49m\u001b[43m)\u001b[49m\n\u001b[0;32m    313\u001b[0m     \u001b[38;5;28;01mif\u001b[39;00m \u001b[38;5;28mself\u001b[39m\u001b[38;5;241m.\u001b[39msymbolic_enabled \u001b[38;5;241m==\u001b[39m \u001b[38;5;28;01mTrue\u001b[39;00m:\n\u001b[0;32m    314\u001b[0m         x_symbolic, postacts_symbolic \u001b[38;5;241m=\u001b[39m \u001b[38;5;28mself\u001b[39m\u001b[38;5;241m.\u001b[39msymbolic_fun[l](x)\n",
      "File \u001b[1;32m~\\Anaconda3\\envs\\KAN\\lib\\site-packages\\torch\\nn\\modules\\module.py:1532\u001b[0m, in \u001b[0;36mModule._wrapped_call_impl\u001b[1;34m(self, *args, **kwargs)\u001b[0m\n\u001b[0;32m   1530\u001b[0m     \u001b[38;5;28;01mreturn\u001b[39;00m \u001b[38;5;28mself\u001b[39m\u001b[38;5;241m.\u001b[39m_compiled_call_impl(\u001b[38;5;241m*\u001b[39margs, \u001b[38;5;241m*\u001b[39m\u001b[38;5;241m*\u001b[39mkwargs)  \u001b[38;5;66;03m# type: ignore[misc]\u001b[39;00m\n\u001b[0;32m   1531\u001b[0m \u001b[38;5;28;01melse\u001b[39;00m:\n\u001b[1;32m-> 1532\u001b[0m     \u001b[38;5;28;01mreturn\u001b[39;00m \u001b[38;5;28;43mself\u001b[39;49m\u001b[38;5;241;43m.\u001b[39;49m\u001b[43m_call_impl\u001b[49m\u001b[43m(\u001b[49m\u001b[38;5;241;43m*\u001b[39;49m\u001b[43margs\u001b[49m\u001b[43m,\u001b[49m\u001b[43m \u001b[49m\u001b[38;5;241;43m*\u001b[39;49m\u001b[38;5;241;43m*\u001b[39;49m\u001b[43mkwargs\u001b[49m\u001b[43m)\u001b[49m\n",
      "File \u001b[1;32m~\\Anaconda3\\envs\\KAN\\lib\\site-packages\\torch\\nn\\modules\\module.py:1541\u001b[0m, in \u001b[0;36mModule._call_impl\u001b[1;34m(self, *args, **kwargs)\u001b[0m\n\u001b[0;32m   1536\u001b[0m \u001b[38;5;66;03m# If we don't have any hooks, we want to skip the rest of the logic in\u001b[39;00m\n\u001b[0;32m   1537\u001b[0m \u001b[38;5;66;03m# this function, and just call forward.\u001b[39;00m\n\u001b[0;32m   1538\u001b[0m \u001b[38;5;28;01mif\u001b[39;00m \u001b[38;5;129;01mnot\u001b[39;00m (\u001b[38;5;28mself\u001b[39m\u001b[38;5;241m.\u001b[39m_backward_hooks \u001b[38;5;129;01mor\u001b[39;00m \u001b[38;5;28mself\u001b[39m\u001b[38;5;241m.\u001b[39m_backward_pre_hooks \u001b[38;5;129;01mor\u001b[39;00m \u001b[38;5;28mself\u001b[39m\u001b[38;5;241m.\u001b[39m_forward_hooks \u001b[38;5;129;01mor\u001b[39;00m \u001b[38;5;28mself\u001b[39m\u001b[38;5;241m.\u001b[39m_forward_pre_hooks\n\u001b[0;32m   1539\u001b[0m         \u001b[38;5;129;01mor\u001b[39;00m _global_backward_pre_hooks \u001b[38;5;129;01mor\u001b[39;00m _global_backward_hooks\n\u001b[0;32m   1540\u001b[0m         \u001b[38;5;129;01mor\u001b[39;00m _global_forward_hooks \u001b[38;5;129;01mor\u001b[39;00m _global_forward_pre_hooks):\n\u001b[1;32m-> 1541\u001b[0m     \u001b[38;5;28;01mreturn\u001b[39;00m \u001b[43mforward_call\u001b[49m\u001b[43m(\u001b[49m\u001b[38;5;241;43m*\u001b[39;49m\u001b[43margs\u001b[49m\u001b[43m,\u001b[49m\u001b[43m \u001b[49m\u001b[38;5;241;43m*\u001b[39;49m\u001b[38;5;241;43m*\u001b[39;49m\u001b[43mkwargs\u001b[49m\u001b[43m)\u001b[49m\n\u001b[0;32m   1543\u001b[0m \u001b[38;5;28;01mtry\u001b[39;00m:\n\u001b[0;32m   1544\u001b[0m     result \u001b[38;5;241m=\u001b[39m \u001b[38;5;28;01mNone\u001b[39;00m\n",
      "File \u001b[1;32m~\\PycharmProjects\\dropkan\\kan\\KANLayer.py:183\u001b[0m, in \u001b[0;36mKANLayer.forward\u001b[1;34m(self, x)\u001b[0m\n\u001b[0;32m    180\u001b[0m preacts \u001b[38;5;241m=\u001b[39m x[:,\u001b[38;5;28;01mNone\u001b[39;00m,:]\u001b[38;5;241m.\u001b[39mclone()\u001b[38;5;241m.\u001b[39mexpand(batch, \u001b[38;5;28mself\u001b[39m\u001b[38;5;241m.\u001b[39mout_dim, \u001b[38;5;28mself\u001b[39m\u001b[38;5;241m.\u001b[39min_dim)\n\u001b[0;32m    182\u001b[0m base \u001b[38;5;241m=\u001b[39m \u001b[38;5;28mself\u001b[39m\u001b[38;5;241m.\u001b[39mbase_fun(x) \u001b[38;5;66;03m# (batch, in_dim)\u001b[39;00m\n\u001b[1;32m--> 183\u001b[0m y \u001b[38;5;241m=\u001b[39m \u001b[43mcoef2curve\u001b[49m\u001b[43m(\u001b[49m\u001b[43mx_eval\u001b[49m\u001b[38;5;241;43m=\u001b[39;49m\u001b[43mx\u001b[49m\u001b[43m,\u001b[49m\u001b[43m \u001b[49m\u001b[43mgrid\u001b[49m\u001b[38;5;241;43m=\u001b[39;49m\u001b[38;5;28;43mself\u001b[39;49m\u001b[38;5;241;43m.\u001b[39;49m\u001b[43mgrid\u001b[49m\u001b[43m,\u001b[49m\u001b[43m \u001b[49m\u001b[43mcoef\u001b[49m\u001b[38;5;241;43m=\u001b[39;49m\u001b[38;5;28;43mself\u001b[39;49m\u001b[38;5;241;43m.\u001b[39;49m\u001b[43mcoef\u001b[49m\u001b[43m,\u001b[49m\u001b[43m \u001b[49m\u001b[43mk\u001b[49m\u001b[38;5;241;43m=\u001b[39;49m\u001b[38;5;28;43mself\u001b[39;49m\u001b[38;5;241;43m.\u001b[39;49m\u001b[43mk\u001b[49m\u001b[43m)\u001b[49m  \u001b[38;5;66;03m# y shape: (batch, in_dim, out_dim)\u001b[39;00m\n\u001b[0;32m    185\u001b[0m postspline \u001b[38;5;241m=\u001b[39m y\u001b[38;5;241m.\u001b[39mclone()\u001b[38;5;241m.\u001b[39mpermute(\u001b[38;5;241m0\u001b[39m,\u001b[38;5;241m2\u001b[39m,\u001b[38;5;241m1\u001b[39m) \u001b[38;5;66;03m# postspline shape: (batch, out_dim, in_dim)\u001b[39;00m\n\u001b[0;32m    187\u001b[0m y \u001b[38;5;241m=\u001b[39m \u001b[38;5;28mself\u001b[39m\u001b[38;5;241m.\u001b[39mscale_base[\u001b[38;5;28;01mNone\u001b[39;00m,:,:] \u001b[38;5;241m*\u001b[39m base[:,:,\u001b[38;5;28;01mNone\u001b[39;00m] \u001b[38;5;241m+\u001b[39m \u001b[38;5;28mself\u001b[39m\u001b[38;5;241m.\u001b[39mscale_sp[\u001b[38;5;28;01mNone\u001b[39;00m,:,:] \u001b[38;5;241m*\u001b[39m y\n",
      "File \u001b[1;32m~\\PycharmProjects\\dropkan\\kan\\spline.py:117\u001b[0m, in \u001b[0;36mcoef2curve\u001b[1;34m(x_eval, grid, coef, k, device)\u001b[0m\n\u001b[0;32m     81\u001b[0m \u001b[38;5;250m\u001b[39m\u001b[38;5;124;03m'''\u001b[39;00m\n\u001b[0;32m     82\u001b[0m \u001b[38;5;124;03mconverting B-spline coefficients to B-spline curves. Evaluate x on B-spline curves (summing up B_batch results over B-spline basis).\u001b[39;00m\n\u001b[0;32m     83\u001b[0m \u001b[38;5;124;03m\u001b[39;00m\n\u001b[1;32m   (...)\u001b[0m\n\u001b[0;32m    112\u001b[0m \u001b[38;5;124;03mtorch.Size([5, 100])\u001b[39;00m\n\u001b[0;32m    113\u001b[0m \u001b[38;5;124;03m'''\u001b[39;00m\n\u001b[0;32m    114\u001b[0m \u001b[38;5;66;03m# x_eval: (size, batch), grid: (size, grid), coef: (size, coef)\u001b[39;00m\n\u001b[0;32m    115\u001b[0m \u001b[38;5;66;03m# coef: (size, coef), B_batch: (size, coef, batch), summer over coef\u001b[39;00m\n\u001b[1;32m--> 117\u001b[0m b_splines \u001b[38;5;241m=\u001b[39m \u001b[43mB_batch\u001b[49m\u001b[43m(\u001b[49m\u001b[43mx_eval\u001b[49m\u001b[43m,\u001b[49m\u001b[43m \u001b[49m\u001b[43mgrid\u001b[49m\u001b[43m,\u001b[49m\u001b[43m \u001b[49m\u001b[43mk\u001b[49m\u001b[38;5;241;43m=\u001b[39;49m\u001b[43mk\u001b[49m\u001b[43m)\u001b[49m \u001b[38;5;66;03m# (batch, in_dim, n_coef)\u001b[39;00m\n\u001b[0;32m    118\u001b[0m y_eval \u001b[38;5;241m=\u001b[39m torch\u001b[38;5;241m.\u001b[39meinsum(\u001b[38;5;124m'\u001b[39m\u001b[38;5;124mijk,jlk->ijl\u001b[39m\u001b[38;5;124m'\u001b[39m, b_splines, coef\u001b[38;5;241m.\u001b[39mto(b_splines\u001b[38;5;241m.\u001b[39mdevice))\n\u001b[0;32m    120\u001b[0m \u001b[38;5;28;01mreturn\u001b[39;00m y_eval\n",
      "File \u001b[1;32m~\\PycharmProjects\\dropkan\\kan\\spline.py:69\u001b[0m, in \u001b[0;36mB_batch\u001b[1;34m(x, grid, k, extend, device)\u001b[0m\n\u001b[0;32m     67\u001b[0m     value \u001b[38;5;241m=\u001b[39m (x \u001b[38;5;241m>\u001b[39m\u001b[38;5;241m=\u001b[39m grid[:, :, :\u001b[38;5;241m-\u001b[39m\u001b[38;5;241m1\u001b[39m]) \u001b[38;5;241m*\u001b[39m (x \u001b[38;5;241m<\u001b[39m grid[:, :, \u001b[38;5;241m1\u001b[39m:])\n\u001b[0;32m     68\u001b[0m \u001b[38;5;28;01melse\u001b[39;00m:\n\u001b[1;32m---> 69\u001b[0m     B_km1 \u001b[38;5;241m=\u001b[39m \u001b[43mB_batch\u001b[49m\u001b[43m(\u001b[49m\u001b[43mx\u001b[49m\u001b[43m[\u001b[49m\u001b[43m:\u001b[49m\u001b[43m,\u001b[49m\u001b[43m:\u001b[49m\u001b[43m,\u001b[49m\u001b[38;5;241;43m0\u001b[39;49m\u001b[43m]\u001b[49m\u001b[43m,\u001b[49m\u001b[43m \u001b[49m\u001b[43mgrid\u001b[49m\u001b[38;5;241;43m=\u001b[39;49m\u001b[43mgrid\u001b[49m\u001b[43m[\u001b[49m\u001b[38;5;241;43m0\u001b[39;49m\u001b[43m]\u001b[49m\u001b[43m,\u001b[49m\u001b[43m \u001b[49m\u001b[43mk\u001b[49m\u001b[38;5;241;43m=\u001b[39;49m\u001b[43mk\u001b[49m\u001b[43m \u001b[49m\u001b[38;5;241;43m-\u001b[39;49m\u001b[43m \u001b[49m\u001b[38;5;241;43m1\u001b[39;49m\u001b[43m)\u001b[49m\n\u001b[0;32m     71\u001b[0m     value \u001b[38;5;241m=\u001b[39m (x \u001b[38;5;241m-\u001b[39m grid[:, :, :\u001b[38;5;241m-\u001b[39m(k \u001b[38;5;241m+\u001b[39m \u001b[38;5;241m1\u001b[39m)]) \u001b[38;5;241m/\u001b[39m (grid[:, :, k:\u001b[38;5;241m-\u001b[39m\u001b[38;5;241m1\u001b[39m] \u001b[38;5;241m-\u001b[39m grid[:, :, :\u001b[38;5;241m-\u001b[39m(k \u001b[38;5;241m+\u001b[39m \u001b[38;5;241m1\u001b[39m)]) \u001b[38;5;241m*\u001b[39m B_km1[:, :, :\u001b[38;5;241m-\u001b[39m\u001b[38;5;241m1\u001b[39m] \u001b[38;5;241m+\u001b[39m (\n\u001b[0;32m     72\u001b[0m                 grid[:, :, k \u001b[38;5;241m+\u001b[39m \u001b[38;5;241m1\u001b[39m:] \u001b[38;5;241m-\u001b[39m x) \u001b[38;5;241m/\u001b[39m (grid[:, :, k \u001b[38;5;241m+\u001b[39m \u001b[38;5;241m1\u001b[39m:] \u001b[38;5;241m-\u001b[39m grid[:, :, \u001b[38;5;241m1\u001b[39m:(\u001b[38;5;241m-\u001b[39mk)]) \u001b[38;5;241m*\u001b[39m B_km1[:, :, \u001b[38;5;241m1\u001b[39m:]\n\u001b[0;32m     74\u001b[0m \u001b[38;5;66;03m# in case grid is degenerate\u001b[39;00m\n",
      "File \u001b[1;32m~\\PycharmProjects\\dropkan\\kan\\spline.py:75\u001b[0m, in \u001b[0;36mB_batch\u001b[1;34m(x, grid, k, extend, device)\u001b[0m\n\u001b[0;32m     71\u001b[0m     value \u001b[38;5;241m=\u001b[39m (x \u001b[38;5;241m-\u001b[39m grid[:, :, :\u001b[38;5;241m-\u001b[39m(k \u001b[38;5;241m+\u001b[39m \u001b[38;5;241m1\u001b[39m)]) \u001b[38;5;241m/\u001b[39m (grid[:, :, k:\u001b[38;5;241m-\u001b[39m\u001b[38;5;241m1\u001b[39m] \u001b[38;5;241m-\u001b[39m grid[:, :, :\u001b[38;5;241m-\u001b[39m(k \u001b[38;5;241m+\u001b[39m \u001b[38;5;241m1\u001b[39m)]) \u001b[38;5;241m*\u001b[39m B_km1[:, :, :\u001b[38;5;241m-\u001b[39m\u001b[38;5;241m1\u001b[39m] \u001b[38;5;241m+\u001b[39m (\n\u001b[0;32m     72\u001b[0m                 grid[:, :, k \u001b[38;5;241m+\u001b[39m \u001b[38;5;241m1\u001b[39m:] \u001b[38;5;241m-\u001b[39m x) \u001b[38;5;241m/\u001b[39m (grid[:, :, k \u001b[38;5;241m+\u001b[39m \u001b[38;5;241m1\u001b[39m:] \u001b[38;5;241m-\u001b[39m grid[:, :, \u001b[38;5;241m1\u001b[39m:(\u001b[38;5;241m-\u001b[39mk)]) \u001b[38;5;241m*\u001b[39m B_km1[:, :, \u001b[38;5;241m1\u001b[39m:]\n\u001b[0;32m     74\u001b[0m \u001b[38;5;66;03m# in case grid is degenerate\u001b[39;00m\n\u001b[1;32m---> 75\u001b[0m value \u001b[38;5;241m=\u001b[39m \u001b[43mtorch\u001b[49m\u001b[38;5;241;43m.\u001b[39;49m\u001b[43mnan_to_num\u001b[49m\u001b[43m(\u001b[49m\u001b[43mvalue\u001b[49m\u001b[43m)\u001b[49m\n\u001b[0;32m     76\u001b[0m \u001b[38;5;28;01mreturn\u001b[39;00m value\n",
      "\u001b[1;31mKeyboardInterrupt\u001b[0m: "
     ]
    }
   ],
   "source": [
    "log_df = pd.DataFrame(columns=[ 'drop_mode', 'validation_accuracy', 'test_accuracy'])\n",
    "\n",
    "\n",
    "for j in range(10):\n",
    "    model = KAN(seed=j,width=[X_train.shape[1], 10,1], grid=3, k=3,\n",
    "                            symbolic_enabled=False)\n",
    "    results = model.train(dataset, opt=\"Adam\", steps=2000, batch=32, lr=0.01, update_grid=False)\n",
    "    set_training_mode(model, False)\n",
    "    \n",
    "\n",
    "    # Compute MAE\n",
    "    val_mae = F.l1_loss( model(dataset['val_input']), dataset['val_label']).item()\n",
    "    \n",
    "    # Compute MAE\n",
    "    test_mae = F.l1_loss(model(dataset['test_input']), dataset['test_label']).item()\n",
    "\n",
    "    log_df.loc[len(log_df)] = ['kan', val_mae, test_mae]\n",
    "    \n",
    "    print(0.0, 0.0, 'kan', None, val_mae, test_mae)\n",
    "    "
   ]
  },
  {
   "cell_type": "code",
   "execution_count": null,
   "id": "c1885b51-bf5c-4919-b861-11e757543f41",
   "metadata": {},
   "outputs": [],
   "source": []
  },
  {
   "cell_type": "code",
   "execution_count": 120,
   "id": "6a893e50-81f8-4182-abdc-2629e7a1c4c3",
   "metadata": {},
   "outputs": [
    {
     "name": "stderr",
     "output_type": "stream",
     "text": [
      "description: 100%|█████████████████████████████████████████████| 2000/2000 [00:12<00:00, 163.54it/s]\n"
     ]
    },
    {
     "name": "stdout",
     "output_type": "stream",
     "text": [
      "0.0 0.0 postspline None 0.600863516330719 0.6141117215156555\n"
     ]
    },
    {
     "name": "stderr",
     "output_type": "stream",
     "text": [
      "description: 100%|█████████████████████████████████████████████| 2000/2000 [00:12<00:00, 163.01it/s]\n"
     ]
    },
    {
     "name": "stdout",
     "output_type": "stream",
     "text": [
      "0.0 0.0 postspline None 0.5770761966705322 0.6050082445144653\n"
     ]
    },
    {
     "name": "stderr",
     "output_type": "stream",
     "text": [
      "description: 100%|█████████████████████████████████████████████| 2000/2000 [00:12<00:00, 164.00it/s]\n"
     ]
    },
    {
     "name": "stdout",
     "output_type": "stream",
     "text": [
      "0.0 0.0 postspline None 0.5952479243278503 0.6401389837265015\n"
     ]
    },
    {
     "name": "stderr",
     "output_type": "stream",
     "text": [
      "description: 100%|█████████████████████████████████████████████| 2000/2000 [00:12<00:00, 162.63it/s]\n"
     ]
    },
    {
     "name": "stdout",
     "output_type": "stream",
     "text": [
      "0.0 0.0 postspline None 0.5689489841461182 0.5987960696220398\n"
     ]
    },
    {
     "name": "stderr",
     "output_type": "stream",
     "text": [
      "description: 100%|█████████████████████████████████████████████| 2000/2000 [00:12<00:00, 162.79it/s]\n"
     ]
    },
    {
     "name": "stdout",
     "output_type": "stream",
     "text": [
      "0.0 0.0 postspline None 0.5939964652061462 0.6148542761802673\n"
     ]
    },
    {
     "name": "stderr",
     "output_type": "stream",
     "text": [
      "description: 100%|█████████████████████████████████████████████| 2000/2000 [00:12<00:00, 162.10it/s]\n"
     ]
    },
    {
     "name": "stdout",
     "output_type": "stream",
     "text": [
      "0.0 0.0 postspline None 0.7401701807975769 0.8054848313331604\n"
     ]
    },
    {
     "name": "stderr",
     "output_type": "stream",
     "text": [
      "description: 100%|█████████████████████████████████████████████| 2000/2000 [00:12<00:00, 163.54it/s]\n"
     ]
    },
    {
     "name": "stdout",
     "output_type": "stream",
     "text": [
      "0.0 0.0 postspline None 0.6336266994476318 0.648411750793457\n"
     ]
    },
    {
     "name": "stderr",
     "output_type": "stream",
     "text": [
      "description: 100%|█████████████████████████████████████████████| 2000/2000 [00:12<00:00, 163.21it/s]\n"
     ]
    },
    {
     "name": "stdout",
     "output_type": "stream",
     "text": [
      "0.0 0.0 postspline None 0.5834296345710754 0.6007277965545654\n"
     ]
    },
    {
     "name": "stderr",
     "output_type": "stream",
     "text": [
      "description: 100%|█████████████████████████████████████████████| 2000/2000 [00:12<00:00, 160.56it/s]\n"
     ]
    },
    {
     "name": "stdout",
     "output_type": "stream",
     "text": [
      "0.0 0.0 postspline None 0.7552220821380615 0.7430824041366577\n"
     ]
    },
    {
     "name": "stderr",
     "output_type": "stream",
     "text": [
      "description: 100%|█████████████████████████████████████████████| 2000/2000 [00:12<00:00, 159.58it/s]"
     ]
    },
    {
     "name": "stdout",
     "output_type": "stream",
     "text": [
      "0.0 0.0 postspline None 0.6078576445579529 0.6266030669212341\n"
     ]
    },
    {
     "name": "stderr",
     "output_type": "stream",
     "text": [
      "\n"
     ]
    }
   ],
   "source": [
    "for j in range(10):\n",
    "    model = DropKAN(seed=j,width=[X_train.shape[1], 10, 1], grid=3, k=3,\n",
    "                            symbolic_enabled=False, drop_rate=[0.3, 0.3], drop_mode='postspline', drop_scale=False, neuron_fun=['sum', 'sum'])\n",
    "    results = model.train(dataset, opt=\"Adam\", steps=2000, batch=32, lr=0.01, update_grid=False, loss_fn=F.l1_loss)\n",
    "    set_training_mode(model, False)\n",
    "    \n",
    "\n",
    "    # Compute MAE\n",
    "    val_mae = F.l1_loss( model(dataset['val_input']), dataset['val_label']).item()\n",
    "    \n",
    "    # Compute MAE\n",
    "    test_mae = F.l1_loss(model(dataset['test_input']), dataset['test_label']).item()\n",
    "\n",
    "    log_df.loc[len(log_df)] = ['postspline3', val_mae, test_mae]\n",
    "    \n",
    "    print(0.0, 0.0, 'postspline', None, val_mae, test_mae)\n",
    "    "
   ]
  },
  {
   "cell_type": "code",
   "execution_count": 122,
   "id": "03faab19-d7e4-44d9-9bf5-afb2d235207b",
   "metadata": {},
   "outputs": [
    {
     "data": {
      "text/plain": [
       "(0.6175516247749329, 0.6207286715507507)"
      ]
     },
     "execution_count": 122,
     "metadata": {},
     "output_type": "execute_result"
    }
   ],
   "source": [
    "log_df[log_df['drop_mode']=='kan']['test_accuracy'].median(), log_df[log_df['drop_mode']=='postspline3']['test_accuracy'].median()"
   ]
  },
  {
   "cell_type": "code",
   "execution_count": 247,
   "id": "2b881330-ef32-4996-b3ce-2ac54e777d8d",
   "metadata": {},
   "outputs": [
    {
     "data": {
      "text/plain": [
       "<matplotlib.collections.PathCollection at 0x203d8936760>"
      ]
     },
     "execution_count": 247,
     "metadata": {},
     "output_type": "execute_result"
    },
    {
     "data": {
      "image/png": "[encoded data removed]",
      "text/plain": [
       "<Figure size 640x480 with 1 Axes>"
      ]
     },
     "metadata": {},
     "output_type": "display_data"
    }
   ],
   "source": [
    "import matplotlib.pyplot as plt\n",
    "np.set_printoptions(suppress=True)\n",
    "torch.set_printoptions(sci_mode=False)\n",
    "\n",
    "\n",
    "\n",
    "pred = model(dataset['val_input']).detach().numpy().flatten()\n",
    "\n",
    "plt.scatter(pred, dataset['val_label'].flatten())\n",
    "#plt.xlim(0, 10)\n",
    "#plt.ylim(0, 10)"
   ]
  },
  {
   "cell_type": "code",
   "execution_count": 249,
   "id": "1a4be357-9104-4809-9cfd-e2ad2a69f7f9",
   "metadata": {},
   "outputs": [
    {
     "data": {
      "text/plain": [
       "array([ 0.69175094,  0.        ,  0.        , -0.        , -0.00000408,\n",
       "        0.        ,  0.        , -0.00000038,  0.        ,  0.        ,\n",
       "       -0.        ,  2.6933715 ,  0.        ,  0.        ,  0.        ,\n",
       "        0.        ,  0.        ,  0.        ,  0.        ,  0.        ,\n",
       "        0.        ,  0.        ,  0.        ,  0.        ,  0.        ,\n",
       "       -0.        , -0.        ,  0.        ,  0.        , -0.        ,\n",
       "        0.        ,  0.        , -0.        , -0.        , -0.        ,\n",
       "        0.        ,  0.        ,  0.        ,  0.        , -0.00006075,\n",
       "        0.        ,  0.        ,  0.        ,  0.        ,  0.        ,\n",
       "        0.        ,  0.        ,  0.        , -0.        , -0.        ,\n",
       "       -0.00000001, -0.        ,  0.        ,  0.        ,  0.        ,\n",
       "        0.        ,  0.        ,  0.        ,  0.        ,  0.2140775 ,\n",
       "       -0.        , -0.        ,  0.        ,  0.        ,  0.        ,\n",
       "       -0.        ,  0.        , -0.        , -0.        ], dtype=float32)"
      ]
     },
     "execution_count": 249,
     "metadata": {},
     "output_type": "execute_result"
    }
   ],
   "source": [
    "pred"
   ]
  },
  {
   "cell_type": "code",
   "execution_count": 248,
   "id": "244f6e0b-04f2-4563-8c55-a23037971336",
   "metadata": {},
   "outputs": [
    {
     "data": {
      "text/plain": [
       "tensor([ 5.0000,  0.5000,  4.0000,  0.5000,  8.0000,  2.0000,  2.0000,  0.5000,\n",
       "         0.5000,  0.5000, 12.0000,  4.0000,  3.0000,  4.0000,  0.5000,  0.5000,\n",
       "         0.0000,  6.0000,  4.0000,  6.0000,  5.0000,  0.5000,  0.5000,  0.5000,\n",
       "         2.0000,  6.0000,  0.5000,  0.5000,  4.0000,  3.0000,  2.0000,  0.5000,\n",
       "         2.0000, 10.0000,  8.0000,  0.5000,  0.5000,  0.5000,  3.0000,  5.0000,\n",
       "         8.0000,  5.0000,  0.5000,  4.0000,  2.0000,  0.5000,  0.5000,  0.5000,\n",
       "         6.0000,  6.0000,  2.0000,  6.0000,  2.0000,  0.5000,  0.5000,  0.5000,\n",
       "         2.0000,  2.0000,  1.0000,  0.5000,  8.0000,  8.0000,  0.5000,  5.0000,\n",
       "         0.5000,  4.0000,  5.0000,  4.0000,  4.0000], dtype=torch.float64)"
      ]
     },
     "execution_count": 248,
     "metadata": {},
     "output_type": "execute_result"
    }
   ],
   "source": [
    "dataset['val_label'].flatten()"
   ]
  },
  {
   "cell_type": "code",
   "execution_count": 87,
   "id": "f01d3fcb-174f-48cb-9e9b-ad6a2f7bb60f",
   "metadata": {},
   "outputs": [
    {
     "data": {
      "text/plain": [
       "array([6.004398 , 5.2638116, 6.0182595, ..., 5.297915 , 5.096303 ,\n",
       "       5.407409 ], dtype=float32)"
      ]
     },
     "execution_count": 87,
     "metadata": {},
     "output_type": "execute_result"
    }
   ],
   "source": [
    "pred"
   ]
  },
  {
   "cell_type": "code",
   "execution_count": 234,
   "id": "18781979-ad74-4172-b83c-0469de8daaa1",
   "metadata": {
    "scrolled": true
   },
   "outputs": [
    {
     "name": "stderr",
     "output_type": "stream",
     "text": [
      "train loss: 3.73e+00 | test loss: 6.88e+00 | reg: 4.15e+01 : 100%|█| 2000/2000 [00:17<00:00, 114.04i\n",
      "train loss: 5.40e+00 | test loss: 5.09e+00 | reg: 4.44e+01 : 100%|█| 2000/2000 [00:17<00:00, 113.34i\n",
      "train loss: 4.02e+00 | test loss: 3.39e+00 | reg: 4.21e+01 : 100%|█| 2000/2000 [00:17<00:00, 113.80i\n",
      "train loss: 2.94e+00 | test loss: 5.25e+00 | reg: 3.66e+01 : 100%|█| 2000/2000 [00:17<00:00, 112.00i\n",
      "train loss: 5.22e+00 | test loss: 5.00e+00 | reg: 4.20e+01 : 100%|█| 2000/2000 [00:17<00:00, 115.47i\n"
     ]
    },
    {
     "name": "stdout",
     "output_type": "stream",
     "text": [
      "0.35892126058363105 0.4045590938488854 postspline\n"
     ]
    },
    {
     "name": "stderr",
     "output_type": "stream",
     "text": [
      "description: 100%|█████████████████████████████████████████████| 2000/2000 [00:12<00:00, 159.38it/s]\n"
     ]
    },
    {
     "name": "stdout",
     "output_type": "stream",
     "text": [
      "[0.35892126058363105, 0.4045590938488854, 'postspline', True, 2.7437059677857065, 3.593751876813522]\n",
      "6\n",
      "\n"
     ]
    },
    {
     "name": "stderr",
     "output_type": "stream",
     "text": [
      "description: 100%|█████████████████████████████████████████████| 2000/2000 [00:12<00:00, 159.56it/s]\n"
     ]
    },
    {
     "name": "stdout",
     "output_type": "stream",
     "text": [
      "[0.35892126058363105, 0.4045590938488854, 'postspline', True, 2.999999999999883, 3.7232113149072035]\n",
      "7\n",
      "\n"
     ]
    },
    {
     "name": "stderr",
     "output_type": "stream",
     "text": [
      "description: 100%|█████████████████████████████████████████████| 2000/2000 [00:12<00:00, 161.01it/s]\n"
     ]
    },
    {
     "name": "stdout",
     "output_type": "stream",
     "text": [
      "[0.35892126058363105, 0.4045590938488854, 'postspline', True, 2.4170019773469456, 2.703918393107428]\n",
      "8\n",
      "\n"
     ]
    },
    {
     "name": "stderr",
     "output_type": "stream",
     "text": [
      "description: 100%|█████████████████████████████████████████████| 2000/2000 [00:12<00:00, 160.79it/s]\n"
     ]
    },
    {
     "name": "stdout",
     "output_type": "stream",
     "text": [
      "[0.35892126058363105, 0.4045590938488854, 'postspline', True, 2.1965029187824414, 2.9043465092562246]\n",
      "9\n",
      "\n"
     ]
    },
    {
     "name": "stderr",
     "output_type": "stream",
     "text": [
      "description: 100%|█████████████████████████████████████████████| 2000/2000 [00:12<00:00, 166.03it/s]\n"
     ]
    },
    {
     "name": "stdout",
     "output_type": "stream",
     "text": [
      "[0.35892126058363105, 0.4045590938488854, 'postspline', True, 2.999961761203442, 3.6754322830113706]\n",
      "10\n",
      "\n",
      "0.35892126058363105 0.4045590938488854 postspline\n"
     ]
    },
    {
     "name": "stderr",
     "output_type": "stream",
     "text": [
      "description: 100%|█████████████████████████████████████████████| 2000/2000 [00:12<00:00, 165.21it/s]\n"
     ]
    },
    {
     "name": "stdout",
     "output_type": "stream",
     "text": [
      "[0.35892126058363105, 0.4045590938488854, 'postspline', False, 2.8151319403554522, 3.670588887037693]\n",
      "11\n",
      "\n"
     ]
    },
    {
     "name": "stderr",
     "output_type": "stream",
     "text": [
      "description: 100%|█████████████████████████████████████████████| 2000/2000 [00:11<00:00, 168.23it/s]\n"
     ]
    },
    {
     "name": "stdout",
     "output_type": "stream",
     "text": [
      "[0.35892126058363105, 0.4045590938488854, 'postspline', False, 2.999999999999878, 3.718299628633685]\n",
      "12\n",
      "\n"
     ]
    },
    {
     "name": "stderr",
     "output_type": "stream",
     "text": [
      "description: 100%|█████████████████████████████████████████████| 2000/2000 [00:11<00:00, 169.72it/s]\n"
     ]
    },
    {
     "name": "stdout",
     "output_type": "stream",
     "text": [
      "[0.35892126058363105, 0.4045590938488854, 'postspline', False, 2.4801158939582715, 2.714272037796352]\n",
      "13\n",
      "\n"
     ]
    },
    {
     "name": "stderr",
     "output_type": "stream",
     "text": [
      "description: 100%|█████████████████████████████████████████████| 2000/2000 [00:11<00:00, 170.82it/s]\n"
     ]
    },
    {
     "name": "stdout",
     "output_type": "stream",
     "text": [
      "[0.35892126058363105, 0.4045590938488854, 'postspline', False, 2.2007332193678706, 2.8937918431517007]\n",
      "14\n",
      "\n"
     ]
    },
    {
     "name": "stderr",
     "output_type": "stream",
     "text": [
      "description: 100%|█████████████████████████████████████████████| 2000/2000 [00:11<00:00, 170.53it/s]\n"
     ]
    },
    {
     "name": "stdout",
     "output_type": "stream",
     "text": [
      "[0.35892126058363105, 0.4045590938488854, 'postspline', False, 2.999966998463674, 3.675432599757257]\n",
      "15\n",
      "\n",
      "0.35892126058363105 0.4045590938488854 postact\n"
     ]
    },
    {
     "name": "stderr",
     "output_type": "stream",
     "text": [
      "description: 100%|█████████████████████████████████████████████| 2000/2000 [00:11<00:00, 169.44it/s]\n"
     ]
    },
    {
     "name": "stdout",
     "output_type": "stream",
     "text": [
      "[0.35892126058363105, 0.4045590938488854, 'postact', True, 2.802724647871973, 3.3471601369918025]\n",
      "16\n",
      "\n"
     ]
    },
    {
     "name": "stderr",
     "output_type": "stream",
     "text": [
      "description: 100%|█████████████████████████████████████████████| 2000/2000 [00:11<00:00, 169.87it/s]\n"
     ]
    },
    {
     "name": "stdout",
     "output_type": "stream",
     "text": [
      "[0.35892126058363105, 0.4045590938488854, 'postact', True, 2.1926622857218203, 2.6970973705899888]\n",
      "17\n",
      "\n"
     ]
    },
    {
     "name": "stderr",
     "output_type": "stream",
     "text": [
      "description: 100%|█████████████████████████████████████████████| 2000/2000 [00:11<00:00, 169.49it/s]\n"
     ]
    },
    {
     "name": "stdout",
     "output_type": "stream",
     "text": [
      "[0.35892126058363105, 0.4045590938488854, 'postact', True, 2.2617785567822666, 2.69953982035319]\n",
      "18\n",
      "\n"
     ]
    },
    {
     "name": "stderr",
     "output_type": "stream",
     "text": [
      "description: 100%|█████████████████████████████████████████████| 2000/2000 [00:11<00:00, 169.31it/s]\n"
     ]
    },
    {
     "name": "stdout",
     "output_type": "stream",
     "text": [
      "[0.35892126058363105, 0.4045590938488854, 'postact', True, 2.3455910695635755, 2.8227221119231074]\n",
      "19\n",
      "\n"
     ]
    },
    {
     "name": "stderr",
     "output_type": "stream",
     "text": [
      "description: 100%|█████████████████████████████████████████████| 2000/2000 [00:11<00:00, 171.12it/s]\n"
     ]
    },
    {
     "name": "stdout",
     "output_type": "stream",
     "text": [
      "[0.35892126058363105, 0.4045590938488854, 'postact', True, 2.2475274006525674, 2.5958335537841353]\n",
      "20\n",
      "\n",
      "0.35892126058363105 0.4045590938488854 postact\n"
     ]
    },
    {
     "name": "stderr",
     "output_type": "stream",
     "text": [
      "description: 100%|█████████████████████████████████████████████| 2000/2000 [00:11<00:00, 169.55it/s]\n"
     ]
    },
    {
     "name": "stdout",
     "output_type": "stream",
     "text": [
      "[0.35892126058363105, 0.4045590938488854, 'postact', False, 2.260028550590294, 2.6962404531845148]\n",
      "21\n",
      "\n"
     ]
    },
    {
     "name": "stderr",
     "output_type": "stream",
     "text": [
      "description: 100%|█████████████████████████████████████████████| 2000/2000 [00:12<00:00, 165.77it/s]\n"
     ]
    },
    {
     "name": "stdout",
     "output_type": "stream",
     "text": [
      "[0.35892126058363105, 0.4045590938488854, 'postact', False, 2.713083750959756, 3.5267812100009643]\n",
      "22\n",
      "\n"
     ]
    },
    {
     "name": "stderr",
     "output_type": "stream",
     "text": [
      "description: 100%|█████████████████████████████████████████████| 2000/2000 [00:11<00:00, 170.16it/s]\n"
     ]
    },
    {
     "name": "stdout",
     "output_type": "stream",
     "text": [
      "[0.35892126058363105, 0.4045590938488854, 'postact', False, 4.784979640573695, 4.78386578352555]\n",
      "23\n",
      "\n"
     ]
    },
    {
     "name": "stderr",
     "output_type": "stream",
     "text": [
      "description: 100%|█████████████████████████████████████████████| 2000/2000 [00:11<00:00, 171.72it/s]\n"
     ]
    },
    {
     "name": "stdout",
     "output_type": "stream",
     "text": [
      "[0.35892126058363105, 0.4045590938488854, 'postact', False, 2.4417173136835513, 2.7995856844860576]\n",
      "24\n",
      "\n"
     ]
    },
    {
     "name": "stderr",
     "output_type": "stream",
     "text": [
      "description: 100%|█████████████████████████████████████████████| 2000/2000 [00:11<00:00, 172.17it/s]\n"
     ]
    },
    {
     "name": "stdout",
     "output_type": "stream",
     "text": [
      "[0.35892126058363105, 0.4045590938488854, 'postact', False, 2.6561232546101445, 2.9226418647213257]\n",
      "25\n",
      "\n",
      "0.35892126058363105 0.4045590938488854 dropout\n"
     ]
    },
    {
     "name": "stderr",
     "output_type": "stream",
     "text": [
      "description: 100%|█████████████████████████████████████████████| 2000/2000 [00:09<00:00, 202.72it/s]\n"
     ]
    },
    {
     "name": "stdout",
     "output_type": "stream",
     "text": [
      "[0.35892126058363105, 0.4045590938488854, 'dropout', True, 2.935956876349004, 3.3904806780261]\n",
      "26\n",
      "\n"
     ]
    },
    {
     "name": "stderr",
     "output_type": "stream",
     "text": [
      "description: 100%|█████████████████████████████████████████████| 2000/2000 [00:09<00:00, 203.37it/s]\n"
     ]
    },
    {
     "name": "stdout",
     "output_type": "stream",
     "text": [
      "[0.35892126058363105, 0.4045590938488854, 'dropout', True, 2.3383059881735537, 2.78242825511573]\n",
      "27\n",
      "\n"
     ]
    },
    {
     "name": "stderr",
     "output_type": "stream",
     "text": [
      "description: 100%|█████████████████████████████████████████████| 2000/2000 [00:09<00:00, 205.21it/s]\n"
     ]
    },
    {
     "name": "stdout",
     "output_type": "stream",
     "text": [
      "[0.35892126058363105, 0.4045590938488854, 'dropout', True, 2.747788774804476, 3.2488403018419936]\n",
      "28\n",
      "\n"
     ]
    },
    {
     "name": "stderr",
     "output_type": "stream",
     "text": [
      "description: 100%|█████████████████████████████████████████████| 2000/2000 [00:09<00:00, 205.78it/s]\n"
     ]
    },
    {
     "name": "stdout",
     "output_type": "stream",
     "text": [
      "[0.35892126058363105, 0.4045590938488854, 'dropout', True, 2.4070174955371497, 2.9079112721526106]\n",
      "29\n",
      "\n"
     ]
    },
    {
     "name": "stderr",
     "output_type": "stream",
     "text": [
      "description: 100%|█████████████████████████████████████████████| 2000/2000 [00:09<00:00, 203.76it/s]\n"
     ]
    },
    {
     "name": "stdout",
     "output_type": "stream",
     "text": [
      "[0.35892126058363105, 0.4045590938488854, 'dropout', True, 2.999999999999947, 3.550724637681157]\n",
      "30\n",
      "\n",
      "0.35892126058363105 0.4045590938488854 dropout\n"
     ]
    },
    {
     "name": "stderr",
     "output_type": "stream",
     "text": [
      "description: 100%|█████████████████████████████████████████████| 2000/2000 [00:09<00:00, 204.74it/s]\n"
     ]
    },
    {
     "name": "stdout",
     "output_type": "stream",
     "text": [
      "[0.35892126058363105, 0.4045590938488854, 'dropout', False, 2.71447476559212, 3.1759335103551156]\n",
      "31\n",
      "\n"
     ]
    },
    {
     "name": "stderr",
     "output_type": "stream",
     "text": [
      "description: 100%|█████████████████████████████████████████████| 2000/2000 [00:10<00:00, 199.61it/s]\n"
     ]
    },
    {
     "name": "stdout",
     "output_type": "stream",
     "text": [
      "[0.35892126058363105, 0.4045590938488854, 'dropout', False, 2.4047642324281777, 2.6437757187995357]\n",
      "32\n",
      "\n"
     ]
    },
    {
     "name": "stderr",
     "output_type": "stream",
     "text": [
      "description: 100%|█████████████████████████████████████████████| 2000/2000 [00:10<00:00, 196.47it/s]\n"
     ]
    },
    {
     "name": "stdout",
     "output_type": "stream",
     "text": [
      "[0.35892126058363105, 0.4045590938488854, 'dropout', False, 2.3880376712135645, 2.630001817924389]\n",
      "33\n",
      "\n"
     ]
    },
    {
     "name": "stderr",
     "output_type": "stream",
     "text": [
      "description: 100%|█████████████████████████████████████████████| 2000/2000 [00:09<00:00, 202.70it/s]\n"
     ]
    },
    {
     "name": "stdout",
     "output_type": "stream",
     "text": [
      "[0.35892126058363105, 0.4045590938488854, 'dropout', False, 2.101030701312466, 2.5714626882387246]\n",
      "34\n",
      "\n"
     ]
    },
    {
     "name": "stderr",
     "output_type": "stream",
     "text": [
      "description: 100%|█████████████████████████████████████████████| 2000/2000 [00:09<00:00, 207.54it/s]\n"
     ]
    },
    {
     "name": "stdout",
     "output_type": "stream",
     "text": [
      "[0.35892126058363105, 0.4045590938488854, 'dropout', False, 2.9999999999990394, 3.5567523638407]\n",
      "35\n",
      "\n",
      "0.05056080994829343 0.10878128424775307 postspline\n"
     ]
    },
    {
     "name": "stderr",
     "output_type": "stream",
     "text": [
      "description: 100%|█████████████████████████████████████████████| 2000/2000 [00:11<00:00, 173.16it/s]\n"
     ]
    },
    {
     "name": "stdout",
     "output_type": "stream",
     "text": [
      "[0.05056080994829343, 0.10878128424775307, 'postspline', True, 2.7283413242534444, 3.5407852842826006]\n",
      "36\n",
      "\n"
     ]
    },
    {
     "name": "stderr",
     "output_type": "stream",
     "text": [
      "description: 100%|█████████████████████████████████████████████| 2000/2000 [00:11<00:00, 173.51it/s]\n"
     ]
    },
    {
     "name": "stdout",
     "output_type": "stream",
     "text": [
      "[0.05056080994829343, 0.10878128424775307, 'postspline', True, 2.99999999999987, 3.7487035382874083]\n",
      "37\n",
      "\n"
     ]
    },
    {
     "name": "stderr",
     "output_type": "stream",
     "text": [
      "description: 100%|█████████████████████████████████████████████| 2000/2000 [00:11<00:00, 173.25it/s]\n"
     ]
    },
    {
     "name": "stdout",
     "output_type": "stream",
     "text": [
      "[0.05056080994829343, 0.10878128424775307, 'postspline', True, 2.415500275466753, 2.714221639909606]\n",
      "38\n",
      "\n"
     ]
    },
    {
     "name": "stderr",
     "output_type": "stream",
     "text": [
      "description: 100%|█████████████████████████████████████████████| 2000/2000 [00:11<00:00, 173.66it/s]\n"
     ]
    },
    {
     "name": "stdout",
     "output_type": "stream",
     "text": [
      "[0.05056080994829343, 0.10878128424775307, 'postspline', True, 2.203499944313713, 2.9113254892653315]\n",
      "39\n",
      "\n"
     ]
    },
    {
     "name": "stderr",
     "output_type": "stream",
     "text": [
      "description: 100%|█████████████████████████████████████████████| 2000/2000 [00:11<00:00, 173.34it/s]\n"
     ]
    },
    {
     "name": "stdout",
     "output_type": "stream",
     "text": [
      "[0.05056080994829343, 0.10878128424775307, 'postspline', True, 2.999927328846149, 3.6754277478208093]\n",
      "40\n",
      "\n",
      "0.05056080994829343 0.10878128424775307 postspline\n"
     ]
    },
    {
     "name": "stderr",
     "output_type": "stream",
     "text": [
      "description: 100%|█████████████████████████████████████████████| 2000/2000 [00:11<00:00, 174.73it/s]\n"
     ]
    },
    {
     "name": "stdout",
     "output_type": "stream",
     "text": [
      "[0.05056080994829343, 0.10878128424775307, 'postspline', False, 2.810797111601866, 3.6641784300627718]\n",
      "41\n",
      "\n"
     ]
    },
    {
     "name": "stderr",
     "output_type": "stream",
     "text": [
      "description: 100%|█████████████████████████████████████████████| 2000/2000 [00:11<00:00, 172.53it/s]\n"
     ]
    },
    {
     "name": "stdout",
     "output_type": "stream",
     "text": [
      "[0.05056080994829343, 0.10878128424775307, 'postspline', False, 2.99999999999987, 3.7134724732230375]\n",
      "42\n",
      "\n"
     ]
    },
    {
     "name": "stderr",
     "output_type": "stream",
     "text": [
      "description: 100%|█████████████████████████████████████████████| 2000/2000 [00:11<00:00, 172.05it/s]\n"
     ]
    },
    {
     "name": "stdout",
     "output_type": "stream",
     "text": [
      "[0.05056080994829343, 0.10878128424775307, 'postspline', False, 2.4192781405172488, 2.7072684350221055]\n",
      "43\n",
      "\n"
     ]
    },
    {
     "name": "stderr",
     "output_type": "stream",
     "text": [
      "description: 100%|█████████████████████████████████████████████| 2000/2000 [00:11<00:00, 172.46it/s]\n"
     ]
    },
    {
     "name": "stdout",
     "output_type": "stream",
     "text": [
      "[0.05056080994829343, 0.10878128424775307, 'postspline', False, 2.200089770814647, 2.8852456600769707]\n",
      "44\n",
      "\n"
     ]
    },
    {
     "name": "stderr",
     "output_type": "stream",
     "text": [
      "description: 100%|█████████████████████████████████████████████| 2000/2000 [00:11<00:00, 172.54it/s]\n"
     ]
    },
    {
     "name": "stdout",
     "output_type": "stream",
     "text": [
      "[0.05056080994829343, 0.10878128424775307, 'postspline', False, 2.9999307693146173, 3.675427036330794]\n",
      "45\n",
      "\n",
      "0.05056080994829343 0.10878128424775307 postact\n"
     ]
    },
    {
     "name": "stderr",
     "output_type": "stream",
     "text": [
      "description: 100%|█████████████████████████████████████████████| 2000/2000 [00:11<00:00, 171.51it/s]\n"
     ]
    },
    {
     "name": "stdout",
     "output_type": "stream",
     "text": [
      "[0.05056080994829343, 0.10878128424775307, 'postact', True, 2.715680531776406, 3.1873220974565593]\n",
      "46\n",
      "\n"
     ]
    },
    {
     "name": "stderr",
     "output_type": "stream",
     "text": [
      "description: 100%|█████████████████████████████████████████████| 2000/2000 [00:11<00:00, 172.27it/s]\n"
     ]
    },
    {
     "name": "stdout",
     "output_type": "stream",
     "text": [
      "[0.05056080994829343, 0.10878128424775307, 'postact', True, 2.2727489609649214, 2.584315301715464]\n",
      "47\n",
      "\n"
     ]
    },
    {
     "name": "stderr",
     "output_type": "stream",
     "text": [
      "description: 100%|█████████████████████████████████████████████| 2000/2000 [00:11<00:00, 172.87it/s]\n"
     ]
    },
    {
     "name": "stdout",
     "output_type": "stream",
     "text": [
      "[0.05056080994829343, 0.10878128424775307, 'postact', True, 2.440642061440841, 2.6860790287238965]\n",
      "48\n",
      "\n"
     ]
    },
    {
     "name": "stderr",
     "output_type": "stream",
     "text": [
      "description: 100%|█████████████████████████████████████████████| 2000/2000 [00:11<00:00, 172.83it/s]\n"
     ]
    },
    {
     "name": "stdout",
     "output_type": "stream",
     "text": [
      "[0.05056080994829343, 0.10878128424775307, 'postact', True, 2.137551667033762, 2.4779646241146587]\n",
      "49\n",
      "\n"
     ]
    },
    {
     "name": "stderr",
     "output_type": "stream",
     "text": [
      "description: 100%|█████████████████████████████████████████████| 2000/2000 [00:11<00:00, 173.09it/s]\n"
     ]
    },
    {
     "name": "stdout",
     "output_type": "stream",
     "text": [
      "[0.05056080994829343, 0.10878128424775307, 'postact', True, 2.9999999999927884, 3.5507246376802954]\n",
      "50\n",
      "\n",
      "0.05056080994829343 0.10878128424775307 postact\n"
     ]
    },
    {
     "name": "stderr",
     "output_type": "stream",
     "text": [
      "description: 100%|█████████████████████████████████████████████| 2000/2000 [00:11<00:00, 173.37it/s]\n"
     ]
    },
    {
     "name": "stdout",
     "output_type": "stream",
     "text": [
      "[0.05056080994829343, 0.10878128424775307, 'postact', False, 2.7252953815083227, 3.1491089923759725]\n",
      "51\n",
      "\n"
     ]
    },
    {
     "name": "stderr",
     "output_type": "stream",
     "text": [
      "description: 100%|█████████████████████████████████████████████| 2000/2000 [00:11<00:00, 173.27it/s]\n"
     ]
    },
    {
     "name": "stdout",
     "output_type": "stream",
     "text": [
      "[0.05056080994829343, 0.10878128424775307, 'postact', False, 2.3841080942015718, 2.6716444803320845]\n",
      "52\n",
      "\n"
     ]
    },
    {
     "name": "stderr",
     "output_type": "stream",
     "text": [
      "description: 100%|█████████████████████████████████████████████| 2000/2000 [00:11<00:00, 173.54it/s]\n"
     ]
    },
    {
     "name": "stdout",
     "output_type": "stream",
     "text": [
      "[0.05056080994829343, 0.10878128424775307, 'postact', False, 2.5460791518722754, 2.8604871742967246]\n",
      "53\n",
      "\n"
     ]
    },
    {
     "name": "stderr",
     "output_type": "stream",
     "text": [
      "description: 100%|█████████████████████████████████████████████| 2000/2000 [00:11<00:00, 174.18it/s]\n"
     ]
    },
    {
     "name": "stdout",
     "output_type": "stream",
     "text": [
      "[0.05056080994829343, 0.10878128424775307, 'postact', False, 2.219012419382731, 2.499390422434047]\n",
      "54\n",
      "\n"
     ]
    },
    {
     "name": "stderr",
     "output_type": "stream",
     "text": [
      "description: 100%|█████████████████████████████████████████████| 2000/2000 [00:11<00:00, 174.15it/s]\n"
     ]
    },
    {
     "name": "stdout",
     "output_type": "stream",
     "text": [
      "[0.05056080994829343, 0.10878128424775307, 'postact', False, 2.336858123972796, 2.606637274009594]\n",
      "55\n",
      "\n",
      "0.05056080994829343 0.10878128424775307 dropout\n"
     ]
    },
    {
     "name": "stderr",
     "output_type": "stream",
     "text": [
      "description: 100%|█████████████████████████████████████████████| 2000/2000 [00:09<00:00, 207.87it/s]\n"
     ]
    },
    {
     "name": "stdout",
     "output_type": "stream",
     "text": [
      "[0.05056080994829343, 0.10878128424775307, 'dropout', True, 2.311599499937417, 2.5780711329501607]\n",
      "56\n",
      "\n"
     ]
    },
    {
     "name": "stderr",
     "output_type": "stream",
     "text": [
      "description: 100%|█████████████████████████████████████████████| 2000/2000 [00:09<00:00, 207.64it/s]\n"
     ]
    },
    {
     "name": "stdout",
     "output_type": "stream",
     "text": [
      "[0.05056080994829343, 0.10878128424775307, 'dropout', True, 2.2450105012327, 2.597500422726507]\n",
      "57\n",
      "\n"
     ]
    },
    {
     "name": "stderr",
     "output_type": "stream",
     "text": [
      "description: 100%|█████████████████████████████████████████████| 2000/2000 [00:09<00:00, 210.58it/s]\n"
     ]
    },
    {
     "name": "stdout",
     "output_type": "stream",
     "text": [
      "[0.05056080994829343, 0.10878128424775307, 'dropout', True, 2.332137918126756, 2.6401906652726987]\n",
      "58\n",
      "\n"
     ]
    },
    {
     "name": "stderr",
     "output_type": "stream",
     "text": [
      "description: 100%|█████████████████████████████████████████████| 2000/2000 [00:09<00:00, 207.48it/s]\n"
     ]
    },
    {
     "name": "stdout",
     "output_type": "stream",
     "text": [
      "[0.05056080994829343, 0.10878128424775307, 'dropout', True, 2.1157038064970486, 2.5021389239076255]\n",
      "59\n",
      "\n"
     ]
    },
    {
     "name": "stderr",
     "output_type": "stream",
     "text": [
      "description: 100%|█████████████████████████████████████████████| 2000/2000 [00:09<00:00, 208.33it/s]\n"
     ]
    },
    {
     "name": "stdout",
     "output_type": "stream",
     "text": [
      "[0.05056080994829343, 0.10878128424775307, 'dropout', True, 2.999999924098481, 3.550724633070174]\n",
      "60\n",
      "\n",
      "0.05056080994829343 0.10878128424775307 dropout\n"
     ]
    },
    {
     "name": "stderr",
     "output_type": "stream",
     "text": [
      "description: 100%|█████████████████████████████████████████████| 2000/2000 [00:09<00:00, 205.83it/s]\n"
     ]
    },
    {
     "name": "stdout",
     "output_type": "stream",
     "text": [
      "[0.05056080994829343, 0.10878128424775307, 'dropout', False, 2.7569663362012333, 3.1552704522464268]\n",
      "61\n",
      "\n"
     ]
    },
    {
     "name": "stderr",
     "output_type": "stream",
     "text": [
      "description: 100%|█████████████████████████████████████████████| 2000/2000 [00:09<00:00, 208.44it/s]\n"
     ]
    },
    {
     "name": "stdout",
     "output_type": "stream",
     "text": [
      "[0.05056080994829343, 0.10878128424775307, 'dropout', False, 2.340411773626355, 2.669484556585118]\n",
      "62\n",
      "\n"
     ]
    },
    {
     "name": "stderr",
     "output_type": "stream",
     "text": [
      "description: 100%|█████████████████████████████████████████████| 2000/2000 [00:09<00:00, 209.97it/s]\n"
     ]
    },
    {
     "name": "stdout",
     "output_type": "stream",
     "text": [
      "[0.05056080994829343, 0.10878128424775307, 'dropout', False, 2.4813368959703306, 2.8098408553911294]\n",
      "63\n",
      "\n"
     ]
    },
    {
     "name": "stderr",
     "output_type": "stream",
     "text": [
      "description: 100%|█████████████████████████████████████████████| 2000/2000 [00:09<00:00, 208.55it/s]\n"
     ]
    },
    {
     "name": "stdout",
     "output_type": "stream",
     "text": [
      "[0.05056080994829343, 0.10878128424775307, 'dropout', False, 2.152943133444026, 2.634411853292714]\n",
      "64\n",
      "\n"
     ]
    },
    {
     "name": "stderr",
     "output_type": "stream",
     "text": [
      "description: 100%|█████████████████████████████████████████████| 2000/2000 [00:09<00:00, 209.17it/s]\n"
     ]
    },
    {
     "name": "stdout",
     "output_type": "stream",
     "text": [
      "[0.05056080994829343, 0.10878128424775307, 'dropout', False, 2.99999989690983, 3.550724631607713]\n",
      "65\n",
      "\n",
      "0.017878398687375396 0.028126029181731682 postspline\n"
     ]
    },
    {
     "name": "stderr",
     "output_type": "stream",
     "text": [
      "description: 100%|█████████████████████████████████████████████| 2000/2000 [00:11<00:00, 173.08it/s]\n"
     ]
    },
    {
     "name": "stdout",
     "output_type": "stream",
     "text": [
      "[0.017878398687375396, 0.028126029181731682, 'postspline', True, 2.747897202304597, 3.710828692432759]\n",
      "66\n",
      "\n"
     ]
    },
    {
     "name": "stderr",
     "output_type": "stream",
     "text": [
      "description: 100%|█████████████████████████████████████████████| 2000/2000 [00:11<00:00, 173.06it/s]\n"
     ]
    },
    {
     "name": "stdout",
     "output_type": "stream",
     "text": [
      "[0.017878398687375396, 0.028126029181731682, 'postspline', True, 2.9999999999998668, 3.723769031630116]\n",
      "67\n",
      "\n"
     ]
    },
    {
     "name": "stderr",
     "output_type": "stream",
     "text": [
      "description: 100%|█████████████████████████████████████████████| 2000/2000 [00:11<00:00, 173.36it/s]\n"
     ]
    },
    {
     "name": "stdout",
     "output_type": "stream",
     "text": [
      "[0.017878398687375396, 0.028126029181731682, 'postspline', True, 2.446269531180893, 2.7320650798687036]\n",
      "68\n",
      "\n"
     ]
    },
    {
     "name": "stderr",
     "output_type": "stream",
     "text": [
      "description: 100%|█████████████████████████████████████████████| 2000/2000 [00:11<00:00, 170.52it/s]\n"
     ]
    },
    {
     "name": "stdout",
     "output_type": "stream",
     "text": [
      "[0.017878398687375396, 0.028126029181731682, 'postspline', True, 2.1889345265816953, 2.848143762436466]\n",
      "69\n",
      "\n"
     ]
    },
    {
     "name": "stderr",
     "output_type": "stream",
     "text": [
      "description: 100%|█████████████████████████████████████████████| 2000/2000 [00:11<00:00, 172.80it/s]\n"
     ]
    },
    {
     "name": "stdout",
     "output_type": "stream",
     "text": [
      "[0.017878398687375396, 0.028126029181731682, 'postspline', True, 2.999926263866722, 3.6754266204976767]\n",
      "70\n",
      "\n",
      "0.017878398687375396 0.028126029181731682 postspline\n"
     ]
    },
    {
     "name": "stderr",
     "output_type": "stream",
     "text": [
      "description: 100%|█████████████████████████████████████████████| 2000/2000 [00:11<00:00, 174.64it/s]\n"
     ]
    },
    {
     "name": "stdout",
     "output_type": "stream",
     "text": [
      "[0.017878398687375396, 0.028126029181731682, 'postspline', False, 2.7690537498370147, 3.690415725880589]\n",
      "71\n",
      "\n"
     ]
    },
    {
     "name": "stderr",
     "output_type": "stream",
     "text": [
      "description: 100%|█████████████████████████████████████████████| 2000/2000 [00:11<00:00, 172.26it/s]\n"
     ]
    },
    {
     "name": "stdout",
     "output_type": "stream",
     "text": [
      "[0.017878398687375396, 0.028126029181731682, 'postspline', False, 2.9999999999998663, 3.734624029096319]\n",
      "72\n",
      "\n"
     ]
    },
    {
     "name": "stderr",
     "output_type": "stream",
     "text": [
      "description: 100%|█████████████████████████████████████████████| 2000/2000 [00:11<00:00, 172.20it/s]\n"
     ]
    },
    {
     "name": "stdout",
     "output_type": "stream",
     "text": [
      "[0.017878398687375396, 0.028126029181731682, 'postspline', False, 2.507295734640481, 2.791277830151544]\n",
      "73\n",
      "\n"
     ]
    },
    {
     "name": "stderr",
     "output_type": "stream",
     "text": [
      "description: 100%|█████████████████████████████████████████████| 2000/2000 [00:11<00:00, 171.54it/s]\n"
     ]
    },
    {
     "name": "stdout",
     "output_type": "stream",
     "text": [
      "[0.017878398687375396, 0.028126029181731682, 'postspline', False, 2.2043632597163105, 2.8840416980826338]\n",
      "74\n",
      "\n"
     ]
    },
    {
     "name": "stderr",
     "output_type": "stream",
     "text": [
      "description: 100%|█████████████████████████████████████████████| 2000/2000 [00:11<00:00, 172.55it/s]\n"
     ]
    },
    {
     "name": "stdout",
     "output_type": "stream",
     "text": [
      "[0.017878398687375396, 0.028126029181731682, 'postspline', False, 2.9999266001617064, 3.6754266522693646]\n",
      "75\n",
      "\n",
      "0.017878398687375396 0.028126029181731682 postact\n"
     ]
    },
    {
     "name": "stderr",
     "output_type": "stream",
     "text": [
      "description: 100%|█████████████████████████████████████████████| 2000/2000 [00:11<00:00, 172.91it/s]\n"
     ]
    },
    {
     "name": "stdout",
     "output_type": "stream",
     "text": [
      "[0.017878398687375396, 0.028126029181731682, 'postact', True, 2.708550918956952, 3.1504253763845202]\n",
      "76\n",
      "\n"
     ]
    },
    {
     "name": "stderr",
     "output_type": "stream",
     "text": [
      "description: 100%|█████████████████████████████████████████████| 2000/2000 [00:11<00:00, 172.48it/s]\n"
     ]
    },
    {
     "name": "stdout",
     "output_type": "stream",
     "text": [
      "[0.017878398687375396, 0.028126029181731682, 'postact', True, 2.315594540126082, 2.624657905620077]\n",
      "77\n",
      "\n"
     ]
    },
    {
     "name": "stderr",
     "output_type": "stream",
     "text": [
      "description: 100%|█████████████████████████████████████████████| 2000/2000 [00:11<00:00, 172.39it/s]\n"
     ]
    },
    {
     "name": "stdout",
     "output_type": "stream",
     "text": [
      "[0.017878398687375396, 0.028126029181731682, 'postact', True, 2.395587126413981, 2.5854525047799815]\n",
      "78\n",
      "\n"
     ]
    },
    {
     "name": "stderr",
     "output_type": "stream",
     "text": [
      "description: 100%|█████████████████████████████████████████████| 2000/2000 [00:11<00:00, 172.42it/s]\n"
     ]
    },
    {
     "name": "stdout",
     "output_type": "stream",
     "text": [
      "[0.017878398687375396, 0.028126029181731682, 'postact', True, 2.1888359042181484, 2.718080085256825]\n",
      "79\n",
      "\n"
     ]
    },
    {
     "name": "stderr",
     "output_type": "stream",
     "text": [
      "description: 100%|█████████████████████████████████████████████| 2000/2000 [00:11<00:00, 172.44it/s]\n"
     ]
    },
    {
     "name": "stdout",
     "output_type": "stream",
     "text": [
      "[0.017878398687375396, 0.028126029181731682, 'postact', True, 2.999999988905636, 3.5507246365208394]\n",
      "80\n",
      "\n",
      "0.017878398687375396 0.028126029181731682 postact\n"
     ]
    },
    {
     "name": "stderr",
     "output_type": "stream",
     "text": [
      "description: 100%|█████████████████████████████████████████████| 2000/2000 [00:11<00:00, 174.22it/s]\n"
     ]
    },
    {
     "name": "stdout",
     "output_type": "stream",
     "text": [
      "[0.017878398687375396, 0.028126029181731682, 'postact', False, 2.705380758695908, 3.1795054230761317]\n",
      "81\n",
      "\n"
     ]
    },
    {
     "name": "stderr",
     "output_type": "stream",
     "text": [
      "description: 100%|█████████████████████████████████████████████| 2000/2000 [00:11<00:00, 174.02it/s]\n"
     ]
    },
    {
     "name": "stdout",
     "output_type": "stream",
     "text": [
      "[0.017878398687375396, 0.028126029181731682, 'postact', False, 2.3423652337945025, 2.6620442279870957]\n",
      "82\n",
      "\n"
     ]
    },
    {
     "name": "stderr",
     "output_type": "stream",
     "text": [
      "description: 100%|█████████████████████████████████████████████| 2000/2000 [00:11<00:00, 174.29it/s]\n"
     ]
    },
    {
     "name": "stdout",
     "output_type": "stream",
     "text": [
      "[0.017878398687375396, 0.028126029181731682, 'postact', False, 2.4907194842462954, 2.7873845860578013]\n",
      "83\n",
      "\n"
     ]
    },
    {
     "name": "stderr",
     "output_type": "stream",
     "text": [
      "description: 100%|█████████████████████████████████████████████| 2000/2000 [00:11<00:00, 174.39it/s]\n"
     ]
    },
    {
     "name": "stdout",
     "output_type": "stream",
     "text": [
      "[0.017878398687375396, 0.028126029181731682, 'postact', False, 2.2186258841251982, 2.715906291768171]\n",
      "84\n",
      "\n"
     ]
    },
    {
     "name": "stderr",
     "output_type": "stream",
     "text": [
      "description: 100%|█████████████████████████████████████████████| 2000/2000 [00:11<00:00, 173.79it/s]\n"
     ]
    },
    {
     "name": "stdout",
     "output_type": "stream",
     "text": [
      "[0.017878398687375396, 0.028126029181731682, 'postact', False, 2.99999998886376, 3.5507246365147704]\n",
      "85\n",
      "\n",
      "0.017878398687375396 0.028126029181731682 dropout\n"
     ]
    },
    {
     "name": "stderr",
     "output_type": "stream",
     "text": [
      "description: 100%|█████████████████████████████████████████████| 2000/2000 [00:09<00:00, 208.61it/s]\n"
     ]
    },
    {
     "name": "stdout",
     "output_type": "stream",
     "text": [
      "[0.017878398687375396, 0.028126029181731682, 'dropout', True, 2.8594647054169426, 2.929918587255238]\n",
      "86\n",
      "\n"
     ]
    },
    {
     "name": "stderr",
     "output_type": "stream",
     "text": [
      "description: 100%|█████████████████████████████████████████████| 2000/2000 [00:09<00:00, 207.20it/s]\n"
     ]
    },
    {
     "name": "stdout",
     "output_type": "stream",
     "text": [
      "[0.017878398687375396, 0.028126029181731682, 'dropout', True, 2.2905526506728022, 2.624604232069375]\n",
      "87\n",
      "\n"
     ]
    },
    {
     "name": "stderr",
     "output_type": "stream",
     "text": [
      "description: 100%|█████████████████████████████████████████████| 2000/2000 [00:09<00:00, 207.77it/s]\n"
     ]
    },
    {
     "name": "stdout",
     "output_type": "stream",
     "text": [
      "[0.017878398687375396, 0.028126029181731682, 'dropout', True, 2.4267855001532515, 2.7087207376093105]\n",
      "88\n",
      "\n"
     ]
    },
    {
     "name": "stderr",
     "output_type": "stream",
     "text": [
      "description: 100%|█████████████████████████████████████████████| 2000/2000 [00:09<00:00, 210.30it/s]\n"
     ]
    },
    {
     "name": "stdout",
     "output_type": "stream",
     "text": [
      "[0.017878398687375396, 0.028126029181731682, 'dropout', True, 2.184859844221585, 2.6732979546422544]\n",
      "89\n",
      "\n"
     ]
    },
    {
     "name": "stderr",
     "output_type": "stream",
     "text": [
      "description: 100%|█████████████████████████████████████████████| 2000/2000 [00:09<00:00, 208.57it/s]\n"
     ]
    },
    {
     "name": "stdout",
     "output_type": "stream",
     "text": [
      "[0.017878398687375396, 0.028126029181731682, 'dropout', True, 2.999969838310907, 3.550723651106514]\n",
      "90\n",
      "\n",
      "0.017878398687375396 0.028126029181731682 dropout\n"
     ]
    },
    {
     "name": "stderr",
     "output_type": "stream",
     "text": [
      "description: 100%|█████████████████████████████████████████████| 2000/2000 [00:09<00:00, 211.66it/s]\n"
     ]
    },
    {
     "name": "stdout",
     "output_type": "stream",
     "text": [
      "[0.017878398687375396, 0.028126029181731682, 'dropout', False, 2.784362845761323, 2.9827220816180584]\n",
      "91\n",
      "\n"
     ]
    },
    {
     "name": "stderr",
     "output_type": "stream",
     "text": [
      "description: 100%|█████████████████████████████████████████████| 2000/2000 [00:09<00:00, 207.91it/s]\n"
     ]
    },
    {
     "name": "stdout",
     "output_type": "stream",
     "text": [
      "[0.017878398687375396, 0.028126029181731682, 'dropout', False, 2.323515122351439, 2.670488979505456]\n",
      "92\n",
      "\n"
     ]
    },
    {
     "name": "stderr",
     "output_type": "stream",
     "text": [
      "description: 100%|█████████████████████████████████████████████| 2000/2000 [00:09<00:00, 208.57it/s]\n"
     ]
    },
    {
     "name": "stdout",
     "output_type": "stream",
     "text": [
      "[0.017878398687375396, 0.028126029181731682, 'dropout', False, 2.4604613608208257, 2.780094533726789]\n",
      "93\n",
      "\n"
     ]
    },
    {
     "name": "stderr",
     "output_type": "stream",
     "text": [
      "description: 100%|█████████████████████████████████████████████| 2000/2000 [00:09<00:00, 210.22it/s]\n"
     ]
    },
    {
     "name": "stdout",
     "output_type": "stream",
     "text": [
      "[0.017878398687375396, 0.028126029181731682, 'dropout', False, 2.2107908743015234, 2.5927150957826255]\n",
      "94\n",
      "\n"
     ]
    },
    {
     "name": "stderr",
     "output_type": "stream",
     "text": [
      "description: 100%|█████████████████████████████████████████████| 2000/2000 [00:09<00:00, 211.11it/s]\n"
     ]
    },
    {
     "name": "stdout",
     "output_type": "stream",
     "text": [
      "[0.017878398687375396, 0.028126029181731682, 'dropout', False, 2.999968970908671, 3.5507236329906697]\n",
      "95\n",
      "\n",
      "0.13519667534580904 0.4556222990956101 postspline\n"
     ]
    },
    {
     "name": "stderr",
     "output_type": "stream",
     "text": [
      "description: 100%|█████████████████████████████████████████████| 2000/2000 [00:11<00:00, 173.42it/s]\n"
     ]
    },
    {
     "name": "stdout",
     "output_type": "stream",
     "text": [
      "[0.13519667534580904, 0.4556222990956101, 'postspline', True, 2.664691741959549, 3.5542967941621395]\n",
      "96\n",
      "\n"
     ]
    },
    {
     "name": "stderr",
     "output_type": "stream",
     "text": [
      "description: 100%|█████████████████████████████████████████████| 2000/2000 [00:11<00:00, 173.23it/s]\n"
     ]
    },
    {
     "name": "stdout",
     "output_type": "stream",
     "text": [
      "[0.13519667534580904, 0.4556222990956101, 'postspline', True, 2.999999999999884, 3.740324793402469]\n",
      "97\n",
      "\n"
     ]
    },
    {
     "name": "stderr",
     "output_type": "stream",
     "text": [
      "description: 100%|█████████████████████████████████████████████| 2000/2000 [00:11<00:00, 173.04it/s]\n"
     ]
    },
    {
     "name": "stdout",
     "output_type": "stream",
     "text": [
      "[0.13519667534580904, 0.4556222990956101, 'postspline', True, 2.437231135541114, 2.636391788289167]\n",
      "98\n",
      "\n"
     ]
    },
    {
     "name": "stderr",
     "output_type": "stream",
     "text": [
      "description: 100%|█████████████████████████████████████████████| 2000/2000 [00:11<00:00, 173.35it/s]\n"
     ]
    },
    {
     "name": "stdout",
     "output_type": "stream",
     "text": [
      "[0.13519667534580904, 0.4556222990956101, 'postspline', True, 2.205409868903782, 2.874809009441431]\n",
      "99\n",
      "\n"
     ]
    },
    {
     "name": "stderr",
     "output_type": "stream",
     "text": [
      "description: 100%|█████████████████████████████████████████████| 2000/2000 [00:11<00:00, 172.03it/s]\n"
     ]
    },
    {
     "name": "stdout",
     "output_type": "stream",
     "text": [
      "[0.13519667534580904, 0.4556222990956101, 'postspline', True, 2.999966816682176, 3.6754325178484093]\n",
      "100\n",
      "\n",
      "0.13519667534580904 0.4556222990956101 postspline\n"
     ]
    },
    {
     "name": "stderr",
     "output_type": "stream",
     "text": [
      "description: 100%|█████████████████████████████████████████████| 2000/2000 [00:11<00:00, 174.90it/s]\n"
     ]
    },
    {
     "name": "stdout",
     "output_type": "stream",
     "text": [
      "[0.13519667534580904, 0.4556222990956101, 'postspline', False, 2.7974899272616, 3.635574568098797]\n",
      "101\n",
      "\n"
     ]
    },
    {
     "name": "stderr",
     "output_type": "stream",
     "text": [
      "description: 100%|█████████████████████████████████████████████| 2000/2000 [00:11<00:00, 172.70it/s]\n"
     ]
    },
    {
     "name": "stdout",
     "output_type": "stream",
     "text": [
      "[0.13519667534580904, 0.4556222990956101, 'postspline', False, 2.999999999999878, 3.758314213493044]\n",
      "102\n",
      "\n"
     ]
    },
    {
     "name": "stderr",
     "output_type": "stream",
     "text": [
      "description: 100%|█████████████████████████████████████████████| 2000/2000 [00:11<00:00, 171.45it/s]\n"
     ]
    },
    {
     "name": "stdout",
     "output_type": "stream",
     "text": [
      "[0.13519667534580904, 0.4556222990956101, 'postspline', False, 2.4589584288389785, 2.7560713515765425]\n",
      "103\n",
      "\n"
     ]
    },
    {
     "name": "stderr",
     "output_type": "stream",
     "text": [
      "description: 100%|█████████████████████████████████████████████| 2000/2000 [00:11<00:00, 169.51it/s]\n"
     ]
    },
    {
     "name": "stdout",
     "output_type": "stream",
     "text": [
      "[0.13519667534580904, 0.4556222990956101, 'postspline', False, 2.200449039970619, 2.8812073901079702]\n",
      "104\n",
      "\n"
     ]
    },
    {
     "name": "stderr",
     "output_type": "stream",
     "text": [
      "description: 100%|█████████████████████████████████████████████| 2000/2000 [00:11<00:00, 172.26it/s]\n"
     ]
    },
    {
     "name": "stdout",
     "output_type": "stream",
     "text": [
      "[0.13519667534580904, 0.4556222990956101, 'postspline', False, 2.999970796056746, 3.675432754819494]\n",
      "105\n",
      "\n",
      "0.13519667534580904 0.4556222990956101 postact\n"
     ]
    },
    {
     "name": "stderr",
     "output_type": "stream",
     "text": [
      "description: 100%|█████████████████████████████████████████████| 2000/2000 [00:11<00:00, 171.85it/s]\n"
     ]
    },
    {
     "name": "stdout",
     "output_type": "stream",
     "text": [
      "[0.13519667534580904, 0.4556222990956101, 'postact', True, 2.8352700980404806, 3.2818467744637223]\n",
      "106\n",
      "\n"
     ]
    },
    {
     "name": "stderr",
     "output_type": "stream",
     "text": [
      "description: 100%|█████████████████████████████████████████████| 2000/2000 [00:11<00:00, 172.14it/s]\n"
     ]
    },
    {
     "name": "stdout",
     "output_type": "stream",
     "text": [
      "[0.13519667534580904, 0.4556222990956101, 'postact', True, 2.1720667662827866, 2.638481965963391]\n",
      "107\n",
      "\n"
     ]
    },
    {
     "name": "stderr",
     "output_type": "stream",
     "text": [
      "description: 100%|█████████████████████████████████████████████| 2000/2000 [00:11<00:00, 172.26it/s]\n"
     ]
    },
    {
     "name": "stdout",
     "output_type": "stream",
     "text": [
      "[0.13519667534580904, 0.4556222990956101, 'postact', True, 2.2002453406651816, 2.5108878457027934]\n",
      "108\n",
      "\n"
     ]
    },
    {
     "name": "stderr",
     "output_type": "stream",
     "text": [
      "description: 100%|█████████████████████████████████████████████| 2000/2000 [00:11<00:00, 172.72it/s]\n"
     ]
    },
    {
     "name": "stdout",
     "output_type": "stream",
     "text": [
      "[0.13519667534580904, 0.4556222990956101, 'postact', True, 2.245609705430874, 2.7256551531777866]\n",
      "109\n",
      "\n"
     ]
    },
    {
     "name": "stderr",
     "output_type": "stream",
     "text": [
      "description: 100%|█████████████████████████████████████████████| 2000/2000 [00:11<00:00, 173.02it/s]\n"
     ]
    },
    {
     "name": "stdout",
     "output_type": "stream",
     "text": [
      "[0.13519667534580904, 0.4556222990956101, 'postact', True, 2.999999999999998, 3.550724637681159]\n",
      "110\n",
      "\n",
      "0.13519667534580904 0.4556222990956101 postact\n"
     ]
    },
    {
     "name": "stderr",
     "output_type": "stream",
     "text": [
      "description: 100%|█████████████████████████████████████████████| 2000/2000 [00:11<00:00, 174.29it/s]\n"
     ]
    },
    {
     "name": "stdout",
     "output_type": "stream",
     "text": [
      "[0.13519667534580904, 0.4556222990956101, 'postact', False, 2.394780471285745, 2.8213621846842547]\n",
      "111\n",
      "\n"
     ]
    },
    {
     "name": "stderr",
     "output_type": "stream",
     "text": [
      "description: 100%|█████████████████████████████████████████████| 2000/2000 [00:11<00:00, 173.92it/s]\n"
     ]
    },
    {
     "name": "stdout",
     "output_type": "stream",
     "text": [
      "[0.13519667534580904, 0.4556222990956101, 'postact', False, 2.49899194897085, 2.8082829869311787]\n",
      "112\n",
      "\n"
     ]
    },
    {
     "name": "stderr",
     "output_type": "stream",
     "text": [
      "description: 100%|█████████████████████████████████████████████| 2000/2000 [00:11<00:00, 173.85it/s]\n"
     ]
    },
    {
     "name": "stdout",
     "output_type": "stream",
     "text": [
      "[0.13519667534580904, 0.4556222990956101, 'postact', False, 3.2740477029828057, 3.788719947787299]\n",
      "113\n",
      "\n"
     ]
    },
    {
     "name": "stderr",
     "output_type": "stream",
     "text": [
      "description: 100%|█████████████████████████████████████████████| 2000/2000 [00:11<00:00, 174.29it/s]\n"
     ]
    },
    {
     "name": "stdout",
     "output_type": "stream",
     "text": [
      "[0.13519667534580904, 0.4556222990956101, 'postact', False, 2.2218873276226763, 2.7122831206390825]\n",
      "114\n",
      "\n"
     ]
    },
    {
     "name": "stderr",
     "output_type": "stream",
     "text": [
      "description: 100%|█████████████████████████████████████████████| 2000/2000 [00:11<00:00, 174.09it/s]\n"
     ]
    },
    {
     "name": "stdout",
     "output_type": "stream",
     "text": [
      "[0.13519667534580904, 0.4556222990956101, 'postact', False, 2.1196273237034893, 2.6164488170457925]\n",
      "115\n",
      "\n",
      "0.13519667534580904 0.4556222990956101 dropout\n"
     ]
    },
    {
     "name": "stderr",
     "output_type": "stream",
     "text": [
      "description: 100%|█████████████████████████████████████████████| 2000/2000 [00:09<00:00, 208.31it/s]\n"
     ]
    },
    {
     "name": "stdout",
     "output_type": "stream",
     "text": [
      "[0.13519667534580904, 0.4556222990956101, 'dropout', True, 2.886945692606401, 3.3859271622475404]\n",
      "116\n",
      "\n"
     ]
    },
    {
     "name": "stderr",
     "output_type": "stream",
     "text": [
      "description: 100%|█████████████████████████████████████████████| 2000/2000 [00:09<00:00, 208.55it/s]\n"
     ]
    },
    {
     "name": "stdout",
     "output_type": "stream",
     "text": [
      "[0.13519667534580904, 0.4556222990956101, 'dropout', True, 2.190534746301347, 2.6076546700104424]\n",
      "117\n",
      "\n"
     ]
    },
    {
     "name": "stderr",
     "output_type": "stream",
     "text": [
      "description: 100%|█████████████████████████████████████████████| 2000/2000 [00:09<00:00, 208.48it/s]\n"
     ]
    },
    {
     "name": "stdout",
     "output_type": "stream",
     "text": [
      "[0.13519667534580904, 0.4556222990956101, 'dropout', True, 2.902333112819053, 3.4360657770713727]\n",
      "118\n",
      "\n"
     ]
    },
    {
     "name": "stderr",
     "output_type": "stream",
     "text": [
      "description: 100%|█████████████████████████████████████████████| 2000/2000 [00:09<00:00, 208.43it/s]\n"
     ]
    },
    {
     "name": "stdout",
     "output_type": "stream",
     "text": [
      "[0.13519667534580904, 0.4556222990956101, 'dropout', True, 2.3720735514509506, 2.8963074476822563]\n",
      "119\n",
      "\n"
     ]
    },
    {
     "name": "stderr",
     "output_type": "stream",
     "text": [
      "description: 100%|█████████████████████████████████████████████| 2000/2000 [00:09<00:00, 208.46it/s]\n"
     ]
    },
    {
     "name": "stdout",
     "output_type": "stream",
     "text": [
      "[0.13519667534580904, 0.4556222990956101, 'dropout', True, 2.999999999894348, 3.5507246376735146]\n",
      "120\n",
      "\n",
      "0.13519667534580904 0.4556222990956101 dropout\n"
     ]
    },
    {
     "name": "stderr",
     "output_type": "stream",
     "text": [
      "description: 100%|█████████████████████████████████████████████| 2000/2000 [00:09<00:00, 209.77it/s]\n"
     ]
    },
    {
     "name": "stdout",
     "output_type": "stream",
     "text": [
      "[0.13519667534580904, 0.4556222990956101, 'dropout', False, 2.7924118744507704, 3.2384471615452184]\n",
      "121\n",
      "\n"
     ]
    },
    {
     "name": "stderr",
     "output_type": "stream",
     "text": [
      "description: 100%|█████████████████████████████████████████████| 2000/2000 [00:09<00:00, 208.47it/s]\n"
     ]
    },
    {
     "name": "stdout",
     "output_type": "stream",
     "text": [
      "[0.13519667534580904, 0.4556222990956101, 'dropout', False, 2.403448034023893, 2.6767301421234575]\n",
      "122\n",
      "\n"
     ]
    },
    {
     "name": "stderr",
     "output_type": "stream",
     "text": [
      "description: 100%|█████████████████████████████████████████████| 2000/2000 [00:09<00:00, 210.50it/s]\n"
     ]
    },
    {
     "name": "stdout",
     "output_type": "stream",
     "text": [
      "[0.13519667534580904, 0.4556222990956101, 'dropout', False, 2.3172705881837485, 2.70228101723436]\n",
      "123\n",
      "\n"
     ]
    },
    {
     "name": "stderr",
     "output_type": "stream",
     "text": [
      "description: 100%|█████████████████████████████████████████████| 2000/2000 [00:09<00:00, 208.55it/s]\n"
     ]
    },
    {
     "name": "stdout",
     "output_type": "stream",
     "text": [
      "[0.13519667534580904, 0.4556222990956101, 'dropout', False, 2.1060380469197812, 2.613587949586951]\n",
      "124\n",
      "\n"
     ]
    },
    {
     "name": "stderr",
     "output_type": "stream",
     "text": [
      "description: 100%|█████████████████████████████████████████████| 2000/2000 [00:09<00:00, 209.85it/s]\n"
     ]
    },
    {
     "name": "stdout",
     "output_type": "stream",
     "text": [
      "[0.13519667534580904, 0.4556222990956101, 'dropout', False, 2.9999999996723905, 3.550724637658389]\n",
      "125\n",
      "\n",
      "0.47197903108929795 0.34220721076243843 postspline\n"
     ]
    },
    {
     "name": "stderr",
     "output_type": "stream",
     "text": [
      "description: 100%|█████████████████████████████████████████████| 2000/2000 [00:11<00:00, 173.38it/s]\n"
     ]
    },
    {
     "name": "stdout",
     "output_type": "stream",
     "text": [
      "[0.47197903108929795, 0.34220721076243843, 'postspline', True, 2.711650425651643, 3.594862044439682]\n",
      "126\n",
      "\n"
     ]
    },
    {
     "name": "stderr",
     "output_type": "stream",
     "text": [
      "description: 100%|█████████████████████████████████████████████| 2000/2000 [00:11<00:00, 172.97it/s]\n"
     ]
    },
    {
     "name": "stdout",
     "output_type": "stream",
     "text": [
      "[0.47197903108929795, 0.34220721076243843, 'postspline', True, 2.9999999999998823, 3.7655991802866096]\n",
      "127\n",
      "\n"
     ]
    },
    {
     "name": "stderr",
     "output_type": "stream",
     "text": [
      "description: 100%|█████████████████████████████████████████████| 2000/2000 [00:11<00:00, 173.37it/s]\n"
     ]
    },
    {
     "name": "stdout",
     "output_type": "stream",
     "text": [
      "[0.47197903108929795, 0.34220721076243843, 'postspline', True, 2.4160179107085518, 2.715398529301519]\n",
      "128\n",
      "\n"
     ]
    },
    {
     "name": "stderr",
     "output_type": "stream",
     "text": [
      "description: 100%|█████████████████████████████████████████████| 2000/2000 [00:11<00:00, 173.45it/s]\n"
     ]
    },
    {
     "name": "stdout",
     "output_type": "stream",
     "text": [
      "[0.47197903108929795, 0.34220721076243843, 'postspline', True, 2.1962092752042026, 2.9059633863145025]\n",
      "129\n",
      "\n"
     ]
    },
    {
     "name": "stderr",
     "output_type": "stream",
     "text": [
      "description: 100%|█████████████████████████████████████████████| 2000/2000 [00:11<00:00, 172.72it/s]\n"
     ]
    },
    {
     "name": "stdout",
     "output_type": "stream",
     "text": [
      "[0.47197903108929795, 0.34220721076243843, 'postspline', True, 2.9999562490315093, 3.6754320344932503]\n",
      "130\n",
      "\n",
      "0.47197903108929795 0.34220721076243843 postspline\n"
     ]
    },
    {
     "name": "stderr",
     "output_type": "stream",
     "text": [
      "description: 100%|█████████████████████████████████████████████| 2000/2000 [00:11<00:00, 174.68it/s]\n"
     ]
    },
    {
     "name": "stdout",
     "output_type": "stream",
     "text": [
      "[0.47197903108929795, 0.34220721076243843, 'postspline', False, 2.733763456311302, 3.57370251286915]\n",
      "131\n",
      "\n"
     ]
    },
    {
     "name": "stderr",
     "output_type": "stream",
     "text": [
      "description: 100%|█████████████████████████████████████████████| 2000/2000 [00:11<00:00, 172.88it/s]\n"
     ]
    },
    {
     "name": "stdout",
     "output_type": "stream",
     "text": [
      "[0.47197903108929795, 0.34220721076243843, 'postspline', False, 2.999999999999878, 3.7576388738635074]\n",
      "132\n",
      "\n"
     ]
    },
    {
     "name": "stderr",
     "output_type": "stream",
     "text": [
      "description: 100%|█████████████████████████████████████████████| 2000/2000 [00:11<00:00, 172.25it/s]\n"
     ]
    },
    {
     "name": "stdout",
     "output_type": "stream",
     "text": [
      "[0.47197903108929795, 0.34220721076243843, 'postspline', False, 2.415360043878141, 2.665732902029286]\n",
      "133\n",
      "\n"
     ]
    },
    {
     "name": "stderr",
     "output_type": "stream",
     "text": [
      "description: 100%|█████████████████████████████████████████████| 2000/2000 [00:11<00:00, 172.67it/s]\n"
     ]
    },
    {
     "name": "stdout",
     "output_type": "stream",
     "text": [
      "[0.47197903108929795, 0.34220721076243843, 'postspline', False, 2.1990528089412744, 2.8881396659906358]\n",
      "134\n",
      "\n"
     ]
    },
    {
     "name": "stderr",
     "output_type": "stream",
     "text": [
      "description: 100%|█████████████████████████████████████████████| 2000/2000 [00:11<00:00, 172.40it/s]\n"
     ]
    },
    {
     "name": "stdout",
     "output_type": "stream",
     "text": [
      "[0.47197903108929795, 0.34220721076243843, 'postspline', False, 2.9999624633931794, 3.67543240261997]\n",
      "135\n",
      "\n",
      "0.47197903108929795 0.34220721076243843 postact\n"
     ]
    },
    {
     "name": "stderr",
     "output_type": "stream",
     "text": [
      "description: 100%|█████████████████████████████████████████████| 2000/2000 [00:11<00:00, 172.64it/s]\n"
     ]
    },
    {
     "name": "stdout",
     "output_type": "stream",
     "text": [
      "[0.47197903108929795, 0.34220721076243843, 'postact', True, 2.8722122990209535, 3.368871470274553]\n",
      "136\n",
      "\n"
     ]
    },
    {
     "name": "stderr",
     "output_type": "stream",
     "text": [
      "description: 100%|█████████████████████████████████████████████| 2000/2000 [00:11<00:00, 172.80it/s]\n"
     ]
    },
    {
     "name": "stdout",
     "output_type": "stream",
     "text": [
      "[0.47197903108929795, 0.34220721076243843, 'postact', True, 2.2749012017595596, 2.7324205947958906]\n",
      "137\n",
      "\n"
     ]
    },
    {
     "name": "stderr",
     "output_type": "stream",
     "text": [
      "description: 100%|█████████████████████████████████████████████| 2000/2000 [00:11<00:00, 172.91it/s]\n"
     ]
    },
    {
     "name": "stdout",
     "output_type": "stream",
     "text": [
      "[0.47197903108929795, 0.34220721076243843, 'postact', True, 2.2500622790792715, 2.697922063910443]\n",
      "138\n",
      "\n"
     ]
    },
    {
     "name": "stderr",
     "output_type": "stream",
     "text": [
      "description: 100%|█████████████████████████████████████████████| 2000/2000 [00:11<00:00, 172.68it/s]\n"
     ]
    },
    {
     "name": "stdout",
     "output_type": "stream",
     "text": [
      "[0.47197903108929795, 0.34220721076243843, 'postact', True, 2.404945136844248, 2.915976697983949]\n",
      "139\n",
      "\n"
     ]
    },
    {
     "name": "stderr",
     "output_type": "stream",
     "text": [
      "description: 100%|█████████████████████████████████████████████| 2000/2000 [00:11<00:00, 172.92it/s]\n"
     ]
    },
    {
     "name": "stdout",
     "output_type": "stream",
     "text": [
      "[0.47197903108929795, 0.34220721076243843, 'postact', True, 2.1533440921617593, 2.615383396977964]\n",
      "140\n",
      "\n",
      "0.47197903108929795 0.34220721076243843 postact\n"
     ]
    },
    {
     "name": "stderr",
     "output_type": "stream",
     "text": [
      "description: 100%|█████████████████████████████████████████████| 2000/2000 [00:11<00:00, 174.22it/s]\n"
     ]
    },
    {
     "name": "stdout",
     "output_type": "stream",
     "text": [
      "[0.47197903108929795, 0.34220721076243843, 'postact', False, 2.849986513455709, 3.1397076102270596]\n",
      "141\n",
      "\n"
     ]
    },
    {
     "name": "stderr",
     "output_type": "stream",
     "text": [
      "description: 100%|█████████████████████████████████████████████| 2000/2000 [00:11<00:00, 174.28it/s]\n"
     ]
    },
    {
     "name": "stdout",
     "output_type": "stream",
     "text": [
      "[0.47197903108929795, 0.34220721076243843, 'postact', False, 2.3073465098505435, 2.8410620032877163]\n",
      "142\n",
      "\n"
     ]
    },
    {
     "name": "stderr",
     "output_type": "stream",
     "text": [
      "description: 100%|█████████████████████████████████████████████| 2000/2000 [00:11<00:00, 173.64it/s]\n"
     ]
    },
    {
     "name": "stdout",
     "output_type": "stream",
     "text": [
      "[0.47197903108929795, 0.34220721076243843, 'postact', False, 3.8480959145919136, 3.982306466586348]\n",
      "143\n",
      "\n"
     ]
    },
    {
     "name": "stderr",
     "output_type": "stream",
     "text": [
      "description: 100%|█████████████████████████████████████████████| 2000/2000 [00:11<00:00, 174.40it/s]\n"
     ]
    },
    {
     "name": "stdout",
     "output_type": "stream",
     "text": [
      "[0.47197903108929795, 0.34220721076243843, 'postact', False, 2.0687764554783916, 2.5823449207388838]\n",
      "144\n",
      "\n"
     ]
    },
    {
     "name": "stderr",
     "output_type": "stream",
     "text": [
      "description: 100%|█████████████████████████████████████████████| 2000/2000 [00:11<00:00, 174.19it/s]\n"
     ]
    },
    {
     "name": "stdout",
     "output_type": "stream",
     "text": [
      "[0.47197903108929795, 0.34220721076243843, 'postact', False, 2.2826327983883843, 2.7229852140813633]\n",
      "145\n",
      "\n",
      "0.47197903108929795 0.34220721076243843 dropout\n"
     ]
    },
    {
     "name": "stderr",
     "output_type": "stream",
     "text": [
      "description: 100%|█████████████████████████████████████████████| 2000/2000 [00:09<00:00, 206.88it/s]\n"
     ]
    },
    {
     "name": "stdout",
     "output_type": "stream",
     "text": [
      "[0.47197903108929795, 0.34220721076243843, 'dropout', True, 2.863996109559635, 3.34527518267316]\n",
      "146\n",
      "\n"
     ]
    },
    {
     "name": "stderr",
     "output_type": "stream",
     "text": [
      "description: 100%|█████████████████████████████████████████████| 2000/2000 [00:09<00:00, 209.02it/s]\n"
     ]
    },
    {
     "name": "stdout",
     "output_type": "stream",
     "text": [
      "[0.47197903108929795, 0.34220721076243843, 'dropout', True, 2.4592324167058086, 2.9482706469902094]\n",
      "147\n",
      "\n"
     ]
    },
    {
     "name": "stderr",
     "output_type": "stream",
     "text": [
      "description: 100%|█████████████████████████████████████████████| 2000/2000 [00:09<00:00, 206.76it/s]\n"
     ]
    },
    {
     "name": "stdout",
     "output_type": "stream",
     "text": [
      "[0.47197903108929795, 0.34220721076243843, 'dropout', True, 2.2136534677035566, 2.66370583789936]\n",
      "148\n",
      "\n"
     ]
    },
    {
     "name": "stderr",
     "output_type": "stream",
     "text": [
      "description: 100%|█████████████████████████████████████████████| 2000/2000 [00:09<00:00, 204.46it/s]\n"
     ]
    },
    {
     "name": "stdout",
     "output_type": "stream",
     "text": [
      "[0.47197903108929795, 0.34220721076243843, 'dropout', True, 2.4560665884527606, 2.961889828028886]\n",
      "149\n",
      "\n"
     ]
    },
    {
     "name": "stderr",
     "output_type": "stream",
     "text": [
      "description: 100%|█████████████████████████████████████████████| 2000/2000 [00:09<00:00, 207.90it/s]\n"
     ]
    },
    {
     "name": "stdout",
     "output_type": "stream",
     "text": [
      "[0.47197903108929795, 0.34220721076243843, 'dropout', True, 2.999999999999999, 3.550724637681159]\n",
      "150\n",
      "\n",
      "0.47197903108929795 0.34220721076243843 dropout\n"
     ]
    },
    {
     "name": "stderr",
     "output_type": "stream",
     "text": [
      "description: 100%|█████████████████████████████████████████████| 2000/2000 [00:09<00:00, 210.86it/s]\n"
     ]
    },
    {
     "name": "stdout",
     "output_type": "stream",
     "text": [
      "[0.47197903108929795, 0.34220721076243843, 'dropout', False, 2.5411900679270425, 2.882325697636259]\n",
      "151\n",
      "\n"
     ]
    },
    {
     "name": "stderr",
     "output_type": "stream",
     "text": [
      "description: 100%|█████████████████████████████████████████████| 2000/2000 [00:09<00:00, 208.79it/s]\n"
     ]
    },
    {
     "name": "stdout",
     "output_type": "stream",
     "text": [
      "[0.47197903108929795, 0.34220721076243843, 'dropout', False, 2.2956601277641626, 2.576808405959088]\n",
      "152\n",
      "\n"
     ]
    },
    {
     "name": "stderr",
     "output_type": "stream",
     "text": [
      "description: 100%|█████████████████████████████████████████████| 2000/2000 [00:09<00:00, 208.21it/s]\n"
     ]
    },
    {
     "name": "stdout",
     "output_type": "stream",
     "text": [
      "[0.47197903108929795, 0.34220721076243843, 'dropout', False, 2.3258771015250166, 2.642941443816475]\n",
      "153\n",
      "\n"
     ]
    },
    {
     "name": "stderr",
     "output_type": "stream",
     "text": [
      "description: 100%|█████████████████████████████████████████████| 2000/2000 [00:10<00:00, 197.88it/s]\n"
     ]
    },
    {
     "name": "stdout",
     "output_type": "stream",
     "text": [
      "[0.47197903108929795, 0.34220721076243843, 'dropout', False, 2.241941804471223, 2.522768436998561]\n",
      "154\n",
      "\n"
     ]
    },
    {
     "name": "stderr",
     "output_type": "stream",
     "text": [
      "description: 100%|█████████████████████████████████████████████| 2000/2000 [00:09<00:00, 205.81it/s]\n"
     ]
    },
    {
     "name": "stdout",
     "output_type": "stream",
     "text": [
      "[0.47197903108929795, 0.34220721076243843, 'dropout', False, 2.9999999999999725, 3.5434988581615925]\n",
      "155\n",
      "\n",
      "0.4730154943607337 0.4996780628070253 postspline\n"
     ]
    },
    {
     "name": "stderr",
     "output_type": "stream",
     "text": [
      "description: 100%|█████████████████████████████████████████████| 2000/2000 [00:12<00:00, 163.71it/s]\n"
     ]
    },
    {
     "name": "stdout",
     "output_type": "stream",
     "text": [
      "[0.4730154943607337, 0.4996780628070253, 'postspline', True, 2.6855376945989, 3.5547124967416104]\n",
      "156\n",
      "\n"
     ]
    },
    {
     "name": "stderr",
     "output_type": "stream",
     "text": [
      "description: 100%|█████████████████████████████████████████████| 2000/2000 [00:11<00:00, 172.06it/s]\n"
     ]
    },
    {
     "name": "stdout",
     "output_type": "stream",
     "text": [
      "[0.4730154943607337, 0.4996780628070253, 'postspline', True, 2.9999999999998854, 3.750286889342008]\n",
      "157\n",
      "\n"
     ]
    },
    {
     "name": "stderr",
     "output_type": "stream",
     "text": [
      "description: 100%|█████████████████████████████████████████████| 2000/2000 [00:11<00:00, 170.88it/s]\n"
     ]
    },
    {
     "name": "stdout",
     "output_type": "stream",
     "text": [
      "[0.4730154943607337, 0.4996780628070253, 'postspline', True, 2.4162704780481863, 2.703155163405598]\n",
      "158\n",
      "\n"
     ]
    },
    {
     "name": "stderr",
     "output_type": "stream",
     "text": [
      "description: 100%|█████████████████████████████████████████████| 2000/2000 [00:11<00:00, 171.95it/s]\n"
     ]
    },
    {
     "name": "stdout",
     "output_type": "stream",
     "text": [
      "[0.4730154943607337, 0.4996780628070253, 'postspline', True, 2.1964403079903643, 2.882236097169959]\n",
      "159\n",
      "\n"
     ]
    },
    {
     "name": "stderr",
     "output_type": "stream",
     "text": [
      "description: 100%|█████████████████████████████████████████████| 2000/2000 [00:11<00:00, 171.95it/s]\n"
     ]
    },
    {
     "name": "stdout",
     "output_type": "stream",
     "text": [
      "[0.4730154943607337, 0.4996780628070253, 'postspline', True, 2.9999699011989476, 3.6754326790873364]\n",
      "160\n",
      "\n",
      "0.4730154943607337 0.4996780628070253 postspline\n"
     ]
    },
    {
     "name": "stderr",
     "output_type": "stream",
     "text": [
      "description: 100%|█████████████████████████████████████████████| 2000/2000 [00:11<00:00, 172.02it/s]\n"
     ]
    },
    {
     "name": "stdout",
     "output_type": "stream",
     "text": [
      "[0.4730154943607337, 0.4996780628070253, 'postspline', False, 2.3475233803245565, 3.3902867935633103]\n",
      "161\n",
      "\n"
     ]
    },
    {
     "name": "stderr",
     "output_type": "stream",
     "text": [
      "description: 100%|█████████████████████████████████████████████| 2000/2000 [00:12<00:00, 165.45it/s]\n"
     ]
    },
    {
     "name": "stdout",
     "output_type": "stream",
     "text": [
      "[0.4730154943607337, 0.4996780628070253, 'postspline', False, 2.999999999999878, 3.730682453849343]\n",
      "162\n",
      "\n"
     ]
    },
    {
     "name": "stderr",
     "output_type": "stream",
     "text": [
      "description: 100%|█████████████████████████████████████████████| 2000/2000 [00:11<00:00, 169.38it/s]\n"
     ]
    },
    {
     "name": "stdout",
     "output_type": "stream",
     "text": [
      "[0.4730154943607337, 0.4996780628070253, 'postspline', False, 2.318525300509688, 2.620459765627764]\n",
      "163\n",
      "\n"
     ]
    },
    {
     "name": "stderr",
     "output_type": "stream",
     "text": [
      "description: 100%|█████████████████████████████████████████████| 2000/2000 [00:12<00:00, 164.66it/s]\n"
     ]
    },
    {
     "name": "stdout",
     "output_type": "stream",
     "text": [
      "[0.4730154943607337, 0.4996780628070253, 'postspline', False, 2.1972364653711733, 2.8977427689925483]\n",
      "164\n",
      "\n"
     ]
    },
    {
     "name": "stderr",
     "output_type": "stream",
     "text": [
      "description: 100%|█████████████████████████████████████████████| 2000/2000 [00:11<00:00, 168.12it/s]\n"
     ]
    },
    {
     "name": "stdout",
     "output_type": "stream",
     "text": [
      "[0.4730154943607337, 0.4996780628070253, 'postspline', False, 2.9999735112923274, 3.675432862744618]\n",
      "165\n",
      "\n",
      "0.4730154943607337 0.4996780628070253 postact\n"
     ]
    },
    {
     "name": "stderr",
     "output_type": "stream",
     "text": [
      "description: 100%|█████████████████████████████████████████████| 2000/2000 [00:11<00:00, 169.55it/s]\n"
     ]
    },
    {
     "name": "stdout",
     "output_type": "stream",
     "text": [
      "[0.4730154943607337, 0.4996780628070253, 'postact', True, 2.931514319742238, 3.44002239076008]\n",
      "166\n",
      "\n"
     ]
    },
    {
     "name": "stderr",
     "output_type": "stream",
     "text": [
      "description: 100%|█████████████████████████████████████████████| 2000/2000 [00:11<00:00, 171.33it/s]\n"
     ]
    },
    {
     "name": "stdout",
     "output_type": "stream",
     "text": [
      "[0.4730154943607337, 0.4996780628070253, 'postact', True, 2.3382219577181167, 2.809885625390039]\n",
      "167\n",
      "\n"
     ]
    },
    {
     "name": "stderr",
     "output_type": "stream",
     "text": [
      "description: 100%|█████████████████████████████████████████████| 2000/2000 [00:11<00:00, 172.17it/s]\n"
     ]
    },
    {
     "name": "stdout",
     "output_type": "stream",
     "text": [
      "[0.4730154943607337, 0.4996780628070253, 'postact', True, 2.7605085270271044, 3.2669646850855854]\n",
      "168\n",
      "\n"
     ]
    },
    {
     "name": "stderr",
     "output_type": "stream",
     "text": [
      "description: 100%|█████████████████████████████████████████████| 2000/2000 [00:11<00:00, 172.28it/s]\n"
     ]
    },
    {
     "name": "stdout",
     "output_type": "stream",
     "text": [
      "[0.4730154943607337, 0.4996780628070253, 'postact', True, 2.527443743918253, 3.034701291633689]\n",
      "169\n",
      "\n"
     ]
    },
    {
     "name": "stderr",
     "output_type": "stream",
     "text": [
      "description: 100%|█████████████████████████████████████████████| 2000/2000 [00:12<00:00, 163.36it/s]\n"
     ]
    },
    {
     "name": "stdout",
     "output_type": "stream",
     "text": [
      "[0.4730154943607337, 0.4996780628070253, 'postact', True, 2.168137092521225, 2.646875265715779]\n",
      "170\n",
      "\n",
      "0.4730154943607337 0.4996780628070253 postact\n"
     ]
    },
    {
     "name": "stderr",
     "output_type": "stream",
     "text": [
      "description: 100%|█████████████████████████████████████████████| 2000/2000 [00:11<00:00, 173.68it/s]\n"
     ]
    },
    {
     "name": "stdout",
     "output_type": "stream",
     "text": [
      "[0.4730154943607337, 0.4996780628070253, 'postact', False, 2.6644897599151167, 3.0679715042528897]\n",
      "171\n",
      "\n"
     ]
    },
    {
     "name": "stderr",
     "output_type": "stream",
     "text": [
      "description: 100%|█████████████████████████████████████████████| 2000/2000 [00:11<00:00, 173.61it/s]\n"
     ]
    },
    {
     "name": "stdout",
     "output_type": "stream",
     "text": [
      "[0.4730154943607337, 0.4996780628070253, 'postact', False, 3.4853940355604975, 4.167821251827737]\n",
      "172\n",
      "\n"
     ]
    },
    {
     "name": "stderr",
     "output_type": "stream",
     "text": [
      "description: 100%|█████████████████████████████████████████████| 2000/2000 [00:11<00:00, 173.80it/s]\n"
     ]
    },
    {
     "name": "stdout",
     "output_type": "stream",
     "text": [
      "[0.4730154943607337, 0.4996780628070253, 'postact', False, 5.957434440004652, 5.924924732982248]\n",
      "173\n",
      "\n"
     ]
    },
    {
     "name": "stderr",
     "output_type": "stream",
     "text": [
      "description: 100%|█████████████████████████████████████████████| 2000/2000 [00:11<00:00, 173.32it/s]\n"
     ]
    },
    {
     "name": "stdout",
     "output_type": "stream",
     "text": [
      "[0.4730154943607337, 0.4996780628070253, 'postact', False, 2.848926409431126, 3.2354345528975776]\n",
      "174\n",
      "\n"
     ]
    },
    {
     "name": "stderr",
     "output_type": "stream",
     "text": [
      "description: 100%|█████████████████████████████████████████████| 2000/2000 [00:11<00:00, 173.79it/s]\n"
     ]
    },
    {
     "name": "stdout",
     "output_type": "stream",
     "text": [
      "[0.4730154943607337, 0.4996780628070253, 'postact', False, 2.3420896651088325, 2.6811553930890732]\n",
      "175\n",
      "\n",
      "0.4730154943607337 0.4996780628070253 dropout\n"
     ]
    },
    {
     "name": "stderr",
     "output_type": "stream",
     "text": [
      "description: 100%|█████████████████████████████████████████████| 2000/2000 [00:09<00:00, 208.07it/s]\n"
     ]
    },
    {
     "name": "stdout",
     "output_type": "stream",
     "text": [
      "[0.4730154943607337, 0.4996780628070253, 'dropout', True, 2.8885057202940447, 3.3950601641609466]\n",
      "176\n",
      "\n"
     ]
    },
    {
     "name": "stderr",
     "output_type": "stream",
     "text": [
      "description: 100%|█████████████████████████████████████████████| 2000/2000 [00:09<00:00, 207.56it/s]\n"
     ]
    },
    {
     "name": "stdout",
     "output_type": "stream",
     "text": [
      "[0.4730154943607337, 0.4996780628070253, 'dropout', True, 2.9980317015404103, 3.518181913776717]\n",
      "177\n",
      "\n"
     ]
    },
    {
     "name": "stderr",
     "output_type": "stream",
     "text": [
      "description: 100%|█████████████████████████████████████████████| 2000/2000 [00:09<00:00, 208.56it/s]\n"
     ]
    },
    {
     "name": "stdout",
     "output_type": "stream",
     "text": [
      "[0.4730154943607337, 0.4996780628070253, 'dropout', True, 2.729508630226664, 3.1711825522175734]\n",
      "178\n",
      "\n"
     ]
    },
    {
     "name": "stderr",
     "output_type": "stream",
     "text": [
      "description: 100%|█████████████████████████████████████████████| 2000/2000 [00:09<00:00, 207.86it/s]\n"
     ]
    },
    {
     "name": "stdout",
     "output_type": "stream",
     "text": [
      "[0.4730154943607337, 0.4996780628070253, 'dropout', True, 2.4784085156692974, 2.978845104791116]\n",
      "179\n",
      "\n"
     ]
    },
    {
     "name": "stderr",
     "output_type": "stream",
     "text": [
      "description: 100%|█████████████████████████████████████████████| 2000/2000 [00:09<00:00, 206.96it/s]\n"
     ]
    },
    {
     "name": "stdout",
     "output_type": "stream",
     "text": [
      "[0.4730154943607337, 0.4996780628070253, 'dropout', True, 2.9999999999999996, 3.550724637681159]\n",
      "180\n",
      "\n",
      "0.4730154943607337 0.4996780628070253 dropout\n"
     ]
    },
    {
     "name": "stderr",
     "output_type": "stream",
     "text": [
      "description: 100%|█████████████████████████████████████████████| 2000/2000 [00:09<00:00, 209.51it/s]\n"
     ]
    },
    {
     "name": "stdout",
     "output_type": "stream",
     "text": [
      "[0.4730154943607337, 0.4996780628070253, 'dropout', False, 2.7342013786442867, 3.213355596582981]\n",
      "181\n",
      "\n"
     ]
    },
    {
     "name": "stderr",
     "output_type": "stream",
     "text": [
      "description: 100%|█████████████████████████████████████████████| 2000/2000 [00:09<00:00, 208.43it/s]\n"
     ]
    },
    {
     "name": "stdout",
     "output_type": "stream",
     "text": [
      "[0.4730154943607337, 0.4996780628070253, 'dropout', False, 2.528478447785865, 3.0777294918212728]\n",
      "182\n",
      "\n"
     ]
    },
    {
     "name": "stderr",
     "output_type": "stream",
     "text": [
      "description: 100%|█████████████████████████████████████████████| 2000/2000 [00:09<00:00, 208.16it/s]\n"
     ]
    },
    {
     "name": "stdout",
     "output_type": "stream",
     "text": [
      "[0.4730154943607337, 0.4996780628070253, 'dropout', False, 2.5193864124408667, 2.780551229698071]\n",
      "183\n",
      "\n"
     ]
    },
    {
     "name": "stderr",
     "output_type": "stream",
     "text": [
      "description: 100%|█████████████████████████████████████████████| 2000/2000 [00:09<00:00, 208.67it/s]\n"
     ]
    },
    {
     "name": "stdout",
     "output_type": "stream",
     "text": [
      "[0.4730154943607337, 0.4996780628070253, 'dropout', False, 2.1656890407852503, 2.681498028229976]\n",
      "184\n",
      "\n"
     ]
    },
    {
     "name": "stderr",
     "output_type": "stream",
     "text": [
      "description: 100%|█████████████████████████████████████████████| 2000/2000 [00:09<00:00, 206.56it/s]\n"
     ]
    },
    {
     "name": "stdout",
     "output_type": "stream",
     "text": [
      "[0.4730154943607337, 0.4996780628070253, 'dropout', False, 2.999999999999973, 3.5401159058446448]\n",
      "185\n",
      "\n",
      "0.47672632312442165 0.04833878241837136 postspline\n"
     ]
    },
    {
     "name": "stderr",
     "output_type": "stream",
     "text": [
      "description: 100%|█████████████████████████████████████████████| 2000/2000 [00:11<00:00, 172.32it/s]\n"
     ]
    },
    {
     "name": "stdout",
     "output_type": "stream",
     "text": [
      "[0.47672632312442165, 0.04833878241837136, 'postspline', True, 2.7724703905269417, 3.5796230563345666]\n",
      "186\n",
      "\n"
     ]
    },
    {
     "name": "stderr",
     "output_type": "stream",
     "text": [
      "description: 100%|█████████████████████████████████████████████| 2000/2000 [00:11<00:00, 172.36it/s]\n"
     ]
    },
    {
     "name": "stdout",
     "output_type": "stream",
     "text": [
      "[0.47672632312442165, 0.04833878241837136, 'postspline', True, 2.99999999999987, 3.716353260729477]\n",
      "187\n",
      "\n"
     ]
    },
    {
     "name": "stderr",
     "output_type": "stream",
     "text": [
      "description: 100%|█████████████████████████████████████████████| 2000/2000 [00:11<00:00, 172.81it/s]\n"
     ]
    },
    {
     "name": "stdout",
     "output_type": "stream",
     "text": [
      "[0.47672632312442165, 0.04833878241837136, 'postspline', True, 2.4271329883216084, 2.6634971767232036]\n",
      "188\n",
      "\n"
     ]
    },
    {
     "name": "stderr",
     "output_type": "stream",
     "text": [
      "description: 100%|█████████████████████████████████████████████| 2000/2000 [00:11<00:00, 172.63it/s]\n"
     ]
    },
    {
     "name": "stdout",
     "output_type": "stream",
     "text": [
      "[0.47672632312442165, 0.04833878241837136, 'postspline', True, 2.20610613408296, 2.8383225185283716]\n",
      "189\n",
      "\n"
     ]
    },
    {
     "name": "stderr",
     "output_type": "stream",
     "text": [
      "description: 100%|█████████████████████████████████████████████| 2000/2000 [00:11<00:00, 171.14it/s]\n"
     ]
    },
    {
     "name": "stdout",
     "output_type": "stream",
     "text": [
      "[0.47672632312442165, 0.04833878241837136, 'postspline', True, 2.999926425540241, 3.6754266470831816]\n",
      "190\n",
      "\n",
      "0.47672632312442165 0.04833878241837136 postspline\n"
     ]
    },
    {
     "name": "stderr",
     "output_type": "stream",
     "text": [
      "description: 100%|█████████████████████████████████████████████| 2000/2000 [00:11<00:00, 173.59it/s]\n"
     ]
    },
    {
     "name": "stdout",
     "output_type": "stream",
     "text": [
      "[0.47672632312442165, 0.04833878241837136, 'postspline', False, 2.889794876717449, 3.87475313706105]\n",
      "191\n",
      "\n"
     ]
    },
    {
     "name": "stderr",
     "output_type": "stream",
     "text": [
      "description: 100%|█████████████████████████████████████████████| 2000/2000 [00:11<00:00, 172.18it/s]\n"
     ]
    },
    {
     "name": "stdout",
     "output_type": "stream",
     "text": [
      "[0.47672632312442165, 0.04833878241837136, 'postspline', False, 2.99999999999987, 3.6293699808197277]\n",
      "192\n",
      "\n"
     ]
    },
    {
     "name": "stderr",
     "output_type": "stream",
     "text": [
      "description: 100%|█████████████████████████████████████████████| 2000/2000 [00:11<00:00, 172.20it/s]\n"
     ]
    },
    {
     "name": "stdout",
     "output_type": "stream",
     "text": [
      "[0.47672632312442165, 0.04833878241837136, 'postspline', False, 2.4174142799515654, 2.7126741737559223]\n",
      "193\n",
      "\n"
     ]
    },
    {
     "name": "stderr",
     "output_type": "stream",
     "text": [
      "description: 100%|█████████████████████████████████████████████| 2000/2000 [00:11<00:00, 172.15it/s]\n"
     ]
    },
    {
     "name": "stdout",
     "output_type": "stream",
     "text": [
      "[0.47672632312442165, 0.04833878241837136, 'postspline', False, 2.204335008842358, 2.84541736651158]\n",
      "194\n",
      "\n"
     ]
    },
    {
     "name": "stderr",
     "output_type": "stream",
     "text": [
      "description: 100%|█████████████████████████████████████████████| 2000/2000 [00:11<00:00, 171.77it/s]\n"
     ]
    },
    {
     "name": "stdout",
     "output_type": "stream",
     "text": [
      "[0.47672632312442165, 0.04833878241837136, 'postspline', False, 2.99992703358511, 3.6754267018858284]\n",
      "195\n",
      "\n",
      "0.47672632312442165 0.04833878241837136 postact\n"
     ]
    },
    {
     "name": "stderr",
     "output_type": "stream",
     "text": [
      "description: 100%|█████████████████████████████████████████████| 2000/2000 [00:11<00:00, 171.92it/s]\n"
     ]
    },
    {
     "name": "stdout",
     "output_type": "stream",
     "text": [
      "[0.47672632312442165, 0.04833878241837136, 'postact', True, 2.8114988194060446, 3.333383238249681]\n",
      "196\n",
      "\n"
     ]
    },
    {
     "name": "stderr",
     "output_type": "stream",
     "text": [
      "description: 100%|█████████████████████████████████████████████| 2000/2000 [00:11<00:00, 170.48it/s]\n"
     ]
    },
    {
     "name": "stdout",
     "output_type": "stream",
     "text": [
      "[0.47672632312442165, 0.04833878241837136, 'postact', True, 2.1746771940286607, 2.544002570967743]\n",
      "197\n",
      "\n"
     ]
    },
    {
     "name": "stderr",
     "output_type": "stream",
     "text": [
      "description: 100%|█████████████████████████████████████████████| 2000/2000 [00:11<00:00, 172.14it/s]\n"
     ]
    },
    {
     "name": "stdout",
     "output_type": "stream",
     "text": [
      "[0.47672632312442165, 0.04833878241837136, 'postact', True, 2.220905219299206, 2.5083200637845025]\n",
      "198\n",
      "\n"
     ]
    },
    {
     "name": "stderr",
     "output_type": "stream",
     "text": [
      "description: 100%|█████████████████████████████████████████████| 2000/2000 [00:11<00:00, 172.29it/s]\n"
     ]
    },
    {
     "name": "stdout",
     "output_type": "stream",
     "text": [
      "[0.47672632312442165, 0.04833878241837136, 'postact', True, 2.325223984925643, 2.8047213662361754]\n",
      "199\n",
      "\n"
     ]
    },
    {
     "name": "stderr",
     "output_type": "stream",
     "text": [
      "description: 100%|█████████████████████████████████████████████| 2000/2000 [00:11<00:00, 172.07it/s]\n"
     ]
    },
    {
     "name": "stdout",
     "output_type": "stream",
     "text": [
      "[0.47672632312442165, 0.04833878241837136, 'postact', True, 2.1695052696310957, 2.553838119990584]\n",
      "200\n",
      "\n",
      "0.47672632312442165 0.04833878241837136 postact\n"
     ]
    },
    {
     "name": "stderr",
     "output_type": "stream",
     "text": [
      "description: 100%|█████████████████████████████████████████████| 2000/2000 [00:11<00:00, 173.68it/s]\n"
     ]
    },
    {
     "name": "stdout",
     "output_type": "stream",
     "text": [
      "[0.47672632312442165, 0.04833878241837136, 'postact', False, 2.647736293682154, 2.9012556058773096]\n",
      "201\n",
      "\n"
     ]
    },
    {
     "name": "stderr",
     "output_type": "stream",
     "text": [
      "description: 100%|█████████████████████████████████████████████| 2000/2000 [00:11<00:00, 173.51it/s]\n"
     ]
    },
    {
     "name": "stdout",
     "output_type": "stream",
     "text": [
      "[0.47672632312442165, 0.04833878241837136, 'postact', False, 2.8057937967604487, 3.1370502243871274]\n",
      "202\n",
      "\n"
     ]
    },
    {
     "name": "stderr",
     "output_type": "stream",
     "text": [
      "description: 100%|█████████████████████████████████████████████| 2000/2000 [00:11<00:00, 173.94it/s]\n"
     ]
    },
    {
     "name": "stdout",
     "output_type": "stream",
     "text": [
      "[0.47672632312442165, 0.04833878241837136, 'postact', False, 3.501078384509985, 3.705888699794161]\n",
      "203\n",
      "\n"
     ]
    },
    {
     "name": "stderr",
     "output_type": "stream",
     "text": [
      "description: 100%|█████████████████████████████████████████████| 2000/2000 [00:11<00:00, 173.81it/s]\n"
     ]
    },
    {
     "name": "stdout",
     "output_type": "stream",
     "text": [
      "[0.47672632312442165, 0.04833878241837136, 'postact', False, 2.1768833744353144, 2.576998423838961]\n",
      "204\n",
      "\n"
     ]
    },
    {
     "name": "stderr",
     "output_type": "stream",
     "text": [
      "description: 100%|█████████████████████████████████████████████| 2000/2000 [00:11<00:00, 173.89it/s]\n"
     ]
    },
    {
     "name": "stdout",
     "output_type": "stream",
     "text": [
      "[0.47672632312442165, 0.04833878241837136, 'postact', False, 2.5078185675800713, 2.7109495384105737]\n",
      "205\n",
      "\n",
      "0.47672632312442165 0.04833878241837136 dropout\n"
     ]
    },
    {
     "name": "stderr",
     "output_type": "stream",
     "text": [
      "description: 100%|█████████████████████████████████████████████| 2000/2000 [00:09<00:00, 206.53it/s]\n"
     ]
    },
    {
     "name": "stdout",
     "output_type": "stream",
     "text": [
      "[0.47672632312442165, 0.04833878241837136, 'dropout', True, 2.29255768786306, 2.878469595874565]\n",
      "206\n",
      "\n"
     ]
    },
    {
     "name": "stderr",
     "output_type": "stream",
     "text": [
      "description: 100%|█████████████████████████████████████████████| 2000/2000 [00:09<00:00, 206.48it/s]\n"
     ]
    },
    {
     "name": "stdout",
     "output_type": "stream",
     "text": [
      "[0.47672632312442165, 0.04833878241837136, 'dropout', True, 2.1795645788096, 2.622157825939897]\n",
      "207\n",
      "\n"
     ]
    },
    {
     "name": "stderr",
     "output_type": "stream",
     "text": [
      "description: 100%|█████████████████████████████████████████████| 2000/2000 [00:09<00:00, 207.19it/s]\n"
     ]
    },
    {
     "name": "stdout",
     "output_type": "stream",
     "text": [
      "[0.47672632312442165, 0.04833878241837136, 'dropout', True, 2.2410862895025723, 2.545223959978076]\n",
      "208\n",
      "\n"
     ]
    },
    {
     "name": "stderr",
     "output_type": "stream",
     "text": [
      "description: 100%|█████████████████████████████████████████████| 2000/2000 [00:09<00:00, 207.89it/s]\n"
     ]
    },
    {
     "name": "stdout",
     "output_type": "stream",
     "text": [
      "[0.47672632312442165, 0.04833878241837136, 'dropout', True, 2.2396543837975766, 2.711509913638018]\n",
      "209\n",
      "\n"
     ]
    },
    {
     "name": "stderr",
     "output_type": "stream",
     "text": [
      "description: 100%|█████████████████████████████████████████████| 2000/2000 [00:10<00:00, 194.60it/s]\n"
     ]
    },
    {
     "name": "stdout",
     "output_type": "stream",
     "text": [
      "[0.47672632312442165, 0.04833878241837136, 'dropout', True, 3.000000000000011, 3.527427141262756]\n",
      "210\n",
      "\n",
      "0.47672632312442165 0.04833878241837136 dropout\n"
     ]
    },
    {
     "name": "stderr",
     "output_type": "stream",
     "text": [
      "description: 100%|█████████████████████████████████████████████| 2000/2000 [00:10<00:00, 192.07it/s]\n"
     ]
    },
    {
     "name": "stdout",
     "output_type": "stream",
     "text": [
      "[0.47672632312442165, 0.04833878241837136, 'dropout', False, 2.8142964252527207, 3.1284868924514107]\n",
      "211\n",
      "\n"
     ]
    },
    {
     "name": "stderr",
     "output_type": "stream",
     "text": [
      "description: 100%|█████████████████████████████████████████████| 2000/2000 [00:10<00:00, 183.93it/s]\n"
     ]
    },
    {
     "name": "stdout",
     "output_type": "stream",
     "text": [
      "[0.47672632312442165, 0.04833878241837136, 'dropout', False, 2.414115624151368, 2.647991719453231]\n",
      "212\n",
      "\n"
     ]
    },
    {
     "name": "stderr",
     "output_type": "stream",
     "text": [
      "description: 100%|█████████████████████████████████████████████| 2000/2000 [00:10<00:00, 184.60it/s]\n"
     ]
    },
    {
     "name": "stdout",
     "output_type": "stream",
     "text": [
      "[0.47672632312442165, 0.04833878241837136, 'dropout', False, 2.9283911076144897, 3.152769202771394]\n",
      "213\n",
      "\n"
     ]
    },
    {
     "name": "stderr",
     "output_type": "stream",
     "text": [
      "description: 100%|█████████████████████████████████████████████| 2000/2000 [00:10<00:00, 189.63it/s]\n"
     ]
    },
    {
     "name": "stdout",
     "output_type": "stream",
     "text": [
      "[0.47672632312442165, 0.04833878241837136, 'dropout', False, 2.2827084824658823, 2.59992696236873]\n",
      "214\n",
      "\n"
     ]
    },
    {
     "name": "stderr",
     "output_type": "stream",
     "text": [
      "description: 100%|█████████████████████████████████████████████| 2000/2000 [00:10<00:00, 198.27it/s]\n"
     ]
    },
    {
     "name": "stdout",
     "output_type": "stream",
     "text": [
      "[0.47672632312442165, 0.04833878241837136, 'dropout', False, 2.316250206767649, 2.549919943878616]\n",
      "215\n",
      "\n",
      "0.07810593291522194 0.15524212607847993 postspline\n"
     ]
    },
    {
     "name": "stderr",
     "output_type": "stream",
     "text": [
      "description: 100%|█████████████████████████████████████████████| 2000/2000 [00:12<00:00, 157.85it/s]\n"
     ]
    },
    {
     "name": "stdout",
     "output_type": "stream",
     "text": [
      "[0.07810593291522194, 0.15524212607847993, 'postspline', True, 2.914373919133032, 3.784475638537253]\n",
      "216\n",
      "\n"
     ]
    },
    {
     "name": "stderr",
     "output_type": "stream",
     "text": [
      "description: 100%|█████████████████████████████████████████████| 2000/2000 [00:11<00:00, 170.10it/s]\n"
     ]
    },
    {
     "name": "stdout",
     "output_type": "stream",
     "text": [
      "[0.07810593291522194, 0.15524212607847993, 'postspline', True, 2.9999999999998703, 3.730040629488069]\n",
      "217\n",
      "\n"
     ]
    },
    {
     "name": "stderr",
     "output_type": "stream",
     "text": [
      "description: 100%|█████████████████████████████████████████████| 2000/2000 [00:12<00:00, 162.10it/s]\n"
     ]
    },
    {
     "name": "stdout",
     "output_type": "stream",
     "text": [
      "[0.07810593291522194, 0.15524212607847993, 'postspline', True, 2.416501573894335, 2.7169462131417315]\n",
      "218\n",
      "\n"
     ]
    },
    {
     "name": "stderr",
     "output_type": "stream",
     "text": [
      "description: 100%|█████████████████████████████████████████████| 2000/2000 [00:12<00:00, 165.83it/s]\n"
     ]
    },
    {
     "name": "stdout",
     "output_type": "stream",
     "text": [
      "[0.07810593291522194, 0.15524212607847993, 'postspline', True, 2.201398441756981, 2.8804741199465766]\n",
      "219\n",
      "\n"
     ]
    },
    {
     "name": "stderr",
     "output_type": "stream",
     "text": [
      "description: 100%|█████████████████████████████████████████████| 2000/2000 [00:12<00:00, 165.56it/s]\n"
     ]
    },
    {
     "name": "stdout",
     "output_type": "stream",
     "text": [
      "[0.07810593291522194, 0.15524212607847993, 'postspline', True, 2.9999302336784752, 3.6754266475245827]\n",
      "220\n",
      "\n",
      "0.07810593291522194 0.15524212607847993 postspline\n"
     ]
    },
    {
     "name": "stderr",
     "output_type": "stream",
     "text": [
      "description: 100%|█████████████████████████████████████████████| 2000/2000 [00:11<00:00, 167.29it/s]\n"
     ]
    },
    {
     "name": "stdout",
     "output_type": "stream",
     "text": [
      "[0.07810593291522194, 0.15524212607847993, 'postspline', False, 2.8244973841602836, 3.732390360792081]\n",
      "221\n",
      "\n"
     ]
    },
    {
     "name": "stderr",
     "output_type": "stream",
     "text": [
      "description: 100%|█████████████████████████████████████████████| 2000/2000 [00:11<00:00, 169.66it/s]\n"
     ]
    },
    {
     "name": "stdout",
     "output_type": "stream",
     "text": [
      "[0.07810593291522194, 0.15524212607847993, 'postspline', False, 2.99999999999987, 3.7370315045019105]\n",
      "222\n",
      "\n"
     ]
    },
    {
     "name": "stderr",
     "output_type": "stream",
     "text": [
      "description: 100%|█████████████████████████████████████████████| 2000/2000 [00:11<00:00, 170.56it/s]\n"
     ]
    },
    {
     "name": "stdout",
     "output_type": "stream",
     "text": [
      "[0.07810593291522194, 0.15524212607847993, 'postspline', False, 2.4367728017378543, 2.6872200274813003]\n",
      "223\n",
      "\n"
     ]
    },
    {
     "name": "stderr",
     "output_type": "stream",
     "text": [
      "description: 100%|█████████████████████████████████████████████| 2000/2000 [00:11<00:00, 170.11it/s]\n"
     ]
    },
    {
     "name": "stdout",
     "output_type": "stream",
     "text": [
      "[0.07810593291522194, 0.15524212607847993, 'postspline', False, 2.1930720702461572, 2.8603100638458696]\n",
      "224\n",
      "\n"
     ]
    },
    {
     "name": "stderr",
     "output_type": "stream",
     "text": [
      "description: 100%|█████████████████████████████████████████████| 2000/2000 [00:11<00:00, 170.42it/s]\n"
     ]
    },
    {
     "name": "stdout",
     "output_type": "stream",
     "text": [
      "[0.07810593291522194, 0.15524212607847993, 'postspline', False, 2.9999324426511724, 3.6754269028912283]\n",
      "225\n",
      "\n",
      "0.07810593291522194 0.15524212607847993 postact\n"
     ]
    },
    {
     "name": "stderr",
     "output_type": "stream",
     "text": [
      "description: 100%|█████████████████████████████████████████████| 2000/2000 [00:11<00:00, 171.48it/s]\n"
     ]
    },
    {
     "name": "stdout",
     "output_type": "stream",
     "text": [
      "[0.07810593291522194, 0.15524212607847993, 'postact', True, 2.680313743266772, 3.1072152654082257]\n",
      "226\n",
      "\n"
     ]
    },
    {
     "name": "stderr",
     "output_type": "stream",
     "text": [
      "description: 100%|█████████████████████████████████████████████| 2000/2000 [00:11<00:00, 171.59it/s]\n"
     ]
    },
    {
     "name": "stdout",
     "output_type": "stream",
     "text": [
      "[0.07810593291522194, 0.15524212607847993, 'postact', True, 2.257534085840419, 2.560287833213806]\n",
      "227\n",
      "\n"
     ]
    },
    {
     "name": "stderr",
     "output_type": "stream",
     "text": [
      "description: 100%|█████████████████████████████████████████████| 2000/2000 [00:11<00:00, 171.56it/s]\n"
     ]
    },
    {
     "name": "stdout",
     "output_type": "stream",
     "text": [
      "[0.07810593291522194, 0.15524212607847993, 'postact', True, 2.2655445078144902, 2.5564760989037114]\n",
      "228\n",
      "\n"
     ]
    },
    {
     "name": "stderr",
     "output_type": "stream",
     "text": [
      "description: 100%|█████████████████████████████████████████████| 2000/2000 [00:11<00:00, 171.50it/s]\n"
     ]
    },
    {
     "name": "stdout",
     "output_type": "stream",
     "text": [
      "[0.07810593291522194, 0.15524212607847993, 'postact', True, 2.1054982033328735, 2.573930355085843]\n",
      "229\n",
      "\n"
     ]
    },
    {
     "name": "stderr",
     "output_type": "stream",
     "text": [
      "description: 100%|█████████████████████████████████████████████| 2000/2000 [00:11<00:00, 168.65it/s]\n"
     ]
    },
    {
     "name": "stdout",
     "output_type": "stream",
     "text": [
      "[0.07810593291522194, 0.15524212607847993, 'postact', True, 2.999999999999625, 3.5507246376811024]\n",
      "230\n",
      "\n",
      "0.07810593291522194 0.15524212607847993 postact\n"
     ]
    },
    {
     "name": "stderr",
     "output_type": "stream",
     "text": [
      "description: 100%|█████████████████████████████████████████████| 2000/2000 [00:11<00:00, 171.82it/s]\n"
     ]
    },
    {
     "name": "stdout",
     "output_type": "stream",
     "text": [
      "[0.07810593291522194, 0.15524212607847993, 'postact', False, 2.6244169536767745, 2.991215816963478]\n",
      "231\n",
      "\n"
     ]
    },
    {
     "name": "stderr",
     "output_type": "stream",
     "text": [
      "description: 100%|█████████████████████████████████████████████| 2000/2000 [00:11<00:00, 172.02it/s]\n"
     ]
    },
    {
     "name": "stdout",
     "output_type": "stream",
     "text": [
      "[0.07810593291522194, 0.15524212607847993, 'postact', False, 2.4387432025826494, 2.707438085390174]\n",
      "232\n",
      "\n"
     ]
    },
    {
     "name": "stderr",
     "output_type": "stream",
     "text": [
      "description: 100%|█████████████████████████████████████████████| 2000/2000 [00:11<00:00, 172.34it/s]\n"
     ]
    },
    {
     "name": "stdout",
     "output_type": "stream",
     "text": [
      "[0.07810593291522194, 0.15524212607847993, 'postact', False, 2.4897062674812647, 2.7968590363212256]\n",
      "233\n",
      "\n"
     ]
    },
    {
     "name": "stderr",
     "output_type": "stream",
     "text": [
      "description: 100%|█████████████████████████████████████████████| 2000/2000 [00:11<00:00, 169.84it/s]\n"
     ]
    },
    {
     "name": "stdout",
     "output_type": "stream",
     "text": [
      "[0.07810593291522194, 0.15524212607847993, 'postact', False, 2.1882488813953125, 2.5745425258857617]\n",
      "234\n",
      "\n"
     ]
    },
    {
     "name": "stderr",
     "output_type": "stream",
     "text": [
      "description: 100%|█████████████████████████████████████████████| 2000/2000 [00:11<00:00, 171.87it/s]\n"
     ]
    },
    {
     "name": "stdout",
     "output_type": "stream",
     "text": [
      "[0.07810593291522194, 0.15524212607847993, 'postact', False, 2.505343578863835, 2.748174774473992]\n",
      "235\n",
      "\n",
      "0.07810593291522194 0.15524212607847993 dropout\n"
     ]
    },
    {
     "name": "stderr",
     "output_type": "stream",
     "text": [
      "description: 100%|█████████████████████████████████████████████| 2000/2000 [00:09<00:00, 205.92it/s]\n"
     ]
    },
    {
     "name": "stdout",
     "output_type": "stream",
     "text": [
      "[0.07810593291522194, 0.15524212607847993, 'dropout', True, 2.2696067457613736, 2.5480490974757983]\n",
      "236\n",
      "\n"
     ]
    },
    {
     "name": "stderr",
     "output_type": "stream",
     "text": [
      "description: 100%|█████████████████████████████████████████████| 2000/2000 [00:09<00:00, 206.03it/s]\n"
     ]
    },
    {
     "name": "stdout",
     "output_type": "stream",
     "text": [
      "[0.07810593291522194, 0.15524212607847993, 'dropout', True, 2.22210550221844, 2.580860329710919]\n",
      "237\n",
      "\n"
     ]
    },
    {
     "name": "stderr",
     "output_type": "stream",
     "text": [
      "description: 100%|█████████████████████████████████████████████| 2000/2000 [00:09<00:00, 205.21it/s]\n"
     ]
    },
    {
     "name": "stdout",
     "output_type": "stream",
     "text": [
      "[0.07810593291522194, 0.15524212607847993, 'dropout', True, 2.2259322413499802, 2.5637334498806275]\n",
      "238\n",
      "\n"
     ]
    },
    {
     "name": "stderr",
     "output_type": "stream",
     "text": [
      "description: 100%|█████████████████████████████████████████████| 2000/2000 [00:09<00:00, 207.07it/s]\n"
     ]
    },
    {
     "name": "stdout",
     "output_type": "stream",
     "text": [
      "[0.07810593291522194, 0.15524212607847993, 'dropout', True, 2.1139343450034875, 2.643914386846017]\n",
      "239\n",
      "\n"
     ]
    },
    {
     "name": "stderr",
     "output_type": "stream",
     "text": [
      "description: 100%|█████████████████████████████████████████████| 2000/2000 [00:09<00:00, 205.68it/s]\n"
     ]
    },
    {
     "name": "stdout",
     "output_type": "stream",
     "text": [
      "[0.07810593291522194, 0.15524212607847993, 'dropout', True, 2.9999999829312793, 3.5507246365253646]\n",
      "240\n",
      "\n",
      "0.07810593291522194 0.15524212607847993 dropout\n"
     ]
    },
    {
     "name": "stderr",
     "output_type": "stream",
     "text": [
      "description: 100%|█████████████████████████████████████████████| 2000/2000 [00:09<00:00, 205.89it/s]\n"
     ]
    },
    {
     "name": "stdout",
     "output_type": "stream",
     "text": [
      "[0.07810593291522194, 0.15524212607847993, 'dropout', False, 2.7293855742520634, 3.2280315823069814]\n",
      "241\n",
      "\n"
     ]
    },
    {
     "name": "stderr",
     "output_type": "stream",
     "text": [
      "description: 100%|█████████████████████████████████████████████| 2000/2000 [00:09<00:00, 205.05it/s]\n"
     ]
    },
    {
     "name": "stdout",
     "output_type": "stream",
     "text": [
      "[0.07810593291522194, 0.15524212607847993, 'dropout', False, 2.3583228518997412, 2.6718251998873725]\n",
      "242\n",
      "\n"
     ]
    },
    {
     "name": "stderr",
     "output_type": "stream",
     "text": [
      "description: 100%|█████████████████████████████████████████████| 2000/2000 [00:09<00:00, 205.47it/s]\n"
     ]
    },
    {
     "name": "stdout",
     "output_type": "stream",
     "text": [
      "[0.07810593291522194, 0.15524212607847993, 'dropout', False, 2.51783844007962, 2.9141507701597353]\n",
      "243\n",
      "\n"
     ]
    },
    {
     "name": "stderr",
     "output_type": "stream",
     "text": [
      "description: 100%|█████████████████████████████████████████████| 2000/2000 [00:09<00:00, 205.26it/s]\n"
     ]
    },
    {
     "name": "stdout",
     "output_type": "stream",
     "text": [
      "[0.07810593291522194, 0.15524212607847993, 'dropout', False, 2.1338248995767124, 2.6047185728515405]\n",
      "244\n",
      "\n"
     ]
    },
    {
     "name": "stderr",
     "output_type": "stream",
     "text": [
      "description: 100%|█████████████████████████████████████████████| 2000/2000 [00:10<00:00, 195.99it/s]\n"
     ]
    },
    {
     "name": "stdout",
     "output_type": "stream",
     "text": [
      "[0.07810593291522194, 0.15524212607847993, 'dropout', False, 2.9999999646816415, 3.550724635489575]\n",
      "245\n",
      "\n",
      "0.3250888764615661 0.16081909954759588 postspline\n"
     ]
    },
    {
     "name": "stderr",
     "output_type": "stream",
     "text": [
      "description: 100%|█████████████████████████████████████████████| 2000/2000 [00:11<00:00, 168.08it/s]\n"
     ]
    },
    {
     "name": "stdout",
     "output_type": "stream",
     "text": [
      "[0.3250888764615661, 0.16081909954759588, 'postspline', True, 2.7268376377610197, 3.545018014738898]\n",
      "246\n",
      "\n"
     ]
    },
    {
     "name": "stderr",
     "output_type": "stream",
     "text": [
      "description: 100%|█████████████████████████████████████████████| 2000/2000 [00:11<00:00, 170.61it/s]\n"
     ]
    },
    {
     "name": "stdout",
     "output_type": "stream",
     "text": [
      "[0.3250888764615661, 0.16081909954759588, 'postspline', True, 2.9999999999998703, 3.7266476359485727]\n",
      "247\n",
      "\n"
     ]
    },
    {
     "name": "stderr",
     "output_type": "stream",
     "text": [
      "description: 100%|█████████████████████████████████████████████| 2000/2000 [00:11<00:00, 171.15it/s]\n"
     ]
    },
    {
     "name": "stdout",
     "output_type": "stream",
     "text": [
      "[0.3250888764615661, 0.16081909954759588, 'postspline', True, 2.4355976089187292, 2.660007407699806]\n",
      "248\n",
      "\n"
     ]
    },
    {
     "name": "stderr",
     "output_type": "stream",
     "text": [
      "description: 100%|█████████████████████████████████████████████| 2000/2000 [00:11<00:00, 172.41it/s]\n"
     ]
    },
    {
     "name": "stdout",
     "output_type": "stream",
     "text": [
      "[0.3250888764615661, 0.16081909954759588, 'postspline', True, 2.193562376326409, 2.890031413755555]\n",
      "249\n",
      "\n"
     ]
    },
    {
     "name": "stderr",
     "output_type": "stream",
     "text": [
      "description: 100%|█████████████████████████████████████████████| 2000/2000 [00:11<00:00, 172.15it/s]\n"
     ]
    },
    {
     "name": "stdout",
     "output_type": "stream",
     "text": [
      "[0.3250888764615661, 0.16081909954759588, 'postspline', True, 2.9999301735000152, 3.675426637520759]\n",
      "250\n",
      "\n",
      "0.3250888764615661 0.16081909954759588 postspline\n"
     ]
    },
    {
     "name": "stderr",
     "output_type": "stream",
     "text": [
      "description: 100%|█████████████████████████████████████████████| 2000/2000 [00:11<00:00, 172.73it/s]\n"
     ]
    },
    {
     "name": "stdout",
     "output_type": "stream",
     "text": [
      "[0.3250888764615661, 0.16081909954759588, 'postspline', False, 2.676636115196352, 3.5738794147686326]\n",
      "251\n",
      "\n"
     ]
    },
    {
     "name": "stderr",
     "output_type": "stream",
     "text": [
      "description: 100%|█████████████████████████████████████████████| 2000/2000 [00:11<00:00, 170.54it/s]\n"
     ]
    },
    {
     "name": "stdout",
     "output_type": "stream",
     "text": [
      "[0.3250888764615661, 0.16081909954759588, 'postspline', False, 2.99999999999987, 3.709267515841499]\n",
      "252\n",
      "\n"
     ]
    },
    {
     "name": "stderr",
     "output_type": "stream",
     "text": [
      "description: 100%|█████████████████████████████████████████████| 2000/2000 [00:11<00:00, 170.88it/s]\n"
     ]
    },
    {
     "name": "stdout",
     "output_type": "stream",
     "text": [
      "[0.3250888764615661, 0.16081909954759588, 'postspline', False, 2.41574668193209, 2.706768891085749]\n",
      "253\n",
      "\n"
     ]
    },
    {
     "name": "stderr",
     "output_type": "stream",
     "text": [
      "description: 100%|█████████████████████████████████████████████| 2000/2000 [00:11<00:00, 170.88it/s]\n"
     ]
    },
    {
     "name": "stdout",
     "output_type": "stream",
     "text": [
      "[0.3250888764615661, 0.16081909954759588, 'postspline', False, 2.20876920050469, 2.880669996358346]\n",
      "254\n",
      "\n"
     ]
    },
    {
     "name": "stderr",
     "output_type": "stream",
     "text": [
      "description: 100%|█████████████████████████████████████████████| 2000/2000 [00:11<00:00, 171.78it/s]\n"
     ]
    },
    {
     "name": "stdout",
     "output_type": "stream",
     "text": [
      "[0.3250888764615661, 0.16081909954759588, 'postspline', False, 2.999932485027929, 3.67542690037095]\n",
      "255\n",
      "\n",
      "0.3250888764615661 0.16081909954759588 postact\n"
     ]
    },
    {
     "name": "stderr",
     "output_type": "stream",
     "text": [
      "description: 100%|█████████████████████████████████████████████| 2000/2000 [00:11<00:00, 170.64it/s]\n"
     ]
    },
    {
     "name": "stdout",
     "output_type": "stream",
     "text": [
      "[0.3250888764615661, 0.16081909954759588, 'postact', True, 2.698863134185734, 3.2486015998365794]\n",
      "256\n",
      "\n"
     ]
    },
    {
     "name": "stderr",
     "output_type": "stream",
     "text": [
      "description: 100%|█████████████████████████████████████████████| 2000/2000 [00:11<00:00, 168.96it/s]\n"
     ]
    },
    {
     "name": "stdout",
     "output_type": "stream",
     "text": [
      "[0.3250888764615661, 0.16081909954759588, 'postact', True, 2.2104028757067695, 2.584217396335325]\n",
      "257\n",
      "\n"
     ]
    },
    {
     "name": "stderr",
     "output_type": "stream",
     "text": [
      "description: 100%|█████████████████████████████████████████████| 2000/2000 [00:11<00:00, 170.38it/s]\n"
     ]
    },
    {
     "name": "stdout",
     "output_type": "stream",
     "text": [
      "[0.3250888764615661, 0.16081909954759588, 'postact', True, 2.3157303540602974, 2.5835719575052676]\n",
      "258\n",
      "\n"
     ]
    },
    {
     "name": "stderr",
     "output_type": "stream",
     "text": [
      "description: 100%|█████████████████████████████████████████████| 2000/2000 [00:11<00:00, 171.71it/s]\n"
     ]
    },
    {
     "name": "stdout",
     "output_type": "stream",
     "text": [
      "[0.3250888764615661, 0.16081909954759588, 'postact', True, 2.179332883461662, 2.6544885989548503]\n",
      "259\n",
      "\n"
     ]
    },
    {
     "name": "stderr",
     "output_type": "stream",
     "text": [
      "description: 100%|█████████████████████████████████████████████| 2000/2000 [00:11<00:00, 170.72it/s]\n"
     ]
    },
    {
     "name": "stdout",
     "output_type": "stream",
     "text": [
      "[0.3250888764615661, 0.16081909954759588, 'postact', True, 2.1786087889602217, 2.5291355882865796]\n",
      "260\n",
      "\n",
      "0.3250888764615661 0.16081909954759588 postact\n"
     ]
    },
    {
     "name": "stderr",
     "output_type": "stream",
     "text": [
      "description: 100%|█████████████████████████████████████████████| 2000/2000 [00:11<00:00, 172.45it/s]\n"
     ]
    },
    {
     "name": "stdout",
     "output_type": "stream",
     "text": [
      "[0.3250888764615661, 0.16081909954759588, 'postact', False, 2.594418825014778, 3.074704057928445]\n",
      "261\n",
      "\n"
     ]
    },
    {
     "name": "stderr",
     "output_type": "stream",
     "text": [
      "description: 100%|█████████████████████████████████████████████| 2000/2000 [00:11<00:00, 172.64it/s]\n"
     ]
    },
    {
     "name": "stdout",
     "output_type": "stream",
     "text": [
      "[0.3250888764615661, 0.16081909954759588, 'postact', False, 2.5372916304546855, 2.8975000277809473]\n",
      "262\n",
      "\n"
     ]
    },
    {
     "name": "stderr",
     "output_type": "stream",
     "text": [
      "description: 100%|█████████████████████████████████████████████| 2000/2000 [00:11<00:00, 173.13it/s]\n"
     ]
    },
    {
     "name": "stdout",
     "output_type": "stream",
     "text": [
      "[0.3250888764615661, 0.16081909954759588, 'postact', False, 2.7259541387143345, 3.033201753229335]\n",
      "263\n",
      "\n"
     ]
    },
    {
     "name": "stderr",
     "output_type": "stream",
     "text": [
      "description: 100%|█████████████████████████████████████████████| 2000/2000 [00:11<00:00, 173.31it/s]\n"
     ]
    },
    {
     "name": "stdout",
     "output_type": "stream",
     "text": [
      "[0.3250888764615661, 0.16081909954759588, 'postact', False, 2.1876719447149746, 2.6280815722285835]\n",
      "264\n",
      "\n"
     ]
    },
    {
     "name": "stderr",
     "output_type": "stream",
     "text": [
      "description: 100%|█████████████████████████████████████████████| 2000/2000 [00:11<00:00, 167.67it/s]\n"
     ]
    },
    {
     "name": "stdout",
     "output_type": "stream",
     "text": [
      "[0.3250888764615661, 0.16081909954759588, 'postact', False, 2.5377656169559644, 2.774427348288937]\n",
      "265\n",
      "\n",
      "0.3250888764615661 0.16081909954759588 dropout\n"
     ]
    },
    {
     "name": "stderr",
     "output_type": "stream",
     "text": [
      "description: 100%|█████████████████████████████████████████████| 2000/2000 [00:10<00:00, 190.25it/s]\n"
     ]
    },
    {
     "name": "stdout",
     "output_type": "stream",
     "text": [
      "[0.3250888764615661, 0.16081909954759588, 'dropout', True, 2.829426641979164, 3.2409629030293763]\n",
      "266\n",
      "\n"
     ]
    },
    {
     "name": "stderr",
     "output_type": "stream",
     "text": [
      "description: 100%|█████████████████████████████████████████████| 2000/2000 [00:09<00:00, 201.94it/s]\n"
     ]
    },
    {
     "name": "stdout",
     "output_type": "stream",
     "text": [
      "[0.3250888764615661, 0.16081909954759588, 'dropout', True, 2.17263001203537, 2.565679075061411]\n",
      "267\n",
      "\n"
     ]
    },
    {
     "name": "stderr",
     "output_type": "stream",
     "text": [
      "description: 100%|█████████████████████████████████████████████| 2000/2000 [00:10<00:00, 197.37it/s]\n"
     ]
    },
    {
     "name": "stdout",
     "output_type": "stream",
     "text": [
      "[0.3250888764615661, 0.16081909954759588, 'dropout', True, 2.16712218436642, 2.529322549916696]\n",
      "268\n",
      "\n"
     ]
    },
    {
     "name": "stderr",
     "output_type": "stream",
     "text": [
      "description: 100%|█████████████████████████████████████████████| 2000/2000 [00:10<00:00, 195.72it/s]\n"
     ]
    },
    {
     "name": "stdout",
     "output_type": "stream",
     "text": [
      "[0.3250888764615661, 0.16081909954759588, 'dropout', True, 2.2526051129983817, 2.755630380001621]\n",
      "269\n",
      "\n"
     ]
    },
    {
     "name": "stderr",
     "output_type": "stream",
     "text": [
      "description: 100%|█████████████████████████████████████████████| 2000/2000 [00:10<00:00, 198.04it/s]\n"
     ]
    },
    {
     "name": "stdout",
     "output_type": "stream",
     "text": [
      "[0.3250888764615661, 0.16081909954759588, 'dropout', True, 2.9999999999999076, 3.532777084820507]\n",
      "270\n",
      "\n",
      "0.3250888764615661 0.16081909954759588 dropout\n"
     ]
    },
    {
     "name": "stderr",
     "output_type": "stream",
     "text": [
      "description: 100%|█████████████████████████████████████████████| 2000/2000 [00:09<00:00, 203.38it/s]\n"
     ]
    },
    {
     "name": "stdout",
     "output_type": "stream",
     "text": [
      "[0.3250888764615661, 0.16081909954759588, 'dropout', False, 2.743712978870071, 3.127006649604266]\n",
      "271\n",
      "\n"
     ]
    },
    {
     "name": "stderr",
     "output_type": "stream",
     "text": [
      "description: 100%|█████████████████████████████████████████████| 2000/2000 [00:09<00:00, 206.96it/s]\n"
     ]
    },
    {
     "name": "stdout",
     "output_type": "stream",
     "text": [
      "[0.3250888764615661, 0.16081909954759588, 'dropout', False, 2.445321533990943, 2.652311646420023]\n",
      "272\n",
      "\n"
     ]
    },
    {
     "name": "stderr",
     "output_type": "stream",
     "text": [
      "description: 100%|█████████████████████████████████████████████| 2000/2000 [00:10<00:00, 199.31it/s]\n"
     ]
    },
    {
     "name": "stdout",
     "output_type": "stream",
     "text": [
      "[0.3250888764615661, 0.16081909954759588, 'dropout', False, 2.51321197938228, 2.7850467398546743]\n",
      "273\n",
      "\n"
     ]
    },
    {
     "name": "stderr",
     "output_type": "stream",
     "text": [
      "description: 100%|█████████████████████████████████████████████| 2000/2000 [00:10<00:00, 196.48it/s]\n"
     ]
    },
    {
     "name": "stdout",
     "output_type": "stream",
     "text": [
      "[0.3250888764615661, 0.16081909954759588, 'dropout', False, 2.1594652265742207, 2.5863755405813023]\n",
      "274\n",
      "\n"
     ]
    },
    {
     "name": "stderr",
     "output_type": "stream",
     "text": [
      "description: 100%|█████████████████████████████████████████████| 2000/2000 [00:10<00:00, 199.49it/s]\n"
     ]
    },
    {
     "name": "stdout",
     "output_type": "stream",
     "text": [
      "[0.3250888764615661, 0.16081909954759588, 'dropout', False, 2.9149909702433057, 3.494804228793809]\n",
      "275\n",
      "\n",
      "0.28266096267779856 0.39578177603158843 postspline\n"
     ]
    },
    {
     "name": "stderr",
     "output_type": "stream",
     "text": [
      "description: 100%|█████████████████████████████████████████████| 2000/2000 [00:11<00:00, 171.28it/s]\n"
     ]
    },
    {
     "name": "stdout",
     "output_type": "stream",
     "text": [
      "[0.28266096267779856, 0.39578177603158843, 'postspline', True, 2.907695145562425, 3.843334610183612]\n",
      "276\n",
      "\n"
     ]
    },
    {
     "name": "stderr",
     "output_type": "stream",
     "text": [
      "description: 100%|█████████████████████████████████████████████| 2000/2000 [00:11<00:00, 171.96it/s]\n"
     ]
    },
    {
     "name": "stdout",
     "output_type": "stream",
     "text": [
      "[0.28266096267779856, 0.39578177603158843, 'postspline', True, 2.999999999999883, 3.7153172549888263]\n",
      "277\n",
      "\n"
     ]
    },
    {
     "name": "stderr",
     "output_type": "stream",
     "text": [
      "description: 100%|█████████████████████████████████████████████| 2000/2000 [00:11<00:00, 169.20it/s]\n"
     ]
    },
    {
     "name": "stdout",
     "output_type": "stream",
     "text": [
      "[0.28266096267779856, 0.39578177603158843, 'postspline', True, 2.416224421798319, 2.7147346596786943]\n",
      "278\n",
      "\n"
     ]
    },
    {
     "name": "stderr",
     "output_type": "stream",
     "text": [
      "description: 100%|█████████████████████████████████████████████| 2000/2000 [00:11<00:00, 169.80it/s]\n"
     ]
    },
    {
     "name": "stdout",
     "output_type": "stream",
     "text": [
      "[0.28266096267779856, 0.39578177603158843, 'postspline', True, 2.203338056370832, 2.8873648591663525]\n",
      "279\n",
      "\n"
     ]
    },
    {
     "name": "stderr",
     "output_type": "stream",
     "text": [
      "description: 100%|█████████████████████████████████████████████| 2000/2000 [00:11<00:00, 168.46it/s]\n"
     ]
    },
    {
     "name": "stdout",
     "output_type": "stream",
     "text": [
      "[0.28266096267779856, 0.39578177603158843, 'postspline', True, 2.9999599869412985, 3.6754322116446763]\n",
      "280\n",
      "\n",
      "0.28266096267779856 0.39578177603158843 postspline\n"
     ]
    },
    {
     "name": "stderr",
     "output_type": "stream",
     "text": [
      "description: 100%|█████████████████████████████████████████████| 2000/2000 [00:11<00:00, 169.34it/s]\n"
     ]
    },
    {
     "name": "stdout",
     "output_type": "stream",
     "text": [
      "[0.28266096267779856, 0.39578177603158843, 'postspline', False, 2.490560966031807, 3.3161292539971003]\n",
      "281\n",
      "\n"
     ]
    },
    {
     "name": "stderr",
     "output_type": "stream",
     "text": [
      "description: 100%|█████████████████████████████████████████████| 2000/2000 [00:11<00:00, 167.33it/s]\n"
     ]
    },
    {
     "name": "stdout",
     "output_type": "stream",
     "text": [
      "[0.28266096267779856, 0.39578177603158843, 'postspline', False, 2.999999999999878, 3.6644713477288136]\n",
      "282\n",
      "\n"
     ]
    },
    {
     "name": "stderr",
     "output_type": "stream",
     "text": [
      "description: 100%|█████████████████████████████████████████████| 2000/2000 [00:11<00:00, 167.91it/s]\n"
     ]
    },
    {
     "name": "stdout",
     "output_type": "stream",
     "text": [
      "[0.28266096267779856, 0.39578177603158843, 'postspline', False, 2.418304551338804, 2.6192084412643877]\n",
      "283\n",
      "\n"
     ]
    },
    {
     "name": "stderr",
     "output_type": "stream",
     "text": [
      "description: 100%|█████████████████████████████████████████████| 2000/2000 [00:11<00:00, 168.46it/s]\n"
     ]
    },
    {
     "name": "stdout",
     "output_type": "stream",
     "text": [
      "[0.28266096267779856, 0.39578177603158843, 'postspline', False, 2.2007120847702026, 2.8810307824093364]\n",
      "284\n",
      "\n"
     ]
    },
    {
     "name": "stderr",
     "output_type": "stream",
     "text": [
      "description: 100%|█████████████████████████████████████████████| 2000/2000 [00:12<00:00, 161.27it/s]\n"
     ]
    },
    {
     "name": "stdout",
     "output_type": "stream",
     "text": [
      "[0.28266096267779856, 0.39578177603158843, 'postspline', False, 2.999965705413956, 3.675432551718351]\n",
      "285\n",
      "\n",
      "0.28266096267779856 0.39578177603158843 postact\n"
     ]
    },
    {
     "name": "stderr",
     "output_type": "stream",
     "text": [
      "description: 100%|█████████████████████████████████████████████| 2000/2000 [00:11<00:00, 167.63it/s]\n"
     ]
    },
    {
     "name": "stdout",
     "output_type": "stream",
     "text": [
      "[0.28266096267779856, 0.39578177603158843, 'postact', True, 2.32969412938566, 2.8330545101048004]\n",
      "286\n",
      "\n"
     ]
    },
    {
     "name": "stderr",
     "output_type": "stream",
     "text": [
      "description: 100%|█████████████████████████████████████████████| 2000/2000 [00:11<00:00, 171.43it/s]\n"
     ]
    },
    {
     "name": "stdout",
     "output_type": "stream",
     "text": [
      "[0.28266096267779856, 0.39578177603158843, 'postact', True, 2.211859160575314, 2.702842368595842]\n",
      "287\n",
      "\n"
     ]
    },
    {
     "name": "stderr",
     "output_type": "stream",
     "text": [
      "description: 100%|█████████████████████████████████████████████| 2000/2000 [00:11<00:00, 172.23it/s]\n"
     ]
    },
    {
     "name": "stdout",
     "output_type": "stream",
     "text": [
      "[0.28266096267779856, 0.39578177603158843, 'postact', True, 2.2741378062013267, 2.643631631049557]\n",
      "288\n",
      "\n"
     ]
    },
    {
     "name": "stderr",
     "output_type": "stream",
     "text": [
      "description: 100%|█████████████████████████████████████████████| 2000/2000 [00:11<00:00, 172.00it/s]\n"
     ]
    },
    {
     "name": "stdout",
     "output_type": "stream",
     "text": [
      "[0.28266096267779856, 0.39578177603158843, 'postact', True, 2.1919621315555298, 2.558676372403684]\n",
      "289\n",
      "\n"
     ]
    },
    {
     "name": "stderr",
     "output_type": "stream",
     "text": [
      "description: 100%|█████████████████████████████████████████████| 2000/2000 [00:11<00:00, 170.58it/s]\n"
     ]
    },
    {
     "name": "stdout",
     "output_type": "stream",
     "text": [
      "[0.28266096267779856, 0.39578177603158843, 'postact', True, 2.1615230449731797, 2.5626084389893906]\n",
      "290\n",
      "\n",
      "0.28266096267779856 0.39578177603158843 postact\n"
     ]
    },
    {
     "name": "stderr",
     "output_type": "stream",
     "text": [
      "description: 100%|█████████████████████████████████████████████| 2000/2000 [00:11<00:00, 171.01it/s]\n"
     ]
    },
    {
     "name": "stdout",
     "output_type": "stream",
     "text": [
      "[0.28266096267779856, 0.39578177603158843, 'postact', False, 2.5022849794747173, 2.929898732814236]\n",
      "291\n",
      "\n"
     ]
    },
    {
     "name": "stderr",
     "output_type": "stream",
     "text": [
      "description: 100%|█████████████████████████████████████████████| 2000/2000 [00:11<00:00, 171.21it/s]\n"
     ]
    },
    {
     "name": "stdout",
     "output_type": "stream",
     "text": [
      "[0.28266096267779856, 0.39578177603158843, 'postact', False, 3.0837415266728057, 3.5710097015767857]\n",
      "292\n",
      "\n"
     ]
    },
    {
     "name": "stderr",
     "output_type": "stream",
     "text": [
      "description: 100%|█████████████████████████████████████████████| 2000/2000 [00:11<00:00, 170.64it/s]\n"
     ]
    },
    {
     "name": "stdout",
     "output_type": "stream",
     "text": [
      "[0.28266096267779856, 0.39578177603158843, 'postact', False, 3.220380817634472, 3.3378951480423193]\n",
      "293\n",
      "\n"
     ]
    },
    {
     "name": "stderr",
     "output_type": "stream",
     "text": [
      "description: 100%|█████████████████████████████████████████████| 2000/2000 [00:11<00:00, 170.12it/s]\n"
     ]
    },
    {
     "name": "stdout",
     "output_type": "stream",
     "text": [
      "[0.28266096267779856, 0.39578177603158843, 'postact', False, 2.439654699270276, 2.6882430021313652]\n",
      "294\n",
      "\n"
     ]
    },
    {
     "name": "stderr",
     "output_type": "stream",
     "text": [
      "description: 100%|█████████████████████████████████████████████| 2000/2000 [00:11<00:00, 170.63it/s]\n"
     ]
    },
    {
     "name": "stdout",
     "output_type": "stream",
     "text": [
      "[0.28266096267779856, 0.39578177603158843, 'postact', False, 2.54491490903108, 2.8074063909226568]\n",
      "295\n",
      "\n",
      "0.28266096267779856 0.39578177603158843 dropout\n"
     ]
    },
    {
     "name": "stderr",
     "output_type": "stream",
     "text": [
      "description: 100%|█████████████████████████████████████████████| 2000/2000 [00:09<00:00, 200.96it/s]\n"
     ]
    },
    {
     "name": "stdout",
     "output_type": "stream",
     "text": [
      "[0.28266096267779856, 0.39578177603158843, 'dropout', True, 2.928267190109069, 3.344469033250718]\n",
      "296\n",
      "\n"
     ]
    },
    {
     "name": "stderr",
     "output_type": "stream",
     "text": [
      "description: 100%|█████████████████████████████████████████████| 2000/2000 [00:10<00:00, 191.09it/s]\n"
     ]
    },
    {
     "name": "stdout",
     "output_type": "stream",
     "text": [
      "[0.28266096267779856, 0.39578177603158843, 'dropout', True, 2.2715293998303623, 2.7131239305371824]\n",
      "297\n",
      "\n"
     ]
    },
    {
     "name": "stderr",
     "output_type": "stream",
     "text": [
      "description: 100%|█████████████████████████████████████████████| 2000/2000 [00:10<00:00, 198.00it/s]\n"
     ]
    },
    {
     "name": "stdout",
     "output_type": "stream",
     "text": [
      "[0.28266096267779856, 0.39578177603158843, 'dropout', True, 2.2185479869013247, 2.6662466690160227]\n",
      "298\n",
      "\n"
     ]
    },
    {
     "name": "stderr",
     "output_type": "stream",
     "text": [
      "description: 100%|█████████████████████████████████████████████| 2000/2000 [00:10<00:00, 195.86it/s]\n"
     ]
    },
    {
     "name": "stdout",
     "output_type": "stream",
     "text": [
      "[0.28266096267779856, 0.39578177603158843, 'dropout', True, 2.3795147076033163, 2.872565873723099]\n",
      "299\n",
      "\n"
     ]
    },
    {
     "name": "stderr",
     "output_type": "stream",
     "text": [
      "description: 100%|█████████████████████████████████████████████| 2000/2000 [00:10<00:00, 199.84it/s]\n"
     ]
    },
    {
     "name": "stdout",
     "output_type": "stream",
     "text": [
      "[0.28266096267779856, 0.39578177603158843, 'dropout', True, 2.9999999999998, 3.5507246376811463]\n",
      "300\n",
      "\n",
      "0.28266096267779856 0.39578177603158843 dropout\n"
     ]
    },
    {
     "name": "stderr",
     "output_type": "stream",
     "text": [
      "description: 100%|█████████████████████████████████████████████| 2000/2000 [00:09<00:00, 202.60it/s]\n"
     ]
    },
    {
     "name": "stdout",
     "output_type": "stream",
     "text": [
      "[0.28266096267779856, 0.39578177603158843, 'dropout', False, 2.763257261119778, 3.1842249019153663]\n",
      "301\n",
      "\n"
     ]
    },
    {
     "name": "stderr",
     "output_type": "stream",
     "text": [
      "description: 100%|█████████████████████████████████████████████| 2000/2000 [00:09<00:00, 201.08it/s]\n"
     ]
    },
    {
     "name": "stdout",
     "output_type": "stream",
     "text": [
      "[0.28266096267779856, 0.39578177603158843, 'dropout', False, 2.4262383657953013, 2.652259190877279]\n",
      "302\n",
      "\n"
     ]
    },
    {
     "name": "stderr",
     "output_type": "stream",
     "text": [
      "description: 100%|█████████████████████████████████████████████| 2000/2000 [00:09<00:00, 205.91it/s]\n"
     ]
    },
    {
     "name": "stdout",
     "output_type": "stream",
     "text": [
      "[0.28266096267779856, 0.39578177603158843, 'dropout', False, 2.4804299672444663, 2.8564737568730894]\n",
      "303\n",
      "\n"
     ]
    },
    {
     "name": "stderr",
     "output_type": "stream",
     "text": [
      "description: 100%|█████████████████████████████████████████████| 2000/2000 [00:09<00:00, 201.68it/s]\n"
     ]
    },
    {
     "name": "stdout",
     "output_type": "stream",
     "text": [
      "[0.28266096267779856, 0.39578177603158843, 'dropout', False, 2.1142523789751357, 2.5844638174858647]\n",
      "304\n",
      "\n"
     ]
    },
    {
     "name": "stderr",
     "output_type": "stream",
     "text": [
      "description: 100%|█████████████████████████████████████████████| 2000/2000 [00:09<00:00, 204.33it/s]\n"
     ]
    },
    {
     "name": "stdout",
     "output_type": "stream",
     "text": [
      "[0.28266096267779856, 0.39578177603158843, 'dropout', False, 2.9478386265679317, 3.5431904920517643]\n",
      "305\n",
      "\n",
      "Log saved to regression\\Liver Disorders_log.xlsx\n"
     ]
    }
   ],
   "source": [
    "log_folder =  'regression\\\\'\n",
    "\n",
    "# Log file name\n",
    "log_file =  log_folder+forest_fires.metadata['name']+'_log.xlsx'\n",
    "\n",
    "# DataFrame to store logs\n",
    "log_df = pd.DataFrame(columns=['drop_rate1', 'drop_rate2', 'drop_mode', 'scale', 'validation_accuracy', 'test_accuracy'])\n",
    "\n",
    "for j in range(5):\n",
    "                model = KAN(seed=j,width=[X_train.shape[1], 10,1], grid=3, k=3,\n",
    "                            symbolic_enabled=False)\n",
    "                results = model.train(dataset, opt=\"Adam\", steps=2000, batch=32, lr=0.01, update_grid=False)\n",
    "                set_training_mode(model, False)\n",
    "                \n",
    "            \n",
    "                # Compute MAE\n",
    "                val_mae = F.l1_loss( model(dataset['val_input']), dataset['val_label']).item()\n",
    "                \n",
    "                # Compute MAE\n",
    "                test_mae = F.l1_loss(model(dataset['test_input']), dataset['test_label']).item()\n",
    "\n",
    "            \n",
    "            \n",
    "            \n",
    "            \n",
    "                \n",
    "                new_row = [0.0,0.0,'kan',None,val_mae,test_mae]\n",
    "                \n",
    "                log_df.loc[len(log_df)] = new_row\n",
    "\n",
    "\n",
    "best = 0\n",
    "for _ in range(10):  # Number of random configurations to test\n",
    "    random.seed()\n",
    "    drop_rate1 = random.uniform(0, .5)\n",
    "    drop_rate2 = random.uniform(0, .5)\n",
    "\n",
    "    for drop_mode in ['postspline', 'postact', 'dropout']:\n",
    "\n",
    "        for scale in  [True, False]:\n",
    "            print(drop_rate1, drop_rate2, drop_mode)\n",
    "            \n",
    "            \n",
    "            \n",
    "            for j in range(5):\n",
    "                model = DropKAN(seed=j,width=[X_train.shape[1], 10, 1], grid=3, k=3,\n",
    "                                        symbolic_enabled=False, drop_rate=[drop_rate1, drop_rate2], drop_mode=drop_mode, drop_scale=scale, neuron_fun=['sum', 'sum'])\n",
    "                results = model.train(dataset, opt=\"Adam\", steps=2000, batch=32, lr=0.01, update_grid=False)\n",
    "                set_training_mode(model, False)\n",
    "                \n",
    "            \n",
    "                # Compute MAE\n",
    "                val_mae = F.l1_loss( model(dataset['val_input']), dataset['val_label']).item()\n",
    "                \n",
    "                # Compute MAE\n",
    "                test_mae = F.l1_loss(model(dataset['test_input']), dataset['test_label']).item()\n",
    "\n",
    "            \n",
    "            \n",
    "            \n",
    "            \n",
    "                \n",
    "                new_row = [drop_rate1,drop_rate2,drop_mode,scale,val_mae,test_mae]\n",
    "                \n",
    "                log_df.loc[len(log_df)] = new_row\n",
    "            \n",
    "                # Save the DataFrame to an Excel file\n",
    "                log_df.to_excel(log_file, index=False)\n",
    "                print(new_row)\n",
    "                print(len(log_df))\n",
    "                print()\n",
    "\n",
    "print(f\"Log saved to {log_file}\")"
   ]
  },
  {
   "cell_type": "code",
   "execution_count": 218,
   "id": "a1ca7c45-8bef-4808-986d-8db9b10e41d9",
   "metadata": {},
   "outputs": [
    {
     "data": {
      "text/plain": [
       "tensor([[nan],\n",
       "        [nan],\n",
       "        [nan],\n",
       "        [nan],\n",
       "        [nan],\n",
       "        [nan],\n",
       "        [nan],\n",
       "        [nan],\n",
       "        [nan],\n",
       "        [nan],\n",
       "        [nan],\n",
       "        [nan],\n",
       "        [nan],\n",
       "        [nan],\n",
       "        [nan],\n",
       "        [nan],\n",
       "        [nan],\n",
       "        [nan],\n",
       "        [nan],\n",
       "        [nan],\n",
       "        [nan],\n",
       "        [nan],\n",
       "        [nan],\n",
       "        [nan],\n",
       "        [nan],\n",
       "        [nan],\n",
       "        [nan],\n",
       "        [nan],\n",
       "        [nan],\n",
       "        [nan],\n",
       "        [nan],\n",
       "        [nan],\n",
       "        [nan],\n",
       "        [nan],\n",
       "        [nan],\n",
       "        [nan],\n",
       "        [nan],\n",
       "        [nan],\n",
       "        [nan],\n",
       "        [nan],\n",
       "        [nan]], grad_fn=<AddBackward0>)"
      ]
     },
     "execution_count": 218,
     "metadata": {},
     "output_type": "execute_result"
    }
   ],
   "source": [
    "model(dataset['val_input'])"
   ]
  },
  {
   "cell_type": "code",
   "execution_count": 50,
   "id": "f5c0b65e-ba1c-4cb1-af7f-a0115d898c67",
   "metadata": {},
   "outputs": [],
   "source": [
    "log_df.to_excel(log_file, index=False)\n"
   ]
  },
  {
   "cell_type": "code",
   "execution_count": 45,
   "id": "b4626910-876e-4deb-8908-ea84f9271f67",
   "metadata": {},
   "outputs": [
    {
     "data": {
      "text/plain": [
       "60.5743408203125"
      ]
     },
     "execution_count": 45,
     "metadata": {},
     "output_type": "execute_result"
    }
   ],
   "source": [
    "dropmode = 4\n",
    "dropscale = True\n",
    "\n",
    "\n",
    "100*log_df[(log_df['dropmode'] == dropmode) & (log_df['scale'] == dropscale)].sort_values('total_accuracy', ascending=False).iloc[:5]['total_accuracy'].median()"
   ]
  },
  {
   "cell_type": "code",
   "execution_count": 46,
   "id": "252ea89f-8254-4a34-9084-1c5abbc458f7",
   "metadata": {},
   "outputs": [
    {
     "data": {
      "text/plain": [
       "1.9219389762676125"
      ]
     },
     "execution_count": 46,
     "metadata": {},
     "output_type": "execute_result"
    }
   ],
   "source": [
    "100*log_df[(log_df['dropmode'] == dropmode) & (log_df['scale'] == dropscale)].sort_values('total_accuracy', ascending=False).iloc[:5]['total_accuracy'].std()"
   ]
  },
  {
   "cell_type": "code",
   "execution_count": 48,
   "id": "13c77b82-b062-4d0a-95a0-d5ff0cf6fd24",
   "metadata": {},
   "outputs": [],
   "source": [
    "setting = log_df[(log_df['dropmode'] == dropmode) & (log_df['scale'] == dropscale)].sort_values('validation_accuracy', ascending=False).iloc[:1]"
   ]
  },
  {
   "cell_type": "code",
   "execution_count": null,
   "id": "829e4b84-b2fd-4663-89cd-ef2c9a42871b",
   "metadata": {},
   "outputs": [],
   "source": [
    "grouped = log_df.groupby(['dropmode', 'scale'])\n",
    "best_settings = grouped.apply(lambda x: x.loc[x['validation_accuracy'].idxmax()])\n",
    "\n",
    "results_df = pd.DataFrame(columns=['dropmode', 'dropscale', 'validation_accuracy', 'test_accuracy'])\n",
    "\n",
    "for i, (index, setting) in enumerate(best_settings.iterrows()):\n",
    "    for j in range(5):\n",
    "        model = KAN(\n",
    "        seed=j,\n",
    "        width=[dataset['train_input'].shape[1], 10, 1],\n",
    "        grid=3,\n",
    "        k=3,\n",
    "        symbolic_enabled=False,\n",
    "        drop_prob=[setting['drop_prob1'], setting['drop_prob2']],\n",
    "        dropmode=[setting['dropmode'], setting['dropmode']],\n",
    "        dropscale=setting['scale'],\n",
    "        neuron_func='sum'\n",
    "        )\n",
    "        results = model.train(dataset, opt=\"Adam\", steps=2000, batch=32, lr=0.01)\n",
    "        set_training_mode(model, False)\n",
    "        \n",
    "        val_acc = torch.mean((torch.round(model(dataset['val_input'])[:,0]) == dataset['val_label'][:,0]).float()).item()\n",
    "        test_acc = torch.mean((torch.round(model(dataset['test_input'])[:,0]) == dataset['test_label'][:,0]).float()).item()\n",
    "        print(setting['dropmode'], setting['scale'], val_acc, test_acc)\n",
    "        results_df.loc[len(results_df)] = [setting['dropmode'], setting['scale'], val_acc, test_acc]\n",
    "    "
   ]
  },
  {
   "cell_type": "code",
   "execution_count": null,
   "id": "3e22cbde-b46c-4c24-8f5b-da998f98e98b",
   "metadata": {},
   "outputs": [],
   "source": [
    "for j in range(5):\n",
    "        model = KAN(\n",
    "        seed=j,\n",
    "        width=[dataset['train_input'].shape[1], 10, 1],\n",
    "        grid=3,\n",
    "        k=3,\n",
    "        symbolic_enabled=False,\n",
    "        drop_prob=[0.0, 0.0],\n",
    "        dropmode=[-1, -1],\n",
    "        dropscale= -1,\n",
    "        )\n",
    "        results = model.train(dataset, opt=\"Adam\", steps=2000, batch=32, lr=0.01)\n",
    "        set_training_mode(model, False)\n",
    "        \n",
    "        val_acc = torch.mean((torch.round(model(dataset['val_input'])[:,0]) == dataset['val_label'][:,0]).float()).item()\n",
    "        test_acc = torch.mean((torch.round(model(dataset['test_input'])[:,0]) == dataset['test_label'][:,0]).float()).item()\n",
    "        print(setting['dropmode'], setting['scale'], val_acc, test_acc)\n",
    "        results_df.loc[len(results_df)] = [-1, -1, val_acc, test_acc]"
   ]
  },
  {
   "cell_type": "code",
   "execution_count": null,
   "id": "dfc9d1b2-e6c0-46c0-972b-b5ab41c0d7ed",
   "metadata": {},
   "outputs": [],
   "source": [
    "results_df.to_excel(folder+file_name+'_results.xlsx', index=False) "
   ]
  },
  {
   "cell_type": "code",
   "execution_count": 68,
   "id": "b95a2f13-26af-46fd-b421-ef5b239ebff7",
   "metadata": {},
   "outputs": [
    {
     "data": {
      "text/html": [
       "<div>\n",
       "<style scoped>\n",
       "    .dataframe tbody tr th:only-of-type {\n",
       "        vertical-align: middle;\n",
       "    }\n",
       "\n",
       "    .dataframe tbody tr th {\n",
       "        vertical-align: top;\n",
       "    }\n",
       "\n",
       "    .dataframe thead th {\n",
       "        text-align: right;\n",
       "    }\n",
       "</style>\n",
       "<table border=\"1\" class=\"dataframe\">\n",
       "  <thead>\n",
       "    <tr style=\"text-align: right;\">\n",
       "      <th></th>\n",
       "      <th>dropmode</th>\n",
       "      <th>dropscale</th>\n",
       "      <th>validation_accuracy</th>\n",
       "      <th>test_accuracy</th>\n",
       "    </tr>\n",
       "  </thead>\n",
       "  <tbody>\n",
       "    <tr>\n",
       "      <th>0</th>\n",
       "      <td>0.0</td>\n",
       "      <td>False</td>\n",
       "      <td>0.993711</td>\n",
       "      <td>0.990596</td>\n",
       "    </tr>\n",
       "    <tr>\n",
       "      <th>1</th>\n",
       "      <td>0.0</td>\n",
       "      <td>False</td>\n",
       "      <td>0.993711</td>\n",
       "      <td>0.978056</td>\n",
       "    </tr>\n",
       "    <tr>\n",
       "      <th>2</th>\n",
       "      <td>0.0</td>\n",
       "      <td>False</td>\n",
       "      <td>0.993711</td>\n",
       "      <td>0.987461</td>\n",
       "    </tr>\n",
       "    <tr>\n",
       "      <th>3</th>\n",
       "      <td>0.0</td>\n",
       "      <td>False</td>\n",
       "      <td>0.987421</td>\n",
       "      <td>0.987461</td>\n",
       "    </tr>\n",
       "    <tr>\n",
       "      <th>4</th>\n",
       "      <td>0.0</td>\n",
       "      <td>False</td>\n",
       "      <td>0.984277</td>\n",
       "      <td>0.990596</td>\n",
       "    </tr>\n",
       "    <tr>\n",
       "      <th>5</th>\n",
       "      <td>0.0</td>\n",
       "      <td>True</td>\n",
       "      <td>0.993711</td>\n",
       "      <td>0.984326</td>\n",
       "    </tr>\n",
       "    <tr>\n",
       "      <th>6</th>\n",
       "      <td>0.0</td>\n",
       "      <td>True</td>\n",
       "      <td>0.990566</td>\n",
       "      <td>0.981191</td>\n",
       "    </tr>\n",
       "    <tr>\n",
       "      <th>7</th>\n",
       "      <td>0.0</td>\n",
       "      <td>True</td>\n",
       "      <td>0.987421</td>\n",
       "      <td>0.981191</td>\n",
       "    </tr>\n",
       "    <tr>\n",
       "      <th>8</th>\n",
       "      <td>0.0</td>\n",
       "      <td>True</td>\n",
       "      <td>0.993711</td>\n",
       "      <td>0.987461</td>\n",
       "    </tr>\n",
       "    <tr>\n",
       "      <th>9</th>\n",
       "      <td>0.0</td>\n",
       "      <td>True</td>\n",
       "      <td>0.990566</td>\n",
       "      <td>0.981191</td>\n",
       "    </tr>\n",
       "    <tr>\n",
       "      <th>10</th>\n",
       "      <td>2.0</td>\n",
       "      <td>False</td>\n",
       "      <td>0.993711</td>\n",
       "      <td>0.993730</td>\n",
       "    </tr>\n",
       "    <tr>\n",
       "      <th>11</th>\n",
       "      <td>2.0</td>\n",
       "      <td>False</td>\n",
       "      <td>0.993711</td>\n",
       "      <td>0.993730</td>\n",
       "    </tr>\n",
       "    <tr>\n",
       "      <th>12</th>\n",
       "      <td>2.0</td>\n",
       "      <td>False</td>\n",
       "      <td>0.990566</td>\n",
       "      <td>0.996865</td>\n",
       "    </tr>\n",
       "    <tr>\n",
       "      <th>13</th>\n",
       "      <td>2.0</td>\n",
       "      <td>False</td>\n",
       "      <td>0.993711</td>\n",
       "      <td>1.000000</td>\n",
       "    </tr>\n",
       "    <tr>\n",
       "      <th>14</th>\n",
       "      <td>2.0</td>\n",
       "      <td>False</td>\n",
       "      <td>0.990566</td>\n",
       "      <td>0.993730</td>\n",
       "    </tr>\n",
       "    <tr>\n",
       "      <th>15</th>\n",
       "      <td>2.0</td>\n",
       "      <td>True</td>\n",
       "      <td>0.990566</td>\n",
       "      <td>0.990596</td>\n",
       "    </tr>\n",
       "    <tr>\n",
       "      <th>16</th>\n",
       "      <td>2.0</td>\n",
       "      <td>True</td>\n",
       "      <td>0.993711</td>\n",
       "      <td>0.993730</td>\n",
       "    </tr>\n",
       "    <tr>\n",
       "      <th>17</th>\n",
       "      <td>2.0</td>\n",
       "      <td>True</td>\n",
       "      <td>0.993711</td>\n",
       "      <td>0.993730</td>\n",
       "    </tr>\n",
       "    <tr>\n",
       "      <th>18</th>\n",
       "      <td>2.0</td>\n",
       "      <td>True</td>\n",
       "      <td>0.990566</td>\n",
       "      <td>0.987461</td>\n",
       "    </tr>\n",
       "    <tr>\n",
       "      <th>19</th>\n",
       "      <td>2.0</td>\n",
       "      <td>True</td>\n",
       "      <td>0.990566</td>\n",
       "      <td>0.996865</td>\n",
       "    </tr>\n",
       "    <tr>\n",
       "      <th>20</th>\n",
       "      <td>4.0</td>\n",
       "      <td>False</td>\n",
       "      <td>1.000000</td>\n",
       "      <td>1.000000</td>\n",
       "    </tr>\n",
       "    <tr>\n",
       "      <th>21</th>\n",
       "      <td>4.0</td>\n",
       "      <td>False</td>\n",
       "      <td>0.993711</td>\n",
       "      <td>1.000000</td>\n",
       "    </tr>\n",
       "    <tr>\n",
       "      <th>22</th>\n",
       "      <td>4.0</td>\n",
       "      <td>False</td>\n",
       "      <td>0.993711</td>\n",
       "      <td>1.000000</td>\n",
       "    </tr>\n",
       "    <tr>\n",
       "      <th>23</th>\n",
       "      <td>4.0</td>\n",
       "      <td>False</td>\n",
       "      <td>0.993711</td>\n",
       "      <td>1.000000</td>\n",
       "    </tr>\n",
       "    <tr>\n",
       "      <th>24</th>\n",
       "      <td>4.0</td>\n",
       "      <td>False</td>\n",
       "      <td>0.993711</td>\n",
       "      <td>1.000000</td>\n",
       "    </tr>\n",
       "    <tr>\n",
       "      <th>25</th>\n",
       "      <td>4.0</td>\n",
       "      <td>True</td>\n",
       "      <td>1.000000</td>\n",
       "      <td>1.000000</td>\n",
       "    </tr>\n",
       "    <tr>\n",
       "      <th>26</th>\n",
       "      <td>4.0</td>\n",
       "      <td>True</td>\n",
       "      <td>0.990566</td>\n",
       "      <td>0.996865</td>\n",
       "    </tr>\n",
       "    <tr>\n",
       "      <th>27</th>\n",
       "      <td>4.0</td>\n",
       "      <td>True</td>\n",
       "      <td>0.993711</td>\n",
       "      <td>1.000000</td>\n",
       "    </tr>\n",
       "    <tr>\n",
       "      <th>28</th>\n",
       "      <td>4.0</td>\n",
       "      <td>True</td>\n",
       "      <td>1.000000</td>\n",
       "      <td>1.000000</td>\n",
       "    </tr>\n",
       "    <tr>\n",
       "      <th>29</th>\n",
       "      <td>4.0</td>\n",
       "      <td>True</td>\n",
       "      <td>1.000000</td>\n",
       "      <td>0.996865</td>\n",
       "    </tr>\n",
       "    <tr>\n",
       "      <th>30</th>\n",
       "      <td>5.0</td>\n",
       "      <td>False</td>\n",
       "      <td>1.000000</td>\n",
       "      <td>1.000000</td>\n",
       "    </tr>\n",
       "    <tr>\n",
       "      <th>31</th>\n",
       "      <td>5.0</td>\n",
       "      <td>False</td>\n",
       "      <td>0.996855</td>\n",
       "      <td>0.996865</td>\n",
       "    </tr>\n",
       "    <tr>\n",
       "      <th>32</th>\n",
       "      <td>5.0</td>\n",
       "      <td>False</td>\n",
       "      <td>0.996855</td>\n",
       "      <td>1.000000</td>\n",
       "    </tr>\n",
       "    <tr>\n",
       "      <th>33</th>\n",
       "      <td>5.0</td>\n",
       "      <td>False</td>\n",
       "      <td>0.993711</td>\n",
       "      <td>1.000000</td>\n",
       "    </tr>\n",
       "    <tr>\n",
       "      <th>34</th>\n",
       "      <td>5.0</td>\n",
       "      <td>False</td>\n",
       "      <td>0.993711</td>\n",
       "      <td>0.996865</td>\n",
       "    </tr>\n",
       "    <tr>\n",
       "      <th>35</th>\n",
       "      <td>5.0</td>\n",
       "      <td>True</td>\n",
       "      <td>0.996855</td>\n",
       "      <td>0.996865</td>\n",
       "    </tr>\n",
       "    <tr>\n",
       "      <th>36</th>\n",
       "      <td>5.0</td>\n",
       "      <td>True</td>\n",
       "      <td>0.993711</td>\n",
       "      <td>0.996865</td>\n",
       "    </tr>\n",
       "    <tr>\n",
       "      <th>37</th>\n",
       "      <td>5.0</td>\n",
       "      <td>True</td>\n",
       "      <td>0.993711</td>\n",
       "      <td>1.000000</td>\n",
       "    </tr>\n",
       "    <tr>\n",
       "      <th>38</th>\n",
       "      <td>5.0</td>\n",
       "      <td>True</td>\n",
       "      <td>0.996855</td>\n",
       "      <td>1.000000</td>\n",
       "    </tr>\n",
       "    <tr>\n",
       "      <th>39</th>\n",
       "      <td>5.0</td>\n",
       "      <td>True</td>\n",
       "      <td>0.996855</td>\n",
       "      <td>1.000000</td>\n",
       "    </tr>\n",
       "    <tr>\n",
       "      <th>40</th>\n",
       "      <td>-1.0</td>\n",
       "      <td>-1.0</td>\n",
       "      <td>0.993711</td>\n",
       "      <td>1.000000</td>\n",
       "    </tr>\n",
       "    <tr>\n",
       "      <th>41</th>\n",
       "      <td>-1.0</td>\n",
       "      <td>-1.0</td>\n",
       "      <td>0.993711</td>\n",
       "      <td>0.996865</td>\n",
       "    </tr>\n",
       "    <tr>\n",
       "      <th>42</th>\n",
       "      <td>-1.0</td>\n",
       "      <td>-1.0</td>\n",
       "      <td>0.977987</td>\n",
       "      <td>0.971787</td>\n",
       "    </tr>\n",
       "    <tr>\n",
       "      <th>43</th>\n",
       "      <td>-1.0</td>\n",
       "      <td>-1.0</td>\n",
       "      <td>0.993711</td>\n",
       "      <td>0.996865</td>\n",
       "    </tr>\n",
       "    <tr>\n",
       "      <th>44</th>\n",
       "      <td>-1.0</td>\n",
       "      <td>-1.0</td>\n",
       "      <td>0.993711</td>\n",
       "      <td>0.996865</td>\n",
       "    </tr>\n",
       "  </tbody>\n",
       "</table>\n",
       "</div>"
      ],
      "text/plain": [
       "    dropmode dropscale  validation_accuracy  test_accuracy\n",
       "0        0.0     False             0.993711       0.990596\n",
       "1        0.0     False             0.993711       0.978056\n",
       "2        0.0     False             0.993711       0.987461\n",
       "3        0.0     False             0.987421       0.987461\n",
       "4        0.0     False             0.984277       0.990596\n",
       "5        0.0      True             0.993711       0.984326\n",
       "6        0.0      True             0.990566       0.981191\n",
       "7        0.0      True             0.987421       0.981191\n",
       "8        0.0      True             0.993711       0.987461\n",
       "9        0.0      True             0.990566       0.981191\n",
       "10       2.0     False             0.993711       0.993730\n",
       "11       2.0     False             0.993711       0.993730\n",
       "12       2.0     False             0.990566       0.996865\n",
       "13       2.0     False             0.993711       1.000000\n",
       "14       2.0     False             0.990566       0.993730\n",
       "15       2.0      True             0.990566       0.990596\n",
       "16       2.0      True             0.993711       0.993730\n",
       "17       2.0      True             0.993711       0.993730\n",
       "18       2.0      True             0.990566       0.987461\n",
       "19       2.0      True             0.990566       0.996865\n",
       "20       4.0     False             1.000000       1.000000\n",
       "21       4.0     False             0.993711       1.000000\n",
       "22       4.0     False             0.993711       1.000000\n",
       "23       4.0     False             0.993711       1.000000\n",
       "24       4.0     False             0.993711       1.000000\n",
       "25       4.0      True             1.000000       1.000000\n",
       "26       4.0      True             0.990566       0.996865\n",
       "27       4.0      True             0.993711       1.000000\n",
       "28       4.0      True             1.000000       1.000000\n",
       "29       4.0      True             1.000000       0.996865\n",
       "30       5.0     False             1.000000       1.000000\n",
       "31       5.0     False             0.996855       0.996865\n",
       "32       5.0     False             0.996855       1.000000\n",
       "33       5.0     False             0.993711       1.000000\n",
       "34       5.0     False             0.993711       0.996865\n",
       "35       5.0      True             0.996855       0.996865\n",
       "36       5.0      True             0.993711       0.996865\n",
       "37       5.0      True             0.993711       1.000000\n",
       "38       5.0      True             0.996855       1.000000\n",
       "39       5.0      True             0.996855       1.000000\n",
       "40      -1.0      -1.0             0.993711       1.000000\n",
       "41      -1.0      -1.0             0.993711       0.996865\n",
       "42      -1.0      -1.0             0.977987       0.971787\n",
       "43      -1.0      -1.0             0.993711       0.996865\n",
       "44      -1.0      -1.0             0.993711       0.996865"
      ]
     },
     "execution_count": 68,
     "metadata": {},
     "output_type": "execute_result"
    }
   ],
   "source": [
    "results_df"
   ]
  },
  {
   "cell_type": "code",
   "execution_count": 239,
   "id": "41955128-c165-49ec-bcb4-b7772970e52d",
   "metadata": {},
   "outputs": [
    {
     "data": {
      "image/png": "[encoded data removed]",
      "text/plain": [
       "<Figure size 1000x600 with 2 Axes>"
      ]
     },
     "metadata": {},
     "output_type": "display_data"
    }
   ],
   "source": [
    "#log_df = pd.read_excel('regression\\\\Wine Quality_log.xlsx')\n",
    "\n",
    "df = log_df[(log_df['drop_mode'] == 'postact') ]\n",
    "#df = df[df.index % 5 == 0]\n",
    "#df = df[(df['validation_accuracy'] < 0.6) ]\n",
    "# Create scatter plot\n",
    "plt.figure(figsize=(10, 6))\n",
    "scatter = plt.scatter(x=df['drop_rate1'], y=df['drop_rate2'], \n",
    "                      c=df['validation_accuracy'], cmap='viridis', s=100, alpha=0.7)\n",
    "\n",
    "# Add color bar\n",
    "cbar = plt.colorbar(scatter)\n",
    "cbar.set_label('Validation Accuracy')\n",
    "\n",
    "# Add labels and title\n",
    "plt.xlabel('Drop Rate 1')\n",
    "plt.ylabel('Drop Rate 2')\n",
    "plt.title('Scatter Plot of Drop Rates with Validation Accuracy')\n",
    "\n",
    "# Show plot\n",
    "plt.show()"
   ]
  },
  {
   "cell_type": "code",
   "execution_count": 146,
   "id": "623c5538-4d19-47f4-bf34-a8f8187d90fc",
   "metadata": {},
   "outputs": [
    {
     "data": {
      "text/html": [
       "<div>\n",
       "<style scoped>\n",
       "    .dataframe tbody tr th:only-of-type {\n",
       "        vertical-align: middle;\n",
       "    }\n",
       "\n",
       "    .dataframe tbody tr th {\n",
       "        vertical-align: top;\n",
       "    }\n",
       "\n",
       "    .dataframe thead th {\n",
       "        text-align: right;\n",
       "    }\n",
       "</style>\n",
       "<table border=\"1\" class=\"dataframe\">\n",
       "  <thead>\n",
       "    <tr style=\"text-align: right;\">\n",
       "      <th></th>\n",
       "      <th>drop_rate1</th>\n",
       "      <th>drop_rate2</th>\n",
       "      <th>drop_mode</th>\n",
       "      <th>scale</th>\n",
       "      <th>validation_accuracy</th>\n",
       "      <th>test_accuracy</th>\n",
       "    </tr>\n",
       "  </thead>\n",
       "  <tbody>\n",
       "    <tr>\n",
       "      <th>0</th>\n",
       "      <td>NaN</td>\n",
       "      <td>NaN</td>\n",
       "      <td>kan</td>\n",
       "      <td>NaN</td>\n",
       "      <td>0.261078</td>\n",
       "      <td>0.245215</td>\n",
       "    </tr>\n",
       "    <tr>\n",
       "      <th>1</th>\n",
       "      <td>NaN</td>\n",
       "      <td>NaN</td>\n",
       "      <td>kan</td>\n",
       "      <td>NaN</td>\n",
       "      <td>0.243114</td>\n",
       "      <td>0.270335</td>\n",
       "    </tr>\n",
       "    <tr>\n",
       "      <th>2</th>\n",
       "      <td>NaN</td>\n",
       "      <td>NaN</td>\n",
       "      <td>kan</td>\n",
       "      <td>NaN</td>\n",
       "      <td>0.245509</td>\n",
       "      <td>0.246411</td>\n",
       "    </tr>\n",
       "    <tr>\n",
       "      <th>3</th>\n",
       "      <td>NaN</td>\n",
       "      <td>NaN</td>\n",
       "      <td>kan</td>\n",
       "      <td>NaN</td>\n",
       "      <td>0.252695</td>\n",
       "      <td>0.266746</td>\n",
       "    </tr>\n",
       "    <tr>\n",
       "      <th>4</th>\n",
       "      <td>NaN</td>\n",
       "      <td>NaN</td>\n",
       "      <td>kan</td>\n",
       "      <td>NaN</td>\n",
       "      <td>0.256287</td>\n",
       "      <td>0.242823</td>\n",
       "    </tr>\n",
       "    <tr>\n",
       "      <th>...</th>\n",
       "      <td>...</td>\n",
       "      <td>...</td>\n",
       "      <td>...</td>\n",
       "      <td>...</td>\n",
       "      <td>...</td>\n",
       "      <td>...</td>\n",
       "    </tr>\n",
       "    <tr>\n",
       "      <th>60</th>\n",
       "      <td>0.238296</td>\n",
       "      <td>0.384427</td>\n",
       "      <td>postspline</td>\n",
       "      <td>0.0</td>\n",
       "      <td>0.180838</td>\n",
       "      <td>0.161483</td>\n",
       "    </tr>\n",
       "    <tr>\n",
       "      <th>61</th>\n",
       "      <td>0.238296</td>\n",
       "      <td>0.384427</td>\n",
       "      <td>postact</td>\n",
       "      <td>1.0</td>\n",
       "      <td>0.270659</td>\n",
       "      <td>0.271531</td>\n",
       "    </tr>\n",
       "    <tr>\n",
       "      <th>62</th>\n",
       "      <td>0.238296</td>\n",
       "      <td>0.384427</td>\n",
       "      <td>postact</td>\n",
       "      <td>0.0</td>\n",
       "      <td>0.134132</td>\n",
       "      <td>0.135167</td>\n",
       "    </tr>\n",
       "    <tr>\n",
       "      <th>63</th>\n",
       "      <td>0.238296</td>\n",
       "      <td>0.384427</td>\n",
       "      <td>dropout</td>\n",
       "      <td>1.0</td>\n",
       "      <td>0.194012</td>\n",
       "      <td>0.188995</td>\n",
       "    </tr>\n",
       "    <tr>\n",
       "      <th>64</th>\n",
       "      <td>0.238296</td>\n",
       "      <td>0.384427</td>\n",
       "      <td>dropout</td>\n",
       "      <td>0.0</td>\n",
       "      <td>0.173653</td>\n",
       "      <td>0.199761</td>\n",
       "    </tr>\n",
       "  </tbody>\n",
       "</table>\n",
       "<p>65 rows × 6 columns</p>\n",
       "</div>"
      ],
      "text/plain": [
       "    drop_rate1  drop_rate2   drop_mode  scale  validation_accuracy  \\\n",
       "0          NaN         NaN         kan    NaN             0.261078   \n",
       "1          NaN         NaN         kan    NaN             0.243114   \n",
       "2          NaN         NaN         kan    NaN             0.245509   \n",
       "3          NaN         NaN         kan    NaN             0.252695   \n",
       "4          NaN         NaN         kan    NaN             0.256287   \n",
       "..         ...         ...         ...    ...                  ...   \n",
       "60    0.238296    0.384427  postspline    0.0             0.180838   \n",
       "61    0.238296    0.384427     postact    1.0             0.270659   \n",
       "62    0.238296    0.384427     postact    0.0             0.134132   \n",
       "63    0.238296    0.384427     dropout    1.0             0.194012   \n",
       "64    0.238296    0.384427     dropout    0.0             0.173653   \n",
       "\n",
       "    test_accuracy  \n",
       "0        0.245215  \n",
       "1        0.270335  \n",
       "2        0.246411  \n",
       "3        0.266746  \n",
       "4        0.242823  \n",
       "..            ...  \n",
       "60       0.161483  \n",
       "61       0.271531  \n",
       "62       0.135167  \n",
       "63       0.188995  \n",
       "64       0.199761  \n",
       "\n",
       "[65 rows x 6 columns]"
      ]
     },
     "execution_count": 146,
     "metadata": {},
     "output_type": "execute_result"
    }
   ],
   "source": [
    "filtered_df = df[df.index % 5 == 0]\n"
   ]
  },
  {
   "cell_type": "code",
   "execution_count": 143,
   "id": "519c2e75-729c-4592-81cc-887d9282b3e3",
   "metadata": {},
   "outputs": [
    {
     "data": {
      "text/html": [
       "<div>\n",
       "<style scoped>\n",
       "    .dataframe tbody tr th:only-of-type {\n",
       "        vertical-align: middle;\n",
       "    }\n",
       "\n",
       "    .dataframe tbody tr th {\n",
       "        vertical-align: top;\n",
       "    }\n",
       "\n",
       "    .dataframe thead th {\n",
       "        text-align: right;\n",
       "    }\n",
       "</style>\n",
       "<table border=\"1\" class=\"dataframe\">\n",
       "  <thead>\n",
       "    <tr style=\"text-align: right;\">\n",
       "      <th></th>\n",
       "      <th>drop_rate1</th>\n",
       "      <th>drop_rate2</th>\n",
       "      <th>drop_mode</th>\n",
       "      <th>scale</th>\n",
       "      <th>validation_accuracy</th>\n",
       "      <th>test_accuracy</th>\n",
       "    </tr>\n",
       "  </thead>\n",
       "  <tbody>\n",
       "    <tr>\n",
       "      <th>5</th>\n",
       "      <td>0.439603</td>\n",
       "      <td>0.161560</td>\n",
       "      <td>postspline</td>\n",
       "      <td>True</td>\n",
       "      <td>0.776803</td>\n",
       "      <td>0.767254</td>\n",
       "    </tr>\n",
       "    <tr>\n",
       "      <th>35</th>\n",
       "      <td>0.323032</td>\n",
       "      <td>0.330047</td>\n",
       "      <td>postspline</td>\n",
       "      <td>True</td>\n",
       "      <td>0.609769</td>\n",
       "      <td>0.654142</td>\n",
       "    </tr>\n",
       "    <tr>\n",
       "      <th>65</th>\n",
       "      <td>0.086748</td>\n",
       "      <td>0.472736</td>\n",
       "      <td>postspline</td>\n",
       "      <td>True</td>\n",
       "      <td>0.569506</td>\n",
       "      <td>0.586141</td>\n",
       "    </tr>\n",
       "    <tr>\n",
       "      <th>95</th>\n",
       "      <td>0.390608</td>\n",
       "      <td>0.081459</td>\n",
       "      <td>postspline</td>\n",
       "      <td>True</td>\n",
       "      <td>0.572698</td>\n",
       "      <td>0.586460</td>\n",
       "    </tr>\n",
       "    <tr>\n",
       "      <th>125</th>\n",
       "      <td>0.125249</td>\n",
       "      <td>0.000520</td>\n",
       "      <td>postspline</td>\n",
       "      <td>True</td>\n",
       "      <td>0.842592</td>\n",
       "      <td>0.824552</td>\n",
       "    </tr>\n",
       "    <tr>\n",
       "      <th>155</th>\n",
       "      <td>0.170939</td>\n",
       "      <td>0.129900</td>\n",
       "      <td>postspline</td>\n",
       "      <td>True</td>\n",
       "      <td>0.578990</td>\n",
       "      <td>0.591726</td>\n",
       "    </tr>\n",
       "    <tr>\n",
       "      <th>185</th>\n",
       "      <td>0.074843</td>\n",
       "      <td>0.289839</td>\n",
       "      <td>postspline</td>\n",
       "      <td>True</td>\n",
       "      <td>0.559773</td>\n",
       "      <td>0.597796</td>\n",
       "    </tr>\n",
       "    <tr>\n",
       "      <th>215</th>\n",
       "      <td>0.373512</td>\n",
       "      <td>0.029726</td>\n",
       "      <td>postspline</td>\n",
       "      <td>True</td>\n",
       "      <td>0.576287</td>\n",
       "      <td>0.615463</td>\n",
       "    </tr>\n",
       "    <tr>\n",
       "      <th>245</th>\n",
       "      <td>0.139663</td>\n",
       "      <td>0.404042</td>\n",
       "      <td>postspline</td>\n",
       "      <td>True</td>\n",
       "      <td>0.586521</td>\n",
       "      <td>0.600100</td>\n",
       "    </tr>\n",
       "    <tr>\n",
       "      <th>275</th>\n",
       "      <td>0.352422</td>\n",
       "      <td>0.168027</td>\n",
       "      <td>postspline</td>\n",
       "      <td>True</td>\n",
       "      <td>0.564419</td>\n",
       "      <td>0.583708</td>\n",
       "    </tr>\n",
       "  </tbody>\n",
       "</table>\n",
       "</div>"
      ],
      "text/plain": [
       "     drop_rate1  drop_rate2   drop_mode scale  validation_accuracy  \\\n",
       "5      0.439603    0.161560  postspline  True             0.776803   \n",
       "35     0.323032    0.330047  postspline  True             0.609769   \n",
       "65     0.086748    0.472736  postspline  True             0.569506   \n",
       "95     0.390608    0.081459  postspline  True             0.572698   \n",
       "125    0.125249    0.000520  postspline  True             0.842592   \n",
       "155    0.170939    0.129900  postspline  True             0.578990   \n",
       "185    0.074843    0.289839  postspline  True             0.559773   \n",
       "215    0.373512    0.029726  postspline  True             0.576287   \n",
       "245    0.139663    0.404042  postspline  True             0.586521   \n",
       "275    0.352422    0.168027  postspline  True             0.564419   \n",
       "\n",
       "     test_accuracy  \n",
       "5         0.767254  \n",
       "35        0.654142  \n",
       "65        0.586141  \n",
       "95        0.586460  \n",
       "125       0.824552  \n",
       "155       0.591726  \n",
       "185       0.597796  \n",
       "215       0.615463  \n",
       "245       0.600100  \n",
       "275       0.583708  "
      ]
     },
     "execution_count": 143,
     "metadata": {},
     "output_type": "execute_result"
    }
   ],
   "source": [
    "filtered_df"
   ]
  },
  {
   "cell_type": "code",
   "execution_count": 244,
   "id": "12cef766-d39c-4ae1-a6be-1ff95eb032a0",
   "metadata": {},
   "outputs": [
    {
     "name": "stdout",
     "output_type": "stream",
     "text": [
      "    drop_rate1  drop_rate2   drop_mode  scale  validation_accuracy  \\\n",
      "27    0.282661    0.395782     postact   True             2.233835   \n",
      "33    0.325089    0.160819     postact   True             2.316588   \n",
      "57    0.476726    0.048339     postact   True             2.340362   \n",
      "13    0.078106    0.155242     dropout   True             2.366316   \n",
      "39    0.358921    0.404559     postact   True             2.370057   \n",
      "55    0.476726    0.048339     dropout   True             2.390573   \n",
      "45    0.471979    0.342207     postact   True             2.391093   \n",
      "7     0.050561    0.108781     dropout   True             2.400890   \n",
      "8     0.050561    0.108781     postact  False             2.442271   \n",
      "14    0.078106    0.155242     postact  False             2.449292   \n",
      "15    0.078106    0.155242     postact   True             2.461778   \n",
      "42    0.471979    0.342207     dropout  False             2.480934   \n",
      "31    0.325089    0.160819     dropout   True             2.484357   \n",
      "21    0.135197    0.455622     postact   True             2.490638   \n",
      "20    0.135197    0.455622     postact  False             2.501867   \n",
      "9     0.050561    0.108781     postact   True             2.513325   \n",
      "32    0.325089    0.160819     postact  False             2.516620   \n",
      "36    0.358921    0.404559     dropout  False             2.521661   \n",
      "3     0.017878    0.028126     postact   True             2.521714   \n",
      "18    0.135197    0.455622     dropout  False             2.523834   \n",
      "51    0.473015    0.499678     postact   True             2.545165   \n",
      "6     0.050561    0.108781     dropout  False             2.546332   \n",
      "24    0.282661    0.395782     dropout  False             2.546403   \n",
      "12    0.078106    0.155242     dropout  False             2.547874   \n",
      "54    0.476726    0.048339     dropout  False             2.551152   \n",
      "2     0.017878    0.028126     postact  False             2.551418   \n",
      "1     0.017878    0.028126     dropout   True             2.552327   \n",
      "30    0.325089    0.160819     dropout  False             2.555341   \n",
      "0     0.017878    0.028126     dropout  False             2.555820   \n",
      "25    0.282661    0.395782     dropout   True             2.559572   \n",
      "52    0.473015    0.499678  postspline  False             2.572652   \n",
      "48    0.473015    0.499678     dropout  False             2.589551   \n",
      "43    0.471979    0.342207     dropout   True             2.598590   \n",
      "28    0.282661    0.395782  postspline  False             2.621909   \n",
      "53    0.473015    0.499678  postspline   True             2.659644   \n",
      "34    0.325089    0.160819  postspline  False             2.660217   \n",
      "23    0.135197    0.455622  postspline   True             2.661460   \n",
      "47    0.471979    0.342207  postspline   True             2.664767   \n",
      "11    0.050561    0.108781  postspline   True             2.669454   \n",
      "46    0.471979    0.342207  postspline  False             2.669628   \n",
      "19    0.135197    0.455622     dropout   True             2.670377   \n",
      "35    0.325089    0.160819  postspline   True             2.671186   \n",
      "44    0.471979    0.342207     postact  False             2.671368   \n",
      "41    0.358921    0.404559  postspline   True             2.671435   \n",
      "5     0.017878    0.028126  postspline   True             2.676606   \n",
      "59    0.476726    0.048339  postspline   True             2.681127   \n",
      "37    0.358921    0.404559     dropout   True             2.685814   \n",
      "10    0.050561    0.108781  postspline  False             2.686019   \n",
      "16    0.078106    0.155242  postspline  False             2.690855   \n",
      "22    0.135197    0.455622  postspline  False             2.691374   \n",
      "4     0.017878    0.028126  postspline  False             2.696128   \n",
      "40    0.358921    0.404559  postspline  False             2.699190   \n",
      "58    0.476726    0.048339  postspline  False             2.702294   \n",
      "29    0.282661    0.395782  postspline   True             2.705444   \n",
      "17    0.078106    0.155242  postspline   True             2.706441   \n",
      "56    0.476726    0.048339     postact  False             2.727862   \n",
      "26    0.282661    0.395782     postact  False             2.758195   \n",
      "49    0.473015    0.499678     dropout   True             2.818891   \n",
      "38    0.358921    0.404559     postact  False             2.971187   \n",
      "50    0.473015    0.499678     postact  False             3.459667   \n",
      "\n",
      "    test_accuracy  mean_accuracy  rank  \n",
      "27       2.660163       2.446999   1.0  \n",
      "33       2.720003       2.518295   2.0  \n",
      "57       2.748853       2.544608   3.0  \n",
      "13       2.777456       2.571886   4.0  \n",
      "39       2.832471       2.601264   5.0  \n",
      "55       2.856958       2.623765   6.0  \n",
      "45       2.866115       2.628604   7.0  \n",
      "7        2.773725       2.587308   8.0  \n",
      "8        2.757454       2.599862   9.0  \n",
      "14       2.763646       2.606469  10.0  \n",
      "15       2.869727       2.665752  11.0  \n",
      "42       2.833669       2.657301  12.0  \n",
      "31       2.924874       2.704616  13.0  \n",
      "21       2.941519       2.716079  14.0  \n",
      "20       2.949419       2.725643  15.0  \n",
      "9        2.897281       2.705303  16.0  \n",
      "32       2.881583       2.699102  17.0  \n",
      "36       2.915585       2.718623  18.0  \n",
      "3        2.925868       2.723791  19.0  \n",
      "18       2.956354       2.740094  20.0  \n",
      "51       3.039690       2.792427  21.0  \n",
      "6        2.963946       2.755139  22.0  \n",
      "24       2.964122       2.755263  23.0  \n",
      "12       2.993890       2.770882  24.0  \n",
      "54       2.815819       2.683486  25.0  \n",
      "2        2.979113       2.765266  26.0  \n",
      "1        2.897453       2.724890  27.0  \n",
      "30       2.929109       2.742225  28.0  \n",
      "0        2.915349       2.735584  29.0  \n",
      "25       3.029426       2.794499  30.0  \n",
      "52       3.262921       2.917786  31.0  \n",
      "48       3.058650       2.824101  32.0  \n",
      "43       3.093973       2.846281  33.0  \n",
      "28       3.231254       2.926582  34.0  \n",
      "53       3.313165       2.986404  35.0  \n",
      "34       3.309203       2.984710  36.0  \n",
      "23       3.296251       2.978855  37.0  \n",
      "47       3.331451       2.998109  38.0  \n",
      "11       3.318093       2.993773  39.0  \n",
      "46       3.312129       2.990879  40.0  \n",
      "19       3.175336       2.922857  41.0  \n",
      "35       3.299426       2.985306  42.0  \n",
      "44       3.053681       2.862524  43.0  \n",
      "41       3.320132       2.995783  44.0  \n",
      "5        3.338047       3.007326  45.0  \n",
      "59       3.294645       2.987886  46.0  \n",
      "37       3.176077       2.930945  47.0  \n",
      "10       3.329118       3.007569  48.0  \n",
      "16       3.338476       3.014665  49.0  \n",
      "22       3.341320       3.016347  50.0  \n",
      "4        3.355157       3.025643  51.0  \n",
      "40       3.334477       3.016833  52.0  \n",
      "58       3.347528       3.024911  53.0  \n",
      "29       3.367237       3.036340  54.0  \n",
      "17       3.357473       3.031957  55.0  \n",
      "56       3.006428       2.867145  56.0  \n",
      "26       3.066891       2.912543  57.0  \n",
      "49       3.322799       3.070845  58.0  \n",
      "38       3.345823       3.158505  59.0  \n",
      "50       3.815461       3.637564  60.0  \n"
     ]
    }
   ],
   "source": [
    "# Group by the combination of 'drop_rate1', 'drop_rate2', 'drop_mode', and 'scale'\n",
    "grouped = log_df.groupby(['drop_rate1', 'drop_rate2', 'drop_mode', 'scale'])[['validation_accuracy', 'test_accuracy']].mean().reset_index()\n",
    "\n",
    "# Calculate the mean of 'validation_accuracy' and 'test_accuracy'\n",
    "grouped['mean_accuracy'] = (grouped['validation_accuracy'] + grouped['test_accuracy']) / 2\n",
    "\n",
    "# Rank by the mean accuracy\n",
    "grouped['rank'] = grouped['validation_accuracy'].rank(ascending=True, method='min')\n",
    "\n",
    "# Sort by rank\n",
    "grouped = grouped.sort_values(by='rank')\n",
    "\n",
    "# Print the resulting DataFrame\n",
    "print(grouped.head(70))"
   ]
  },
  {
   "cell_type": "code",
   "execution_count": 195,
   "id": "5930d021-f9dc-4bf9-b418-da1e38bf462e",
   "metadata": {},
   "outputs": [],
   "source": [
    "model = DropKAN(seed=j,width=[X_train.shape[1], 10, 1], grid=3, k=3, sb_trainable=False, \n",
    "                                        symbolic_enabled=False, drop_rate=[drop_rate1, drop_rate2], drop_mode=drop_mode, drop_scale=scale, neuron_fun=['sum', 'sum'])\n",
    "   "
   ]
  },
  {
   "cell_type": "code",
   "execution_count": 246,
   "id": "b9191aa5-4a20-4c1e-beec-a2934d003915",
   "metadata": {},
   "outputs": [
    {
     "data": {
      "text/html": [
       "<div>\n",
       "<style scoped>\n",
       "    .dataframe tbody tr th:only-of-type {\n",
       "        vertical-align: middle;\n",
       "    }\n",
       "\n",
       "    .dataframe tbody tr th {\n",
       "        vertical-align: top;\n",
       "    }\n",
       "\n",
       "    .dataframe thead th {\n",
       "        text-align: right;\n",
       "    }\n",
       "</style>\n",
       "<table border=\"1\" class=\"dataframe\">\n",
       "  <thead>\n",
       "    <tr style=\"text-align: right;\">\n",
       "      <th></th>\n",
       "      <th>drop_rate1</th>\n",
       "      <th>drop_rate2</th>\n",
       "      <th>drop_mode</th>\n",
       "      <th>scale</th>\n",
       "      <th>validation_accuracy</th>\n",
       "      <th>test_accuracy</th>\n",
       "    </tr>\n",
       "  </thead>\n",
       "  <tbody>\n",
       "    <tr>\n",
       "      <th>0</th>\n",
       "      <td>0.000000</td>\n",
       "      <td>0.000000</td>\n",
       "      <td>kan</td>\n",
       "      <td>None</td>\n",
       "      <td>2.868985</td>\n",
       "      <td>3.671066</td>\n",
       "    </tr>\n",
       "    <tr>\n",
       "      <th>1</th>\n",
       "      <td>0.000000</td>\n",
       "      <td>0.000000</td>\n",
       "      <td>kan</td>\n",
       "      <td>None</td>\n",
       "      <td>3.000000</td>\n",
       "      <td>3.713175</td>\n",
       "    </tr>\n",
       "    <tr>\n",
       "      <th>2</th>\n",
       "      <td>0.000000</td>\n",
       "      <td>0.000000</td>\n",
       "      <td>kan</td>\n",
       "      <td>None</td>\n",
       "      <td>2.418772</td>\n",
       "      <td>2.650319</td>\n",
       "    </tr>\n",
       "    <tr>\n",
       "      <th>3</th>\n",
       "      <td>0.000000</td>\n",
       "      <td>0.000000</td>\n",
       "      <td>kan</td>\n",
       "      <td>None</td>\n",
       "      <td>2.204382</td>\n",
       "      <td>2.890092</td>\n",
       "    </tr>\n",
       "    <tr>\n",
       "      <th>4</th>\n",
       "      <td>0.000000</td>\n",
       "      <td>0.000000</td>\n",
       "      <td>kan</td>\n",
       "      <td>None</td>\n",
       "      <td>2.999928</td>\n",
       "      <td>3.675426</td>\n",
       "    </tr>\n",
       "    <tr>\n",
       "      <th>...</th>\n",
       "      <td>...</td>\n",
       "      <td>...</td>\n",
       "      <td>...</td>\n",
       "      <td>...</td>\n",
       "      <td>...</td>\n",
       "      <td>...</td>\n",
       "    </tr>\n",
       "    <tr>\n",
       "      <th>300</th>\n",
       "      <td>0.282661</td>\n",
       "      <td>0.395782</td>\n",
       "      <td>dropout</td>\n",
       "      <td>False</td>\n",
       "      <td>2.763257</td>\n",
       "      <td>3.184225</td>\n",
       "    </tr>\n",
       "    <tr>\n",
       "      <th>301</th>\n",
       "      <td>0.282661</td>\n",
       "      <td>0.395782</td>\n",
       "      <td>dropout</td>\n",
       "      <td>False</td>\n",
       "      <td>2.426238</td>\n",
       "      <td>2.652259</td>\n",
       "    </tr>\n",
       "    <tr>\n",
       "      <th>302</th>\n",
       "      <td>0.282661</td>\n",
       "      <td>0.395782</td>\n",
       "      <td>dropout</td>\n",
       "      <td>False</td>\n",
       "      <td>2.480430</td>\n",
       "      <td>2.856474</td>\n",
       "    </tr>\n",
       "    <tr>\n",
       "      <th>303</th>\n",
       "      <td>0.282661</td>\n",
       "      <td>0.395782</td>\n",
       "      <td>dropout</td>\n",
       "      <td>False</td>\n",
       "      <td>2.114252</td>\n",
       "      <td>2.584464</td>\n",
       "    </tr>\n",
       "    <tr>\n",
       "      <th>304</th>\n",
       "      <td>0.282661</td>\n",
       "      <td>0.395782</td>\n",
       "      <td>dropout</td>\n",
       "      <td>False</td>\n",
       "      <td>2.947839</td>\n",
       "      <td>3.543190</td>\n",
       "    </tr>\n",
       "  </tbody>\n",
       "</table>\n",
       "<p>305 rows × 6 columns</p>\n",
       "</div>"
      ],
      "text/plain": [
       "     drop_rate1  drop_rate2 drop_mode  scale  validation_accuracy  \\\n",
       "0      0.000000    0.000000       kan   None             2.868985   \n",
       "1      0.000000    0.000000       kan   None             3.000000   \n",
       "2      0.000000    0.000000       kan   None             2.418772   \n",
       "3      0.000000    0.000000       kan   None             2.204382   \n",
       "4      0.000000    0.000000       kan   None             2.999928   \n",
       "..          ...         ...       ...    ...                  ...   \n",
       "300    0.282661    0.395782   dropout  False             2.763257   \n",
       "301    0.282661    0.395782   dropout  False             2.426238   \n",
       "302    0.282661    0.395782   dropout  False             2.480430   \n",
       "303    0.282661    0.395782   dropout  False             2.114252   \n",
       "304    0.282661    0.395782   dropout  False             2.947839   \n",
       "\n",
       "     test_accuracy  \n",
       "0         3.671066  \n",
       "1         3.713175  \n",
       "2         2.650319  \n",
       "3         2.890092  \n",
       "4         3.675426  \n",
       "..             ...  \n",
       "300       3.184225  \n",
       "301       2.652259  \n",
       "302       2.856474  \n",
       "303       2.584464  \n",
       "304       3.543190  \n",
       "\n",
       "[305 rows x 6 columns]"
      ]
     },
     "execution_count": 246,
     "metadata": {},
     "output_type": "execute_result"
    }
   ],
   "source": [
    "log_df"
   ]
  },
  {
   "cell_type": "code",
   "execution_count": null,
   "id": "198b4d62-5f08-46dd-bb50-e2f44003afcc",
   "metadata": {},
   "outputs": [],
   "source": []
  }
 ],
 "metadata": {
  "kernelspec": {
   "display_name": "Python 3 (ipykernel)",
   "language": "python",
   "name": "python3"
  },
  "language_info": {
   "codemirror_mode": {
    "name": "ipython",
    "version": 3
   },
   "file_extension": ".py",
   "mimetype": "text/x-python",
   "name": "python",
   "nbconvert_exporter": "python",
   "pygments_lexer": "ipython3",
   "version": "3.8.19"
  }
 },
 "nbformat": 4,
 "nbformat_minor": 5
}
